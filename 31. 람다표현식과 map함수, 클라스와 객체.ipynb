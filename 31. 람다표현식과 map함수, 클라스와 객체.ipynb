{
 "cells": [
  {
   "cell_type": "code",
   "execution_count": 1,
   "id": "9c460950",
   "metadata": {},
   "outputs": [],
   "source": [
    "# 람다표현식과 map함수를 사용하여 함수를 간단하게 표현할 수 있다.\n",
    "\n",
    "# 람다표현식\n",
    "# -> 매개변수와 수식으로 이루어진 함수\n",
    "# -> 이름이 없는 익명함수이다.\n",
    "# lambda 매개변수1, 매개변수2, ... : 수식\n",
    "# -> 수식을 실행하고 그 결과를 반환한다.\n",
    "# -> 다른 함수의 인수로 넣을 때 주로 사용한다."
   ]
  },
  {
   "cell_type": "code",
   "execution_count": 2,
   "id": "1805df7d",
   "metadata": {},
   "outputs": [],
   "source": [
    "# # 람다표현식 자체로 호출하기\n",
    "# (lambda 매개변수1, 매개변수2 : 수식)(인수1,인수2)\n",
    "\n",
    "# #람다표현식을 변수에 담아 호출하기\n",
    "# 변수 = lambda 매개변수1, 매개변수2 : 수식\n",
    "# 변수(인수1,인수2)"
   ]
  },
  {
   "cell_type": "markdown",
   "id": "12cd1e2f",
   "metadata": {},
   "source": [
    "# 람다표현식"
   ]
  },
  {
   "cell_type": "code",
   "execution_count": 4,
   "id": "11b71f38",
   "metadata": {
    "scrolled": true
   },
   "outputs": [
    {
     "data": {
      "text/plain": [
       "3"
      ]
     },
     "execution_count": 4,
     "metadata": {},
     "output_type": "execute_result"
    }
   ],
   "source": [
    "# 두 수를 매개변수로 받아 더한 결과를 리턴하는 함수\n",
    "def get_plus(n1,n2):\n",
    "    return n1+n2\n",
    "get_plus(1,2)"
   ]
  },
  {
   "cell_type": "code",
   "execution_count": 7,
   "id": "e6716d6d",
   "metadata": {},
   "outputs": [
    {
     "data": {
      "text/plain": [
       "3"
      ]
     },
     "execution_count": 7,
     "metadata": {},
     "output_type": "execute_result"
    }
   ],
   "source": [
    "# 람다표현식으로 만들기\n",
    "lambda n1,n2:n1+n2\n",
    "# 람다표현식 사용하기\n",
    "(lambda n1,n2:n1+n2)(1,2)"
   ]
  },
  {
   "cell_type": "code",
   "execution_count": 1,
   "id": "d3109e88",
   "metadata": {},
   "outputs": [
    {
     "data": {
      "text/plain": [
       "7"
      ]
     },
     "execution_count": 1,
     "metadata": {},
     "output_type": "execute_result"
    }
   ],
   "source": [
    "# 람다표현식을 프로그램 내에서 재사용하고 싶다면, 람다표현식을 변수에 담아서 사용한다.\n",
    "\n",
    "lambda_plus = lambda n1,n2:n1+n2\n",
    "\n",
    "# 변수로 람다표현식 담아 호출하기\n",
    "lambda_plus(3,4)"
   ]
  },
  {
   "cell_type": "markdown",
   "id": "522846de",
   "metadata": {},
   "source": [
    "# map함수"
   ]
  },
  {
   "cell_type": "code",
   "execution_count": 2,
   "id": "4efb516d",
   "metadata": {},
   "outputs": [],
   "source": [
    "# 리스트나 튜플의 각 요소를 지정된 함수로 처리해주는 함수\n",
    "# list(map(함수,리스트))\n",
    "# tuple(map(함수,튜플))\n",
    "# -> 리스트, 튜플의 각 요소에 함수를 적용 \n",
    "# -> 원본을 변경하지 않고 새 리스트, 튜플을 생성하여 반환한다"
   ]
  },
  {
   "cell_type": "code",
   "execution_count": 5,
   "id": "6e030b33",
   "metadata": {},
   "outputs": [
    {
     "name": "stdout",
     "output_type": "stream",
     "text": [
      "['1', '2', '3', '4']\n",
      "[1, 2, 3, 4]\n"
     ]
    }
   ],
   "source": [
    "# map함수를 이용하여 리스트 a의 각 요소를 정수화하여 새로운 리스트로 만들기\n",
    "a = ['1','2','3','4'] # -> str자료형\n",
    "b = list(map(int,a))\n",
    "print(a)\n",
    "print(b)"
   ]
  },
  {
   "cell_type": "code",
   "execution_count": 6,
   "id": "d83c47a9",
   "metadata": {},
   "outputs": [],
   "source": [
    "# 함수 부분에 람다표현식을 사용한다.\n",
    "# list(map(람다표현식,리스트))\n",
    "# tuple(map(람다표현식,튜플))"
   ]
  },
  {
   "cell_type": "code",
   "execution_count": 2,
   "id": "515fec71",
   "metadata": {},
   "outputs": [
    {
     "name": "stdout",
     "output_type": "stream",
     "text": [
      "[1, 2, 3, 4]\n",
      "[2, 3, 4, 5]\n",
      "(5, 6, 7, 8)\n",
      "(6, 7, 8, 9)\n"
     ]
    }
   ],
   "source": [
    "# 아래 리스트 l1에 1을 더한 l2 리스트 만들기\n",
    "l1 = [1,2,3,4]\n",
    "t1 = (5,6,7,8)\n",
    "\n",
    "l2 = list(map((lambda x:x+1),l1))\n",
    "t2 = tuple(map((lambda x:x+1),t1))\n",
    "\n",
    "print(l1)\n",
    "print(l2)\n",
    "\n",
    "print(t1)\n",
    "print(t2)"
   ]
  },
  {
   "cell_type": "code",
   "execution_count": 9,
   "id": "642783c8",
   "metadata": {},
   "outputs": [],
   "source": [
    "# lambda 매개변수1,매개변수2, ... : 식1 if 조건식 else 식2\n",
    "# 식1 은 if조건이 True일 때 실행\n",
    "# 식2 는 if조건이 False일 때 실행"
   ]
  },
  {
   "cell_type": "code",
   "execution_count": 11,
   "id": "403a03dd",
   "metadata": {},
   "outputs": [
    {
     "name": "stdout",
     "output_type": "stream",
     "text": [
      "[1, 2, 3, 4, 5, 6, 7, 8, 9, 10]\n",
      "['1', 2.0, '3', 4.0, '5', 6.0, '7', 8.0, '9', 10.0]\n"
     ]
    }
   ],
   "source": [
    "# 아래 리스트에서 짝수는 float로 바꾸고, 홀수는 str로 바꾸기\n",
    "l1 = [1,2,3,4,5,6,7,8,9,10]\n",
    "\n",
    "l2 = list(map((lambda x:float(x) if x%2 == 0 else str(x)),l1))\n",
    "print(l1)\n",
    "print(l2)"
   ]
  },
  {
   "cell_type": "markdown",
   "id": "d44d0d6c",
   "metadata": {},
   "source": [
    "# 라이브러리 사용을 위한 클래스, 모듈, 패키지 이해"
   ]
  },
  {
   "cell_type": "code",
   "execution_count": 12,
   "id": "d47ef70b",
   "metadata": {},
   "outputs": [],
   "source": [
    "# 쿠키틀 : 클래스\n",
    "# 쿠키 틀로 만든 쿠키 : 객체"
   ]
  },
  {
   "cell_type": "code",
   "execution_count": 13,
   "id": "b9ee9a77",
   "metadata": {},
   "outputs": [],
   "source": [
    "# 객체의 '속성'은 객체 안의 '변수'에 저장된다.\n",
    "# 객체의 이름 다음에 점을 찍고 변수 이름을 적는다.\n",
    "# cf) car1.brand = \"현대자동차\""
   ]
  },
  {
   "cell_type": "code",
   "execution_count": 14,
   "id": "b1472b94",
   "metadata": {},
   "outputs": [],
   "source": [
    "# 객체의 '메소드'는 객체안에 정의된  '함수'이다.\n",
    "# 객체의 '메소드'는 객체 이름 다음에 점을 찍어 호출한다.\n",
    "# cf) car1.turn_on()"
   ]
  },
  {
   "cell_type": "markdown",
   "id": "e4fe3fc0",
   "metadata": {},
   "source": [
    "# 클래스 만들기"
   ]
  },
  {
   "cell_type": "code",
   "execution_count": 15,
   "id": "91b931dc",
   "metadata": {},
   "outputs": [],
   "source": [
    "# class 클래스명:\n",
    "#     def __init__(self, 매개변수1, 매개변수2, ... ): # -> 생성자\n",
    "#         속성 초기화\n",
    "\n",
    "#     def 메소드1(self, 매개변수1, 매개변수2, ... ):\n",
    "#         메소드1 내용\n",
    "\n",
    "#     def 메소드2(self, 매개변수1 매개변수2, ... ):\n",
    "#         메소드2 내용\n",
    "\n",
    "## self --> 메소드를 호출한 객체를 받는다."
   ]
  },
  {
   "cell_type": "code",
   "execution_count": 18,
   "id": "9cc5a946",
   "metadata": {},
   "outputs": [],
   "source": [
    "## 자동차 클래스와 객체 ##\n",
    "# -> 3가지 속성과 3가지 기능이 있는 자동차 객체를 찍어내기 위한 틀을 만든다.\n",
    "# -> 속성 : brand, model, color\n",
    "# -> 기능 : turn_on, turn_off, drive"
   ]
  },
  {
   "cell_type": "code",
   "execution_count": 3,
   "id": "13ee6a02",
   "metadata": {},
   "outputs": [],
   "source": [
    "# 자동차 클래스 만들기\n",
    "class Car:   # 클래스는 보통 대문자로 시작하는 경우가 많다.\n",
    "    def __init__(self, b, m, c):\n",
    "        self.brand = b  # 이 객체의 브랜드는 b라는 매개변수에서 받아온다.\n",
    "        self.model = m\n",
    "        self.color = c\n",
    "        \n",
    "        print(self.brand, self.model, self.color,'출고')\n",
    "        \n",
    "    def turn_on(self):\n",
    "        print(self.brand,'시동을 겁니다.')\n",
    "        \n",
    "    def turn_off(self):\n",
    "        print(self.brand,'시동을 끕니다.')\n",
    "        \n",
    "    def drive(self):\n",
    "        print(self.brand,'주행중입니다.')"
   ]
  },
  {
   "cell_type": "code",
   "execution_count": 24,
   "id": "7ca93cf0",
   "metadata": {},
   "outputs": [
    {
     "name": "stdout",
     "output_type": "stream",
     "text": [
      "현대자동차 쏘나타 화이트 출고\n",
      "르노삼성 sm7 블랙 출고\n"
     ]
    }
   ],
   "source": [
    "# 객체 생성하기\n",
    "car1 = Car('현대자동차','쏘나타','화이트') # -> init 생성자에 매개변수를 전달\n",
    "# self는 객체를 받는 매개변수라고 생각하면 된다.\n",
    "car2 = Car('르노삼성','sm7','블랙')"
   ]
  },
  {
   "cell_type": "code",
   "execution_count": 26,
   "id": "0fe93262",
   "metadata": {},
   "outputs": [
    {
     "name": "stdout",
     "output_type": "stream",
     "text": [
      "현대자동차 시동을 겁니다.\n",
      "르노삼성 시동을 끕니다.\n"
     ]
    }
   ],
   "source": [
    "car1.turn_on() # car1이라는 객체가 Car클래스 안의 함수 turn_on(self) self에 적용됨 \n",
    "car2.turn_off()"
   ]
  },
  {
   "cell_type": "markdown",
   "id": "b8ce6a4f",
   "metadata": {},
   "source": [
    "# 객체의 메소드 목록 조회"
   ]
  },
  {
   "cell_type": "code",
   "execution_count": 27,
   "id": "634133a3",
   "metadata": {},
   "outputs": [
    {
     "data": {
      "text/plain": [
       "['__add__',\n",
       " '__class__',\n",
       " '__class_getitem__',\n",
       " '__contains__',\n",
       " '__delattr__',\n",
       " '__delitem__',\n",
       " '__dir__',\n",
       " '__doc__',\n",
       " '__eq__',\n",
       " '__format__',\n",
       " '__ge__',\n",
       " '__getattribute__',\n",
       " '__getitem__',\n",
       " '__gt__',\n",
       " '__hash__',\n",
       " '__iadd__',\n",
       " '__imul__',\n",
       " '__init__',\n",
       " '__init_subclass__',\n",
       " '__iter__',\n",
       " '__le__',\n",
       " '__len__',\n",
       " '__lt__',\n",
       " '__mul__',\n",
       " '__ne__',\n",
       " '__new__',\n",
       " '__reduce__',\n",
       " '__reduce_ex__',\n",
       " '__repr__',\n",
       " '__reversed__',\n",
       " '__rmul__',\n",
       " '__setattr__',\n",
       " '__setitem__',\n",
       " '__sizeof__',\n",
       " '__str__',\n",
       " '__subclasshook__',\n",
       " 'append',\n",
       " 'clear',\n",
       " 'copy',\n",
       " 'count',\n",
       " 'extend',\n",
       " 'index',\n",
       " 'insert',\n",
       " 'pop',\n",
       " 'remove',\n",
       " 'reverse',\n",
       " 'sort']"
      ]
     },
     "execution_count": 27,
     "metadata": {},
     "output_type": "execute_result"
    }
   ],
   "source": [
    "dir(list)"
   ]
  },
  {
   "cell_type": "markdown",
   "id": "cefabccc",
   "metadata": {},
   "source": [
    "# 함수, 메소드 사용법"
   ]
  },
  {
   "cell_type": "code",
   "execution_count": 28,
   "id": "34f26573",
   "metadata": {},
   "outputs": [
    {
     "name": "stdout",
     "output_type": "stream",
     "text": [
      "Help on built-in function append:\n",
      "\n",
      "append(object, /) method of builtins.list instance\n",
      "    Append object to the end of the list.\n",
      "\n"
     ]
    }
   ],
   "source": [
    "a = [1,2,3]\n",
    "help(a.append)"
   ]
  },
  {
   "cell_type": "code",
   "execution_count": 29,
   "id": "397c3cc3",
   "metadata": {},
   "outputs": [
    {
     "name": "stdout",
     "output_type": "stream",
     "text": [
      "Help on built-in function print in module builtins:\n",
      "\n",
      "print(...)\n",
      "    print(value, ..., sep=' ', end='\\n', file=sys.stdout, flush=False)\n",
      "    \n",
      "    Prints the values to a stream, or to sys.stdout by default.\n",
      "    Optional keyword arguments:\n",
      "    file:  a file-like object (stream); defaults to the current sys.stdout.\n",
      "    sep:   string inserted between values, default a space.\n",
      "    end:   string appended after the last value, default a newline.\n",
      "    flush: whether to forcibly flush the stream.\n",
      "\n"
     ]
    }
   ],
   "source": [
    "help(print)"
   ]
  },
  {
   "cell_type": "code",
   "execution_count": null,
   "id": "8efdb6f8",
   "metadata": {},
   "outputs": [],
   "source": []
  }
 ],
 "metadata": {
  "kernelspec": {
   "display_name": "Python 3 (ipykernel)",
   "language": "python",
   "name": "python3"
  },
  "language_info": {
   "codemirror_mode": {
    "name": "ipython",
    "version": 3
   },
   "file_extension": ".py",
   "mimetype": "text/x-python",
   "name": "python",
   "nbconvert_exporter": "python",
   "pygments_lexer": "ipython3",
   "version": "3.9.12"
  },
  "toc": {
   "base_numbering": 1,
   "nav_menu": {},
   "number_sections": true,
   "sideBar": true,
   "skip_h1_title": false,
   "title_cell": "Table of Contents",
   "title_sidebar": "Contents",
   "toc_cell": false,
   "toc_position": {},
   "toc_section_display": true,
   "toc_window_display": false
  }
 },
 "nbformat": 4,
 "nbformat_minor": 5
}
