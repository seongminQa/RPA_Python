{
 "cells": [
  {
   "cell_type": "markdown",
   "id": "b49ff5ac",
   "metadata": {},
   "source": [
    "[ 학습목표 ]<br> \n",
    "그래프의 가독성을 높이기 위해 제목, 축 레이블, 그리드를 설정할 수 있다."
   ]
  },
  {
   "cell_type": "markdown",
   "id": "1caee086",
   "metadata": {},
   "source": [
    "# 라이브러리 임포트 및 그래프 설정"
   ]
  },
  {
   "cell_type": "markdown",
   "id": "29ba3604",
   "metadata": {},
   "source": [
    "## 라이브러리 임포트"
   ]
  },
  {
   "cell_type": "code",
   "execution_count": 1,
   "id": "15d66d5f",
   "metadata": {},
   "outputs": [],
   "source": [
    "import matplotlib.pyplot as plt"
   ]
  },
  {
   "cell_type": "code",
   "execution_count": 2,
   "id": "dda6c163",
   "metadata": {},
   "outputs": [],
   "source": [
    "# 그래프에 한글폰트 설정\n",
    "plt.rcParams['font.family'] = 'Malgun Gothic'\n",
    "\n",
    "# 유니코드에서 그래프에 마이너스 기호 깨지는 문제 해결\n",
    "plt.rcParams['axes.unicode_minus'] = False"
   ]
  },
  {
   "cell_type": "code",
   "execution_count": 31,
   "id": "36b93446",
   "metadata": {},
   "outputs": [
    {
     "data": {
      "text/plain": [
       "['DejaVu Sans',\n",
       " 'DejaVu Serif',\n",
       " 'DejaVu Sans',\n",
       " 'STIXSizeFourSym',\n",
       " 'STIXNonUnicode',\n",
       " 'cmex10',\n",
       " 'cmtt10',\n",
       " 'STIXGeneral',\n",
       " 'STIXSizeThreeSym',\n",
       " 'DejaVu Serif',\n",
       " 'DejaVu Serif',\n",
       " 'STIXNonUnicode',\n",
       " 'DejaVu Sans',\n",
       " 'cmsy10',\n",
       " 'DejaVu Sans',\n",
       " 'STIXSizeFiveSym',\n",
       " 'cmr10',\n",
       " 'STIXGeneral',\n",
       " 'STIXSizeOneSym',\n",
       " 'cmmi10',\n",
       " 'DejaVu Sans Mono',\n",
       " 'STIXSizeOneSym',\n",
       " 'DejaVu Sans Mono',\n",
       " 'STIXNonUnicode',\n",
       " 'STIXSizeTwoSym',\n",
       " 'DejaVu Sans Display',\n",
       " 'cmss10',\n",
       " 'DejaVu Serif',\n",
       " 'STIXNonUnicode',\n",
       " 'DejaVu Sans Mono',\n",
       " 'cmb10',\n",
       " 'STIXGeneral',\n",
       " 'STIXSizeTwoSym',\n",
       " 'STIXSizeThreeSym',\n",
       " 'STIXSizeFourSym',\n",
       " 'STIXGeneral',\n",
       " 'DejaVu Serif Display',\n",
       " 'DejaVu Sans Mono',\n",
       " 'Ami R',\n",
       " 'Ink Free',\n",
       " 'Juice ITC',\n",
       " 'Myanmar Text',\n",
       " 'Javanese Text',\n",
       " 'Bookman Old Style',\n",
       " 'Bauhaus 93',\n",
       " 'Pyunji R',\n",
       " 'Corbel',\n",
       " 'HYMyeongJo-Extra',\n",
       " 'Batang',\n",
       " 'Perpetua Titling MT',\n",
       " 'Juice ITC',\n",
       " 'Garamond',\n",
       " 'Malgun Gothic',\n",
       " 'Calisto MT',\n",
       " 'Yu Gothic',\n",
       " 'Edwardian Script ITC',\n",
       " 'Bookman Old Style',\n",
       " 'Viner Hand ITC',\n",
       " 'Trebuchet MS',\n",
       " 'Eras Medium ITC',\n",
       " 'Bodoni MT',\n",
       " 'Nirmala UI',\n",
       " 'Gill Sans MT Ext Condensed Bold',\n",
       " 'NewJumja',\n",
       " 'HYMyeongJo-Extra',\n",
       " 'Trebuchet MS',\n",
       " 'Californian FB',\n",
       " 'Bell MT',\n",
       " 'Gill Sans Ultra Bold Condensed',\n",
       " 'Lucida Sans',\n",
       " 'Rockwell',\n",
       " 'Tw Cen MT',\n",
       " 'Elephant',\n",
       " 'Perpetua',\n",
       " 'Tw Cen MT Condensed',\n",
       " 'Maiandra GD',\n",
       " 'Consolas',\n",
       " 'Pristina',\n",
       " 'Segoe UI',\n",
       " 'Corbel',\n",
       " 'Century Gothic',\n",
       " 'Goudy Old Style',\n",
       " 'Bodoni MT',\n",
       " 'Microsoft JhengHei',\n",
       " 'Sylfaen',\n",
       " 'Courier New',\n",
       " 'NewJumja',\n",
       " 'Lucida Bright',\n",
       " 'Times New Roman',\n",
       " 'Corbel',\n",
       " 'Ravie',\n",
       " 'Freestyle Script',\n",
       " 'Script MT Bold',\n",
       " 'Franklin Gothic Demi',\n",
       " 'Elephant',\n",
       " 'Franklin Gothic Heavy',\n",
       " 'Broadway',\n",
       " 'Microsoft YaHei',\n",
       " 'HYPMokGak-Bold',\n",
       " 'Arial',\n",
       " 'Old English Text MT',\n",
       " 'Bodoni MT',\n",
       " 'Corbel',\n",
       " 'Arial Unicode MS',\n",
       " 'Lucida Fax',\n",
       " 'Garamond',\n",
       " 'Constantia',\n",
       " 'Algerian',\n",
       " 'Segoe UI',\n",
       " 'Bodoni MT',\n",
       " 'MV Boli',\n",
       " 'Buxton Sketch',\n",
       " 'Segoe Script',\n",
       " 'Corbel',\n",
       " 'Broadway',\n",
       " 'Candara',\n",
       " 'OCR A Extended',\n",
       " 'Cambria',\n",
       " 'Felix Titling',\n",
       " 'Gill Sans MT',\n",
       " 'Malgun Gothic',\n",
       " 'Papyrus',\n",
       " 'Jokerman',\n",
       " 'Californian FB',\n",
       " 'Arial',\n",
       " 'Nirmala UI',\n",
       " 'Bodoni MT',\n",
       " 'Segoe Marker',\n",
       " 'Palatino Linotype',\n",
       " 'Javanese Text',\n",
       " 'Tw Cen MT Condensed Extra Bold',\n",
       " 'Gadugi',\n",
       " 'New Gulim',\n",
       " 'Century Gothic',\n",
       " 'Berlin Sans FB',\n",
       " 'Maiandra GD',\n",
       " 'Sitka Small',\n",
       " 'Goudy Old Style',\n",
       " 'Segoe UI',\n",
       " 'Microsoft YaHei',\n",
       " 'Kristen ITC',\n",
       " 'Chiller',\n",
       " 'Snap ITC',\n",
       " 'Rockwell Extra Bold',\n",
       " 'Segoe UI',\n",
       " 'Corbel',\n",
       " 'Lucida Console',\n",
       " 'Bodoni MT',\n",
       " 'Gloucester MT Extra Condensed',\n",
       " 'HCR Batang ExtB',\n",
       " 'Segoe UI',\n",
       " 'Copperplate Gothic Light',\n",
       " 'Microsoft JhengHei',\n",
       " 'Bahnschrift',\n",
       " 'Consolas',\n",
       " 'Lucida Fax',\n",
       " 'Segoe MDL2 Assets',\n",
       " 'Segoe UI',\n",
       " 'Georgia',\n",
       " 'Lucida Sans Typewriter',\n",
       " 'Calibri',\n",
       " 'Niagara Solid',\n",
       " 'Stencil',\n",
       " 'Bradley Hand ITC',\n",
       " 'Franklin Gothic Book',\n",
       " 'Wide Latin',\n",
       " 'French Script MT',\n",
       " 'Lucida Sans',\n",
       " 'Colonna MT',\n",
       " 'MT Extra',\n",
       " 'Verdana',\n",
       " 'Microsoft Tai Le',\n",
       " 'Berlin Sans FB Demi',\n",
       " 'Wide Latin',\n",
       " 'Eras Bold ITC',\n",
       " 'Goudy Stout',\n",
       " 'Footlight MT Light',\n",
       " 'Microsoft JhengHei',\n",
       " 'Rage Italic',\n",
       " 'Hancom Gothic',\n",
       " 'Gigi',\n",
       " 'Consolas',\n",
       " 'Tw Cen MT',\n",
       " 'Lucida Sans Typewriter',\n",
       " 'Gill Sans MT Ext Condensed Bold',\n",
       " 'Eras Medium ITC',\n",
       " 'Corbel',\n",
       " 'MS Outlook',\n",
       " 'Lucida Sans Typewriter',\n",
       " 'Britannic Bold',\n",
       " 'Microsoft Tai Le',\n",
       " 'Rage Italic',\n",
       " 'Segoe UI Emoji',\n",
       " 'Lucida Sans',\n",
       " 'HYSinMyeongJo-Medium',\n",
       " 'High Tower Text',\n",
       " 'Comic Sans MS',\n",
       " 'Agency FB',\n",
       " 'SimSun',\n",
       " 'Gulim',\n",
       " 'Tw Cen MT',\n",
       " 'Times New Roman',\n",
       " 'Lucida Fax',\n",
       " 'Calibri',\n",
       " 'MV Boli',\n",
       " 'SimSun-ExtB',\n",
       " 'Calibri',\n",
       " 'Nirmala UI',\n",
       " 'Hancom Gothic',\n",
       " 'Bell MT',\n",
       " 'HYGungSo-Bold',\n",
       " 'Palatino Linotype',\n",
       " 'Rockwell',\n",
       " 'Bodoni MT',\n",
       " 'Curlz MT',\n",
       " 'Microsoft YaHei',\n",
       " 'Baskerville Old Face',\n",
       " 'Vivaldi',\n",
       " 'Gill Sans Ultra Bold Condensed',\n",
       " 'HYGothic-Medium',\n",
       " 'Batang',\n",
       " 'Segoe Print',\n",
       " 'Ebrima',\n",
       " 'Arial',\n",
       " 'Arial',\n",
       " 'Segoe UI',\n",
       " 'Bodoni MT',\n",
       " 'Arial',\n",
       " 'Bookman Old Style',\n",
       " 'HYSinMyeongJo-Medium',\n",
       " 'Times New Roman',\n",
       " 'Arial',\n",
       " 'Yu Gothic',\n",
       " 'Perpetua',\n",
       " 'Arial',\n",
       " 'Trebuchet MS',\n",
       " 'Microsoft PhagsPa',\n",
       " 'Times New Roman',\n",
       " 'Comic Sans MS',\n",
       " 'Malgun Gothic',\n",
       " 'Courier New',\n",
       " 'HCR Batang ExtB',\n",
       " 'Microsoft Himalaya',\n",
       " 'Century Gothic',\n",
       " 'Bodoni MT',\n",
       " 'Yu Gothic',\n",
       " 'Constantia',\n",
       " 'Microsoft Tai Le',\n",
       " 'Cambria',\n",
       " 'Californian FB',\n",
       " 'Constantia',\n",
       " 'Franklin Gothic Medium Cond',\n",
       " 'HYGothic-Medium',\n",
       " 'High Tower Text',\n",
       " 'Rockwell',\n",
       " 'Arial',\n",
       " 'Impact',\n",
       " 'Leelawadee UI',\n",
       " 'Gill Sans MT',\n",
       " 'Monotype Corsiva',\n",
       " 'Century Schoolbook',\n",
       " 'Arial',\n",
       " 'Vladimir Script',\n",
       " 'Tw Cen MT',\n",
       " 'Segoe UI',\n",
       " 'Myanmar Text',\n",
       " 'Harrington',\n",
       " 'Corbel',\n",
       " 'French Script MT',\n",
       " 'Haettenschweiler',\n",
       " 'Californian FB',\n",
       " 'Segoe UI',\n",
       " 'Lucida Sans',\n",
       " 'Eras Bold ITC',\n",
       " 'Gill Sans MT Condensed',\n",
       " 'Sitka Small',\n",
       " 'Tw Cen MT Condensed',\n",
       " 'Britannic Bold',\n",
       " 'Lucida Bright',\n",
       " 'Bodoni MT',\n",
       " 'Comic Sans MS',\n",
       " 'Segoe MDL2 Assets',\n",
       " 'Constantia',\n",
       " 'Segoe Script',\n",
       " 'Viner Hand ITC',\n",
       " 'Book Antiqua',\n",
       " 'Malgun Gothic',\n",
       " 'Century Gothic',\n",
       " 'HYGothic-Extra',\n",
       " 'HyhwpEQ',\n",
       " 'Comic Sans MS',\n",
       " 'Wingdings 3',\n",
       " 'Sylfaen',\n",
       " 'Playbill',\n",
       " 'MS Reference Specialty',\n",
       " 'Franklin Gothic Medium',\n",
       " 'Perpetua Titling MT',\n",
       " 'Yet R',\n",
       " 'Malgun Gothic',\n",
       " 'Verdana',\n",
       " 'Microsoft Tai Le',\n",
       " 'Arial',\n",
       " 'Lucida Calligraphy',\n",
       " 'Symbol',\n",
       " 'Nirmala UI',\n",
       " 'Ebrima',\n",
       " 'Cooper Black',\n",
       " 'Matura MT Script Capitals',\n",
       " 'Book Antiqua',\n",
       " 'Wingdings',\n",
       " 'Arial Rounded MT Bold',\n",
       " 'MS Reference Sans Serif',\n",
       " 'HCR Batang',\n",
       " 'Microsoft PhagsPa',\n",
       " 'Cambria',\n",
       " 'Tw Cen MT Condensed',\n",
       " 'Ami R',\n",
       " 'Lucida Fax',\n",
       " 'Snap ITC',\n",
       " 'Bodoni MT',\n",
       " 'Gill Sans MT',\n",
       " 'HYGraphic-Medium',\n",
       " 'Yu Gothic',\n",
       " 'Sitka Small',\n",
       " 'Kunstler Script',\n",
       " 'Chiller',\n",
       " 'HoloLens MDL2 Assets',\n",
       " 'Script MT Bold',\n",
       " 'Berlin Sans FB',\n",
       " 'HCR Dotum Ext',\n",
       " 'Arial Unicode MS',\n",
       " 'Verdana',\n",
       " 'Eras Demi ITC',\n",
       " 'Constantia',\n",
       " 'Perpetua',\n",
       " 'Calisto MT',\n",
       " 'Century Schoolbook',\n",
       " 'HCR Dotum',\n",
       " 'HYGothic-Extra',\n",
       " 'Corbel',\n",
       " 'Segoe UI',\n",
       " 'Times New Roman',\n",
       " 'Mistral',\n",
       " 'Ebrima',\n",
       " 'Centaur',\n",
       " 'Bookshelf Symbol 7',\n",
       " 'Arial',\n",
       " 'Berlin Sans FB',\n",
       " 'HancomEQN',\n",
       " 'Lucida Sans',\n",
       " 'Gill Sans MT',\n",
       " 'Tw Cen MT Condensed Extra Bold',\n",
       " 'Algerian',\n",
       " 'Sitka Small',\n",
       " 'Calisto MT',\n",
       " 'Rockwell Condensed',\n",
       " 'Ink Free',\n",
       " 'Microsoft YaHei',\n",
       " 'HYGungSo-Bold',\n",
       " 'Engravers MT',\n",
       " 'Comic Sans MS',\n",
       " 'Playbill',\n",
       " 'Georgia',\n",
       " 'Microsoft JhengHei',\n",
       " 'Segoe UI',\n",
       " 'Constantia',\n",
       " 'Agency FB',\n",
       " 'Bodoni MT',\n",
       " 'Goudy Old Style',\n",
       " 'Headline R',\n",
       " 'High Tower Text',\n",
       " 'Gabriola',\n",
       " 'Eras Demi ITC',\n",
       " 'Hancom Gothic',\n",
       " 'MS Reference Sans Serif',\n",
       " 'Yet R',\n",
       " 'Franklin Gothic Heavy',\n",
       " 'Microsoft Sans Serif',\n",
       " 'Microsoft New Tai Lue',\n",
       " 'MS Gothic',\n",
       " 'Mongolian Baiti',\n",
       " 'Impact',\n",
       " 'Century Schoolbook',\n",
       " 'Goudy Old Style',\n",
       " 'HancomEQN',\n",
       " 'Eras Light ITC',\n",
       " 'HYHeadLine-Medium',\n",
       " 'SimSun-ExtB',\n",
       " 'Magic R',\n",
       " 'Freestyle Script',\n",
       " 'Lucida Sans Unicode',\n",
       " 'Segoe UI',\n",
       " 'Gigi',\n",
       " 'Calisto MT',\n",
       " 'Haettenschweiler',\n",
       " 'Harlow Solid Italic',\n",
       " 'Bookshelf Symbol 7',\n",
       " 'Rockwell Condensed',\n",
       " 'Vivaldi',\n",
       " 'Myanmar Text',\n",
       " 'Franklin Gothic Book',\n",
       " 'Perpetua Titling MT',\n",
       " 'Century Gothic',\n",
       " 'Bookman Old Style',\n",
       " 'Gloucester MT Extra Condensed',\n",
       " 'Gill Sans Ultra Bold',\n",
       " 'Bodoni MT',\n",
       " 'Copperplate Gothic Light',\n",
       " 'Sitka Small',\n",
       " 'Californian FB',\n",
       " 'Informal Roman',\n",
       " 'Segoe UI',\n",
       " 'Century Schoolbook',\n",
       " 'Bradley Hand ITC',\n",
       " 'Bodoni MT',\n",
       " 'HCR Dotum Ext',\n",
       " 'Calisto MT',\n",
       " 'Segoe UI',\n",
       " 'Yu Gothic',\n",
       " 'Franklin Gothic Demi',\n",
       " 'Goudy Stout',\n",
       " 'Lucida Sans Typewriter',\n",
       " 'Comic Sans MS',\n",
       " 'MingLiU-ExtB',\n",
       " 'Leelawadee UI',\n",
       " 'High Tower Text',\n",
       " 'Niagara Engraved',\n",
       " 'Segoe UI',\n",
       " 'Franklin Gothic Book',\n",
       " 'Gill Sans MT',\n",
       " 'Arial Rounded MT Bold',\n",
       " 'Sitka Small',\n",
       " 'SimSun',\n",
       " 'Haan Wing2',\n",
       " 'Candara',\n",
       " 'Franklin Gothic Demi Cond',\n",
       " 'Microsoft New Tai Lue',\n",
       " 'Lucida Bright',\n",
       " 'Lucida Fax',\n",
       " 'Bodoni MT',\n",
       " 'Nirmala UI',\n",
       " 'Garamond',\n",
       " 'Agency FB',\n",
       " 'Calibri',\n",
       " 'Microsoft Sans Serif',\n",
       " 'Tw Cen MT',\n",
       " 'Segoe UI Symbol',\n",
       " 'Copperplate Gothic Bold',\n",
       " 'Lucida Sans Typewriter',\n",
       " 'Trebuchet MS',\n",
       " 'Berlin Sans FB Demi',\n",
       " 'HCR Batang ExtB',\n",
       " 'Mistral',\n",
       " 'Copperplate Gothic Bold',\n",
       " 'Trebuchet MS',\n",
       " 'Parchment',\n",
       " 'Bahnschrift',\n",
       " 'Franklin Gothic Heavy',\n",
       " 'Calibri',\n",
       " 'Segoe Marker',\n",
       " 'Felix Titling',\n",
       " 'HCR Batang',\n",
       " 'Century Gothic',\n",
       " 'Microsoft YaHei',\n",
       " 'Brush Script MT',\n",
       " 'Lucida Fax',\n",
       " 'New Gulim',\n",
       " 'Microsoft PhagsPa',\n",
       " 'Lucida Handwriting',\n",
       " 'Lucida Console',\n",
       " 'Segoe UI Historic',\n",
       " 'Franklin Gothic Demi',\n",
       " 'Consolas',\n",
       " 'Lucida Bright',\n",
       " 'Papyrus',\n",
       " 'Georgia',\n",
       " 'Microsoft PhagsPa',\n",
       " 'Brush Script MT',\n",
       " 'Segoe UI',\n",
       " 'Gill Sans MT',\n",
       " 'Book Antiqua',\n",
       " 'Baskerville Old Face',\n",
       " 'Tempus Sans ITC',\n",
       " 'Segoe UI',\n",
       " 'Sitka Small',\n",
       " 'Castellar',\n",
       " 'Monotype Corsiva',\n",
       " 'SketchFlow Print',\n",
       " 'Ravie',\n",
       " 'Lucida Sans Typewriter',\n",
       " 'Microsoft Yi Baiti',\n",
       " 'MS Reference Specialty',\n",
       " 'Calibri',\n",
       " 'Palatino Linotype',\n",
       " 'Calisto MT',\n",
       " 'Consolas',\n",
       " 'Onyx',\n",
       " 'Gill Sans MT Condensed',\n",
       " 'Headline R',\n",
       " 'Segoe UI',\n",
       " 'Palatino Linotype',\n",
       " 'MingLiU-ExtB',\n",
       " 'Times New Roman',\n",
       " 'Calisto MT',\n",
       " 'Segoe UI',\n",
       " 'Microsoft JhengHei',\n",
       " 'Lucida Sans Typewriter',\n",
       " 'Magneto',\n",
       " 'Tahoma',\n",
       " 'Cambria',\n",
       " 'Bodoni MT',\n",
       " 'Segoe Print',\n",
       " 'Curlz MT',\n",
       " 'Perpetua',\n",
       " 'Forte',\n",
       " 'MoeumT R',\n",
       " 'Bookman Old Style',\n",
       " 'HCR Dotum',\n",
       " 'Gadugi',\n",
       " 'Courier New',\n",
       " 'Arial',\n",
       " 'Leelawadee UI',\n",
       " 'Rockwell',\n",
       " 'Wingdings 2',\n",
       " 'MS Outlook',\n",
       " 'Leelawadee UI',\n",
       " 'Yu Gothic',\n",
       " 'Lucida Sans Unicode',\n",
       " 'Wingdings',\n",
       " 'Century Schoolbook',\n",
       " 'Microsoft JhengHei',\n",
       " 'Bookman Old Style',\n",
       " 'Bodoni MT',\n",
       " 'Lucida Bright',\n",
       " 'Engravers MT',\n",
       " 'Candara',\n",
       " 'Harrington',\n",
       " 'Segoe UI',\n",
       " 'Courier New',\n",
       " 'Rockwell Condensed',\n",
       " 'Vladimir Script',\n",
       " 'Gadugi',\n",
       " 'Lucida Sans',\n",
       " 'SketchFlow Print',\n",
       " 'Arial',\n",
       " 'Lucida Bright',\n",
       " 'Bernard MT Condensed',\n",
       " 'Tahoma',\n",
       " 'Candara',\n",
       " 'Century',\n",
       " 'Buxton Sketch',\n",
       " 'Rockwell',\n",
       " 'Tw Cen MT',\n",
       " 'Elephant',\n",
       " 'Rockwell',\n",
       " 'Georgia',\n",
       " 'Georgia',\n",
       " 'Tahoma',\n",
       " 'Parchment',\n",
       " 'HoloLens MDL2 Assets',\n",
       " 'Gadugi',\n",
       " 'Constantia',\n",
       " 'Showcard Gothic',\n",
       " 'Franklin Gothic Heavy',\n",
       " 'Bernard MT Condensed',\n",
       " 'Bodoni MT',\n",
       " 'HYPost-Medium',\n",
       " 'Book Antiqua',\n",
       " 'Verdana',\n",
       " 'Book Antiqua',\n",
       " 'Bookman Old Style',\n",
       " 'Courier New',\n",
       " 'Perpetua',\n",
       " 'Microsoft Himalaya',\n",
       " 'Garamond',\n",
       " 'Rockwell Extra Bold',\n",
       " 'Century Schoolbook',\n",
       " 'Segoe UI',\n",
       " 'Rockwell',\n",
       " 'Gulim',\n",
       " 'Verdana',\n",
       " 'HYShortSamul-Medium',\n",
       " 'MT Extra',\n",
       " 'HYPost-Light',\n",
       " 'Magic R',\n",
       " 'Tahoma',\n",
       " 'Bell MT',\n",
       " 'Californian FB',\n",
       " 'Franklin Gothic Medium',\n",
       " 'HyhwpEQ',\n",
       " 'Poor Richard',\n",
       " 'Imprint MT Shadow',\n",
       " 'Franklin Gothic Book',\n",
       " 'Candara',\n",
       " 'Magneto',\n",
       " 'Microsoft New Tai Lue',\n",
       " 'Palatino Linotype',\n",
       " 'Hancom Gothic',\n",
       " 'MoeumT R',\n",
       " 'Garamond',\n",
       " 'Mongolian Baiti',\n",
       " 'Berlin Sans FB',\n",
       " 'Leelawadee UI',\n",
       " 'Gill Sans Ultra Bold',\n",
       " 'Symbol',\n",
       " 'Comic Sans MS',\n",
       " 'Microsoft New Tai Lue',\n",
       " 'Book Antiqua',\n",
       " 'Courier New',\n",
       " 'Bodoni MT',\n",
       " 'Webdings',\n",
       " 'Colonna MT',\n",
       " 'Corbel',\n",
       " 'Bodoni MT',\n",
       " 'Lucida Bright',\n",
       " 'Bauhaus 93',\n",
       " 'Trebuchet MS',\n",
       " 'Cambria',\n",
       " 'Tw Cen MT',\n",
       " 'Edwardian Script ITC',\n",
       " 'Candara',\n",
       " 'Courier New',\n",
       " 'Goudy Old Style',\n",
       " 'Segoe Print',\n",
       " 'Gill Sans MT',\n",
       " 'Segoe UI',\n",
       " 'Bell MT',\n",
       " 'HYPost-Light',\n",
       " 'Yu Gothic',\n",
       " 'Matura MT Script Capitals',\n",
       " 'Times New Roman',\n",
       " 'Bell MT',\n",
       " 'Book Antiqua',\n",
       " 'Modern No. 20',\n",
       " 'HCR Batang Ext',\n",
       " 'Lucida Fax',\n",
       " 'Wingdings 3',\n",
       " 'Leelawadee UI',\n",
       " 'Arial',\n",
       " 'Old English Text MT',\n",
       " 'Franklin Gothic Medium',\n",
       " 'Corbel',\n",
       " 'Perpetua',\n",
       " 'Palace Script MT',\n",
       " 'Microsoft YaHei',\n",
       " 'Centaur',\n",
       " 'Georgia',\n",
       " 'Kunstler Script',\n",
       " 'Consolas',\n",
       " 'Verdana',\n",
       " 'Showcard Gothic',\n",
       " 'Eras Light ITC',\n",
       " 'Niagara Solid',\n",
       " 'Franklin Gothic Demi',\n",
       " 'Kristen ITC',\n",
       " 'Stencil',\n",
       " 'Agency FB',\n",
       " 'HYPost-Medium',\n",
       " 'Candara',\n",
       " 'HCR Batang ExtB',\n",
       " 'HCR Batang',\n",
       " 'Bookman Old Style',\n",
       " 'Wingdings 2',\n",
       " 'Segoe UI Historic',\n",
       " 'Candara',\n",
       " 'OCR A Extended',\n",
       " 'Onyx',\n",
       " 'Palatino Linotype',\n",
       " 'Cambria',\n",
       " 'Yu Gothic',\n",
       " 'Castellar',\n",
       " 'Blackadder ITC',\n",
       " 'Courier New',\n",
       " 'Sitka Small',\n",
       " 'Franklin Gothic Medium Cond',\n",
       " 'Comic Sans MS',\n",
       " 'Garamond',\n",
       " 'Lucida Sans',\n",
       " 'Calibri',\n",
       " 'Segoe Print',\n",
       " 'HYShortSamul-Medium',\n",
       " 'Georgia',\n",
       " 'TeamViewer15',\n",
       " 'Lucida Calligraphy',\n",
       " 'Calibri',\n",
       " 'Arial',\n",
       " 'Blackadder ITC',\n",
       " 'Rockwell',\n",
       " 'Myanmar Text',\n",
       " 'Palatino Linotype',\n",
       " 'Segoe UI Emoji',\n",
       " 'Candara',\n",
       " 'Century Schoolbook',\n",
       " 'Forte',\n",
       " 'Calibri',\n",
       " 'Palace Script MT',\n",
       " 'Lucida Sans',\n",
       " 'Georgia',\n",
       " 'Franklin Gothic Demi Cond',\n",
       " 'Perpetua',\n",
       " 'Century Schoolbook',\n",
       " 'Segoe UI',\n",
       " 'Candara',\n",
       " 'Palatino Linotype',\n",
       " 'Lucida Bright',\n",
       " 'Segoe UI Symbol',\n",
       " 'Cambria',\n",
       " 'Cooper Black',\n",
       " 'Times New Roman',\n",
       " 'Footlight MT Light',\n",
       " 'Webdings',\n",
       " 'Tempus Sans ITC',\n",
       " 'Consolas',\n",
       " 'Trebuchet MS',\n",
       " 'Goudy Old Style',\n",
       " 'Calibri',\n",
       " 'Century',\n",
       " 'Segoe Script',\n",
       " 'HCR Dotum',\n",
       " 'Arial',\n",
       " 'Ebrima',\n",
       " 'Haan Wing2',\n",
       " 'Marlett',\n",
       " 'Candara',\n",
       " 'Calibri',\n",
       " 'Elephant',\n",
       " 'Century Gothic',\n",
       " 'Pyunji R',\n",
       " 'Century Gothic',\n",
       " 'HCR Batang',\n",
       " 'Malgun Gothic',\n",
       " 'Tw Cen MT',\n",
       " 'Lucida Sans Typewriter',\n",
       " 'Bodoni MT',\n",
       " 'HYGraphic-Medium',\n",
       " 'Franklin Gothic Medium',\n",
       " 'HCR Dotum',\n",
       " 'Gabriola',\n",
       " 'Bell MT',\n",
       " 'Cambria',\n",
       " 'Consolas',\n",
       " 'Arial',\n",
       " 'Constantia',\n",
       " 'Segoe UI',\n",
       " 'Gill Sans MT',\n",
       " 'Niagara Engraved',\n",
       " 'Book Antiqua',\n",
       " 'HCR Batang Ext',\n",
       " 'Perpetua',\n",
       " 'Rockwell Condensed',\n",
       " 'Segoe Script',\n",
       " 'Verdana',\n",
       " 'HYHeadLine-Medium',\n",
       " 'Nirmala UI',\n",
       " 'Trebuchet MS',\n",
       " 'Arial',\n",
       " 'Modern No. 20',\n",
       " 'Harlow Solid Italic',\n",
       " 'Candara',\n",
       " 'Bodoni MT',\n",
       " 'MS Gothic',\n",
       " 'Verdana',\n",
       " 'Perpetua Titling MT',\n",
       " 'HYPMokGak-Bold',\n",
       " 'TeamViewer15',\n",
       " 'Informal Roman',\n",
       " 'Pristina',\n",
       " 'Calisto MT',\n",
       " 'Jokerman',\n",
       " 'Imprint MT Shadow',\n",
       " 'Microsoft Yi Baiti',\n",
       " 'Tw Cen MT Condensed',\n",
       " 'Lucida Fax',\n",
       " 'Lucida Handwriting',\n",
       " 'Corbel',\n",
       " 'Poor Richard',\n",
       " 'Calibri']"
      ]
     },
     "execution_count": 31,
     "metadata": {},
     "output_type": "execute_result"
    }
   ],
   "source": [
    "# 폰트 확인하기\n",
    "import matplotlib.font_manager as fm\n",
    "[f.name for f in fm.fontManager.ttflist if '' in f.name]"
   ]
  },
  {
   "cell_type": "markdown",
   "id": "35aa83fa",
   "metadata": {},
   "source": [
    "## 샘플 데이터 \n",
    "* 월별 몸무게 변화<br>\n",
    "어떤 사람이 체중 관리를 위해 월별 몸무게를 기록하고 있음. <br>\n",
    "월별 몸무게 변화를 시각화하고자 함<br>\n",
    "* 1월:80kg, 2월:78kg, 3월:75kg, 4월:73kg, 5월:70kg"
   ]
  },
  {
   "cell_type": "markdown",
   "id": "f1f59979",
   "metadata": {
    "scrolled": true
   },
   "source": [
    "# 데이터프레임 만들기"
   ]
  },
  {
   "cell_type": "code",
   "execution_count": 4,
   "id": "944af0bd",
   "metadata": {},
   "outputs": [],
   "source": [
    "import pandas as pd"
   ]
  },
  {
   "cell_type": "code",
   "execution_count": 5,
   "id": "828fb62b",
   "metadata": {},
   "outputs": [
    {
     "data": {
      "text/html": [
       "<div>\n",
       "<style scoped>\n",
       "    .dataframe tbody tr th:only-of-type {\n",
       "        vertical-align: middle;\n",
       "    }\n",
       "\n",
       "    .dataframe tbody tr th {\n",
       "        vertical-align: top;\n",
       "    }\n",
       "\n",
       "    .dataframe thead th {\n",
       "        text-align: right;\n",
       "    }\n",
       "</style>\n",
       "<table border=\"1\" class=\"dataframe\">\n",
       "  <thead>\n",
       "    <tr style=\"text-align: right;\">\n",
       "      <th></th>\n",
       "      <th>월</th>\n",
       "      <th>몸무게</th>\n",
       "    </tr>\n",
       "  </thead>\n",
       "  <tbody>\n",
       "    <tr>\n",
       "      <th>0</th>\n",
       "      <td>1</td>\n",
       "      <td>80</td>\n",
       "    </tr>\n",
       "    <tr>\n",
       "      <th>1</th>\n",
       "      <td>2</td>\n",
       "      <td>78</td>\n",
       "    </tr>\n",
       "    <tr>\n",
       "      <th>2</th>\n",
       "      <td>3</td>\n",
       "      <td>75</td>\n",
       "    </tr>\n",
       "    <tr>\n",
       "      <th>3</th>\n",
       "      <td>4</td>\n",
       "      <td>73</td>\n",
       "    </tr>\n",
       "    <tr>\n",
       "      <th>4</th>\n",
       "      <td>5</td>\n",
       "      <td>70</td>\n",
       "    </tr>\n",
       "  </tbody>\n",
       "</table>\n",
       "</div>"
      ],
      "text/plain": [
       "   월  몸무게\n",
       "0  1   80\n",
       "1  2   78\n",
       "2  3   75\n",
       "3  4   73\n",
       "4  5   70"
      ]
     },
     "execution_count": 5,
     "metadata": {},
     "output_type": "execute_result"
    }
   ],
   "source": [
    "df = pd.DataFrame({'월':[1,2,3,4,5],'몸무게':[80,78,75,73,70]})\n",
    "df"
   ]
  },
  {
   "cell_type": "markdown",
   "id": "e545a850",
   "metadata": {},
   "source": [
    "## 그래프 그리기"
   ]
  },
  {
   "cell_type": "code",
   "execution_count": 16,
   "id": "2171c8bf",
   "metadata": {
    "scrolled": true
   },
   "outputs": [
    {
     "data": {
      "image/png": "[encoded data removed]",
      "text/plain": [
       "<Figure size 432x288 with 1 Axes>"
      ]
     },
     "metadata": {
      "needs_background": "light"
     },
     "output_type": "display_data"
    }
   ],
   "source": [
    "x = df['월']\n",
    "y = df['몸무게']\n",
    "\n",
    "plt.plot(x,y, 'ro-', mec='b', mfc='b', lw=3, ms=7)\n",
    "plt.show()"
   ]
  },
  {
   "cell_type": "markdown",
   "id": "3c717d13",
   "metadata": {},
   "source": [
    "# 제목\n",
    "* plt.title('제목')\n",
    "* loc : 제목 위치('left','center','right')\n",
    "* pad : 타이틀과 그래프와의 간격\n",
    "* color : 폰트색상\n",
    "* fontsize : 폰트사이즈\n",
    "* fontweight : 폰트굵기('normal','bold','heavy','light','ultrabold','ultralight')\n",
    "* fontfamily : 폰트"
   ]
  },
  {
   "cell_type": "code",
   "execution_count": 34,
   "id": "714c7d6f",
   "metadata": {},
   "outputs": [
    {
     "data": {
      "image/png": "[encoded data removed]",
      "text/plain": [
       "<Figure size 432x288 with 1 Axes>"
      ]
     },
     "metadata": {
      "needs_background": "light"
     },
     "output_type": "display_data"
    }
   ],
   "source": [
    "x = df['월']\n",
    "y = df['몸무게']\n",
    "\n",
    "plt.plot(x,y, 'ro-', mec='b', mfc='b', lw=3, ms=7)\n",
    "plt.title('월별 몸무게변화', loc='left', pad=10, color='r',\n",
    "         fontsize=20, fontweight='bold', fontfamily='Hancom Gothic')\n",
    "plt.show()"
   ]
  },
  {
   "cell_type": "markdown",
   "id": "0c723867",
   "metadata": {},
   "source": [
    "# x축, y축 레이블\n",
    "* plt.xlabel('레이블')     \n",
    "* plt.ylabel('레이블')\n",
    "* loc : 위치('left','center','right' / 'bottom', 'center','top')\n",
    "* labelpad : 레이블과 그래프와의 간격\n",
    "* color : 폰트색상\n",
    "* fontsize : 폰트사이즈\n",
    "* fontfamily : 폰트"
   ]
  },
  {
   "cell_type": "code",
   "execution_count": 42,
   "id": "cabc9728",
   "metadata": {},
   "outputs": [
    {
     "data": {
      "image/png": "[encoded data removed]",
      "text/plain": [
       "<Figure size 432x288 with 1 Axes>"
      ]
     },
     "metadata": {
      "needs_background": "light"
     },
     "output_type": "display_data"
    }
   ],
   "source": [
    "x = df['월']\n",
    "y = df['몸무게']\n",
    "\n",
    "plt.plot(x,y, 'ro-', mec='b', mfc='b', lw=3, ms=7)\n",
    "plt.title('월별 몸무게변화', loc='left', pad=10, color='r',\n",
    "         fontsize=20, fontweight='bold', fontfamily='Hancom Gothic')\n",
    "plt.xlabel('월', loc='right', labelpad=10, color='b', fontsize=12)\n",
    "plt.ylabel('몸무게(kg)', loc='top', labelpad=10, color='b', fontsize=12)\n",
    "plt.show()"
   ]
  },
  {
   "cell_type": "markdown",
   "id": "5d861dd0",
   "metadata": {},
   "source": [
    "# 그리드\n",
    "* plt.grid(True)\n",
    "* axis : 그리드 방향\n",
    "* ls, lw, color, alpha 등의 속성을 지정할 수 있음"
   ]
  },
  {
   "cell_type": "markdown",
   "id": "2fd8aa79",
   "metadata": {},
   "source": [
    "## 기본 그리드\n",
    "* plt.grid()"
   ]
  },
  {
   "cell_type": "code",
   "execution_count": 43,
   "id": "0a4ea5dc",
   "metadata": {
    "scrolled": false
   },
   "outputs": [
    {
     "data": {
      "image/png": "[encoded data removed]",
      "text/plain": [
       "<Figure size 432x288 with 1 Axes>"
      ]
     },
     "metadata": {
      "needs_background": "light"
     },
     "output_type": "display_data"
    }
   ],
   "source": [
    "x = df['월']\n",
    "y = df['몸무게']\n",
    "\n",
    "plt.plot(x,y, 'ro-', mec='b', mfc='b', lw=3, ms=7)\n",
    "plt.title('월별 몸무게변화', loc='left', pad=10, color='r',\n",
    "         fontsize=20, fontweight='bold', fontfamily='Hancom Gothic')\n",
    "plt.xlabel('월', loc='right', labelpad=10, color='b', fontsize=12)\n",
    "plt.ylabel('몸무게(kg)', loc='top', labelpad=10, color='b', fontsize=12)\n",
    "plt.grid()\n",
    "plt.show()"
   ]
  },
  {
   "cell_type": "markdown",
   "id": "d9c51304",
   "metadata": {},
   "source": [
    "## x축 그리드"
   ]
  },
  {
   "cell_type": "code",
   "execution_count": 44,
   "id": "0d6bf04c",
   "metadata": {
    "scrolled": true
   },
   "outputs": [
    {
     "data": {
      "image/png": "[encoded data removed]",
      "text/plain": [
       "<Figure size 432x288 with 1 Axes>"
      ]
     },
     "metadata": {
      "needs_background": "light"
     },
     "output_type": "display_data"
    }
   ],
   "source": [
    "x = df['월']\n",
    "y = df['몸무게']\n",
    "\n",
    "plt.plot(x,y, 'ro-', mec='b', mfc='b', lw=3, ms=7)\n",
    "plt.title('월별 몸무게변화', loc='left', pad=10, color='r',\n",
    "         fontsize=20, fontweight='bold', fontfamily='Hancom Gothic')\n",
    "plt.xlabel('월', loc='right', labelpad=10, color='b', fontsize=12)\n",
    "plt.ylabel('몸무게(kg)', loc='top', labelpad=10, color='b', fontsize=12)\n",
    "plt.grid(axis='x')\n",
    "plt.show()"
   ]
  },
  {
   "cell_type": "markdown",
   "id": "96830bd1",
   "metadata": {},
   "source": [
    "## y축 그리드"
   ]
  },
  {
   "cell_type": "code",
   "execution_count": 45,
   "id": "4a6d53dc",
   "metadata": {
    "scrolled": true
   },
   "outputs": [
    {
     "data": {
      "image/png": "[encoded data removed]",
      "text/plain": [
       "<Figure size 432x288 with 1 Axes>"
      ]
     },
     "metadata": {
      "needs_background": "light"
     },
     "output_type": "display_data"
    }
   ],
   "source": [
    "x = df['월']\n",
    "y = df['몸무게']\n",
    "\n",
    "plt.plot(x,y, 'ro-', mec='b', mfc='b', lw=3, ms=7)\n",
    "plt.title('월별 몸무게변화', loc='left', pad=10, color='r',\n",
    "         fontsize=20, fontweight='bold', fontfamily='Hancom Gothic')\n",
    "plt.xlabel('월', loc='right', labelpad=10, color='b', fontsize=12)\n",
    "plt.ylabel('몸무게(kg)', loc='top', labelpad=10, color='b', fontsize=12)\n",
    "plt.grid(axis='y')\n",
    "plt.show()"
   ]
  },
  {
   "cell_type": "markdown",
   "id": "9712329c",
   "metadata": {},
   "source": [
    "## 그리드 스타일링"
   ]
  },
  {
   "cell_type": "code",
   "execution_count": 48,
   "id": "d54da2d5",
   "metadata": {
    "scrolled": true
   },
   "outputs": [
    {
     "data": {
      "image/png": "[encoded data removed]",
      "text/plain": [
       "<Figure size 432x288 with 1 Axes>"
      ]
     },
     "metadata": {
      "needs_background": "light"
     },
     "output_type": "display_data"
    }
   ],
   "source": [
    "x = df['월']\n",
    "y = df['몸무게']\n",
    "\n",
    "plt.plot(x,y, 'ro-', mec='b', mfc='b', lw=3, ms=7)\n",
    "plt.title('월별 몸무게변화', loc='left', pad=10, color='r',\n",
    "         fontsize=20, fontweight='bold', fontfamily='Hancom Gothic')\n",
    "plt.xlabel('월', loc='right', labelpad=10, color='b', fontsize=12)\n",
    "plt.ylabel('몸무게(kg)', loc='top', labelpad=10, color='b', fontsize=12)\n",
    "plt.grid(color='skyblue', alpha=0.5, ls=':')\n",
    "# alpha : 투명도 , ls : 라인스타일\n",
    "plt.show()"
   ]
  },
  {
   "cell_type": "code",
   "execution_count": null,
   "id": "43a11d60",
   "metadata": {},
   "outputs": [],
   "source": [
    "# 02-3"
   ]
  },
  {
   "cell_type": "markdown",
   "id": "832faca8",
   "metadata": {},
   "source": [
    "[ 학습목표 ]<br> \n",
    "그래프의 가독성을 높이기 위해 축의 범위와 눈금을 설정할 수 있다."
   ]
  },
  {
   "cell_type": "markdown",
   "id": "2b78bbf2",
   "metadata": {},
   "source": [
    "# 라이브러리 임포트 및 그래프 설정"
   ]
  },
  {
   "cell_type": "markdown",
   "id": "83095822",
   "metadata": {},
   "source": [
    "## 라이브러리 임포트\n",
    "* matplotlib의 pyplot 모듈 사용\n",
    "* 관용적으로 plt라는 별칭 사용"
   ]
  },
  {
   "cell_type": "code",
   "execution_count": 49,
   "id": "91a7d0f7",
   "metadata": {},
   "outputs": [],
   "source": [
    "import matplotlib.pyplot as plt"
   ]
  },
  {
   "cell_type": "code",
   "execution_count": 53,
   "id": "8bb042dc",
   "metadata": {},
   "outputs": [],
   "source": [
    "import matplotlib as mpl\n",
    "\n",
    "# 그래프에 마이너스 기호 깨지는 문제 해결\n",
    "mpl.rcParams['axes.unicode_minus'] = False\n",
    "\n",
    "# 그래프에 한글 설정\n",
    "mpl.rcParams['font.family'] = 'Hancom Gothic'"
   ]
  },
  {
   "cell_type": "markdown",
   "id": "effd0a62",
   "metadata": {},
   "source": [
    "## 샘플 데이터 \n",
    "* 월별 몸무게 변화"
   ]
  },
  {
   "cell_type": "code",
   "execution_count": 54,
   "id": "ed8c3a30",
   "metadata": {
    "scrolled": true
   },
   "outputs": [
    {
     "data": {
      "text/html": [
       "<div>\n",
       "<style scoped>\n",
       "    .dataframe tbody tr th:only-of-type {\n",
       "        vertical-align: middle;\n",
       "    }\n",
       "\n",
       "    .dataframe tbody tr th {\n",
       "        vertical-align: top;\n",
       "    }\n",
       "\n",
       "    .dataframe thead th {\n",
       "        text-align: right;\n",
       "    }\n",
       "</style>\n",
       "<table border=\"1\" class=\"dataframe\">\n",
       "  <thead>\n",
       "    <tr style=\"text-align: right;\">\n",
       "      <th></th>\n",
       "      <th>월</th>\n",
       "      <th>몸무게</th>\n",
       "    </tr>\n",
       "  </thead>\n",
       "  <tbody>\n",
       "    <tr>\n",
       "      <th>0</th>\n",
       "      <td>1</td>\n",
       "      <td>80</td>\n",
       "    </tr>\n",
       "    <tr>\n",
       "      <th>1</th>\n",
       "      <td>2</td>\n",
       "      <td>78</td>\n",
       "    </tr>\n",
       "    <tr>\n",
       "      <th>2</th>\n",
       "      <td>3</td>\n",
       "      <td>75</td>\n",
       "    </tr>\n",
       "    <tr>\n",
       "      <th>3</th>\n",
       "      <td>4</td>\n",
       "      <td>73</td>\n",
       "    </tr>\n",
       "    <tr>\n",
       "      <th>4</th>\n",
       "      <td>5</td>\n",
       "      <td>70</td>\n",
       "    </tr>\n",
       "  </tbody>\n",
       "</table>\n",
       "</div>"
      ],
      "text/plain": [
       "   월  몸무게\n",
       "0  1   80\n",
       "1  2   78\n",
       "2  3   75\n",
       "3  4   73\n",
       "4  5   70"
      ]
     },
     "execution_count": 54,
     "metadata": {},
     "output_type": "execute_result"
    }
   ],
   "source": [
    "import pandas as pd\n",
    "df = pd.DataFrame({'월':[1,2,3,4,5],'몸무게':[80,78,75,73,70]})\n",
    "df"
   ]
  },
  {
   "cell_type": "markdown",
   "id": "6dd960bc",
   "metadata": {},
   "source": [
    "## 그래프 그리기"
   ]
  },
  {
   "cell_type": "code",
   "execution_count": 61,
   "id": "ce56bfc7",
   "metadata": {
    "scrolled": true
   },
   "outputs": [
    {
     "data": {
      "image/png": "[encoded data removed]",
      "text/plain": [
       "<Figure size 432x288 with 1 Axes>"
      ]
     },
     "metadata": {
      "needs_background": "light"
     },
     "output_type": "display_data"
    }
   ],
   "source": [
    "x = df['월']\n",
    "y = df['몸무게']\n",
    "plt.plot(x,y,'bo-', mfc='r',mec='r')\n",
    "\n",
    "# title\n",
    "plt.title('월별 몸무게 변화', size=15, color='b', fontweight='bold')\n",
    "\n",
    "# 축 레이블\n",
    "plt.xlabel('월')\n",
    "plt.ylabel('몸무게')\n",
    "\n",
    "# 그리드\n",
    "plt.grid(ls=':')\n",
    "plt.show()"
   ]
  },
  {
   "cell_type": "markdown",
   "id": "81fc61e2",
   "metadata": {},
   "source": [
    "# 축의 범위 지정하기\n",
    "* plt.xlim(min,max)\n",
    "* plt.ylim(min,max)\n"
   ]
  },
  {
   "cell_type": "code",
   "execution_count": 64,
   "id": "5c52e006",
   "metadata": {},
   "outputs": [
    {
     "data": {
      "image/png": "[encoded data removed]",
      "text/plain": [
       "<Figure size 432x288 with 1 Axes>"
      ]
     },
     "metadata": {
      "needs_background": "light"
     },
     "output_type": "display_data"
    }
   ],
   "source": [
    "x = df['월']\n",
    "y = df['몸무게']\n",
    "plt.plot(x,y,'bo-', mfc='r',mec='r')\n",
    "\n",
    "# title\n",
    "plt.title('월별 몸무게 변화', size=15, color='b', fontweight='bold')\n",
    "\n",
    "# 축 레이블\n",
    "plt.xlabel('월')\n",
    "plt.ylabel('몸무게')\n",
    "\n",
    "# 축의 범위 지정  # 틱 설정으로 더 자세하게 표현 가능\n",
    "plt.xlim(1,12)\n",
    "plt.ylim(0,100)\n",
    "\n",
    "# 그리드\n",
    "plt.grid(ls=':')\n",
    "\n",
    "plt.show()"
   ]
  },
  {
   "cell_type": "markdown",
   "id": "152b2f70",
   "metadata": {},
   "source": [
    "# 틱 설정\n",
    "* x축, y축 눈금을 틱(tick)이라고 한다.\n",
    "\n",
    "* 틱의 갯수, 레이블, 스타일을 변경할 수 있다."
   ]
  },
  {
   "cell_type": "markdown",
   "id": "3e2b7e2e",
   "metadata": {},
   "source": [
    "## 틱 지정\n",
    "\n",
    "* plt.xticks(틱리스트)\n",
    "* plt.yticks(틱리스트)"
   ]
  },
  {
   "cell_type": "code",
   "execution_count": 67,
   "id": "4a48d1e5",
   "metadata": {},
   "outputs": [
    {
     "data": {
      "image/png": "[encoded data removed]",
      "text/plain": [
       "<Figure size 432x288 with 1 Axes>"
      ]
     },
     "metadata": {
      "needs_background": "light"
     },
     "output_type": "display_data"
    }
   ],
   "source": [
    "# x축 : 0,1,2,3,4,5,6,7,8,9,10,11,12,13\n",
    "# y축 : 0,10,20,30,40,50,60,70,80,90,100\n",
    "\n",
    "x = df['월']\n",
    "y = df['몸무게']\n",
    "plt.plot(x,y,'bo-', mfc='r',mec='r')\n",
    "\n",
    "# title\n",
    "plt.title('월별 몸무게 변화', size=15, color='b', fontweight='bold')\n",
    "\n",
    "# 축 레이블\n",
    "plt.xlabel('월')\n",
    "plt.ylabel('몸무게')\n",
    "\n",
    "# 틱 지정\n",
    "# plt.xticks([0,1,2,3,4,5,6,7,8,9,10,11,12,13])\n",
    "# plt.yticks([0,10,20,30,40,50,60,70,80,90,100])\n",
    "plt.xticks(range(0,14,1))\n",
    "plt.yticks(range(0,110,10))\n",
    "\n",
    "# 그리드\n",
    "plt.grid(ls=':')\n",
    "plt.show()"
   ]
  },
  {
   "cell_type": "markdown",
   "id": "63e543c8",
   "metadata": {},
   "source": [
    "## 틱 레이블 지정\n",
    "* plt.xticks(눈금리스트, labels = 레이블리스트)\n",
    "* plt.yticks(눈금리스트, labels = 레이블리스트)\n",
    "* 눈금의 개수와 동일한 개수의 레이블을 지정한다."
   ]
  },
  {
   "cell_type": "code",
   "execution_count": 74,
   "id": "a04cfd15",
   "metadata": {},
   "outputs": [
    {
     "data": {
      "image/png": "[encoded data removed]",
      "text/plain": [
       "<Figure size 432x288 with 1 Axes>"
      ]
     },
     "metadata": {
      "needs_background": "light"
     },
     "output_type": "display_data"
    }
   ],
   "source": [
    "# x축 : 0,1,2,3,4,5,6,7,8,9,10,11,12,13\n",
    "# y축 : 0,10,20,30,40,50,60,70,80,90,100\n",
    "\n",
    "xticks_lable = ['','1월','2월','3월','4월','5월','6월','7월','8월','9월','10월','11월','12월','']\n",
    "yticks_lable = ['0kg','10kg','20kg','30kg','40kg','50kg','60kg','70kg','80kg','90kg','100kg']\n",
    "\n",
    "x = df['월']\n",
    "y = df['몸무게']\n",
    "plt.plot(x,y,'bo-', mfc='r',mec='r')\n",
    "\n",
    "# title\n",
    "plt.title('월별 몸무게 변화', size=15, color='b', fontweight='bold')\n",
    "\n",
    "# 축 레이블\n",
    "plt.xlabel('월')\n",
    "plt.ylabel('몸무게(kg)')\n",
    "\n",
    "# 틱 지정\n",
    "plt.xticks(range(0,14,1), labels=xticks_lable)\n",
    "plt.yticks(range(0,110,10), labels=yticks_lable)\n",
    "\n",
    "# 그리드\n",
    "plt.grid(ls=':')\n",
    "plt.show()"
   ]
  },
  {
   "cell_type": "markdown",
   "id": "6af3fe35",
   "metadata": {},
   "source": [
    "## 틱 스타일 지정\n",
    "* plt.tick_params( )\n",
    "* direction : 틱 위치 (in, out, inout)\n",
    "* length : 틱의 길이\n",
    "* width : 틱의 두께\n",
    "* color : 틱 색상\n",
    "* labelcolor : 틱 레이블 색상\n",
    "* colors : 틱과 틱 레이블 색상\n",
    "* pad : 틱과 레이블 사이의 거리\n",
    "* labelsize : 틱 레이블 사이즈\n",
    "* axis : 축 지정"
   ]
  },
  {
   "cell_type": "code",
   "execution_count": 88,
   "id": "59a2c07b",
   "metadata": {
    "scrolled": false
   },
   "outputs": [
    {
     "data": {
      "image/png": "[encoded data removed]",
      "text/plain": [
       "<Figure size 432x288 with 1 Axes>"
      ]
     },
     "metadata": {
      "needs_background": "light"
     },
     "output_type": "display_data"
    }
   ],
   "source": [
    "xticks_lable = ['','1월','2월','3월','4월','5월','6월','7월','8월','9월','10월','11월','12월','']\n",
    "yticks_lable = ['0kg','10kg','20kg','30kg','40kg','50kg','60kg','70kg','80kg','90kg','100kg']\n",
    "\n",
    "x = df['월']\n",
    "y = df['몸무게']\n",
    "plt.plot(x,y,'bo-', mfc='r',mec='r')\n",
    "\n",
    "# title\n",
    "plt.title('월별 몸무게 변화', size=15, color='b', fontweight='bold')\n",
    "\n",
    "# 축 레이블\n",
    "plt.xlabel('월')\n",
    "plt.ylabel('몸무게(kg)')\n",
    "\n",
    "# 틱 지정\n",
    "plt.xticks(range(0,14,1), labels=xticks_lable)\n",
    "plt.yticks(range(0,110,10), labels=yticks_lable)\n",
    "\n",
    "# plt.tick_params(direction='inout', length=10, width=2, color='g', labelcolor='m')\n",
    "plt.tick_params(axis='x', direction='inout', length=10, width=2, colors='g', labelsize=12)\n",
    "plt.tick_params(axis='y', direction='inout', length=10, width=2, colors='r', labelsize=12)\n",
    "# 그리드\n",
    "plt.grid(ls=':')\n",
    "plt.show()"
   ]
  },
  {
   "cell_type": "code",
   "execution_count": null,
   "id": "fdf81bbb",
   "metadata": {},
   "outputs": [],
   "source": []
  }
 ],
 "metadata": {
  "kernelspec": {
   "display_name": "Python 3 (ipykernel)",
   "language": "python",
   "name": "python3"
  },
  "language_info": {
   "codemirror_mode": {
    "name": "ipython",
    "version": 3
   },
   "file_extension": ".py",
   "mimetype": "text/x-python",
   "name": "python",
   "nbconvert_exporter": "python",
   "pygments_lexer": "ipython3",
   "version": "3.9.12"
  },
  "toc": {
   "base_numbering": 1,
   "nav_menu": {},
   "number_sections": true,
   "sideBar": true,
   "skip_h1_title": false,
   "title_cell": "Table of Contents",
   "title_sidebar": "Contents",
   "toc_cell": false,
   "toc_position": {
    "height": "calc(100% - 180px)",
    "left": "10px",
    "top": "150px",
    "width": "245.76px"
   },
   "toc_section_display": true,
   "toc_window_display": true
  }
 },
 "nbformat": 4,
 "nbformat_minor": 5
}
