{
 "cells": [
  {
   "cell_type": "code",
   "execution_count": null,
   "id": "30578f97",
   "metadata": {},
   "outputs": [],
   "source": [
    "import pandas as pd\n",
    "import matplotlib.pyplot as plt\n",
    "import seaborn as sns"
   ]
  },
  {
   "cell_type": "code",
   "execution_count": null,
   "id": "0861f8d2",
   "metadata": {},
   "outputs": [],
   "source": [
    "plt.rcParams['font.family']='Malgun Gothic'\n",
    "plt.rcParams['axes.unicode_minus']=False"
   ]
  },
  {
   "cell_type": "markdown",
   "id": "daa7b959",
   "metadata": {},
   "source": [
    "# 데이터 수집 및 전처리"
   ]
  },
  {
   "cell_type": "markdown",
   "id": "bd5a3d28",
   "metadata": {},
   "source": [
    "## 데이터 수집\n",
    "* 국토교통부 실거래가 공개시스템<br>\n",
    "http://rtdown.molit.go.kr/"
   ]
  },
  {
   "cell_type": "code",
   "execution_count": null,
   "id": "4ba82a2e",
   "metadata": {},
   "outputs": [],
   "source": []
  },
  {
   "cell_type": "markdown",
   "id": "45e4260f",
   "metadata": {},
   "source": [
    "## 데이터 전처리"
   ]
  },
  {
   "cell_type": "markdown",
   "id": "40572b26",
   "metadata": {},
   "source": [
    "### 해제사유 발생일\n",
    "* 해제사유 발생일 : 계약이 해지된 건에 대한 해지일"
   ]
  },
  {
   "cell_type": "code",
   "execution_count": null,
   "id": "e8bc4243",
   "metadata": {},
   "outputs": [],
   "source": [
    "# 해제사유 발생일이 존재하는 데이터 삭제"
   ]
  },
  {
   "cell_type": "code",
   "execution_count": null,
   "id": "bafbba9b",
   "metadata": {},
   "outputs": [],
   "source": []
  },
  {
   "cell_type": "markdown",
   "id": "af415937",
   "metadata": {},
   "source": [
    "### 사용할 컬럼만 추출\n",
    "* 시군구, 전용면적(㎡), 거래금액(만원)"
   ]
  },
  {
   "cell_type": "code",
   "execution_count": null,
   "id": "e45c7c5e",
   "metadata": {},
   "outputs": [],
   "source": []
  },
  {
   "cell_type": "markdown",
   "id": "e3292658",
   "metadata": {},
   "source": [
    "### 자료형 확인 및 변경"
   ]
  },
  {
   "cell_type": "code",
   "execution_count": null,
   "id": "a0728a3e",
   "metadata": {
    "scrolled": true
   },
   "outputs": [],
   "source": []
  },
  {
   "cell_type": "code",
   "execution_count": null,
   "id": "07a92c19",
   "metadata": {},
   "outputs": [],
   "source": [
    "# 전용면적 : int(소수점 무시)"
   ]
  },
  {
   "cell_type": "code",
   "execution_count": null,
   "id": "5c8b0d90",
   "metadata": {},
   "outputs": [],
   "source": [
    "# 거래금액 : int"
   ]
  },
  {
   "cell_type": "code",
   "execution_count": null,
   "id": "a09cdfa3",
   "metadata": {
    "scrolled": false
   },
   "outputs": [],
   "source": []
  },
  {
   "cell_type": "markdown",
   "id": "88d6b30c",
   "metadata": {},
   "source": [
    "# 시도별 아파트 매매가 데이터 추출"
   ]
  },
  {
   "cell_type": "markdown",
   "id": "f140d82a",
   "metadata": {},
   "source": [
    "## 시도 컬럼 추가"
   ]
  },
  {
   "cell_type": "code",
   "execution_count": null,
   "id": "adca547e",
   "metadata": {},
   "outputs": [],
   "source": []
  },
  {
   "cell_type": "code",
   "execution_count": null,
   "id": "ca54912b",
   "metadata": {},
   "outputs": [],
   "source": []
  },
  {
   "cell_type": "code",
   "execution_count": null,
   "id": "08935355",
   "metadata": {},
   "outputs": [],
   "source": []
  },
  {
   "cell_type": "markdown",
   "id": "357eff2b",
   "metadata": {},
   "source": [
    "## 분석할 전용면적 선택"
   ]
  },
  {
   "cell_type": "code",
   "execution_count": null,
   "id": "5c60dd54",
   "metadata": {},
   "outputs": [],
   "source": []
  },
  {
   "cell_type": "markdown",
   "id": "f7f60906",
   "metadata": {},
   "source": [
    "## 분석할 전용면적 서브셋"
   ]
  },
  {
   "cell_type": "code",
   "execution_count": null,
   "id": "29e30265",
   "metadata": {},
   "outputs": [],
   "source": []
  },
  {
   "cell_type": "markdown",
   "id": "17d7f62c",
   "metadata": {},
   "source": [
    "## 시도별 평균, 최대, 최소, 중간값 추출"
   ]
  },
  {
   "cell_type": "code",
   "execution_count": null,
   "id": "de196f41",
   "metadata": {},
   "outputs": [],
   "source": []
  },
  {
   "cell_type": "code",
   "execution_count": null,
   "id": "5f67ebb5",
   "metadata": {},
   "outputs": [],
   "source": []
  },
  {
   "cell_type": "code",
   "execution_count": null,
   "id": "813781d6",
   "metadata": {},
   "outputs": [],
   "source": []
  },
  {
   "cell_type": "code",
   "execution_count": null,
   "id": "fdac2654",
   "metadata": {},
   "outputs": [],
   "source": []
  },
  {
   "cell_type": "code",
   "execution_count": null,
   "id": "f679e36d",
   "metadata": {},
   "outputs": [],
   "source": []
  },
  {
   "cell_type": "code",
   "execution_count": null,
   "id": "e0d064e2",
   "metadata": {},
   "outputs": [],
   "source": []
  },
  {
   "cell_type": "code",
   "execution_count": null,
   "id": "f255c4d6",
   "metadata": {},
   "outputs": [],
   "source": []
  },
  {
   "cell_type": "code",
   "execution_count": null,
   "id": "0d50ed6e",
   "metadata": {
    "scrolled": false
   },
   "outputs": [],
   "source": []
  },
  {
   "cell_type": "markdown",
   "id": "0cc5d74d",
   "metadata": {},
   "source": [
    "# 시도별 아파트 매매가 현황 시각화\n",
    "* 다중막대그래프"
   ]
  },
  {
   "cell_type": "code",
   "execution_count": null,
   "id": "67fc78cc",
   "metadata": {},
   "outputs": [],
   "source": []
  },
  {
   "cell_type": "code",
   "execution_count": null,
   "id": "53b7f198",
   "metadata": {
    "scrolled": false
   },
   "outputs": [],
   "source": []
  },
  {
   "cell_type": "markdown",
   "id": "7138fc5d",
   "metadata": {},
   "source": [
    "# 서울시 아파트 매매가 분포"
   ]
  },
  {
   "cell_type": "markdown",
   "id": "b63a6fc3",
   "metadata": {},
   "source": [
    "## 서울시 서브셋"
   ]
  },
  {
   "cell_type": "code",
   "execution_count": null,
   "id": "f4297687",
   "metadata": {
    "scrolled": false
   },
   "outputs": [],
   "source": []
  },
  {
   "cell_type": "markdown",
   "id": "82ca00d6",
   "metadata": {},
   "source": [
    "## 구 컬럼 추가"
   ]
  },
  {
   "cell_type": "code",
   "execution_count": null,
   "id": "23d3bf1d",
   "metadata": {
    "scrolled": false
   },
   "outputs": [],
   "source": []
  },
  {
   "cell_type": "code",
   "execution_count": null,
   "id": "cc14c863",
   "metadata": {
    "scrolled": true
   },
   "outputs": [],
   "source": []
  },
  {
   "cell_type": "code",
   "execution_count": null,
   "id": "a7b84846",
   "metadata": {},
   "outputs": [],
   "source": []
  },
  {
   "cell_type": "markdown",
   "id": "cc5656c4",
   "metadata": {},
   "source": [
    "## 박스플롯으로 시각화"
   ]
  },
  {
   "cell_type": "markdown",
   "id": "1762e65f",
   "metadata": {},
   "source": [
    "### 구별 데이터 분리"
   ]
  },
  {
   "cell_type": "code",
   "execution_count": null,
   "id": "3863ca87",
   "metadata": {},
   "outputs": [],
   "source": [
    "# 구이름"
   ]
  },
  {
   "cell_type": "code",
   "execution_count": null,
   "id": "eeb46553",
   "metadata": {},
   "outputs": [],
   "source": []
  },
  {
   "cell_type": "markdown",
   "id": "4ea0530c",
   "metadata": {},
   "source": [
    "### 박스플롯으로 시각화"
   ]
  },
  {
   "cell_type": "code",
   "execution_count": null,
   "id": "cc28c689",
   "metadata": {
    "scrolled": true
   },
   "outputs": [],
   "source": []
  },
  {
   "cell_type": "markdown",
   "id": "77e812e8",
   "metadata": {},
   "source": [
    "# 서울시 아파트 구별 평균 매매가, 거래건수"
   ]
  },
  {
   "cell_type": "markdown",
   "id": "f1935601",
   "metadata": {},
   "source": [
    "## 서울시 아파트 구별 평균 매매가"
   ]
  },
  {
   "cell_type": "code",
   "execution_count": null,
   "id": "3ff1c7bd",
   "metadata": {},
   "outputs": [],
   "source": []
  },
  {
   "cell_type": "markdown",
   "id": "89903079",
   "metadata": {},
   "source": [
    "## 서울시 아파트 구별 거래건수"
   ]
  },
  {
   "cell_type": "code",
   "execution_count": null,
   "id": "4e260e77",
   "metadata": {
    "scrolled": false
   },
   "outputs": [],
   "source": []
  },
  {
   "cell_type": "code",
   "execution_count": null,
   "id": "a7083eb2",
   "metadata": {
    "scrolled": false
   },
   "outputs": [],
   "source": []
  },
  {
   "cell_type": "code",
   "execution_count": null,
   "id": "e2d7541c",
   "metadata": {
    "scrolled": false
   },
   "outputs": [],
   "source": []
  },
  {
   "cell_type": "code",
   "execution_count": null,
   "id": "ea956db2",
   "metadata": {
    "scrolled": false
   },
   "outputs": [],
   "source": []
  }
 ],
 "metadata": {
  "kernelspec": {
   "display_name": "Python 3",
   "language": "python",
   "name": "python3"
  },
  "language_info": {
   "codemirror_mode": {
    "name": "ipython",
    "version": 3
   },
   "file_extension": ".py",
   "mimetype": "text/x-python",
   "name": "python",
   "nbconvert_exporter": "python",
   "pygments_lexer": "ipython3",
   "version": "3.8.8"
  },
  "toc": {
   "base_numbering": 1,
   "nav_menu": {},
   "number_sections": true,
   "sideBar": true,
   "skip_h1_title": false,
   "title_cell": "Table of Contents",
   "title_sidebar": "Contents",
   "toc_cell": false,
   "toc_position": {
    "height": "calc(100% - 180px)",
    "left": "10px",
    "top": "150px",
    "width": "190px"
   },
   "toc_section_display": true,
   "toc_window_display": true
  }
 },
 "nbformat": 4,
 "nbformat_minor": 5
}
