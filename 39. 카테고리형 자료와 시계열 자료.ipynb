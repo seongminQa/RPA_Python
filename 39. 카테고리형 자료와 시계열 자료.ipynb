{
 "cells": [
  {
   "cell_type": "code",
   "execution_count": 1,
   "id": "342dc759",
   "metadata": {},
   "outputs": [],
   "source": [
    "# 카테고리형 자료에서 카테고리를 관리\n",
    "# cf) 성별 = [남자,여자] / 혈액형 = [A,B,O,AB] 등등..\n",
    "# -> 이러한 경우 '문자열'자료형으로 관리하는 것 보다 '카테고리형'으로 관리하는것이\n",
    "#    용량과 속도면에서 더 효율적으로 관리가 가능하다."
   ]
  },
  {
   "cell_type": "code",
   "execution_count": 2,
   "id": "16f2891a",
   "metadata": {},
   "outputs": [],
   "source": [
    "# 컬럼.astype('category') -> 카테고리형으로 변환하기\n",
    "# 컬럼.cat.categories = 카테고리리스트 -> 카테고리 이름 바꾸기\n",
    "# 컬럼.cat.set_categories(카테고리리스트) -> 카테고리 추가하기"
   ]
  },
  {
   "cell_type": "markdown",
   "id": "e10f1342",
   "metadata": {},
   "source": [
    "# 데이터 준비/확인\n",
    "- 평균점수에 따른 등급을 카테고리형 자료로 다루기 위해 평균점수에 따른 등급컬럼 추가하기  "
   ]
  },
  {
   "cell_type": "code",
   "execution_count": 3,
   "id": "d1f11487",
   "metadata": {},
   "outputs": [
    {
     "data": {
      "text/html": [
       "<div>\n",
       "<style scoped>\n",
       "    .dataframe tbody tr th:only-of-type {\n",
       "        vertical-align: middle;\n",
       "    }\n",
       "\n",
       "    .dataframe tbody tr th {\n",
       "        vertical-align: top;\n",
       "    }\n",
       "\n",
       "    .dataframe thead th {\n",
       "        text-align: right;\n",
       "    }\n",
       "</style>\n",
       "<table border=\"1\" class=\"dataframe\">\n",
       "  <thead>\n",
       "    <tr style=\"text-align: right;\">\n",
       "      <th></th>\n",
       "      <th>name</th>\n",
       "      <th>kor</th>\n",
       "      <th>eng</th>\n",
       "      <th>math</th>\n",
       "    </tr>\n",
       "  </thead>\n",
       "  <tbody>\n",
       "    <tr>\n",
       "      <th>0</th>\n",
       "      <td>Aiden</td>\n",
       "      <td>100.0</td>\n",
       "      <td>90.0</td>\n",
       "      <td>95.0</td>\n",
       "    </tr>\n",
       "    <tr>\n",
       "      <th>1</th>\n",
       "      <td>Charles</td>\n",
       "      <td>90.0</td>\n",
       "      <td>80.0</td>\n",
       "      <td>75.0</td>\n",
       "    </tr>\n",
       "    <tr>\n",
       "      <th>2</th>\n",
       "      <td>Danial</td>\n",
       "      <td>95.0</td>\n",
       "      <td>100.0</td>\n",
       "      <td>100.0</td>\n",
       "    </tr>\n",
       "  </tbody>\n",
       "</table>\n",
       "</div>"
      ],
      "text/plain": [
       "      name    kor    eng   math\n",
       "0    Aiden  100.0   90.0   95.0\n",
       "1  Charles   90.0   80.0   75.0\n",
       "2   Danial   95.0  100.0  100.0"
      ]
     },
     "execution_count": 3,
     "metadata": {},
     "output_type": "execute_result"
    }
   ],
   "source": [
    "import pandas as pd\n",
    "df = pd.read_csv('data/scores.csv')\n",
    "df.head(3)"
   ]
  },
  {
   "cell_type": "markdown",
   "id": "9043596a",
   "metadata": {},
   "source": [
    "## 결측치 확인/처리하기\n",
    "- 결측치는 0으로 대치"
   ]
  },
  {
   "cell_type": "code",
   "execution_count": 5,
   "id": "2074a4ee",
   "metadata": {},
   "outputs": [
    {
     "name": "stdout",
     "output_type": "stream",
     "text": [
      "<class 'pandas.core.frame.DataFrame'>\n",
      "RangeIndex: 30 entries, 0 to 29\n",
      "Data columns (total 4 columns):\n",
      " #   Column  Non-Null Count  Dtype  \n",
      "---  ------  --------------  -----  \n",
      " 0   name    30 non-null     object \n",
      " 1   kor     27 non-null     float64\n",
      " 2   eng     28 non-null     float64\n",
      " 3   math    29 non-null     float64\n",
      "dtypes: float64(3), object(1)\n",
      "memory usage: 1.1+ KB\n"
     ]
    }
   ],
   "source": [
    "# 결측치 확인하기 (info)\n",
    "df.info()"
   ]
  },
  {
   "cell_type": "code",
   "execution_count": 6,
   "id": "f5128129",
   "metadata": {},
   "outputs": [],
   "source": [
    "# 결측치가 있는 행 삭제하기\n",
    "df.dropna(inplace = True)"
   ]
  },
  {
   "cell_type": "code",
   "execution_count": 7,
   "id": "e445b135",
   "metadata": {},
   "outputs": [
    {
     "data": {
      "text/plain": [
       "name    0\n",
       "kor     0\n",
       "eng     0\n",
       "math    0\n",
       "dtype: int64"
      ]
     },
     "execution_count": 7,
     "metadata": {},
     "output_type": "execute_result"
    }
   ],
   "source": [
    "# 결측치 확인(isnull)\n",
    "df.isnull().sum()"
   ]
  },
  {
   "cell_type": "markdown",
   "id": "acc6b09d",
   "metadata": {},
   "source": [
    "## 평균 점수 컬럼 추가하기\n",
    "- 등급을 매기기 위한 평균점수 컬럼 추가"
   ]
  },
  {
   "cell_type": "code",
   "execution_count": 11,
   "id": "796b52c0",
   "metadata": {},
   "outputs": [
    {
     "data": {
      "text/html": [
       "<div>\n",
       "<style scoped>\n",
       "    .dataframe tbody tr th:only-of-type {\n",
       "        vertical-align: middle;\n",
       "    }\n",
       "\n",
       "    .dataframe tbody tr th {\n",
       "        vertical-align: top;\n",
       "    }\n",
       "\n",
       "    .dataframe thead th {\n",
       "        text-align: right;\n",
       "    }\n",
       "</style>\n",
       "<table border=\"1\" class=\"dataframe\">\n",
       "  <thead>\n",
       "    <tr style=\"text-align: right;\">\n",
       "      <th></th>\n",
       "      <th>name</th>\n",
       "      <th>kor</th>\n",
       "      <th>eng</th>\n",
       "      <th>math</th>\n",
       "      <th>average</th>\n",
       "    </tr>\n",
       "  </thead>\n",
       "  <tbody>\n",
       "    <tr>\n",
       "      <th>0</th>\n",
       "      <td>Aiden</td>\n",
       "      <td>100.0</td>\n",
       "      <td>90.0</td>\n",
       "      <td>95.0</td>\n",
       "      <td>95.0</td>\n",
       "    </tr>\n",
       "    <tr>\n",
       "      <th>1</th>\n",
       "      <td>Charles</td>\n",
       "      <td>90.0</td>\n",
       "      <td>80.0</td>\n",
       "      <td>75.0</td>\n",
       "      <td>81.7</td>\n",
       "    </tr>\n",
       "    <tr>\n",
       "      <th>2</th>\n",
       "      <td>Danial</td>\n",
       "      <td>95.0</td>\n",
       "      <td>100.0</td>\n",
       "      <td>100.0</td>\n",
       "      <td>98.3</td>\n",
       "    </tr>\n",
       "  </tbody>\n",
       "</table>\n",
       "</div>"
      ],
      "text/plain": [
       "      name    kor    eng   math  average\n",
       "0    Aiden  100.0   90.0   95.0     95.0\n",
       "1  Charles   90.0   80.0   75.0     81.7\n",
       "2   Danial   95.0  100.0  100.0     98.3"
      ]
     },
     "execution_count": 11,
     "metadata": {},
     "output_type": "execute_result"
    }
   ],
   "source": [
    "df['average'] = round((df.kor+df.eng+df.math)/3,1)\n",
    "df.head(3)"
   ]
  },
  {
   "cell_type": "markdown",
   "id": "b9608c9c",
   "metadata": {},
   "source": [
    "## 평균점수에 따른 등급 컬럼 추가\n",
    "- 컬럼.apply(함수)"
   ]
  },
  {
   "cell_type": "code",
   "execution_count": 15,
   "id": "44f8772a",
   "metadata": {},
   "outputs": [
    {
     "data": {
      "text/html": [
       "<div>\n",
       "<style scoped>\n",
       "    .dataframe tbody tr th:only-of-type {\n",
       "        vertical-align: middle;\n",
       "    }\n",
       "\n",
       "    .dataframe tbody tr th {\n",
       "        vertical-align: top;\n",
       "    }\n",
       "\n",
       "    .dataframe thead th {\n",
       "        text-align: right;\n",
       "    }\n",
       "</style>\n",
       "<table border=\"1\" class=\"dataframe\">\n",
       "  <thead>\n",
       "    <tr style=\"text-align: right;\">\n",
       "      <th></th>\n",
       "      <th>name</th>\n",
       "      <th>kor</th>\n",
       "      <th>eng</th>\n",
       "      <th>math</th>\n",
       "      <th>average</th>\n",
       "      <th>grade</th>\n",
       "    </tr>\n",
       "  </thead>\n",
       "  <tbody>\n",
       "    <tr>\n",
       "      <th>0</th>\n",
       "      <td>Aiden</td>\n",
       "      <td>100.0</td>\n",
       "      <td>90.0</td>\n",
       "      <td>95.0</td>\n",
       "      <td>95.0</td>\n",
       "      <td>1</td>\n",
       "    </tr>\n",
       "  </tbody>\n",
       "</table>\n",
       "</div>"
      ],
      "text/plain": [
       "    name    kor   eng  math  average  grade\n",
       "0  Aiden  100.0  90.0  95.0     95.0      1"
      ]
     },
     "execution_count": 15,
     "metadata": {},
     "output_type": "execute_result"
    }
   ],
   "source": [
    "def get_grade(x):\n",
    "    if x>=90:\n",
    "        return 1\n",
    "    elif x>=80:\n",
    "        return 2\n",
    "    elif x>=70:\n",
    "        return 3\n",
    "    elif x>=60:\n",
    "        return 4\n",
    "    else:\n",
    "        return 5\n",
    "    \n",
    "df['grade'] = df['average'].apply(get_grade)\n",
    "df.head(1)"
   ]
  },
  {
   "cell_type": "markdown",
   "id": "c518b457",
   "metadata": {},
   "source": [
    "# 카테고리형으로 변환하기\n",
    "* 등급컬럼(grade)을 카테고리형 자료형으로 변환하기"
   ]
  },
  {
   "cell_type": "code",
   "execution_count": 16,
   "id": "157323ef",
   "metadata": {},
   "outputs": [
    {
     "data": {
      "text/plain": [
       "name        object\n",
       "kor        float64\n",
       "eng        float64\n",
       "math       float64\n",
       "average    float64\n",
       "grade        int64\n",
       "dtype: object"
      ]
     },
     "execution_count": 16,
     "metadata": {},
     "output_type": "execute_result"
    }
   ],
   "source": [
    "# 자료형 확인하기\n",
    "df.dtypes"
   ]
  },
  {
   "cell_type": "code",
   "execution_count": 19,
   "id": "ed7978b5",
   "metadata": {},
   "outputs": [],
   "source": [
    "# 자료형 변환하기\n",
    "df['grade'] = df['grade'].astype('category')"
   ]
  },
  {
   "cell_type": "code",
   "execution_count": 20,
   "id": "1399ee15",
   "metadata": {},
   "outputs": [
    {
     "data": {
      "text/plain": [
       "name         object\n",
       "kor         float64\n",
       "eng         float64\n",
       "math        float64\n",
       "average     float64\n",
       "grade      category\n",
       "dtype: object"
      ]
     },
     "execution_count": 20,
     "metadata": {},
     "output_type": "execute_result"
    }
   ],
   "source": [
    "df.dtypes"
   ]
  },
  {
   "cell_type": "code",
   "execution_count": 21,
   "id": "8960812e",
   "metadata": {},
   "outputs": [
    {
     "data": {
      "text/plain": [
       "CategoricalDtype(categories=[1, 2, 3, 4], ordered=False)"
      ]
     },
     "execution_count": 21,
     "metadata": {},
     "output_type": "execute_result"
    }
   ],
   "source": [
    "df['grade'].dtype"
   ]
  },
  {
   "cell_type": "markdown",
   "id": "29264310",
   "metadata": {},
   "source": [
    "# 카테고리 이름 바꾸기\n",
    "- 컬럼.cat.categories = 카테고리리스트"
   ]
  },
  {
   "cell_type": "code",
   "execution_count": 22,
   "id": "e26b8d5c",
   "metadata": {},
   "outputs": [],
   "source": [
    "df['grade'].cat.categories = ['A','B','C','D'] # [1,2,3,4] 가 순서대로 변경됨"
   ]
  },
  {
   "cell_type": "code",
   "execution_count": 23,
   "id": "f0f021c2",
   "metadata": {},
   "outputs": [
    {
     "data": {
      "text/html": [
       "<div>\n",
       "<style scoped>\n",
       "    .dataframe tbody tr th:only-of-type {\n",
       "        vertical-align: middle;\n",
       "    }\n",
       "\n",
       "    .dataframe tbody tr th {\n",
       "        vertical-align: top;\n",
       "    }\n",
       "\n",
       "    .dataframe thead th {\n",
       "        text-align: right;\n",
       "    }\n",
       "</style>\n",
       "<table border=\"1\" class=\"dataframe\">\n",
       "  <thead>\n",
       "    <tr style=\"text-align: right;\">\n",
       "      <th></th>\n",
       "      <th>name</th>\n",
       "      <th>kor</th>\n",
       "      <th>eng</th>\n",
       "      <th>math</th>\n",
       "      <th>average</th>\n",
       "      <th>grade</th>\n",
       "    </tr>\n",
       "  </thead>\n",
       "  <tbody>\n",
       "    <tr>\n",
       "      <th>0</th>\n",
       "      <td>Aiden</td>\n",
       "      <td>100.0</td>\n",
       "      <td>90.0</td>\n",
       "      <td>95.0</td>\n",
       "      <td>95.0</td>\n",
       "      <td>A</td>\n",
       "    </tr>\n",
       "    <tr>\n",
       "      <th>1</th>\n",
       "      <td>Charles</td>\n",
       "      <td>90.0</td>\n",
       "      <td>80.0</td>\n",
       "      <td>75.0</td>\n",
       "      <td>81.7</td>\n",
       "      <td>B</td>\n",
       "    </tr>\n",
       "    <tr>\n",
       "      <th>2</th>\n",
       "      <td>Danial</td>\n",
       "      <td>95.0</td>\n",
       "      <td>100.0</td>\n",
       "      <td>100.0</td>\n",
       "      <td>98.3</td>\n",
       "      <td>A</td>\n",
       "    </tr>\n",
       "    <tr>\n",
       "      <th>3</th>\n",
       "      <td>Evan</td>\n",
       "      <td>100.0</td>\n",
       "      <td>100.0</td>\n",
       "      <td>100.0</td>\n",
       "      <td>100.0</td>\n",
       "      <td>A</td>\n",
       "    </tr>\n",
       "    <tr>\n",
       "      <th>5</th>\n",
       "      <td>Ian</td>\n",
       "      <td>90.0</td>\n",
       "      <td>100.0</td>\n",
       "      <td>90.0</td>\n",
       "      <td>93.3</td>\n",
       "      <td>A</td>\n",
       "    </tr>\n",
       "  </tbody>\n",
       "</table>\n",
       "</div>"
      ],
      "text/plain": [
       "      name    kor    eng   math  average grade\n",
       "0    Aiden  100.0   90.0   95.0     95.0     A\n",
       "1  Charles   90.0   80.0   75.0     81.7     B\n",
       "2   Danial   95.0  100.0  100.0     98.3     A\n",
       "3     Evan  100.0  100.0  100.0    100.0     A\n",
       "5      Ian   90.0  100.0   90.0     93.3     A"
      ]
     },
     "execution_count": 23,
     "metadata": {},
     "output_type": "execute_result"
    }
   ],
   "source": [
    "df.head()"
   ]
  },
  {
   "cell_type": "markdown",
   "id": "e6e98ab0",
   "metadata": {},
   "source": [
    "# 누락된 카테고리 추가\n",
    "- 컬럼.cat.set_categories(카테고리리스트)"
   ]
  },
  {
   "cell_type": "code",
   "execution_count": 25,
   "id": "82eb6bb8",
   "metadata": {},
   "outputs": [
    {
     "data": {
      "text/plain": [
       "CategoricalDtype(categories=['A', 'B', 'C', 'D', 'F'], ordered=False)"
      ]
     },
     "execution_count": 25,
     "metadata": {},
     "output_type": "execute_result"
    }
   ],
   "source": [
    "df['grade'] = df['grade'].cat.set_categories(['A','B','C','D','F'])\n",
    "df['grade'].dtypes"
   ]
  },
  {
   "cell_type": "markdown",
   "id": "fafc4db5",
   "metadata": {},
   "source": [
    "# 데이터 용량 확인하기\n",
    "- titanic 데이터에서 카테고리형으로 관리할 수 있는 자료형을 카테고리형으로변환하여 데이터 용량 비교하기 "
   ]
  },
  {
   "cell_type": "markdown",
   "id": "889ea5f7",
   "metadata": {},
   "source": [
    "## 데이터 준비하고 확인하기"
   ]
  },
  {
   "cell_type": "code",
   "execution_count": 28,
   "id": "7adbb5e6",
   "metadata": {},
   "outputs": [
    {
     "data": {
      "text/html": [
       "<div>\n",
       "<style scoped>\n",
       "    .dataframe tbody tr th:only-of-type {\n",
       "        vertical-align: middle;\n",
       "    }\n",
       "\n",
       "    .dataframe tbody tr th {\n",
       "        vertical-align: top;\n",
       "    }\n",
       "\n",
       "    .dataframe thead th {\n",
       "        text-align: right;\n",
       "    }\n",
       "</style>\n",
       "<table border=\"1\" class=\"dataframe\">\n",
       "  <thead>\n",
       "    <tr style=\"text-align: right;\">\n",
       "      <th></th>\n",
       "      <th>PassengerId</th>\n",
       "      <th>Survived</th>\n",
       "      <th>Pclass</th>\n",
       "      <th>Name</th>\n",
       "      <th>Sex</th>\n",
       "      <th>Age</th>\n",
       "      <th>SibSp</th>\n",
       "      <th>Parch</th>\n",
       "      <th>Ticket</th>\n",
       "      <th>Fare</th>\n",
       "      <th>Cabin</th>\n",
       "      <th>Embarked</th>\n",
       "    </tr>\n",
       "  </thead>\n",
       "  <tbody>\n",
       "    <tr>\n",
       "      <th>0</th>\n",
       "      <td>1</td>\n",
       "      <td>0</td>\n",
       "      <td>3</td>\n",
       "      <td>Braund, Mr. Owen Harris</td>\n",
       "      <td>male</td>\n",
       "      <td>22.0</td>\n",
       "      <td>1</td>\n",
       "      <td>0</td>\n",
       "      <td>A/5 21171</td>\n",
       "      <td>7.2500</td>\n",
       "      <td>NaN</td>\n",
       "      <td>S</td>\n",
       "    </tr>\n",
       "    <tr>\n",
       "      <th>1</th>\n",
       "      <td>2</td>\n",
       "      <td>1</td>\n",
       "      <td>1</td>\n",
       "      <td>Cumings, Mrs. John Bradley (Florence Briggs Th...</td>\n",
       "      <td>female</td>\n",
       "      <td>38.0</td>\n",
       "      <td>1</td>\n",
       "      <td>0</td>\n",
       "      <td>PC 17599</td>\n",
       "      <td>71.2833</td>\n",
       "      <td>C85</td>\n",
       "      <td>C</td>\n",
       "    </tr>\n",
       "  </tbody>\n",
       "</table>\n",
       "</div>"
      ],
      "text/plain": [
       "   PassengerId  Survived  Pclass  \\\n",
       "0            1         0       3   \n",
       "1            2         1       1   \n",
       "\n",
       "                                                Name     Sex   Age  SibSp  \\\n",
       "0                            Braund, Mr. Owen Harris    male  22.0      1   \n",
       "1  Cumings, Mrs. John Bradley (Florence Briggs Th...  female  38.0      1   \n",
       "\n",
       "   Parch     Ticket     Fare Cabin Embarked  \n",
       "0      0  A/5 21171   7.2500   NaN        S  \n",
       "1      0   PC 17599  71.2833   C85        C  "
      ]
     },
     "execution_count": 28,
     "metadata": {},
     "output_type": "execute_result"
    }
   ],
   "source": [
    "df_titanic = pd.read_csv('data/titanic.csv')\n",
    "df_titanic.head(2)"
   ]
  },
  {
   "cell_type": "code",
   "execution_count": 29,
   "id": "4ab9c87a",
   "metadata": {},
   "outputs": [
    {
     "data": {
      "text/plain": [
       "array([0, 1], dtype=int64)"
      ]
     },
     "execution_count": 29,
     "metadata": {},
     "output_type": "execute_result"
    }
   ],
   "source": [
    "df_titanic['Survived'].unique()"
   ]
  },
  {
   "cell_type": "code",
   "execution_count": 30,
   "id": "4da5a6ac",
   "metadata": {},
   "outputs": [
    {
     "data": {
      "text/plain": [
       "array([3, 1, 2], dtype=int64)"
      ]
     },
     "execution_count": 30,
     "metadata": {},
     "output_type": "execute_result"
    }
   ],
   "source": [
    "df_titanic['Pclass'].unique()"
   ]
  },
  {
   "cell_type": "code",
   "execution_count": 31,
   "id": "455afdc3",
   "metadata": {},
   "outputs": [
    {
     "data": {
      "text/plain": [
       "array(['male', 'female'], dtype=object)"
      ]
     },
     "execution_count": 31,
     "metadata": {},
     "output_type": "execute_result"
    }
   ],
   "source": [
    "df_titanic['Sex'].unique()"
   ]
  },
  {
   "cell_type": "code",
   "execution_count": 32,
   "id": "dec38f26",
   "metadata": {},
   "outputs": [
    {
     "data": {
      "text/plain": [
       "array(['S', 'C', 'Q', nan], dtype=object)"
      ]
     },
     "execution_count": 32,
     "metadata": {},
     "output_type": "execute_result"
    }
   ],
   "source": [
    "df_titanic['Embarked'].unique()"
   ]
  },
  {
   "cell_type": "code",
   "execution_count": 34,
   "id": "411bd0f7",
   "metadata": {},
   "outputs": [
    {
     "data": {
      "text/plain": [
       "PassengerId      int64\n",
       "Survived         int64\n",
       "Pclass           int64\n",
       "Name            object\n",
       "Sex             object\n",
       "Age            float64\n",
       "SibSp            int64\n",
       "Parch            int64\n",
       "Ticket          object\n",
       "Fare           float64\n",
       "Cabin           object\n",
       "Embarked        object\n",
       "dtype: object"
      ]
     },
     "execution_count": 34,
     "metadata": {},
     "output_type": "execute_result"
    }
   ],
   "source": [
    "# 데이터 타입\n",
    "df_titanic.dtypes"
   ]
  },
  {
   "cell_type": "code",
   "execution_count": 35,
   "id": "0e941c4f",
   "metadata": {},
   "outputs": [
    {
     "name": "stdout",
     "output_type": "stream",
     "text": [
      "<class 'pandas.core.frame.DataFrame'>\n",
      "RangeIndex: 1309 entries, 0 to 1308\n",
      "Data columns (total 12 columns):\n",
      " #   Column       Non-Null Count  Dtype  \n",
      "---  ------       --------------  -----  \n",
      " 0   PassengerId  1309 non-null   int64  \n",
      " 1   Survived     1309 non-null   int64  \n",
      " 2   Pclass       1309 non-null   int64  \n",
      " 3   Name         1309 non-null   object \n",
      " 4   Sex          1309 non-null   object \n",
      " 5   Age          1046 non-null   float64\n",
      " 6   SibSp        1309 non-null   int64  \n",
      " 7   Parch        1309 non-null   int64  \n",
      " 8   Ticket       1309 non-null   object \n",
      " 9   Fare         1308 non-null   float64\n",
      " 10  Cabin        295 non-null    object \n",
      " 11  Embarked     1307 non-null   object \n",
      "dtypes: float64(2), int64(5), object(5)\n",
      "memory usage: 122.8+ KB\n"
     ]
    }
   ],
   "source": [
    "# 용량 확인하기\n",
    "df_titanic.info() # memory usage: 122.8+ KB"
   ]
  },
  {
   "cell_type": "markdown",
   "id": "255287c6",
   "metadata": {},
   "source": [
    "## 카테고리형으로 바꾸기\n",
    "- 컬럼.astype('category')"
   ]
  },
  {
   "cell_type": "code",
   "execution_count": 37,
   "id": "756c7dac",
   "metadata": {},
   "outputs": [
    {
     "data": {
      "text/plain": [
       "PassengerId       int64\n",
       "Survived       category\n",
       "Pclass         category\n",
       "Name             object\n",
       "Sex            category\n",
       "Age             float64\n",
       "SibSp             int64\n",
       "Parch             int64\n",
       "Ticket           object\n",
       "Fare            float64\n",
       "Cabin            object\n",
       "Embarked       category\n",
       "dtype: object"
      ]
     },
     "execution_count": 37,
     "metadata": {},
     "output_type": "execute_result"
    }
   ],
   "source": [
    "# 카테고리형으로 바꾸기 (Survived,Pclass,Sex,Embarked)\n",
    "df_titanic['Survived'] = df_titanic['Survived'].astype('category')\n",
    "df_titanic['Pclass'] = df_titanic['Pclass'].astype('category')\n",
    "df_titanic['Sex'] = df_titanic['Sex'].astype('category')\n",
    "df_titanic['Embarked'] = df_titanic['Embarked'].astype('category')\n",
    "df_titanic.dtypes"
   ]
  },
  {
   "cell_type": "code",
   "execution_count": 38,
   "id": "65763a18",
   "metadata": {},
   "outputs": [
    {
     "name": "stdout",
     "output_type": "stream",
     "text": [
      "<class 'pandas.core.frame.DataFrame'>\n",
      "RangeIndex: 1309 entries, 0 to 1308\n",
      "Data columns (total 12 columns):\n",
      " #   Column       Non-Null Count  Dtype   \n",
      "---  ------       --------------  -----   \n",
      " 0   PassengerId  1309 non-null   int64   \n",
      " 1   Survived     1309 non-null   category\n",
      " 2   Pclass       1309 non-null   category\n",
      " 3   Name         1309 non-null   object  \n",
      " 4   Sex          1309 non-null   category\n",
      " 5   Age          1046 non-null   float64 \n",
      " 6   SibSp        1309 non-null   int64   \n",
      " 7   Parch        1309 non-null   int64   \n",
      " 8   Ticket       1309 non-null   object  \n",
      " 9   Fare         1308 non-null   float64 \n",
      " 10  Cabin        295 non-null    object  \n",
      " 11  Embarked     1307 non-null   category\n",
      "dtypes: category(4), float64(2), int64(3), object(3)\n",
      "memory usage: 87.6+ KB\n"
     ]
    }
   ],
   "source": [
    "# 용량\n",
    "df_titanic.info() # memory usage: 87.6+ KB"
   ]
  },
  {
   "cell_type": "code",
   "execution_count": 39,
   "id": "9efd7479",
   "metadata": {},
   "outputs": [],
   "source": [
    "# 메모리 사용량은 줄이는 것이 좋다!"
   ]
  },
  {
   "cell_type": "code",
   "execution_count": 40,
   "id": "5cff6750",
   "metadata": {},
   "outputs": [],
   "source": [
    "##"
   ]
  },
  {
   "cell_type": "code",
   "execution_count": null,
   "id": "036b174f",
   "metadata": {},
   "outputs": [],
   "source": [
    "# datetime 자료형에서 정보 추출하기"
   ]
  },
  {
   "cell_type": "code",
   "execution_count": 41,
   "id": "c2c005c6",
   "metadata": {},
   "outputs": [
    {
     "data": {
      "text/html": [
       "<div>\n",
       "<style scoped>\n",
       "    .dataframe tbody tr th:only-of-type {\n",
       "        vertical-align: middle;\n",
       "    }\n",
       "\n",
       "    .dataframe tbody tr th {\n",
       "        vertical-align: top;\n",
       "    }\n",
       "\n",
       "    .dataframe thead th {\n",
       "        text-align: right;\n",
       "    }\n",
       "</style>\n",
       "<table border=\"1\" class=\"dataframe\">\n",
       "  <thead>\n",
       "    <tr style=\"text-align: right;\">\n",
       "      <th></th>\n",
       "      <th>이름</th>\n",
       "      <th>주요경력</th>\n",
       "      <th>출생</th>\n",
       "      <th>사망</th>\n",
       "    </tr>\n",
       "  </thead>\n",
       "  <tbody>\n",
       "    <tr>\n",
       "      <th>0</th>\n",
       "      <td>스티븐 호킹</td>\n",
       "      <td>이론 물리학자</td>\n",
       "      <td>1942-01-08</td>\n",
       "      <td>2018-03-14</td>\n",
       "    </tr>\n",
       "    <tr>\n",
       "      <th>1</th>\n",
       "      <td>마이클잭슨</td>\n",
       "      <td>가수</td>\n",
       "      <td>1958-08-29</td>\n",
       "      <td>2009-06-25</td>\n",
       "    </tr>\n",
       "    <tr>\n",
       "      <th>2</th>\n",
       "      <td>스티브잡스</td>\n",
       "      <td>CEO</td>\n",
       "      <td>1955-02-24</td>\n",
       "      <td>2011-10-05</td>\n",
       "    </tr>\n",
       "    <tr>\n",
       "      <th>3</th>\n",
       "      <td>로빈윌리엄스</td>\n",
       "      <td>배우</td>\n",
       "      <td>1951-07-21</td>\n",
       "      <td>2014-08-11</td>\n",
       "    </tr>\n",
       "    <tr>\n",
       "      <th>4</th>\n",
       "      <td>앨빈토플러</td>\n",
       "      <td>미래학자</td>\n",
       "      <td>1928-10-04</td>\n",
       "      <td>2016-06-27</td>\n",
       "    </tr>\n",
       "  </tbody>\n",
       "</table>\n",
       "</div>"
      ],
      "text/plain": [
       "       이름     주요경력          출생          사망\n",
       "0  스티븐 호킹  이론 물리학자  1942-01-08  2018-03-14\n",
       "1   마이클잭슨       가수  1958-08-29  2009-06-25\n",
       "2   스티브잡스      CEO  1955-02-24  2011-10-05\n",
       "3  로빈윌리엄스       배우  1951-07-21  2014-08-11\n",
       "4   앨빈토플러     미래학자  1928-10-04  2016-06-27"
      ]
     },
     "execution_count": 41,
     "metadata": {},
     "output_type": "execute_result"
    }
   ],
   "source": [
    "import pandas as pd\n",
    "df = pd.read_csv('data/birth_die.csv')\n",
    "df"
   ]
  },
  {
   "cell_type": "code",
   "execution_count": 42,
   "id": "0f9d08f5",
   "metadata": {},
   "outputs": [
    {
     "data": {
      "text/plain": [
       "이름      object\n",
       "주요경력    object\n",
       "출생      object\n",
       "사망      object\n",
       "dtype: object"
      ]
     },
     "execution_count": 42,
     "metadata": {},
     "output_type": "execute_result"
    }
   ],
   "source": [
    "df.dtypes"
   ]
  },
  {
   "cell_type": "markdown",
   "id": "dc41fea0",
   "metadata": {},
   "source": [
    "# 컬럼을 datetime 자료형으로 변경하기\n",
    "- pd.to_datetime(컬럼)"
   ]
  },
  {
   "cell_type": "code",
   "execution_count": 45,
   "id": "b7570b03",
   "metadata": {},
   "outputs": [
    {
     "data": {
      "text/plain": [
       "이름              object\n",
       "주요경력            object\n",
       "출생      datetime64[ns]\n",
       "사망              object\n",
       "dtype: object"
      ]
     },
     "execution_count": 45,
     "metadata": {},
     "output_type": "execute_result"
    }
   ],
   "source": [
    "# 출생, 사망 컬럼을 datetime 자료형으로 변경하기\n",
    "df['출생'] = pd.to_datetime(df['출생'])\n",
    "df.dtypes"
   ]
  },
  {
   "cell_type": "code",
   "execution_count": 46,
   "id": "87e7d2af",
   "metadata": {},
   "outputs": [
    {
     "data": {
      "text/plain": [
       "이름              object\n",
       "주요경력            object\n",
       "출생      datetime64[ns]\n",
       "사망      datetime64[ns]\n",
       "dtype: object"
      ]
     },
     "execution_count": 46,
     "metadata": {},
     "output_type": "execute_result"
    }
   ],
   "source": [
    "df['사망'] = pd.to_datetime(df['사망'])\n",
    "df.dtypes"
   ]
  },
  {
   "cell_type": "markdown",
   "id": "0892f184",
   "metadata": {},
   "source": [
    "# 연, 월, 일, 분기 추출하기\n",
    "- 컬럼.dt.year\n",
    "- 컬럼.dt.month\n",
    "- 컬럼.dt.day\n",
    "- 컬럼.dt.quarter"
   ]
  },
  {
   "cell_type": "code",
   "execution_count": 50,
   "id": "767a34d7",
   "metadata": {},
   "outputs": [
    {
     "data": {
      "text/plain": [
       "1942"
      ]
     },
     "execution_count": 50,
     "metadata": {},
     "output_type": "execute_result"
    }
   ],
   "source": [
    "# 출생 컬럼 0번 인덱스의 연도\n",
    "df['출생'][0].year"
   ]
  },
  {
   "cell_type": "code",
   "execution_count": 51,
   "id": "37f891db",
   "metadata": {},
   "outputs": [
    {
     "data": {
      "text/plain": [
       "0    1942\n",
       "1    1958\n",
       "2    1955\n",
       "3    1951\n",
       "4    1928\n",
       "Name: 출생, dtype: int64"
      ]
     },
     "execution_count": 51,
     "metadata": {},
     "output_type": "execute_result"
    }
   ],
   "source": [
    "# 출생 컬럼의 연도\n",
    "df['출생'].dt.year"
   ]
  },
  {
   "cell_type": "code",
   "execution_count": 52,
   "id": "b493c62c",
   "metadata": {},
   "outputs": [
    {
     "data": {
      "text/plain": [
       "0     1\n",
       "1     8\n",
       "2     2\n",
       "3     7\n",
       "4    10\n",
       "Name: 출생, dtype: int64"
      ]
     },
     "execution_count": 52,
     "metadata": {},
     "output_type": "execute_result"
    }
   ],
   "source": [
    "df['출생'].dt.month"
   ]
  },
  {
   "cell_type": "code",
   "execution_count": 53,
   "id": "4bb381dc",
   "metadata": {},
   "outputs": [
    {
     "data": {
      "text/plain": [
       "0     8\n",
       "1    29\n",
       "2    24\n",
       "3    21\n",
       "4     4\n",
       "Name: 출생, dtype: int64"
      ]
     },
     "execution_count": 53,
     "metadata": {},
     "output_type": "execute_result"
    }
   ],
   "source": [
    "df['출생'].dt.day"
   ]
  },
  {
   "cell_type": "code",
   "execution_count": 55,
   "id": "310f36b5",
   "metadata": {},
   "outputs": [
    {
     "data": {
      "text/html": [
       "<div>\n",
       "<style scoped>\n",
       "    .dataframe tbody tr th:only-of-type {\n",
       "        vertical-align: middle;\n",
       "    }\n",
       "\n",
       "    .dataframe tbody tr th {\n",
       "        vertical-align: top;\n",
       "    }\n",
       "\n",
       "    .dataframe thead th {\n",
       "        text-align: right;\n",
       "    }\n",
       "</style>\n",
       "<table border=\"1\" class=\"dataframe\">\n",
       "  <thead>\n",
       "    <tr style=\"text-align: right;\">\n",
       "      <th></th>\n",
       "      <th>이름</th>\n",
       "      <th>주요경력</th>\n",
       "      <th>출생</th>\n",
       "      <th>사망</th>\n",
       "      <th>분기</th>\n",
       "    </tr>\n",
       "  </thead>\n",
       "  <tbody>\n",
       "    <tr>\n",
       "      <th>0</th>\n",
       "      <td>스티븐 호킹</td>\n",
       "      <td>이론 물리학자</td>\n",
       "      <td>1942-01-08</td>\n",
       "      <td>2018-03-14</td>\n",
       "      <td>1</td>\n",
       "    </tr>\n",
       "    <tr>\n",
       "      <th>1</th>\n",
       "      <td>마이클잭슨</td>\n",
       "      <td>가수</td>\n",
       "      <td>1958-08-29</td>\n",
       "      <td>2009-06-25</td>\n",
       "      <td>3</td>\n",
       "    </tr>\n",
       "    <tr>\n",
       "      <th>2</th>\n",
       "      <td>스티브잡스</td>\n",
       "      <td>CEO</td>\n",
       "      <td>1955-02-24</td>\n",
       "      <td>2011-10-05</td>\n",
       "      <td>1</td>\n",
       "    </tr>\n",
       "    <tr>\n",
       "      <th>3</th>\n",
       "      <td>로빈윌리엄스</td>\n",
       "      <td>배우</td>\n",
       "      <td>1951-07-21</td>\n",
       "      <td>2014-08-11</td>\n",
       "      <td>3</td>\n",
       "    </tr>\n",
       "    <tr>\n",
       "      <th>4</th>\n",
       "      <td>앨빈토플러</td>\n",
       "      <td>미래학자</td>\n",
       "      <td>1928-10-04</td>\n",
       "      <td>2016-06-27</td>\n",
       "      <td>4</td>\n",
       "    </tr>\n",
       "  </tbody>\n",
       "</table>\n",
       "</div>"
      ],
      "text/plain": [
       "       이름     주요경력         출생         사망  분기\n",
       "0  스티븐 호킹  이론 물리학자 1942-01-08 2018-03-14   1\n",
       "1   마이클잭슨       가수 1958-08-29 2009-06-25   3\n",
       "2   스티브잡스      CEO 1955-02-24 2011-10-05   1\n",
       "3  로빈윌리엄스       배우 1951-07-21 2014-08-11   3\n",
       "4   앨빈토플러     미래학자 1928-10-04 2016-06-27   4"
      ]
     },
     "execution_count": 55,
     "metadata": {},
     "output_type": "execute_result"
    }
   ],
   "source": [
    "# 분기 컬럼 만들기\n",
    "df['출생'].dt.quarter\n",
    "df['분기'] = df['출생'].dt.quarter\n",
    "df"
   ]
  },
  {
   "cell_type": "markdown",
   "id": "079bad20",
   "metadata": {},
   "source": [
    "# 날짜 계산하기"
   ]
  },
  {
   "cell_type": "code",
   "execution_count": 58,
   "id": "3d3e1e9d",
   "metadata": {},
   "outputs": [
    {
     "data": {
      "text/html": [
       "<div>\n",
       "<style scoped>\n",
       "    .dataframe tbody tr th:only-of-type {\n",
       "        vertical-align: middle;\n",
       "    }\n",
       "\n",
       "    .dataframe tbody tr th {\n",
       "        vertical-align: top;\n",
       "    }\n",
       "\n",
       "    .dataframe thead th {\n",
       "        text-align: right;\n",
       "    }\n",
       "</style>\n",
       "<table border=\"1\" class=\"dataframe\">\n",
       "  <thead>\n",
       "    <tr style=\"text-align: right;\">\n",
       "      <th></th>\n",
       "      <th>이름</th>\n",
       "      <th>주요경력</th>\n",
       "      <th>출생</th>\n",
       "      <th>사망</th>\n",
       "      <th>분기</th>\n",
       "      <th>생존일수</th>\n",
       "    </tr>\n",
       "  </thead>\n",
       "  <tbody>\n",
       "    <tr>\n",
       "      <th>0</th>\n",
       "      <td>스티븐 호킹</td>\n",
       "      <td>이론 물리학자</td>\n",
       "      <td>1942-01-08</td>\n",
       "      <td>2018-03-14</td>\n",
       "      <td>1</td>\n",
       "      <td>27824 days</td>\n",
       "    </tr>\n",
       "    <tr>\n",
       "      <th>1</th>\n",
       "      <td>마이클잭슨</td>\n",
       "      <td>가수</td>\n",
       "      <td>1958-08-29</td>\n",
       "      <td>2009-06-25</td>\n",
       "      <td>3</td>\n",
       "      <td>18563 days</td>\n",
       "    </tr>\n",
       "    <tr>\n",
       "      <th>2</th>\n",
       "      <td>스티브잡스</td>\n",
       "      <td>CEO</td>\n",
       "      <td>1955-02-24</td>\n",
       "      <td>2011-10-05</td>\n",
       "      <td>1</td>\n",
       "      <td>20677 days</td>\n",
       "    </tr>\n",
       "    <tr>\n",
       "      <th>3</th>\n",
       "      <td>로빈윌리엄스</td>\n",
       "      <td>배우</td>\n",
       "      <td>1951-07-21</td>\n",
       "      <td>2014-08-11</td>\n",
       "      <td>3</td>\n",
       "      <td>23032 days</td>\n",
       "    </tr>\n",
       "    <tr>\n",
       "      <th>4</th>\n",
       "      <td>앨빈토플러</td>\n",
       "      <td>미래학자</td>\n",
       "      <td>1928-10-04</td>\n",
       "      <td>2016-06-27</td>\n",
       "      <td>4</td>\n",
       "      <td>32043 days</td>\n",
       "    </tr>\n",
       "  </tbody>\n",
       "</table>\n",
       "</div>"
      ],
      "text/plain": [
       "       이름     주요경력         출생         사망  분기       생존일수\n",
       "0  스티븐 호킹  이론 물리학자 1942-01-08 2018-03-14   1 27824 days\n",
       "1   마이클잭슨       가수 1958-08-29 2009-06-25   3 18563 days\n",
       "2   스티브잡스      CEO 1955-02-24 2011-10-05   1 20677 days\n",
       "3  로빈윌리엄스       배우 1951-07-21 2014-08-11   3 23032 days\n",
       "4   앨빈토플러     미래학자 1928-10-04 2016-06-27   4 32043 days"
      ]
     },
     "execution_count": 58,
     "metadata": {},
     "output_type": "execute_result"
    }
   ],
   "source": [
    "# 생존일수 컬럼 만들기\n",
    "df['생존일수'] = df['사망'] - df['출생']\n",
    "df"
   ]
  },
  {
   "cell_type": "code",
   "execution_count": 59,
   "id": "aad1ca45",
   "metadata": {},
   "outputs": [
    {
     "data": {
      "text/html": [
       "<div>\n",
       "<style scoped>\n",
       "    .dataframe tbody tr th:only-of-type {\n",
       "        vertical-align: middle;\n",
       "    }\n",
       "\n",
       "    .dataframe tbody tr th {\n",
       "        vertical-align: top;\n",
       "    }\n",
       "\n",
       "    .dataframe thead th {\n",
       "        text-align: right;\n",
       "    }\n",
       "</style>\n",
       "<table border=\"1\" class=\"dataframe\">\n",
       "  <thead>\n",
       "    <tr style=\"text-align: right;\">\n",
       "      <th></th>\n",
       "      <th>이름</th>\n",
       "      <th>주요경력</th>\n",
       "      <th>출생</th>\n",
       "      <th>사망</th>\n",
       "      <th>분기</th>\n",
       "      <th>생존일수</th>\n",
       "      <th>생존기간</th>\n",
       "    </tr>\n",
       "  </thead>\n",
       "  <tbody>\n",
       "    <tr>\n",
       "      <th>0</th>\n",
       "      <td>스티븐 호킹</td>\n",
       "      <td>이론 물리학자</td>\n",
       "      <td>1942-01-08</td>\n",
       "      <td>2018-03-14</td>\n",
       "      <td>1</td>\n",
       "      <td>27824 days</td>\n",
       "      <td>76</td>\n",
       "    </tr>\n",
       "    <tr>\n",
       "      <th>1</th>\n",
       "      <td>마이클잭슨</td>\n",
       "      <td>가수</td>\n",
       "      <td>1958-08-29</td>\n",
       "      <td>2009-06-25</td>\n",
       "      <td>3</td>\n",
       "      <td>18563 days</td>\n",
       "      <td>51</td>\n",
       "    </tr>\n",
       "    <tr>\n",
       "      <th>2</th>\n",
       "      <td>스티브잡스</td>\n",
       "      <td>CEO</td>\n",
       "      <td>1955-02-24</td>\n",
       "      <td>2011-10-05</td>\n",
       "      <td>1</td>\n",
       "      <td>20677 days</td>\n",
       "      <td>56</td>\n",
       "    </tr>\n",
       "    <tr>\n",
       "      <th>3</th>\n",
       "      <td>로빈윌리엄스</td>\n",
       "      <td>배우</td>\n",
       "      <td>1951-07-21</td>\n",
       "      <td>2014-08-11</td>\n",
       "      <td>3</td>\n",
       "      <td>23032 days</td>\n",
       "      <td>63</td>\n",
       "    </tr>\n",
       "    <tr>\n",
       "      <th>4</th>\n",
       "      <td>앨빈토플러</td>\n",
       "      <td>미래학자</td>\n",
       "      <td>1928-10-04</td>\n",
       "      <td>2016-06-27</td>\n",
       "      <td>4</td>\n",
       "      <td>32043 days</td>\n",
       "      <td>88</td>\n",
       "    </tr>\n",
       "  </tbody>\n",
       "</table>\n",
       "</div>"
      ],
      "text/plain": [
       "       이름     주요경력         출생         사망  분기       생존일수  생존기간\n",
       "0  스티븐 호킹  이론 물리학자 1942-01-08 2018-03-14   1 27824 days    76\n",
       "1   마이클잭슨       가수 1958-08-29 2009-06-25   3 18563 days    51\n",
       "2   스티브잡스      CEO 1955-02-24 2011-10-05   1 20677 days    56\n",
       "3  로빈윌리엄스       배우 1951-07-21 2014-08-11   3 23032 days    63\n",
       "4   앨빈토플러     미래학자 1928-10-04 2016-06-27   4 32043 days    88"
      ]
     },
     "execution_count": 59,
     "metadata": {},
     "output_type": "execute_result"
    }
   ],
   "source": [
    "# 생존기간 컬럼 만들기\n",
    "df['생존기간'] = df['사망'].dt.year - df['출생'].dt.year\n",
    "df"
   ]
  },
  {
   "cell_type": "markdown",
   "id": "a3197385",
   "metadata": {},
   "source": [
    "# 요일, 월이름 추출하기\n",
    "- 컬럼.dt.strftime('%a') : 요약된 요일이름\n",
    "- 컬럼.dt.strftime('%A') : 긴 요일이름\n",
    "- 컬럼.dt.strftime('%W') : 숫자요일(0:일요일)\n",
    "- 컬럼.dt.strftime('%b') : 요약된 월이름\n",
    "- 컬럼.dt.strftime('%B') : 긴 월이름"
   ]
  },
  {
   "cell_type": "code",
   "execution_count": 64,
   "id": "636819e6",
   "metadata": {},
   "outputs": [
    {
     "name": "stdout",
     "output_type": "stream",
     "text": [
      "0    Thu\n",
      "1    Fri\n",
      "2    Thu\n",
      "3    Sat\n",
      "4    Thu\n",
      "Name: 출생, dtype: object\n",
      "0    Thursday\n",
      "1      Friday\n",
      "2    Thursday\n",
      "3    Saturday\n",
      "4    Thursday\n",
      "Name: 출생, dtype: object\n",
      "0    01\n",
      "1    34\n",
      "2    08\n",
      "3    29\n",
      "4    40\n",
      "Name: 출생, dtype: object\n",
      "0    Jan\n",
      "1    Aug\n",
      "2    Feb\n",
      "3    Jul\n",
      "4    Oct\n",
      "Name: 출생, dtype: object\n",
      "0     January\n",
      "1      August\n",
      "2    February\n",
      "3        July\n",
      "4     October\n",
      "Name: 출생, dtype: object\n"
     ]
    }
   ],
   "source": [
    "print(df['출생'].dt.strftime('%a'))\n",
    "print(df['출생'].dt.strftime('%A'))\n",
    "print(df['출생'].dt.strftime('%W'))\n",
    "print(df['출생'].dt.strftime('%b'))\n",
    "print(df['출생'].dt.strftime('%B'))"
   ]
  },
  {
   "cell_type": "code",
   "execution_count": 66,
   "id": "e59b126c",
   "metadata": {},
   "outputs": [
    {
     "data": {
      "text/html": [
       "<div>\n",
       "<style scoped>\n",
       "    .dataframe tbody tr th:only-of-type {\n",
       "        vertical-align: middle;\n",
       "    }\n",
       "\n",
       "    .dataframe tbody tr th {\n",
       "        vertical-align: top;\n",
       "    }\n",
       "\n",
       "    .dataframe thead th {\n",
       "        text-align: right;\n",
       "    }\n",
       "</style>\n",
       "<table border=\"1\" class=\"dataframe\">\n",
       "  <thead>\n",
       "    <tr style=\"text-align: right;\">\n",
       "      <th></th>\n",
       "      <th>이름</th>\n",
       "      <th>주요경력</th>\n",
       "      <th>출생</th>\n",
       "      <th>사망</th>\n",
       "      <th>분기</th>\n",
       "      <th>생존일수</th>\n",
       "      <th>생존기간</th>\n",
       "      <th>출생요일</th>\n",
       "    </tr>\n",
       "  </thead>\n",
       "  <tbody>\n",
       "    <tr>\n",
       "      <th>0</th>\n",
       "      <td>스티븐 호킹</td>\n",
       "      <td>이론 물리학자</td>\n",
       "      <td>1942-01-08</td>\n",
       "      <td>2018-03-14</td>\n",
       "      <td>1</td>\n",
       "      <td>27824 days</td>\n",
       "      <td>76</td>\n",
       "      <td>Thu</td>\n",
       "    </tr>\n",
       "    <tr>\n",
       "      <th>1</th>\n",
       "      <td>마이클잭슨</td>\n",
       "      <td>가수</td>\n",
       "      <td>1958-08-29</td>\n",
       "      <td>2009-06-25</td>\n",
       "      <td>3</td>\n",
       "      <td>18563 days</td>\n",
       "      <td>51</td>\n",
       "      <td>Fri</td>\n",
       "    </tr>\n",
       "    <tr>\n",
       "      <th>2</th>\n",
       "      <td>스티브잡스</td>\n",
       "      <td>CEO</td>\n",
       "      <td>1955-02-24</td>\n",
       "      <td>2011-10-05</td>\n",
       "      <td>1</td>\n",
       "      <td>20677 days</td>\n",
       "      <td>56</td>\n",
       "      <td>Thu</td>\n",
       "    </tr>\n",
       "    <tr>\n",
       "      <th>3</th>\n",
       "      <td>로빈윌리엄스</td>\n",
       "      <td>배우</td>\n",
       "      <td>1951-07-21</td>\n",
       "      <td>2014-08-11</td>\n",
       "      <td>3</td>\n",
       "      <td>23032 days</td>\n",
       "      <td>63</td>\n",
       "      <td>Sat</td>\n",
       "    </tr>\n",
       "    <tr>\n",
       "      <th>4</th>\n",
       "      <td>앨빈토플러</td>\n",
       "      <td>미래학자</td>\n",
       "      <td>1928-10-04</td>\n",
       "      <td>2016-06-27</td>\n",
       "      <td>4</td>\n",
       "      <td>32043 days</td>\n",
       "      <td>88</td>\n",
       "      <td>Thu</td>\n",
       "    </tr>\n",
       "  </tbody>\n",
       "</table>\n",
       "</div>"
      ],
      "text/plain": [
       "       이름     주요경력         출생         사망  분기       생존일수  생존기간 출생요일\n",
       "0  스티븐 호킹  이론 물리학자 1942-01-08 2018-03-14   1 27824 days    76  Thu\n",
       "1   마이클잭슨       가수 1958-08-29 2009-06-25   3 18563 days    51  Fri\n",
       "2   스티브잡스      CEO 1955-02-24 2011-10-05   1 20677 days    56  Thu\n",
       "3  로빈윌리엄스       배우 1951-07-21 2014-08-11   3 23032 days    63  Sat\n",
       "4   앨빈토플러     미래학자 1928-10-04 2016-06-27   4 32043 days    88  Thu"
      ]
     },
     "execution_count": 66,
     "metadata": {},
     "output_type": "execute_result"
    }
   ],
   "source": [
    "# 출생요일 컬럼 \n",
    "df['출생요일'] = df['출생'].dt.strftime('%a')\n",
    "df"
   ]
  },
  {
   "cell_type": "code",
   "execution_count": 67,
   "id": "a973a0d4",
   "metadata": {},
   "outputs": [
    {
     "data": {
      "text/html": [
       "<div>\n",
       "<style scoped>\n",
       "    .dataframe tbody tr th:only-of-type {\n",
       "        vertical-align: middle;\n",
       "    }\n",
       "\n",
       "    .dataframe tbody tr th {\n",
       "        vertical-align: top;\n",
       "    }\n",
       "\n",
       "    .dataframe thead th {\n",
       "        text-align: right;\n",
       "    }\n",
       "</style>\n",
       "<table border=\"1\" class=\"dataframe\">\n",
       "  <thead>\n",
       "    <tr style=\"text-align: right;\">\n",
       "      <th></th>\n",
       "      <th>이름</th>\n",
       "      <th>주요경력</th>\n",
       "      <th>출생</th>\n",
       "      <th>사망</th>\n",
       "      <th>분기</th>\n",
       "      <th>생존일수</th>\n",
       "      <th>생존기간</th>\n",
       "      <th>출생요일</th>\n",
       "      <th>출생월</th>\n",
       "    </tr>\n",
       "  </thead>\n",
       "  <tbody>\n",
       "    <tr>\n",
       "      <th>0</th>\n",
       "      <td>스티븐 호킹</td>\n",
       "      <td>이론 물리학자</td>\n",
       "      <td>1942-01-08</td>\n",
       "      <td>2018-03-14</td>\n",
       "      <td>1</td>\n",
       "      <td>27824 days</td>\n",
       "      <td>76</td>\n",
       "      <td>Thu</td>\n",
       "      <td>Jan</td>\n",
       "    </tr>\n",
       "    <tr>\n",
       "      <th>1</th>\n",
       "      <td>마이클잭슨</td>\n",
       "      <td>가수</td>\n",
       "      <td>1958-08-29</td>\n",
       "      <td>2009-06-25</td>\n",
       "      <td>3</td>\n",
       "      <td>18563 days</td>\n",
       "      <td>51</td>\n",
       "      <td>Fri</td>\n",
       "      <td>Aug</td>\n",
       "    </tr>\n",
       "    <tr>\n",
       "      <th>2</th>\n",
       "      <td>스티브잡스</td>\n",
       "      <td>CEO</td>\n",
       "      <td>1955-02-24</td>\n",
       "      <td>2011-10-05</td>\n",
       "      <td>1</td>\n",
       "      <td>20677 days</td>\n",
       "      <td>56</td>\n",
       "      <td>Thu</td>\n",
       "      <td>Feb</td>\n",
       "    </tr>\n",
       "    <tr>\n",
       "      <th>3</th>\n",
       "      <td>로빈윌리엄스</td>\n",
       "      <td>배우</td>\n",
       "      <td>1951-07-21</td>\n",
       "      <td>2014-08-11</td>\n",
       "      <td>3</td>\n",
       "      <td>23032 days</td>\n",
       "      <td>63</td>\n",
       "      <td>Sat</td>\n",
       "      <td>Jul</td>\n",
       "    </tr>\n",
       "    <tr>\n",
       "      <th>4</th>\n",
       "      <td>앨빈토플러</td>\n",
       "      <td>미래학자</td>\n",
       "      <td>1928-10-04</td>\n",
       "      <td>2016-06-27</td>\n",
       "      <td>4</td>\n",
       "      <td>32043 days</td>\n",
       "      <td>88</td>\n",
       "      <td>Thu</td>\n",
       "      <td>Oct</td>\n",
       "    </tr>\n",
       "  </tbody>\n",
       "</table>\n",
       "</div>"
      ],
      "text/plain": [
       "       이름     주요경력         출생         사망  분기       생존일수  생존기간 출생요일  출생월\n",
       "0  스티븐 호킹  이론 물리학자 1942-01-08 2018-03-14   1 27824 days    76  Thu  Jan\n",
       "1   마이클잭슨       가수 1958-08-29 2009-06-25   3 18563 days    51  Fri  Aug\n",
       "2   스티브잡스      CEO 1955-02-24 2011-10-05   1 20677 days    56  Thu  Feb\n",
       "3  로빈윌리엄스       배우 1951-07-21 2014-08-11   3 23032 days    63  Sat  Jul\n",
       "4   앨빈토플러     미래학자 1928-10-04 2016-06-27   4 32043 days    88  Thu  Oct"
      ]
     },
     "execution_count": 67,
     "metadata": {},
     "output_type": "execute_result"
    }
   ],
   "source": [
    "# 출생월 컬럼 추가하기\n",
    "df['출생월'] = df['출생'].dt.strftime('%b')\n",
    "df"
   ]
  },
  {
   "cell_type": "markdown",
   "id": "fe5ae5ca",
   "metadata": {},
   "source": [
    "# datetime 자료형을 인덱스로 만들어 사용하기"
   ]
  },
  {
   "cell_type": "code",
   "execution_count": 72,
   "id": "9260302f",
   "metadata": {},
   "outputs": [
    {
     "data": {
      "text/html": [
       "<div>\n",
       "<style scoped>\n",
       "    .dataframe tbody tr th:only-of-type {\n",
       "        vertical-align: middle;\n",
       "    }\n",
       "\n",
       "    .dataframe tbody tr th {\n",
       "        vertical-align: top;\n",
       "    }\n",
       "\n",
       "    .dataframe thead th {\n",
       "        text-align: right;\n",
       "    }\n",
       "</style>\n",
       "<table border=\"1\" class=\"dataframe\">\n",
       "  <thead>\n",
       "    <tr style=\"text-align: right;\">\n",
       "      <th></th>\n",
       "      <th>이름</th>\n",
       "      <th>주요경력</th>\n",
       "      <th>출생</th>\n",
       "      <th>사망</th>\n",
       "      <th>분기</th>\n",
       "      <th>생존일수</th>\n",
       "      <th>생존기간</th>\n",
       "      <th>출생요일</th>\n",
       "      <th>출생월</th>\n",
       "    </tr>\n",
       "    <tr>\n",
       "      <th>출생</th>\n",
       "      <th></th>\n",
       "      <th></th>\n",
       "      <th></th>\n",
       "      <th></th>\n",
       "      <th></th>\n",
       "      <th></th>\n",
       "      <th></th>\n",
       "      <th></th>\n",
       "      <th></th>\n",
       "    </tr>\n",
       "  </thead>\n",
       "  <tbody>\n",
       "    <tr>\n",
       "      <th>1942-01-08</th>\n",
       "      <td>스티븐 호킹</td>\n",
       "      <td>이론 물리학자</td>\n",
       "      <td>1942-01-08</td>\n",
       "      <td>2018-03-14</td>\n",
       "      <td>1</td>\n",
       "      <td>27824 days</td>\n",
       "      <td>76</td>\n",
       "      <td>Thu</td>\n",
       "      <td>Jan</td>\n",
       "    </tr>\n",
       "    <tr>\n",
       "      <th>1958-08-29</th>\n",
       "      <td>마이클잭슨</td>\n",
       "      <td>가수</td>\n",
       "      <td>1958-08-29</td>\n",
       "      <td>2009-06-25</td>\n",
       "      <td>3</td>\n",
       "      <td>18563 days</td>\n",
       "      <td>51</td>\n",
       "      <td>Fri</td>\n",
       "      <td>Aug</td>\n",
       "    </tr>\n",
       "    <tr>\n",
       "      <th>1955-02-24</th>\n",
       "      <td>스티브잡스</td>\n",
       "      <td>CEO</td>\n",
       "      <td>1955-02-24</td>\n",
       "      <td>2011-10-05</td>\n",
       "      <td>1</td>\n",
       "      <td>20677 days</td>\n",
       "      <td>56</td>\n",
       "      <td>Thu</td>\n",
       "      <td>Feb</td>\n",
       "    </tr>\n",
       "    <tr>\n",
       "      <th>1951-07-21</th>\n",
       "      <td>로빈윌리엄스</td>\n",
       "      <td>배우</td>\n",
       "      <td>1951-07-21</td>\n",
       "      <td>2014-08-11</td>\n",
       "      <td>3</td>\n",
       "      <td>23032 days</td>\n",
       "      <td>63</td>\n",
       "      <td>Sat</td>\n",
       "      <td>Jul</td>\n",
       "    </tr>\n",
       "    <tr>\n",
       "      <th>1928-10-04</th>\n",
       "      <td>앨빈토플러</td>\n",
       "      <td>미래학자</td>\n",
       "      <td>1928-10-04</td>\n",
       "      <td>2016-06-27</td>\n",
       "      <td>4</td>\n",
       "      <td>32043 days</td>\n",
       "      <td>88</td>\n",
       "      <td>Thu</td>\n",
       "      <td>Oct</td>\n",
       "    </tr>\n",
       "  </tbody>\n",
       "</table>\n",
       "</div>"
      ],
      "text/plain": [
       "                이름     주요경력         출생         사망  분기       생존일수  생존기간 출생요일  \\\n",
       "출생                                                                            \n",
       "1942-01-08  스티븐 호킹  이론 물리학자 1942-01-08 2018-03-14   1 27824 days    76  Thu   \n",
       "1958-08-29   마이클잭슨       가수 1958-08-29 2009-06-25   3 18563 days    51  Fri   \n",
       "1955-02-24   스티브잡스      CEO 1955-02-24 2011-10-05   1 20677 days    56  Thu   \n",
       "1951-07-21  로빈윌리엄스       배우 1951-07-21 2014-08-11   3 23032 days    63  Sat   \n",
       "1928-10-04   앨빈토플러     미래학자 1928-10-04 2016-06-27   4 32043 days    88  Thu   \n",
       "\n",
       "            출생월  \n",
       "출생               \n",
       "1942-01-08  Jan  \n",
       "1958-08-29  Aug  \n",
       "1955-02-24  Feb  \n",
       "1951-07-21  Jul  \n",
       "1928-10-04  Oct  "
      ]
     },
     "execution_count": 72,
     "metadata": {},
     "output_type": "execute_result"
    }
   ],
   "source": [
    "# 출생컬럼을 인덱스로 만들기\n",
    "df.index = df['출생']\n",
    "df"
   ]
  },
  {
   "cell_type": "code",
   "execution_count": 73,
   "id": "103a9b89",
   "metadata": {},
   "outputs": [
    {
     "data": {
      "text/html": [
       "<div>\n",
       "<style scoped>\n",
       "    .dataframe tbody tr th:only-of-type {\n",
       "        vertical-align: middle;\n",
       "    }\n",
       "\n",
       "    .dataframe tbody tr th {\n",
       "        vertical-align: top;\n",
       "    }\n",
       "\n",
       "    .dataframe thead th {\n",
       "        text-align: right;\n",
       "    }\n",
       "</style>\n",
       "<table border=\"1\" class=\"dataframe\">\n",
       "  <thead>\n",
       "    <tr style=\"text-align: right;\">\n",
       "      <th></th>\n",
       "      <th>이름</th>\n",
       "      <th>주요경력</th>\n",
       "      <th>출생</th>\n",
       "      <th>사망</th>\n",
       "      <th>분기</th>\n",
       "      <th>생존일수</th>\n",
       "      <th>생존기간</th>\n",
       "      <th>출생요일</th>\n",
       "      <th>출생월</th>\n",
       "    </tr>\n",
       "    <tr>\n",
       "      <th>출생</th>\n",
       "      <th></th>\n",
       "      <th></th>\n",
       "      <th></th>\n",
       "      <th></th>\n",
       "      <th></th>\n",
       "      <th></th>\n",
       "      <th></th>\n",
       "      <th></th>\n",
       "      <th></th>\n",
       "    </tr>\n",
       "  </thead>\n",
       "  <tbody>\n",
       "    <tr>\n",
       "      <th>1955-02-24</th>\n",
       "      <td>스티브잡스</td>\n",
       "      <td>CEO</td>\n",
       "      <td>1955-02-24</td>\n",
       "      <td>2011-10-05</td>\n",
       "      <td>1</td>\n",
       "      <td>20677 days</td>\n",
       "      <td>56</td>\n",
       "      <td>Thu</td>\n",
       "      <td>Feb</td>\n",
       "    </tr>\n",
       "  </tbody>\n",
       "</table>\n",
       "</div>"
      ],
      "text/plain": [
       "               이름 주요경력         출생         사망  분기       생존일수  생존기간 출생요일  출생월\n",
       "출생                                                                         \n",
       "1955-02-24  스티브잡스  CEO 1955-02-24 2011-10-05   1 20677 days    56  Thu  Feb"
      ]
     },
     "execution_count": 73,
     "metadata": {},
     "output_type": "execute_result"
    }
   ],
   "source": [
    "# 1955년 출생한 데이터 추출하기\n",
    "df.loc['1955']"
   ]
  },
  {
   "cell_type": "code",
   "execution_count": 74,
   "id": "5d3970b9",
   "metadata": {},
   "outputs": [
    {
     "data": {
      "text/html": [
       "<div>\n",
       "<style scoped>\n",
       "    .dataframe tbody tr th:only-of-type {\n",
       "        vertical-align: middle;\n",
       "    }\n",
       "\n",
       "    .dataframe tbody tr th {\n",
       "        vertical-align: top;\n",
       "    }\n",
       "\n",
       "    .dataframe thead th {\n",
       "        text-align: right;\n",
       "    }\n",
       "</style>\n",
       "<table border=\"1\" class=\"dataframe\">\n",
       "  <thead>\n",
       "    <tr style=\"text-align: right;\">\n",
       "      <th></th>\n",
       "      <th>이름</th>\n",
       "      <th>주요경력</th>\n",
       "      <th>출생</th>\n",
       "      <th>사망</th>\n",
       "      <th>분기</th>\n",
       "      <th>생존일수</th>\n",
       "      <th>생존기간</th>\n",
       "      <th>출생요일</th>\n",
       "      <th>출생월</th>\n",
       "    </tr>\n",
       "    <tr>\n",
       "      <th>출생</th>\n",
       "      <th></th>\n",
       "      <th></th>\n",
       "      <th></th>\n",
       "      <th></th>\n",
       "      <th></th>\n",
       "      <th></th>\n",
       "      <th></th>\n",
       "      <th></th>\n",
       "      <th></th>\n",
       "    </tr>\n",
       "  </thead>\n",
       "  <tbody>\n",
       "    <tr>\n",
       "      <th>1955-02-24</th>\n",
       "      <td>스티브잡스</td>\n",
       "      <td>CEO</td>\n",
       "      <td>1955-02-24</td>\n",
       "      <td>2011-10-05</td>\n",
       "      <td>1</td>\n",
       "      <td>20677 days</td>\n",
       "      <td>56</td>\n",
       "      <td>Thu</td>\n",
       "      <td>Feb</td>\n",
       "    </tr>\n",
       "  </tbody>\n",
       "</table>\n",
       "</div>"
      ],
      "text/plain": [
       "               이름 주요경력         출생         사망  분기       생존일수  생존기간 출생요일  출생월\n",
       "출생                                                                         \n",
       "1955-02-24  스티브잡스  CEO 1955-02-24 2011-10-05   1 20677 days    56  Thu  Feb"
      ]
     },
     "execution_count": 74,
     "metadata": {},
     "output_type": "execute_result"
    }
   ],
   "source": [
    "# 1955년 2월 출생한 데이터 추출하기\n",
    "df.loc['1955-02']"
   ]
  },
  {
   "cell_type": "code",
   "execution_count": null,
   "id": "81fe272f",
   "metadata": {},
   "outputs": [],
   "source": []
  }
 ],
 "metadata": {
  "kernelspec": {
   "display_name": "Python 3 (ipykernel)",
   "language": "python",
   "name": "python3"
  },
  "language_info": {
   "codemirror_mode": {
    "name": "ipython",
    "version": 3
   },
   "file_extension": ".py",
   "mimetype": "text/x-python",
   "name": "python",
   "nbconvert_exporter": "python",
   "pygments_lexer": "ipython3",
   "version": "3.9.12"
  },
  "toc": {
   "base_numbering": 1,
   "nav_menu": {},
   "number_sections": true,
   "sideBar": true,
   "skip_h1_title": false,
   "title_cell": "Table of Contents",
   "title_sidebar": "Contents",
   "toc_cell": false,
   "toc_position": {},
   "toc_section_display": true,
   "toc_window_display": false
  }
 },
 "nbformat": 4,
 "nbformat_minor": 5
}
