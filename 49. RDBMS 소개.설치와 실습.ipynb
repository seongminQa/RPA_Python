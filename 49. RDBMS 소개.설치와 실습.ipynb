{
 "cells": [
  {
   "cell_type": "markdown",
   "id": "c1894ec9",
   "metadata": {},
   "source": [
    "# 학습목표\n",
    "- 데이터베이스 시스템을 이해 할 수 있다.\n",
    "- MySQL DBMS 설치를 수행 할 수 있다.\n",
    "- 클라이언트와 서버를 설명할 수 있다."
   ]
  },
  {
   "cell_type": "code",
   "execution_count": null,
   "id": "24b0c315",
   "metadata": {},
   "outputs": [],
   "source": [
    "# 데이터베이스란?\n",
    "- 목적에 맞도록 관련된 데이터를 모아두기 위한 방법\n",
    "- 데이터 모음을 관리 및 이용하도록 제공하는 데이터베이스 관리시스템을 일반적으로 데이터베이스라고도 부른다."
   ]
  },
  {
   "cell_type": "code",
   "execution_count": null,
   "id": "21fd1ffd",
   "metadata": {},
   "outputs": [],
   "source": [
    "# 기능적 특징 (SQL 언어를 통해 .. )\n",
    "- 데이터 정의\n",
    "- 데이터 조작\n",
    "- 데이터 추출\n",
    "- 데이터 제어"
   ]
  },
  {
   "cell_type": "code",
   "execution_count": null,
   "id": "3b384200",
   "metadata": {},
   "outputs": [],
   "source": [
    "# DBMS (데이터베이스 관리 시스템)\n",
    "# 데이터베이스의 종류 4가지..\n",
    "# 관계형 DBMS란? -> RDBMS -> 현재 사용되는 DBMS중 가장 많은 부분을 차지\n",
    "# DBMS의 특징\n",
    "- 데이터의 무결성\n",
    "- 데이터의 독립성\n",
    "- 보안\n",
    "- 데이터 중복의 최소화\n",
    "- SQL언어"
   ]
  },
  {
   "cell_type": "code",
   "execution_count": null,
   "id": "5a56bdae",
   "metadata": {},
   "outputs": [],
   "source": [
    "# MySQL\n",
    "- 세계에서 가장 인기 있는 Open source DB\n",
    "- Oracle사가 인수\n",
    "- 최상의 신뢰성과 보안성을 제공하는 오픈 소스 데이터베이스"
   ]
  },
  {
   "cell_type": "code",
   "execution_count": null,
   "id": "53dadb19",
   "metadata": {},
   "outputs": [],
   "source": [
    "# MySQL 8 Community Edition 다운로드"
   ]
  },
  {
   "cell_type": "code",
   "execution_count": null,
   "id": "a3c6e7c5",
   "metadata": {},
   "outputs": [],
   "source": [
    "# 스키마?\n",
    "- 물리적 공간 -> DBMS에 저장되는 공간\n",
    "- 논리적 공간 -> 저장 공간의 영역\n",
    "- 스키마 내부에 테이블이 존재한다. 테이블안에 실제 데이터가 저장됨\n",
    "\n",
    "# ERD (Entity Relation Diagram)\n",
    "\n",
    "# 테이블의 구성요소\n",
    "- row(record)\n",
    "- column(key)\n",
    "- 필드\n",
    "\n",
    "# SQL언어\n",
    "- DML -> 데이터 조적어로 검색 및 수정 기능 제공\n",
    "- DDL -> 데잍터 구조를 생성 변경 삭제 등의 기능을 제공\n",
    "- DCL -> 데이터에 대한 권한 관리 및 트랜잭션 제어\n",
    "\n"
   ]
  }
 ],
 "metadata": {
  "kernelspec": {
   "display_name": "Python 3 (ipykernel)",
   "language": "python",
   "name": "python3"
  },
  "language_info": {
   "codemirror_mode": {
    "name": "ipython",
    "version": 3
   },
   "file_extension": ".py",
   "mimetype": "text/x-python",
   "name": "python",
   "nbconvert_exporter": "python",
   "pygments_lexer": "ipython3",
   "version": "3.9.12"
  }
 },
 "nbformat": 4,
 "nbformat_minor": 5
}
