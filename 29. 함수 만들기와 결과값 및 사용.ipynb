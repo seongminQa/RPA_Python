{
 "cells": [
  {
   "cell_type": "markdown",
   "id": "963c0fc0",
   "metadata": {},
   "source": [
    "# 함수"
   ]
  },
  {
   "cell_type": "code",
   "execution_count": 1,
   "id": "6f4268a0",
   "metadata": {},
   "outputs": [],
   "source": [
    "# 함수란? -> 특정 기능을 구현하기 위한 코드의 묶음\n",
    "\n",
    "# 크고 복잡한 프로그램을 해결하기 쉬운 작은 단위로 쪼개어 해결\n",
    "# 반복되는 코드를 함수화하여 코드의 중복을 배제한다\n",
    "\n",
    "# 크고 복잡한 문제를 쉽게 해결할 수 있다\n",
    "# 코드의 가독성을 높여 프로그램의 흐름파악이 용이하다\n",
    "# 자주 사용되는 코드를 하나의 함수로 만들어 프로그램 내에서 재사용가능\n",
    "# 프로그램의 디버깅이 용이하다"
   ]
  },
  {
   "cell_type": "code",
   "execution_count": 2,
   "id": "bc704658",
   "metadata": {},
   "outputs": [],
   "source": [
    "# 내장함수 -> 파이썬 프로그램에 기본적으로 내장된 함수\n",
    "# 외장함수 -> 모듈/패키지 함수 # import로 사용\n",
    "# 사용자 정의 함수 -> 사용자가 만든 함수"
   ]
  },
  {
   "cell_type": "code",
   "execution_count": 3,
   "id": "1f4c10e6",
   "metadata": {},
   "outputs": [],
   "source": [
    "# 함수 정의하기(만들기)\n",
    "# def 함수명():\n",
    "#     함수내용\n",
    "\n",
    "# 함수 호출하기(사용하기) -> 호출하기 전에 함수가 정의되어있어야 한다\n",
    "# 함수명()"
   ]
  },
  {
   "cell_type": "code",
   "execution_count": 4,
   "id": "84019ad2",
   "metadata": {},
   "outputs": [
    {
     "name": "stdout",
     "output_type": "stream",
     "text": [
      "안녕하세요!\n",
      "저의 이름은 파이썬입니다.\n"
     ]
    }
   ],
   "source": [
    " ## 자기소개 ##\n",
    "print('안녕하세요!')\n",
    "print('저의 이름은 파이썬입니다.')"
   ]
  },
  {
   "cell_type": "code",
   "execution_count": 6,
   "id": "6ebc59f0",
   "metadata": {},
   "outputs": [
    {
     "name": "stdout",
     "output_type": "stream",
     "text": [
      "안녕하세요!\n",
      "저의 이름은 파이썬입니다.\n"
     ]
    }
   ],
   "source": [
    "# 함수 정의\n",
    "def introduce():\n",
    "    print('안녕하세요!')\n",
    "    print('저의 이름은 파이썬입니다.')\n",
    "# 함수 호출\n",
    "introduce()"
   ]
  },
  {
   "cell_type": "markdown",
   "id": "b67fd264",
   "metadata": {},
   "source": [
    "# 매개변수 전달하기"
   ]
  },
  {
   "cell_type": "code",
   "execution_count": 7,
   "id": "b3c34c6c",
   "metadata": {},
   "outputs": [],
   "source": [
    "# 함수 정의하기(만들기)\n",
    "# def 함수명(매개변수1,매개변수2,매개변수3, ... )"
   ]
  },
  {
   "cell_type": "code",
   "execution_count": 11,
   "id": "e341e514",
   "metadata": {},
   "outputs": [
    {
     "name": "stdout",
     "output_type": "stream",
     "text": [
      "안녕하세요!\n",
      "저의 이름은 파이썬입니다\n"
     ]
    }
   ],
   "source": [
    " ## 자기소개 ##\n",
    "name = '파이썬'\n",
    "print('안녕하세요!')\n",
    "print('저의 이름은 '+name+'입니다')"
   ]
  },
  {
   "cell_type": "code",
   "execution_count": 14,
   "id": "c8467e68",
   "metadata": {},
   "outputs": [
    {
     "name": "stdout",
     "output_type": "stream",
     "text": [
      "안녕하세요!\n",
      "저의 이름은 파이썬입니다.\n"
     ]
    }
   ],
   "source": [
    "# 매개변수 1개 전달하기\n",
    "def introduce2(n):\n",
    "    print('안녕하세요!')\n",
    "    print('저의 이름은 ' +n+'입니다.')\n",
    "introduce2('파이썬')"
   ]
  },
  {
   "cell_type": "code",
   "execution_count": 2,
   "id": "3fd22cc1",
   "metadata": {},
   "outputs": [
    {
     "name": "stdout",
     "output_type": "stream",
     "text": [
      "안녕하세요!\n",
      "저의 이름은 김성민입니다\n",
      "저의 나이는 32살입니다\n",
      "저의 키는 178.8입니다\n",
      "\n",
      "안녕하세요!\n",
      "저의 이름은 김성민입니다\n",
      "저의 나이는 32살입니다\n",
      "저의 키는 178.8입니다\n",
      "\n",
      "안녕하세요!\n",
      "저의 이름은 김성민입니다\n",
      "저의 나이는 32살입니다\n",
      "저의 키는 178.8입니다\n"
     ]
    }
   ],
   "source": [
    "# 매개변수 여러개 전달하기\n",
    "# q = '김성민'\n",
    "# age = 32\n",
    "# h = 178.8\n",
    "def introduce3(q,age,h):\n",
    "    print('안녕하세요!')\n",
    "    print('저의 이름은 '+q+'입니다')\n",
    "    print('저의 나이는 '+str(age)+'살입니다')  ## 매개변수를 넘길 때 숫자라면, 문자열화 해줘야한다.\n",
    "    print('저의 키는 '+str(h)+'입니다')\n",
    "introduce3('김성민',32,178.8)\n",
    "print()\n",
    "\n",
    "def introduce4(q,age,h):\n",
    "    print('안녕하세요!')\n",
    "    print('저의 이름은 '+q+'입니다')\n",
    "    print('저의 나이는 '+age+'살입니다')\n",
    "    print('저의 키는 '+h+'입니다')\n",
    "introduce3('김성민','32','178.8')\n",
    "print()\n",
    "\n",
    "def introduce5(q,age,h):\n",
    "    print('안녕하세요!')\n",
    "    print(f'저의 이름은 {q}입니다')     # format형으로 하면 더 간단하다\n",
    "    print(f'저의 나이는 {age}살입니다')\n",
    "    print(f'저의 키는 {h}입니다')\n",
    "introduce3('김성민',32,178.8)"
   ]
  },
  {
   "cell_type": "markdown",
   "id": "3399d7e7",
   "metadata": {},
   "source": [
    "# 연습문제"
   ]
  },
  {
   "cell_type": "code",
   "execution_count": 20,
   "id": "b37b3729",
   "metadata": {},
   "outputs": [],
   "source": [
    "# 이름과 나이를 입력받아 생일축하 메시지를 출력하는 함수를 만들고 호출\n",
    "# 생일문구 : 000님의 00번째 생일을 축하합니다!!"
   ]
  },
  {
   "cell_type": "code",
   "execution_count": 21,
   "id": "e5fa5dea",
   "metadata": {},
   "outputs": [
    {
     "name": "stdout",
     "output_type": "stream",
     "text": [
      "이름 :김성민\n",
      "나이 :32\n",
      "김성민님의 32번째 생일을 축하합니다.\n"
     ]
    }
   ],
   "source": [
    "name = input('이름 :')\n",
    "age = input('나이 :')\n",
    "def happybirthday(name,age):\n",
    "    print(f'{name}님의 {age}번째 생일을 축하합니다.')\n",
    "happybirthday(name,age)"
   ]
  },
  {
   "cell_type": "markdown",
   "id": "c926a1d3",
   "metadata": {},
   "source": [
    "# 코드를 모아만드는 함수"
   ]
  },
  {
   "cell_type": "code",
   "execution_count": 22,
   "id": "94e36254",
   "metadata": {},
   "outputs": [],
   "source": [
    "# 함수 정의하기(만들기)\n",
    "# def 함수명(매개변수1,매개변수2, ... )\n",
    "#     함수내용\n",
    "#     return 결과값 # -> 반환값은 없거나 1개이다.\n",
    "#                   # -> 반환값이 여러 개인 경우 하나의 '튜플'로 묶어서 반환\n",
    "\n",
    "# 함수 호출하기(사용하기)\n",
    "# 변수 = 함수명(인수1,인수2, ... ) # -> 반환값이 있을 때는 변수로 받는다."
   ]
  },
  {
   "cell_type": "code",
   "execution_count": 26,
   "id": "38d41af0",
   "metadata": {},
   "outputs": [
    {
     "name": "stdout",
     "output_type": "stream",
     "text": [
      "3\n",
      "5\n"
     ]
    }
   ],
   "source": [
    "# 값 1개 반환하기\n",
    "# 두 수를 매개변수로 받아 더한 후 결과를 리턴하는 함수 만들기\n",
    "def get_plus(n1,n2):\n",
    "    return n1+n2\n",
    "a = get_plus(1,2)\n",
    "print(a)\n",
    "print(get_plus(2,3))"
   ]
  },
  {
   "cell_type": "code",
   "execution_count": 30,
   "id": "55a206a4",
   "metadata": {},
   "outputs": [
    {
     "name": "stdout",
     "output_type": "stream",
     "text": [
      "(3, -1)\n",
      "3 -1\n",
      "3 -1\n"
     ]
    }
   ],
   "source": [
    "# 값 여러개 반환하기\n",
    "# 두 수를 매개변수로 받아 더한값과 뺀 값을 리턴하는 함수 만들기\n",
    "def get_plus_minus(n1,n2):\n",
    "    return n1+n2, n1-n2\n",
    "print(get_plus_minus(1,2))\n",
    "a1 = get_plus_minus(1,2)[0]\n",
    "a2 = get_plus_minus(1,2)[1]    # 반환값이 여러개일 경우, 튜플형식으로 반환하기 때문에 인덱스를 사용해 반환값을 가져온다\n",
    "print(a1,a2)\n",
    "plus,minus = get_plus_minus(1,2)\n",
    "print(plus,minus)"
   ]
  },
  {
   "cell_type": "markdown",
   "id": "b64f580d",
   "metadata": {},
   "source": [
    "# 함수에서 빠져나오기"
   ]
  },
  {
   "cell_type": "code",
   "execution_count": 37,
   "id": "67cb1598",
   "metadata": {},
   "outputs": [
    {
     "data": {
      "text/plain": [
       "'짝수'"
      ]
     },
     "execution_count": 37,
     "metadata": {},
     "output_type": "execute_result"
    }
   ],
   "source": [
    "# return을 만나면 함수를 빠져나온다.\n",
    "# 반환할 값이 있다면 값을 반환하고 빠져나오고, 없다면 그냥 빠져나온다.\n",
    "def is_odd_even(n):\n",
    "    if n == 0:\n",
    "        result = 0\n",
    "    elif n % 2 == 0:\n",
    "        result = '짝수'\n",
    "    else:\n",
    "        result = '홀수'\n",
    "    return result\n",
    "is_odd_even(2)"
   ]
  },
  {
   "cell_type": "code",
   "execution_count": 41,
   "id": "c296737e",
   "metadata": {},
   "outputs": [
    {
     "data": {
      "text/plain": [
       "'홀수'"
      ]
     },
     "execution_count": 41,
     "metadata": {},
     "output_type": "execute_result"
    }
   ],
   "source": [
    "def is_odd_even(n):\n",
    "    if n == 0:\n",
    "        return 0\n",
    "    if n % 2 == 0:\n",
    "        return '짝수'\n",
    "    return '홀수'\n",
    "is_odd_even(23)"
   ]
  },
  {
   "cell_type": "markdown",
   "id": "bce33b9f",
   "metadata": {},
   "source": [
    "# 연습문제"
   ]
  },
  {
   "cell_type": "code",
   "execution_count": 42,
   "id": "d4dea013",
   "metadata": {},
   "outputs": [],
   "source": [
    "# 소수 여부 판단하기. 매개변수로 전달받은 수가\n",
    "# 소수인지 아닌지 판별하는 함수를 작성하고 호출하세요\n",
    "# 소수란 : 1과 자기 자신으로만 나누어 떨어지는 1보다 큰 양의 정수"
   ]
  },
  {
   "cell_type": "code",
   "execution_count": 45,
   "id": "47fc2624",
   "metadata": {},
   "outputs": [
    {
     "data": {
      "text/plain": [
       "True"
      ]
     },
     "execution_count": 45,
     "metadata": {},
     "output_type": "execute_result"
    }
   ],
   "source": [
    "def is_prime(n):\n",
    "    if n <= 1:\n",
    "        return False\n",
    "    \n",
    "    for i in range(2,n):\n",
    "        if n % i == 0:\n",
    "            return False\n",
    "        \n",
    "    return True\n",
    "is_prime(2)"
   ]
  },
  {
   "cell_type": "code",
   "execution_count": null,
   "id": "6a6c8d78",
   "metadata": {},
   "outputs": [],
   "source": []
  }
 ],
 "metadata": {
  "kernelspec": {
   "display_name": "Python 3 (ipykernel)",
   "language": "python",
   "name": "python3"
  },
  "language_info": {
   "codemirror_mode": {
    "name": "ipython",
    "version": 3
   },
   "file_extension": ".py",
   "mimetype": "text/x-python",
   "name": "python",
   "nbconvert_exporter": "python",
   "pygments_lexer": "ipython3",
   "version": "3.9.12"
  },
  "toc": {
   "base_numbering": 1,
   "nav_menu": {},
   "number_sections": true,
   "sideBar": true,
   "skip_h1_title": false,
   "title_cell": "Table of Contents",
   "title_sidebar": "Contents",
   "toc_cell": false,
   "toc_position": {},
   "toc_section_display": true,
   "toc_window_display": false
  }
 },
 "nbformat": 4,
 "nbformat_minor": 5
}
