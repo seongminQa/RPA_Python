{
 "cells": [
  {
   "cell_type": "code",
   "execution_count": 1,
   "id": "42253124",
   "metadata": {},
   "outputs": [],
   "source": [
    "# ----------------------- 89강 케이스별 데이터 시각화 8 17분부터~"
   ]
  },
  {
   "cell_type": "code",
   "execution_count": 2,
   "id": "e740a32e",
   "metadata": {},
   "outputs": [],
   "source": [
    "import matplotlib.pyplot as plt\n",
    "import pandas as pd\n",
    "import seaborn as sns"
   ]
  },
  {
   "cell_type": "code",
   "execution_count": 3,
   "id": "a3322975",
   "metadata": {},
   "outputs": [],
   "source": [
    "plt.rcParams['font.family']='Malgun Gothic'\n",
    "plt.rcParams['axes.unicode_minus']=False"
   ]
  },
  {
   "cell_type": "markdown",
   "id": "1ca517cb",
   "metadata": {},
   "source": [
    "# 데이터 수집 및 전처리\n",
    "* 행정안전부<br>\n",
    "https://www.mois.go.kr/<br>\n",
    "정책자료 > 주민등록인구통계<br>\n",
    "전체읍면동 현황<br><br>\n",
    "* 바로가기<br>\n",
    "https://jumin.mois.go.kr/index.jsp"
   ]
  },
  {
   "cell_type": "markdown",
   "id": "db26e5e9",
   "metadata": {},
   "source": [
    "## 데이터프레임 생성 및 전처리"
   ]
  },
  {
   "cell_type": "markdown",
   "id": "1bce6c97",
   "metadata": {},
   "source": [
    "### 데이터프레임 생성"
   ]
  },
  {
   "cell_type": "code",
   "execution_count": 4,
   "id": "e1f20388",
   "metadata": {},
   "outputs": [
    {
     "data": {
      "text/html": [
       "<div>\n",
       "<style scoped>\n",
       "    .dataframe tbody tr th:only-of-type {\n",
       "        vertical-align: middle;\n",
       "    }\n",
       "\n",
       "    .dataframe tbody tr th {\n",
       "        vertical-align: top;\n",
       "    }\n",
       "\n",
       "    .dataframe thead th {\n",
       "        text-align: right;\n",
       "    }\n",
       "</style>\n",
       "<table border=\"1\" class=\"dataframe\">\n",
       "  <thead>\n",
       "    <tr style=\"text-align: right;\">\n",
       "      <th></th>\n",
       "      <th>행정구역</th>\n",
       "      <th>2021년10월_총인구수</th>\n",
       "      <th>2021년10월_세대수</th>\n",
       "      <th>2021년10월_세대당 인구</th>\n",
       "      <th>2021년10월_남자 인구수</th>\n",
       "      <th>2021년10월_여자 인구수</th>\n",
       "      <th>2021년10월_남여 비율</th>\n",
       "    </tr>\n",
       "  </thead>\n",
       "  <tbody>\n",
       "    <tr>\n",
       "      <th>0</th>\n",
       "      <td>서울특별시  (1100000000)</td>\n",
       "      <td>9,532,428</td>\n",
       "      <td>4,422,587</td>\n",
       "      <td>2.16</td>\n",
       "      <td>4,630,630</td>\n",
       "      <td>4,901,798</td>\n",
       "      <td>0.94</td>\n",
       "    </tr>\n",
       "    <tr>\n",
       "      <th>1</th>\n",
       "      <td>서울특별시 종로구 (1111000000)</td>\n",
       "      <td>145,346</td>\n",
       "      <td>73,613</td>\n",
       "      <td>1.97</td>\n",
       "      <td>70,552</td>\n",
       "      <td>74,794</td>\n",
       "      <td>0.94</td>\n",
       "    </tr>\n",
       "    <tr>\n",
       "      <th>2</th>\n",
       "      <td>서울특별시 종로구 청운효자동(1111051500)</td>\n",
       "      <td>12,011</td>\n",
       "      <td>5,252</td>\n",
       "      <td>2.29</td>\n",
       "      <td>5,553</td>\n",
       "      <td>6,458</td>\n",
       "      <td>0.86</td>\n",
       "    </tr>\n",
       "    <tr>\n",
       "      <th>3</th>\n",
       "      <td>서울특별시 종로구 사직동(1111053000)</td>\n",
       "      <td>9,367</td>\n",
       "      <td>4,686</td>\n",
       "      <td>2.00</td>\n",
       "      <td>4,206</td>\n",
       "      <td>5,161</td>\n",
       "      <td>0.81</td>\n",
       "    </tr>\n",
       "    <tr>\n",
       "      <th>4</th>\n",
       "      <td>서울특별시 종로구 삼청동(1111054000)</td>\n",
       "      <td>2,478</td>\n",
       "      <td>1,251</td>\n",
       "      <td>1.98</td>\n",
       "      <td>1,178</td>\n",
       "      <td>1,300</td>\n",
       "      <td>0.91</td>\n",
       "    </tr>\n",
       "    <tr>\n",
       "      <th>...</th>\n",
       "      <td>...</td>\n",
       "      <td>...</td>\n",
       "      <td>...</td>\n",
       "      <td>...</td>\n",
       "      <td>...</td>\n",
       "      <td>...</td>\n",
       "      <td>...</td>\n",
       "    </tr>\n",
       "    <tr>\n",
       "      <th>3847</th>\n",
       "      <td>제주특별자치도 서귀포시 서홍동(5013058000)</td>\n",
       "      <td>10,999</td>\n",
       "      <td>4,517</td>\n",
       "      <td>2.44</td>\n",
       "      <td>5,435</td>\n",
       "      <td>5,564</td>\n",
       "      <td>0.98</td>\n",
       "    </tr>\n",
       "    <tr>\n",
       "      <th>3848</th>\n",
       "      <td>제주특별자치도 서귀포시 대륜동(5013059000)</td>\n",
       "      <td>15,216</td>\n",
       "      <td>6,760</td>\n",
       "      <td>2.25</td>\n",
       "      <td>7,691</td>\n",
       "      <td>7,525</td>\n",
       "      <td>1.02</td>\n",
       "    </tr>\n",
       "    <tr>\n",
       "      <th>3849</th>\n",
       "      <td>제주특별자치도 서귀포시 대천동(5013060000)</td>\n",
       "      <td>13,900</td>\n",
       "      <td>6,474</td>\n",
       "      <td>2.15</td>\n",
       "      <td>7,048</td>\n",
       "      <td>6,852</td>\n",
       "      <td>1.03</td>\n",
       "    </tr>\n",
       "    <tr>\n",
       "      <th>3850</th>\n",
       "      <td>제주특별자치도 서귀포시 중문동(5013061000)</td>\n",
       "      <td>11,886</td>\n",
       "      <td>5,731</td>\n",
       "      <td>2.07</td>\n",
       "      <td>6,057</td>\n",
       "      <td>5,829</td>\n",
       "      <td>1.04</td>\n",
       "    </tr>\n",
       "    <tr>\n",
       "      <th>3851</th>\n",
       "      <td>제주특별자치도 서귀포시 예래동(5013062000)</td>\n",
       "      <td>3,916</td>\n",
       "      <td>2,011</td>\n",
       "      <td>1.95</td>\n",
       "      <td>2,004</td>\n",
       "      <td>1,912</td>\n",
       "      <td>1.05</td>\n",
       "    </tr>\n",
       "  </tbody>\n",
       "</table>\n",
       "<p>3852 rows × 7 columns</p>\n",
       "</div>"
      ],
      "text/plain": [
       "                              행정구역 2021년10월_총인구수 2021년10월_세대수  \\\n",
       "0              서울특별시  (1100000000)     9,532,428    4,422,587   \n",
       "1           서울특별시 종로구 (1111000000)       145,346       73,613   \n",
       "2      서울특별시 종로구 청운효자동(1111051500)        12,011        5,252   \n",
       "3        서울특별시 종로구 사직동(1111053000)         9,367        4,686   \n",
       "4        서울특별시 종로구 삼청동(1111054000)         2,478        1,251   \n",
       "...                            ...           ...          ...   \n",
       "3847  제주특별자치도 서귀포시 서홍동(5013058000)        10,999        4,517   \n",
       "3848  제주특별자치도 서귀포시 대륜동(5013059000)        15,216        6,760   \n",
       "3849  제주특별자치도 서귀포시 대천동(5013060000)        13,900        6,474   \n",
       "3850  제주특별자치도 서귀포시 중문동(5013061000)        11,886        5,731   \n",
       "3851  제주특별자치도 서귀포시 예래동(5013062000)         3,916        2,011   \n",
       "\n",
       "      2021년10월_세대당 인구 2021년10월_남자 인구수 2021년10월_여자 인구수  2021년10월_남여 비율  \n",
       "0                2.16       4,630,630       4,901,798            0.94  \n",
       "1                1.97          70,552          74,794            0.94  \n",
       "2                2.29           5,553           6,458            0.86  \n",
       "3                2.00           4,206           5,161            0.81  \n",
       "4                1.98           1,178           1,300            0.91  \n",
       "...               ...             ...             ...             ...  \n",
       "3847             2.44           5,435           5,564            0.98  \n",
       "3848             2.25           7,691           7,525            1.02  \n",
       "3849             2.15           7,048           6,852            1.03  \n",
       "3850             2.07           6,057           5,829            1.04  \n",
       "3851             1.95           2,004           1,912            1.05  \n",
       "\n",
       "[3852 rows x 7 columns]"
      ]
     },
     "execution_count": 4,
     "metadata": {},
     "output_type": "execute_result"
    }
   ],
   "source": [
    "df = pd.read_csv('data/202110_202110_주민등록인구및세대현황_월간.csv', encoding='cp949')\n",
    "df"
   ]
  },
  {
   "cell_type": "markdown",
   "id": "39f3da1c",
   "metadata": {},
   "source": [
    "### 컬럼명 변경"
   ]
  },
  {
   "cell_type": "code",
   "execution_count": 5,
   "id": "f91069f0",
   "metadata": {},
   "outputs": [
    {
     "data": {
      "text/html": [
       "<div>\n",
       "<style scoped>\n",
       "    .dataframe tbody tr th:only-of-type {\n",
       "        vertical-align: middle;\n",
       "    }\n",
       "\n",
       "    .dataframe tbody tr th {\n",
       "        vertical-align: top;\n",
       "    }\n",
       "\n",
       "    .dataframe thead th {\n",
       "        text-align: right;\n",
       "    }\n",
       "</style>\n",
       "<table border=\"1\" class=\"dataframe\">\n",
       "  <thead>\n",
       "    <tr style=\"text-align: right;\">\n",
       "      <th></th>\n",
       "      <th>행정구역</th>\n",
       "      <th>총인구수</th>\n",
       "      <th>세대수</th>\n",
       "      <th>세대당 인구</th>\n",
       "      <th>남자 인구수</th>\n",
       "      <th>여자 인구수</th>\n",
       "      <th>남여 비율</th>\n",
       "    </tr>\n",
       "  </thead>\n",
       "  <tbody>\n",
       "    <tr>\n",
       "      <th>0</th>\n",
       "      <td>서울특별시  (1100000000)</td>\n",
       "      <td>9,532,428</td>\n",
       "      <td>4,422,587</td>\n",
       "      <td>2.16</td>\n",
       "      <td>4,630,630</td>\n",
       "      <td>4,901,798</td>\n",
       "      <td>0.94</td>\n",
       "    </tr>\n",
       "  </tbody>\n",
       "</table>\n",
       "</div>"
      ],
      "text/plain": [
       "                  행정구역       총인구수        세대수  세대당 인구     남자 인구수     여자 인구수  \\\n",
       "0  서울특별시  (1100000000)  9,532,428  4,422,587    2.16  4,630,630  4,901,798   \n",
       "\n",
       "   남여 비율  \n",
       "0   0.94  "
      ]
     },
     "execution_count": 5,
     "metadata": {},
     "output_type": "execute_result"
    }
   ],
   "source": [
    "df.columns=['행정구역','총인구수','세대수','세대당 인구','남자 인구수','여자 인구수','남여 비율']\n",
    "df.head(1)\n",
    "# 바꿀 컬럼명과 기존 컬럼명의 갯수가 같아야한다."
   ]
  },
  {
   "cell_type": "markdown",
   "id": "c5410ea9",
   "metadata": {},
   "source": [
    "### 자료형 확인, 변환"
   ]
  },
  {
   "cell_type": "code",
   "execution_count": 6,
   "id": "f1cbfc01",
   "metadata": {},
   "outputs": [
    {
     "data": {
      "text/plain": [
       "행정구역       object\n",
       "총인구수       object\n",
       "세대수        object\n",
       "세대당 인구    float64\n",
       "남자 인구수     object\n",
       "여자 인구수     object\n",
       "남여 비율     float64\n",
       "dtype: object"
      ]
     },
     "execution_count": 6,
     "metadata": {},
     "output_type": "execute_result"
    }
   ],
   "source": [
    "# 자료형 확인\n",
    "df.dtypes"
   ]
  },
  {
   "cell_type": "code",
   "execution_count": 7,
   "id": "8f0d75b2",
   "metadata": {},
   "outputs": [],
   "source": [
    "# 숫자형으로 변환\n",
    "df['총인구수'] = df['총인구수'].str.replace(',','').astype('int64')"
   ]
  },
  {
   "cell_type": "code",
   "execution_count": 8,
   "id": "b80074aa",
   "metadata": {},
   "outputs": [],
   "source": [
    "df['세대수'] = df['세대수'].str.replace(',','').astype('int64')\n",
    "df['남자 인구수'] = df['남자 인구수'].str.replace(',','').astype('int64')\n",
    "df['여자 인구수'] = df['여자 인구수'].str.replace(',','').astype('int64')"
   ]
  },
  {
   "cell_type": "code",
   "execution_count": 9,
   "id": "b2287929",
   "metadata": {},
   "outputs": [
    {
     "data": {
      "text/plain": [
       "행정구역       object\n",
       "총인구수        int64\n",
       "세대수         int64\n",
       "세대당 인구    float64\n",
       "남자 인구수      int64\n",
       "여자 인구수      int64\n",
       "남여 비율     float64\n",
       "dtype: object"
      ]
     },
     "execution_count": 9,
     "metadata": {},
     "output_type": "execute_result"
    }
   ],
   "source": [
    "df.dtypes"
   ]
  },
  {
   "cell_type": "markdown",
   "id": "0b0c62c7",
   "metadata": {},
   "source": [
    "## 시도별 서브셋 생성\n",
    "* `컬럼.str.contains(문자열)` : 문자열이 포함된 데이터 추출"
   ]
  },
  {
   "cell_type": "code",
   "execution_count": 10,
   "id": "093b88d3",
   "metadata": {},
   "outputs": [
    {
     "data": {
      "text/html": [
       "<div>\n",
       "<style scoped>\n",
       "    .dataframe tbody tr th:only-of-type {\n",
       "        vertical-align: middle;\n",
       "    }\n",
       "\n",
       "    .dataframe tbody tr th {\n",
       "        vertical-align: top;\n",
       "    }\n",
       "\n",
       "    .dataframe thead th {\n",
       "        text-align: right;\n",
       "    }\n",
       "</style>\n",
       "<table border=\"1\" class=\"dataframe\">\n",
       "  <thead>\n",
       "    <tr style=\"text-align: right;\">\n",
       "      <th></th>\n",
       "      <th>행정구역</th>\n",
       "      <th>총인구수</th>\n",
       "      <th>세대수</th>\n",
       "      <th>세대당 인구</th>\n",
       "      <th>남자 인구수</th>\n",
       "      <th>여자 인구수</th>\n",
       "      <th>남여 비율</th>\n",
       "    </tr>\n",
       "  </thead>\n",
       "  <tbody>\n",
       "    <tr>\n",
       "      <th>0</th>\n",
       "      <td>서울특별시  (1100000000)</td>\n",
       "      <td>9532428</td>\n",
       "      <td>4422587</td>\n",
       "      <td>2.16</td>\n",
       "      <td>4630630</td>\n",
       "      <td>4901798</td>\n",
       "      <td>0.94</td>\n",
       "    </tr>\n",
       "    <tr>\n",
       "      <th>452</th>\n",
       "      <td>부산광역시  (2600000000)</td>\n",
       "      <td>3356311</td>\n",
       "      <td>1541975</td>\n",
       "      <td>2.18</td>\n",
       "      <td>1642368</td>\n",
       "      <td>1713943</td>\n",
       "      <td>0.96</td>\n",
       "    </tr>\n",
       "    <tr>\n",
       "      <th>674</th>\n",
       "      <td>대구광역시  (2700000000)</td>\n",
       "      <td>2390721</td>\n",
       "      <td>1062993</td>\n",
       "      <td>2.25</td>\n",
       "      <td>1178486</td>\n",
       "      <td>1212235</td>\n",
       "      <td>0.97</td>\n",
       "    </tr>\n",
       "    <tr>\n",
       "      <th>826</th>\n",
       "      <td>인천광역시  (2800000000)</td>\n",
       "      <td>2945009</td>\n",
       "      <td>1294158</td>\n",
       "      <td>2.28</td>\n",
       "      <td>1474536</td>\n",
       "      <td>1470473</td>\n",
       "      <td>1.00</td>\n",
       "    </tr>\n",
       "    <tr>\n",
       "      <th>999</th>\n",
       "      <td>광주광역시  (2900000000)</td>\n",
       "      <td>1442454</td>\n",
       "      <td>643841</td>\n",
       "      <td>2.24</td>\n",
       "      <td>713483</td>\n",
       "      <td>728971</td>\n",
       "      <td>0.98</td>\n",
       "    </tr>\n",
       "    <tr>\n",
       "      <th>1102</th>\n",
       "      <td>대전광역시  (3000000000)</td>\n",
       "      <td>1454228</td>\n",
       "      <td>662615</td>\n",
       "      <td>2.19</td>\n",
       "      <td>725742</td>\n",
       "      <td>728486</td>\n",
       "      <td>1.00</td>\n",
       "    </tr>\n",
       "    <tr>\n",
       "      <th>1187</th>\n",
       "      <td>울산광역시  (3100000000)</td>\n",
       "      <td>1122566</td>\n",
       "      <td>481811</td>\n",
       "      <td>2.33</td>\n",
       "      <td>576723</td>\n",
       "      <td>545843</td>\n",
       "      <td>1.06</td>\n",
       "    </tr>\n",
       "    <tr>\n",
       "      <th>1249</th>\n",
       "      <td>세종특별자치시  (3600000000)</td>\n",
       "      <td>368276</td>\n",
       "      <td>151639</td>\n",
       "      <td>2.43</td>\n",
       "      <td>183879</td>\n",
       "      <td>184397</td>\n",
       "      <td>1.00</td>\n",
       "    </tr>\n",
       "    <tr>\n",
       "      <th>1273</th>\n",
       "      <td>경기도  (4100000000)</td>\n",
       "      <td>13549577</td>\n",
       "      <td>5820524</td>\n",
       "      <td>2.33</td>\n",
       "      <td>6820025</td>\n",
       "      <td>6729552</td>\n",
       "      <td>1.01</td>\n",
       "    </tr>\n",
       "    <tr>\n",
       "      <th>1882</th>\n",
       "      <td>강원도  (4200000000)</td>\n",
       "      <td>1537717</td>\n",
       "      <td>743798</td>\n",
       "      <td>2.07</td>\n",
       "      <td>774008</td>\n",
       "      <td>763709</td>\n",
       "      <td>1.01</td>\n",
       "    </tr>\n",
       "    <tr>\n",
       "      <th>2095</th>\n",
       "      <td>충청북도  (4300000000)</td>\n",
       "      <td>1596948</td>\n",
       "      <td>757980</td>\n",
       "      <td>2.11</td>\n",
       "      <td>810093</td>\n",
       "      <td>786855</td>\n",
       "      <td>1.03</td>\n",
       "    </tr>\n",
       "    <tr>\n",
       "      <th>2265</th>\n",
       "      <td>충청남도  (4400000000)</td>\n",
       "      <td>2118977</td>\n",
       "      <td>999286</td>\n",
       "      <td>2.12</td>\n",
       "      <td>1083133</td>\n",
       "      <td>1035844</td>\n",
       "      <td>1.05</td>\n",
       "    </tr>\n",
       "    <tr>\n",
       "      <th>2492</th>\n",
       "      <td>전라북도  (4500000000)</td>\n",
       "      <td>1789770</td>\n",
       "      <td>847406</td>\n",
       "      <td>2.11</td>\n",
       "      <td>890378</td>\n",
       "      <td>899392</td>\n",
       "      <td>0.99</td>\n",
       "    </tr>\n",
       "    <tr>\n",
       "      <th>2754</th>\n",
       "      <td>전라남도  (4600000000)</td>\n",
       "      <td>1834653</td>\n",
       "      <td>901203</td>\n",
       "      <td>2.04</td>\n",
       "      <td>923037</td>\n",
       "      <td>911616</td>\n",
       "      <td>1.01</td>\n",
       "    </tr>\n",
       "    <tr>\n",
       "      <th>3100</th>\n",
       "      <td>경상북도  (4700000000)</td>\n",
       "      <td>2627925</td>\n",
       "      <td>1273579</td>\n",
       "      <td>2.06</td>\n",
       "      <td>1324128</td>\n",
       "      <td>1303797</td>\n",
       "      <td>1.02</td>\n",
       "    </tr>\n",
       "    <tr>\n",
       "      <th>3469</th>\n",
       "      <td>경상남도  (4800000000)</td>\n",
       "      <td>3318161</td>\n",
       "      <td>1503397</td>\n",
       "      <td>2.21</td>\n",
       "      <td>1670394</td>\n",
       "      <td>1647767</td>\n",
       "      <td>1.01</td>\n",
       "    </tr>\n",
       "    <tr>\n",
       "      <th>3806</th>\n",
       "      <td>제주특별자치도  (5000000000)</td>\n",
       "      <td>676569</td>\n",
       "      <td>306741</td>\n",
       "      <td>2.21</td>\n",
       "      <td>339195</td>\n",
       "      <td>337374</td>\n",
       "      <td>1.01</td>\n",
       "    </tr>\n",
       "  </tbody>\n",
       "</table>\n",
       "</div>"
      ],
      "text/plain": [
       "                       행정구역      총인구수      세대수  세대당 인구   남자 인구수   여자 인구수  \\\n",
       "0       서울특별시  (1100000000)   9532428  4422587    2.16  4630630  4901798   \n",
       "452     부산광역시  (2600000000)   3356311  1541975    2.18  1642368  1713943   \n",
       "674     대구광역시  (2700000000)   2390721  1062993    2.25  1178486  1212235   \n",
       "826     인천광역시  (2800000000)   2945009  1294158    2.28  1474536  1470473   \n",
       "999     광주광역시  (2900000000)   1442454   643841    2.24   713483   728971   \n",
       "1102    대전광역시  (3000000000)   1454228   662615    2.19   725742   728486   \n",
       "1187    울산광역시  (3100000000)   1122566   481811    2.33   576723   545843   \n",
       "1249  세종특별자치시  (3600000000)    368276   151639    2.43   183879   184397   \n",
       "1273      경기도  (4100000000)  13549577  5820524    2.33  6820025  6729552   \n",
       "1882      강원도  (4200000000)   1537717   743798    2.07   774008   763709   \n",
       "2095     충청북도  (4300000000)   1596948   757980    2.11   810093   786855   \n",
       "2265     충청남도  (4400000000)   2118977   999286    2.12  1083133  1035844   \n",
       "2492     전라북도  (4500000000)   1789770   847406    2.11   890378   899392   \n",
       "2754     전라남도  (4600000000)   1834653   901203    2.04   923037   911616   \n",
       "3100     경상북도  (4700000000)   2627925  1273579    2.06  1324128  1303797   \n",
       "3469     경상남도  (4800000000)   3318161  1503397    2.21  1670394  1647767   \n",
       "3806  제주특별자치도  (5000000000)    676569   306741    2.21   339195   337374   \n",
       "\n",
       "      남여 비율  \n",
       "0      0.94  \n",
       "452    0.96  \n",
       "674    0.97  \n",
       "826    1.00  \n",
       "999    0.98  \n",
       "1102   1.00  \n",
       "1187   1.06  \n",
       "1249   1.00  \n",
       "1273   1.01  \n",
       "1882   1.01  \n",
       "2095   1.03  \n",
       "2265   1.05  \n",
       "2492   0.99  \n",
       "2754   1.01  \n",
       "3100   1.02  \n",
       "3469   1.01  \n",
       "3806   1.01  "
      ]
     },
     "execution_count": 10,
     "metadata": {},
     "output_type": "execute_result"
    }
   ],
   "source": [
    "df_sido = df[df['행정구역'].str.contains('00000000')].copy()\n",
    "df_sido"
   ]
  },
  {
   "cell_type": "markdown",
   "id": "19389294",
   "metadata": {},
   "source": [
    "* 시도명 컬럼 추가"
   ]
  },
  {
   "cell_type": "code",
   "execution_count": 11,
   "id": "707566fd",
   "metadata": {},
   "outputs": [],
   "source": [
    "df_sido['시도명'] = df_sido['행정구역'].str.split(' ').str[0]"
   ]
  },
  {
   "cell_type": "code",
   "execution_count": 12,
   "id": "2651c5be",
   "metadata": {
    "scrolled": false
   },
   "outputs": [
    {
     "data": {
      "text/html": [
       "<div>\n",
       "<style scoped>\n",
       "    .dataframe tbody tr th:only-of-type {\n",
       "        vertical-align: middle;\n",
       "    }\n",
       "\n",
       "    .dataframe tbody tr th {\n",
       "        vertical-align: top;\n",
       "    }\n",
       "\n",
       "    .dataframe thead th {\n",
       "        text-align: right;\n",
       "    }\n",
       "</style>\n",
       "<table border=\"1\" class=\"dataframe\">\n",
       "  <thead>\n",
       "    <tr style=\"text-align: right;\">\n",
       "      <th></th>\n",
       "      <th>행정구역</th>\n",
       "      <th>총인구수</th>\n",
       "      <th>세대수</th>\n",
       "      <th>세대당 인구</th>\n",
       "      <th>남자 인구수</th>\n",
       "      <th>여자 인구수</th>\n",
       "      <th>남여 비율</th>\n",
       "      <th>시도명</th>\n",
       "    </tr>\n",
       "  </thead>\n",
       "  <tbody>\n",
       "    <tr>\n",
       "      <th>0</th>\n",
       "      <td>서울특별시  (1100000000)</td>\n",
       "      <td>9532428</td>\n",
       "      <td>4422587</td>\n",
       "      <td>2.16</td>\n",
       "      <td>4630630</td>\n",
       "      <td>4901798</td>\n",
       "      <td>0.94</td>\n",
       "      <td>서울특별시</td>\n",
       "    </tr>\n",
       "    <tr>\n",
       "      <th>452</th>\n",
       "      <td>부산광역시  (2600000000)</td>\n",
       "      <td>3356311</td>\n",
       "      <td>1541975</td>\n",
       "      <td>2.18</td>\n",
       "      <td>1642368</td>\n",
       "      <td>1713943</td>\n",
       "      <td>0.96</td>\n",
       "      <td>부산광역시</td>\n",
       "    </tr>\n",
       "    <tr>\n",
       "      <th>674</th>\n",
       "      <td>대구광역시  (2700000000)</td>\n",
       "      <td>2390721</td>\n",
       "      <td>1062993</td>\n",
       "      <td>2.25</td>\n",
       "      <td>1178486</td>\n",
       "      <td>1212235</td>\n",
       "      <td>0.97</td>\n",
       "      <td>대구광역시</td>\n",
       "    </tr>\n",
       "    <tr>\n",
       "      <th>826</th>\n",
       "      <td>인천광역시  (2800000000)</td>\n",
       "      <td>2945009</td>\n",
       "      <td>1294158</td>\n",
       "      <td>2.28</td>\n",
       "      <td>1474536</td>\n",
       "      <td>1470473</td>\n",
       "      <td>1.00</td>\n",
       "      <td>인천광역시</td>\n",
       "    </tr>\n",
       "    <tr>\n",
       "      <th>999</th>\n",
       "      <td>광주광역시  (2900000000)</td>\n",
       "      <td>1442454</td>\n",
       "      <td>643841</td>\n",
       "      <td>2.24</td>\n",
       "      <td>713483</td>\n",
       "      <td>728971</td>\n",
       "      <td>0.98</td>\n",
       "      <td>광주광역시</td>\n",
       "    </tr>\n",
       "  </tbody>\n",
       "</table>\n",
       "</div>"
      ],
      "text/plain": [
       "                    행정구역     총인구수      세대수  세대당 인구   남자 인구수   여자 인구수  남여 비율  \\\n",
       "0    서울특별시  (1100000000)  9532428  4422587    2.16  4630630  4901798   0.94   \n",
       "452  부산광역시  (2600000000)  3356311  1541975    2.18  1642368  1713943   0.96   \n",
       "674  대구광역시  (2700000000)  2390721  1062993    2.25  1178486  1212235   0.97   \n",
       "826  인천광역시  (2800000000)  2945009  1294158    2.28  1474536  1470473   1.00   \n",
       "999  광주광역시  (2900000000)  1442454   643841    2.24   713483   728971   0.98   \n",
       "\n",
       "       시도명  \n",
       "0    서울특별시  \n",
       "452  부산광역시  \n",
       "674  대구광역시  \n",
       "826  인천광역시  \n",
       "999  광주광역시  "
      ]
     },
     "execution_count": 12,
     "metadata": {},
     "output_type": "execute_result"
    }
   ],
   "source": [
    "df_sido.head()"
   ]
  },
  {
   "cell_type": "markdown",
   "id": "a66e0e96",
   "metadata": {},
   "source": [
    "# 시도별 인구수 시각화\n",
    "* 인구 수가 가장 많은 지역은 어디일까?\n",
    "* 인구 수가 가장 적은 지역은 어디일까?"
   ]
  },
  {
   "cell_type": "markdown",
   "id": "fc3a0e39",
   "metadata": {},
   "source": [
    "## 총 인구수로 데이터 정렬하기"
   ]
  },
  {
   "cell_type": "code",
   "execution_count": 13,
   "id": "913caa87",
   "metadata": {},
   "outputs": [
    {
     "data": {
      "text/html": [
       "<div>\n",
       "<style scoped>\n",
       "    .dataframe tbody tr th:only-of-type {\n",
       "        vertical-align: middle;\n",
       "    }\n",
       "\n",
       "    .dataframe tbody tr th {\n",
       "        vertical-align: top;\n",
       "    }\n",
       "\n",
       "    .dataframe thead th {\n",
       "        text-align: right;\n",
       "    }\n",
       "</style>\n",
       "<table border=\"1\" class=\"dataframe\">\n",
       "  <thead>\n",
       "    <tr style=\"text-align: right;\">\n",
       "      <th></th>\n",
       "      <th>행정구역</th>\n",
       "      <th>총인구수</th>\n",
       "      <th>세대수</th>\n",
       "      <th>세대당 인구</th>\n",
       "      <th>남자 인구수</th>\n",
       "      <th>여자 인구수</th>\n",
       "      <th>남여 비율</th>\n",
       "      <th>시도명</th>\n",
       "    </tr>\n",
       "  </thead>\n",
       "  <tbody>\n",
       "    <tr>\n",
       "      <th>1273</th>\n",
       "      <td>경기도  (4100000000)</td>\n",
       "      <td>13549577</td>\n",
       "      <td>5820524</td>\n",
       "      <td>2.33</td>\n",
       "      <td>6820025</td>\n",
       "      <td>6729552</td>\n",
       "      <td>1.01</td>\n",
       "      <td>경기도</td>\n",
       "    </tr>\n",
       "    <tr>\n",
       "      <th>0</th>\n",
       "      <td>서울특별시  (1100000000)</td>\n",
       "      <td>9532428</td>\n",
       "      <td>4422587</td>\n",
       "      <td>2.16</td>\n",
       "      <td>4630630</td>\n",
       "      <td>4901798</td>\n",
       "      <td>0.94</td>\n",
       "      <td>서울특별시</td>\n",
       "    </tr>\n",
       "    <tr>\n",
       "      <th>452</th>\n",
       "      <td>부산광역시  (2600000000)</td>\n",
       "      <td>3356311</td>\n",
       "      <td>1541975</td>\n",
       "      <td>2.18</td>\n",
       "      <td>1642368</td>\n",
       "      <td>1713943</td>\n",
       "      <td>0.96</td>\n",
       "      <td>부산광역시</td>\n",
       "    </tr>\n",
       "    <tr>\n",
       "      <th>3469</th>\n",
       "      <td>경상남도  (4800000000)</td>\n",
       "      <td>3318161</td>\n",
       "      <td>1503397</td>\n",
       "      <td>2.21</td>\n",
       "      <td>1670394</td>\n",
       "      <td>1647767</td>\n",
       "      <td>1.01</td>\n",
       "      <td>경상남도</td>\n",
       "    </tr>\n",
       "    <tr>\n",
       "      <th>826</th>\n",
       "      <td>인천광역시  (2800000000)</td>\n",
       "      <td>2945009</td>\n",
       "      <td>1294158</td>\n",
       "      <td>2.28</td>\n",
       "      <td>1474536</td>\n",
       "      <td>1470473</td>\n",
       "      <td>1.00</td>\n",
       "      <td>인천광역시</td>\n",
       "    </tr>\n",
       "  </tbody>\n",
       "</table>\n",
       "</div>"
      ],
      "text/plain": [
       "                     행정구역      총인구수      세대수  세대당 인구   남자 인구수   여자 인구수  남여 비율  \\\n",
       "1273    경기도  (4100000000)  13549577  5820524    2.33  6820025  6729552   1.01   \n",
       "0     서울특별시  (1100000000)   9532428  4422587    2.16  4630630  4901798   0.94   \n",
       "452   부산광역시  (2600000000)   3356311  1541975    2.18  1642368  1713943   0.96   \n",
       "3469   경상남도  (4800000000)   3318161  1503397    2.21  1670394  1647767   1.01   \n",
       "826   인천광역시  (2800000000)   2945009  1294158    2.28  1474536  1470473   1.00   \n",
       "\n",
       "        시도명  \n",
       "1273    경기도  \n",
       "0     서울특별시  \n",
       "452   부산광역시  \n",
       "3469   경상남도  \n",
       "826   인천광역시  "
      ]
     },
     "execution_count": 13,
     "metadata": {},
     "output_type": "execute_result"
    }
   ],
   "source": [
    "df_sido = df_sido.sort_values('총인구수', ascending=False)\n",
    "df_sido.head()"
   ]
  },
  {
   "cell_type": "markdown",
   "id": "02d35269",
   "metadata": {},
   "source": [
    "## 막대그래프로 시각화하기"
   ]
  },
  {
   "cell_type": "markdown",
   "id": "0220fbee",
   "metadata": {},
   "source": [
    "### matplotlib.pyplot으로 시각화하기"
   ]
  },
  {
   "cell_type": "code",
   "execution_count": 14,
   "id": "37ffc850",
   "metadata": {},
   "outputs": [
    {
     "data": {
      "image/png": "[encoded data removed]",
      "text/plain": [
       "<Figure size 1080x360 with 1 Axes>"
      ]
     },
     "metadata": {
      "needs_background": "light"
     },
     "output_type": "display_data"
    }
   ],
   "source": [
    "plt.rcParams['figure.figsize']=(15,5)\n",
    "plt.bar(df_sido['시도명'], df_sido['총인구수'])\n",
    "\n",
    "plt.xticks(rotation=45)\n",
    "plt.title('2021년 10월 시도별 총 인구수', fontsize=20)\n",
    "plt.xlabel('시도명')\n",
    "plt.ylabel('총인구수')\n",
    "plt.grid(axis='y', ls=':')\n",
    "plt.show()"
   ]
  },
  {
   "cell_type": "markdown",
   "id": "ef59e6af",
   "metadata": {},
   "source": [
    "### seaborn으로 시각화하기"
   ]
  },
  {
   "cell_type": "code",
   "execution_count": 15,
   "id": "10ef4984",
   "metadata": {},
   "outputs": [
    {
     "data": {
      "image/png": "[encoded data removed]",
      "text/plain": [
       "<Figure size 1080x360 with 1 Axes>"
      ]
     },
     "metadata": {
      "needs_background": "light"
     },
     "output_type": "display_data"
    }
   ],
   "source": [
    "sns.barplot(data=df_sido, x='시도명', y='총인구수')\n",
    "plt.title('2021년 10월 시도별 총 인구수', fontsize=20)\n",
    "plt.xticks(rotation=45)\n",
    "plt.xlabel('시도명')\n",
    "plt.ylabel('총인구수')\n",
    "plt.grid(axis='y', ls=':')\n",
    "plt.show()\n",
    "\n",
    "# seaborn으로 그래프를 그릴때 matplotlib 함수와 같이 사용 가능"
   ]
  },
  {
   "cell_type": "markdown",
   "id": "514d14b6",
   "metadata": {},
   "source": [
    "## 파이그래프로 시각화하기"
   ]
  },
  {
   "cell_type": "code",
   "execution_count": 16,
   "id": "ab0f88d9",
   "metadata": {},
   "outputs": [
    {
     "data": {
      "image/png": "[encoded data removed]",
      "text/plain": [
       "<Figure size 1080x360 with 1 Axes>"
      ]
     },
     "metadata": {},
     "output_type": "display_data"
    }
   ],
   "source": [
    "plt.figure(facecolor='skyblue')\n",
    "plt.pie(df_sido['총인구수'], labels=df_sido['시도명']\n",
    "       , autopct='%.1f%%', pctdistance=0.8, rotatelabels=True)\n",
    "plt.title('2021년 10월 시도별 총 인구수', fontsize=20, pad=20)\n",
    "plt.show()"
   ]
  },
  {
   "cell_type": "markdown",
   "id": "7854d314",
   "metadata": {},
   "source": [
    "# 시도별 세대당 인구수 시각화\n",
    "* 2중 y축 표시하기<br>\n",
    "`fig, ax1 = plt.subplots()`<br>\n",
    "`ax2 = ax1.twinx()`"
   ]
  },
  {
   "cell_type": "code",
   "execution_count": 17,
   "id": "e13b38a4",
   "metadata": {
    "scrolled": false
   },
   "outputs": [
    {
     "data": {
      "text/html": [
       "<div>\n",
       "<style scoped>\n",
       "    .dataframe tbody tr th:only-of-type {\n",
       "        vertical-align: middle;\n",
       "    }\n",
       "\n",
       "    .dataframe tbody tr th {\n",
       "        vertical-align: top;\n",
       "    }\n",
       "\n",
       "    .dataframe thead th {\n",
       "        text-align: right;\n",
       "    }\n",
       "</style>\n",
       "<table border=\"1\" class=\"dataframe\">\n",
       "  <thead>\n",
       "    <tr style=\"text-align: right;\">\n",
       "      <th></th>\n",
       "      <th>행정구역</th>\n",
       "      <th>총인구수</th>\n",
       "      <th>세대수</th>\n",
       "      <th>세대당 인구</th>\n",
       "      <th>남자 인구수</th>\n",
       "      <th>여자 인구수</th>\n",
       "      <th>남여 비율</th>\n",
       "      <th>시도명</th>\n",
       "    </tr>\n",
       "  </thead>\n",
       "  <tbody>\n",
       "    <tr>\n",
       "      <th>1273</th>\n",
       "      <td>경기도  (4100000000)</td>\n",
       "      <td>13549577</td>\n",
       "      <td>5820524</td>\n",
       "      <td>2.33</td>\n",
       "      <td>6820025</td>\n",
       "      <td>6729552</td>\n",
       "      <td>1.01</td>\n",
       "      <td>경기도</td>\n",
       "    </tr>\n",
       "    <tr>\n",
       "      <th>0</th>\n",
       "      <td>서울특별시  (1100000000)</td>\n",
       "      <td>9532428</td>\n",
       "      <td>4422587</td>\n",
       "      <td>2.16</td>\n",
       "      <td>4630630</td>\n",
       "      <td>4901798</td>\n",
       "      <td>0.94</td>\n",
       "      <td>서울특별시</td>\n",
       "    </tr>\n",
       "    <tr>\n",
       "      <th>452</th>\n",
       "      <td>부산광역시  (2600000000)</td>\n",
       "      <td>3356311</td>\n",
       "      <td>1541975</td>\n",
       "      <td>2.18</td>\n",
       "      <td>1642368</td>\n",
       "      <td>1713943</td>\n",
       "      <td>0.96</td>\n",
       "      <td>부산광역시</td>\n",
       "    </tr>\n",
       "    <tr>\n",
       "      <th>3469</th>\n",
       "      <td>경상남도  (4800000000)</td>\n",
       "      <td>3318161</td>\n",
       "      <td>1503397</td>\n",
       "      <td>2.21</td>\n",
       "      <td>1670394</td>\n",
       "      <td>1647767</td>\n",
       "      <td>1.01</td>\n",
       "      <td>경상남도</td>\n",
       "    </tr>\n",
       "    <tr>\n",
       "      <th>826</th>\n",
       "      <td>인천광역시  (2800000000)</td>\n",
       "      <td>2945009</td>\n",
       "      <td>1294158</td>\n",
       "      <td>2.28</td>\n",
       "      <td>1474536</td>\n",
       "      <td>1470473</td>\n",
       "      <td>1.00</td>\n",
       "      <td>인천광역시</td>\n",
       "    </tr>\n",
       "  </tbody>\n",
       "</table>\n",
       "</div>"
      ],
      "text/plain": [
       "                     행정구역      총인구수      세대수  세대당 인구   남자 인구수   여자 인구수  남여 비율  \\\n",
       "1273    경기도  (4100000000)  13549577  5820524    2.33  6820025  6729552   1.01   \n",
       "0     서울특별시  (1100000000)   9532428  4422587    2.16  4630630  4901798   0.94   \n",
       "452   부산광역시  (2600000000)   3356311  1541975    2.18  1642368  1713943   0.96   \n",
       "3469   경상남도  (4800000000)   3318161  1503397    2.21  1670394  1647767   1.01   \n",
       "826   인천광역시  (2800000000)   2945009  1294158    2.28  1474536  1470473   1.00   \n",
       "\n",
       "        시도명  \n",
       "1273    경기도  \n",
       "0     서울특별시  \n",
       "452   부산광역시  \n",
       "3469   경상남도  \n",
       "826   인천광역시  "
      ]
     },
     "execution_count": 17,
     "metadata": {},
     "output_type": "execute_result"
    }
   ],
   "source": [
    "df_sido.head()"
   ]
  },
  {
   "cell_type": "code",
   "execution_count": 18,
   "id": "23d9c302",
   "metadata": {},
   "outputs": [
    {
     "data": {
      "image/png": "[encoded data removed]",
      "text/plain": [
       "<Figure size 1080x360 with 2 Axes>"
      ]
     },
     "metadata": {
      "needs_background": "light"
     },
     "output_type": "display_data"
    }
   ],
   "source": [
    "fig, ax1 = plt.subplots()\n",
    "\n",
    "ax1.bar(df_sido['시도명'], df_sido['총인구수'], width=-0.4, align='edge'\n",
    "       , label='총인구수')\n",
    "ax1.bar(df_sido['시도명'], df_sido['세대수'], width=0.4, align='edge'\n",
    "       , label='세대수')\n",
    "ax1.legend(loc=(0.1, 0.8))\n",
    "ax1.set_xlabel('시도명')\n",
    "ax1.set_ylabel('총인구수,세대수')\n",
    "plt.xticks(rotation=45) # 순서를 잘 따라야 한다.\n",
    "\n",
    "ax2 = ax1.twinx() # 왼쪽의 y축은 ax1 / 오른쪽의 y축은 ax2가 사용\n",
    "\n",
    "ax2.plot(df_sido['시도명'], df_sido['세대당 인구'], 'k^-.'\n",
    "        , mfc='r', mec='r', label='세대당 인구')\n",
    "ax2.set_ylabel('세대당 인구')\n",
    "ax2.legend(loc=(0.8, 0.85))\n",
    "\n",
    "ax2.set_title('2021년 10월 시도별 인구수, 세대수, 세대당 인구', size=20)\n",
    "\n",
    "plt.show()"
   ]
  },
  {
   "cell_type": "markdown",
   "id": "961fbab1",
   "metadata": {},
   "source": [
    "# 시도별 성별 인구수 시각화"
   ]
  },
  {
   "cell_type": "code",
   "execution_count": 19,
   "id": "1e6e0445",
   "metadata": {},
   "outputs": [
    {
     "data": {
      "text/html": [
       "<div>\n",
       "<style scoped>\n",
       "    .dataframe tbody tr th:only-of-type {\n",
       "        vertical-align: middle;\n",
       "    }\n",
       "\n",
       "    .dataframe tbody tr th {\n",
       "        vertical-align: top;\n",
       "    }\n",
       "\n",
       "    .dataframe thead th {\n",
       "        text-align: right;\n",
       "    }\n",
       "</style>\n",
       "<table border=\"1\" class=\"dataframe\">\n",
       "  <thead>\n",
       "    <tr style=\"text-align: right;\">\n",
       "      <th></th>\n",
       "      <th>행정구역</th>\n",
       "      <th>총인구수</th>\n",
       "      <th>세대수</th>\n",
       "      <th>세대당 인구</th>\n",
       "      <th>남자 인구수</th>\n",
       "      <th>여자 인구수</th>\n",
       "      <th>남여 비율</th>\n",
       "      <th>시도명</th>\n",
       "    </tr>\n",
       "  </thead>\n",
       "  <tbody>\n",
       "    <tr>\n",
       "      <th>1273</th>\n",
       "      <td>경기도  (4100000000)</td>\n",
       "      <td>13549577</td>\n",
       "      <td>5820524</td>\n",
       "      <td>2.33</td>\n",
       "      <td>6820025</td>\n",
       "      <td>6729552</td>\n",
       "      <td>1.01</td>\n",
       "      <td>경기도</td>\n",
       "    </tr>\n",
       "    <tr>\n",
       "      <th>0</th>\n",
       "      <td>서울특별시  (1100000000)</td>\n",
       "      <td>9532428</td>\n",
       "      <td>4422587</td>\n",
       "      <td>2.16</td>\n",
       "      <td>4630630</td>\n",
       "      <td>4901798</td>\n",
       "      <td>0.94</td>\n",
       "      <td>서울특별시</td>\n",
       "    </tr>\n",
       "    <tr>\n",
       "      <th>452</th>\n",
       "      <td>부산광역시  (2600000000)</td>\n",
       "      <td>3356311</td>\n",
       "      <td>1541975</td>\n",
       "      <td>2.18</td>\n",
       "      <td>1642368</td>\n",
       "      <td>1713943</td>\n",
       "      <td>0.96</td>\n",
       "      <td>부산광역시</td>\n",
       "    </tr>\n",
       "  </tbody>\n",
       "</table>\n",
       "</div>"
      ],
      "text/plain": [
       "                     행정구역      총인구수      세대수  세대당 인구   남자 인구수   여자 인구수  남여 비율  \\\n",
       "1273    경기도  (4100000000)  13549577  5820524    2.33  6820025  6729552   1.01   \n",
       "0     서울특별시  (1100000000)   9532428  4422587    2.16  4630630  4901798   0.94   \n",
       "452   부산광역시  (2600000000)   3356311  1541975    2.18  1642368  1713943   0.96   \n",
       "\n",
       "        시도명  \n",
       "1273    경기도  \n",
       "0     서울특별시  \n",
       "452   부산광역시  "
      ]
     },
     "execution_count": 19,
     "metadata": {},
     "output_type": "execute_result"
    }
   ],
   "source": [
    "df_sido.head(3)"
   ]
  },
  {
   "cell_type": "code",
   "execution_count": 20,
   "id": "24804aae",
   "metadata": {
    "scrolled": true
   },
   "outputs": [
    {
     "data": {
      "image/png": "[encoded data removed]",
      "text/plain": [
       "<Figure size 1080x360 with 2 Axes>"
      ]
     },
     "metadata": {
      "needs_background": "light"
     },
     "output_type": "display_data"
    }
   ],
   "source": [
    "fig, ax1 = plt.subplots()\n",
    "\n",
    "ax1.bar(df_sido['시도명'], df_sido['남자 인구수'], width=-0.4, align='edge'\n",
    "       , label='남자 인구수', color='skyblue')\n",
    "ax1.bar(df_sido['시도명'], df_sido['여자 인구수'], width=0.4, align='edge'\n",
    "       , label='여자 인구수', color='pink')\n",
    "# align='edge'를 써줘야 양옆으로 막대가 구분되어서 나타난다.\n",
    "ax1.legend(loc=(0.1, 0.8))\n",
    "ax1.set_xlabel('시도명')\n",
    "ax1.set_ylabel('남자/여자인구수')\n",
    "plt.xticks(rotation=45)\n",
    "\n",
    "ax2 = ax1.twinx()\n",
    "ax2.plot(df_sido['시도명'], df_sido['남여 비율'], 'k^-.', mfc='r', mec='r'\n",
    "         , label='남여 비율')\n",
    "ax2.legend(loc=(0.9, 0.8))\n",
    "ax2.set_title('2021년 10월 시도별 남/녀 인구수,남/녀 비율', size=20, pad=20)\n",
    "\n",
    "ax2.axhline(1, color='r')\n",
    "\n",
    "plt.show()"
   ]
  },
  {
   "cell_type": "markdown",
   "id": "466cc3a0",
   "metadata": {},
   "source": [
    "## 성별 인구수 차이"
   ]
  },
  {
   "cell_type": "markdown",
   "id": "296da237",
   "metadata": {},
   "source": [
    "### 성별 인구수 차이 컬럼 생성\n",
    "* 내림차순으로 정렬"
   ]
  },
  {
   "cell_type": "code",
   "execution_count": 21,
   "id": "3094d38e",
   "metadata": {},
   "outputs": [],
   "source": [
    "df_sido['남여인구수차이'] = df_sido['남자 인구수']-df_sido['여자 인구수']\n",
    "df_sido = df_sido.sort_values('남여인구수차이', ascending=False)"
   ]
  },
  {
   "cell_type": "markdown",
   "id": "d0589100",
   "metadata": {},
   "source": [
    "### 시각화"
   ]
  },
  {
   "cell_type": "code",
   "execution_count": 22,
   "id": "85147e42",
   "metadata": {},
   "outputs": [
    {
     "data": {
      "image/png": "[encoded data removed]",
      "text/plain": [
       "<Figure size 1080x360 with 1 Axes>"
      ]
     },
     "metadata": {
      "needs_background": "light"
     },
     "output_type": "display_data"
    }
   ],
   "source": [
    "sns.barplot(data=df_sido, x='시도명', y='남여인구수차이')\n",
    "plt.xticks(rotation=45)\n",
    "plt.axhline(0, color='gray')\n",
    "plt.title('2021년 10월 시도별 남녀 인구수 차이', size=20)\n",
    "plt.ylabel('남자인구수-여자인구수')\n",
    "plt.show()"
   ]
  },
  {
   "cell_type": "markdown",
   "id": "353496be",
   "metadata": {},
   "source": [
    "# 서울시 구별/동별 인구수 시각화"
   ]
  },
  {
   "cell_type": "markdown",
   "id": "61552e34",
   "metadata": {},
   "source": [
    "## 서울시 구별 인구수 시각화"
   ]
  },
  {
   "cell_type": "markdown",
   "id": "7b49677f",
   "metadata": {},
   "source": [
    "### 서브셋 생성"
   ]
  },
  {
   "cell_type": "code",
   "execution_count": 27,
   "id": "71e383a4",
   "metadata": {},
   "outputs": [],
   "source": [
    "# df['행정구역'].str.contains('구 (11') -> '(' 가 있는 경우에는 contains함수를 사용하기가 어렵다!\n",
    "df_seoul = df[df['행정구역'].str.find('구 (11') > 0].copy() # find함수 -> 문자열의 위치 인덱스 값을 반환"
   ]
  },
  {
   "cell_type": "code",
   "execution_count": 32,
   "id": "3e64f3bf",
   "metadata": {},
   "outputs": [],
   "source": [
    "df_seoul['구'] = df_seoul['행정구역'].str.split(' ').str[1]"
   ]
  },
  {
   "cell_type": "code",
   "execution_count": 37,
   "id": "905636a6",
   "metadata": {
    "scrolled": false
   },
   "outputs": [
    {
     "data": {
      "text/html": [
       "<div>\n",
       "<style scoped>\n",
       "    .dataframe tbody tr th:only-of-type {\n",
       "        vertical-align: middle;\n",
       "    }\n",
       "\n",
       "    .dataframe tbody tr th {\n",
       "        vertical-align: top;\n",
       "    }\n",
       "\n",
       "    .dataframe thead th {\n",
       "        text-align: right;\n",
       "    }\n",
       "</style>\n",
       "<table border=\"1\" class=\"dataframe\">\n",
       "  <thead>\n",
       "    <tr style=\"text-align: right;\">\n",
       "      <th></th>\n",
       "      <th>행정구역</th>\n",
       "      <th>총인구수</th>\n",
       "      <th>세대수</th>\n",
       "      <th>세대당 인구</th>\n",
       "      <th>남자 인구수</th>\n",
       "      <th>여자 인구수</th>\n",
       "      <th>남여 비율</th>\n",
       "      <th>구</th>\n",
       "    </tr>\n",
       "  </thead>\n",
       "  <tbody>\n",
       "    <tr>\n",
       "      <th>404</th>\n",
       "      <td>서울특별시 송파구 (1171000000)</td>\n",
       "      <td>659239</td>\n",
       "      <td>282185</td>\n",
       "      <td>2.34</td>\n",
       "      <td>317773</td>\n",
       "      <td>341466</td>\n",
       "      <td>0.93</td>\n",
       "      <td>송파구</td>\n",
       "    </tr>\n",
       "    <tr>\n",
       "      <th>256</th>\n",
       "      <td>서울특별시 강서구 (1150000000)</td>\n",
       "      <td>575370</td>\n",
       "      <td>270623</td>\n",
       "      <td>2.13</td>\n",
       "      <td>277041</td>\n",
       "      <td>298329</td>\n",
       "      <td>0.93</td>\n",
       "      <td>강서구</td>\n",
       "    </tr>\n",
       "    <tr>\n",
       "      <th>381</th>\n",
       "      <td>서울특별시 강남구 (1168000000)</td>\n",
       "      <td>533878</td>\n",
       "      <td>234533</td>\n",
       "      <td>2.28</td>\n",
       "      <td>255473</td>\n",
       "      <td>278405</td>\n",
       "      <td>0.92</td>\n",
       "      <td>강남구</td>\n",
       "    </tr>\n",
       "    <tr>\n",
       "      <th>168</th>\n",
       "      <td>서울특별시 노원구 (1135000000)</td>\n",
       "      <td>512129</td>\n",
       "      <td>217201</td>\n",
       "      <td>2.36</td>\n",
       "      <td>246650</td>\n",
       "      <td>265479</td>\n",
       "      <td>0.93</td>\n",
       "      <td>노원구</td>\n",
       "    </tr>\n",
       "    <tr>\n",
       "      <th>340</th>\n",
       "      <td>서울특별시 관악구 (1162000000)</td>\n",
       "      <td>487357</td>\n",
       "      <td>276315</td>\n",
       "      <td>1.76</td>\n",
       "      <td>244844</td>\n",
       "      <td>242513</td>\n",
       "      <td>1.01</td>\n",
       "      <td>관악구</td>\n",
       "    </tr>\n",
       "  </tbody>\n",
       "</table>\n",
       "</div>"
      ],
      "text/plain": [
       "                       행정구역    총인구수     세대수  세대당 인구  남자 인구수  여자 인구수  남여 비율  \\\n",
       "404  서울특별시 송파구 (1171000000)  659239  282185    2.34  317773  341466   0.93   \n",
       "256  서울특별시 강서구 (1150000000)  575370  270623    2.13  277041  298329   0.93   \n",
       "381  서울특별시 강남구 (1168000000)  533878  234533    2.28  255473  278405   0.92   \n",
       "168  서울특별시 노원구 (1135000000)  512129  217201    2.36  246650  265479   0.93   \n",
       "340  서울특별시 관악구 (1162000000)  487357  276315    1.76  244844  242513   1.01   \n",
       "\n",
       "       구  \n",
       "404  송파구  \n",
       "256  강서구  \n",
       "381  강남구  \n",
       "168  노원구  \n",
       "340  관악구  "
      ]
     },
     "execution_count": 37,
     "metadata": {},
     "output_type": "execute_result"
    }
   ],
   "source": [
    "df_seoul = df_seoul.sort_values('총인구수', ascending=False)\n",
    "df_seoul.head()"
   ]
  },
  {
   "cell_type": "markdown",
   "id": "74244cc3",
   "metadata": {},
   "source": [
    "### 시각화"
   ]
  },
  {
   "cell_type": "code",
   "execution_count": 41,
   "id": "dd8c61a7",
   "metadata": {},
   "outputs": [
    {
     "data": {
      "image/png": "[encoded data removed]",
      "text/plain": [
       "<Figure size 1080x360 with 1 Axes>"
      ]
     },
     "metadata": {
      "needs_background": "light"
     },
     "output_type": "display_data"
    }
   ],
   "source": [
    "sns.barplot(data=df_seoul, x='구', y='총인구수')\n",
    "plt.xticks(rotation=45)\n",
    "plt.title('2021년 10월 서울시 구별 총 인구수', size=20)\n",
    "plt.show()"
   ]
  },
  {
   "cell_type": "markdown",
   "id": "9389c598",
   "metadata": {},
   "source": [
    "## 동별 인구수 시각화\n",
    "* 송파구 동별 인구수 시각화"
   ]
  },
  {
   "cell_type": "markdown",
   "id": "b13a9117",
   "metadata": {},
   "source": [
    "### 서브셋 만들기"
   ]
  },
  {
   "cell_type": "code",
   "execution_count": 60,
   "id": "ab2f42d5",
   "metadata": {},
   "outputs": [],
   "source": [
    "df_song = df[df['행정구역'].str.find('동(1171') > 0].copy()"
   ]
  },
  {
   "cell_type": "code",
   "execution_count": 63,
   "id": "fd612256",
   "metadata": {},
   "outputs": [
    {
     "data": {
      "text/html": [
       "<div>\n",
       "<style scoped>\n",
       "    .dataframe tbody tr th:only-of-type {\n",
       "        vertical-align: middle;\n",
       "    }\n",
       "\n",
       "    .dataframe tbody tr th {\n",
       "        vertical-align: top;\n",
       "    }\n",
       "\n",
       "    .dataframe thead th {\n",
       "        text-align: right;\n",
       "    }\n",
       "</style>\n",
       "<table border=\"1\" class=\"dataframe\">\n",
       "  <thead>\n",
       "    <tr style=\"text-align: right;\">\n",
       "      <th></th>\n",
       "      <th>행정구역</th>\n",
       "      <th>총인구수</th>\n",
       "      <th>세대수</th>\n",
       "      <th>세대당 인구</th>\n",
       "      <th>남자 인구수</th>\n",
       "      <th>여자 인구수</th>\n",
       "      <th>남여 비율</th>\n",
       "      <th>동</th>\n",
       "    </tr>\n",
       "  </thead>\n",
       "  <tbody>\n",
       "    <tr>\n",
       "      <th>405</th>\n",
       "      <td>서울특별시 송파구 풍납1동(1171051000)</td>\n",
       "      <td>12989</td>\n",
       "      <td>6027</td>\n",
       "      <td>2.16</td>\n",
       "      <td>6355</td>\n",
       "      <td>6634</td>\n",
       "      <td>0.96</td>\n",
       "      <td>풍납1동</td>\n",
       "    </tr>\n",
       "    <tr>\n",
       "      <th>406</th>\n",
       "      <td>서울특별시 송파구 풍납2동(1171052000)</td>\n",
       "      <td>24977</td>\n",
       "      <td>11019</td>\n",
       "      <td>2.27</td>\n",
       "      <td>11873</td>\n",
       "      <td>13104</td>\n",
       "      <td>0.91</td>\n",
       "      <td>풍납2동</td>\n",
       "    </tr>\n",
       "    <tr>\n",
       "      <th>407</th>\n",
       "      <td>서울특별시 송파구 거여1동(1171053100)</td>\n",
       "      <td>12615</td>\n",
       "      <td>5648</td>\n",
       "      <td>2.23</td>\n",
       "      <td>6367</td>\n",
       "      <td>6248</td>\n",
       "      <td>1.02</td>\n",
       "      <td>거여1동</td>\n",
       "    </tr>\n",
       "    <tr>\n",
       "      <th>408</th>\n",
       "      <td>서울특별시 송파구 거여2동(1171053200)</td>\n",
       "      <td>18811</td>\n",
       "      <td>8153</td>\n",
       "      <td>2.31</td>\n",
       "      <td>9252</td>\n",
       "      <td>9559</td>\n",
       "      <td>0.97</td>\n",
       "      <td>거여2동</td>\n",
       "    </tr>\n",
       "    <tr>\n",
       "      <th>409</th>\n",
       "      <td>서울특별시 송파구 마천1동(1171054000)</td>\n",
       "      <td>19005</td>\n",
       "      <td>8785</td>\n",
       "      <td>2.16</td>\n",
       "      <td>9718</td>\n",
       "      <td>9287</td>\n",
       "      <td>1.05</td>\n",
       "      <td>마천1동</td>\n",
       "    </tr>\n",
       "  </tbody>\n",
       "</table>\n",
       "</div>"
      ],
      "text/plain": [
       "                           행정구역   총인구수    세대수  세대당 인구  남자 인구수  여자 인구수  남여 비율  \\\n",
       "405  서울특별시 송파구 풍납1동(1171051000)  12989   6027    2.16    6355    6634   0.96   \n",
       "406  서울특별시 송파구 풍납2동(1171052000)  24977  11019    2.27   11873   13104   0.91   \n",
       "407  서울특별시 송파구 거여1동(1171053100)  12615   5648    2.23    6367    6248   1.02   \n",
       "408  서울특별시 송파구 거여2동(1171053200)  18811   8153    2.31    9252    9559   0.97   \n",
       "409  서울특별시 송파구 마천1동(1171054000)  19005   8785    2.16    9718    9287   1.05   \n",
       "\n",
       "        동  \n",
       "405  풍납1동  \n",
       "406  풍납2동  \n",
       "407  거여1동  \n",
       "408  거여2동  \n",
       "409  마천1동  "
      ]
     },
     "execution_count": 63,
     "metadata": {},
     "output_type": "execute_result"
    }
   ],
   "source": [
    "df_song['동'] = df_song['행정구역'].str.split(' ').str[2].str.split('(').str[0]\n",
    "df_song.head()"
   ]
  },
  {
   "cell_type": "code",
   "execution_count": 67,
   "id": "f78d5609",
   "metadata": {},
   "outputs": [
    {
     "data": {
      "text/html": [
       "<div>\n",
       "<style scoped>\n",
       "    .dataframe tbody tr th:only-of-type {\n",
       "        vertical-align: middle;\n",
       "    }\n",
       "\n",
       "    .dataframe tbody tr th {\n",
       "        vertical-align: top;\n",
       "    }\n",
       "\n",
       "    .dataframe thead th {\n",
       "        text-align: right;\n",
       "    }\n",
       "</style>\n",
       "<table border=\"1\" class=\"dataframe\">\n",
       "  <thead>\n",
       "    <tr style=\"text-align: right;\">\n",
       "      <th></th>\n",
       "      <th>행정구역</th>\n",
       "      <th>총인구수</th>\n",
       "      <th>세대수</th>\n",
       "      <th>세대당 인구</th>\n",
       "      <th>남자 인구수</th>\n",
       "      <th>여자 인구수</th>\n",
       "      <th>남여 비율</th>\n",
       "      <th>동</th>\n",
       "    </tr>\n",
       "  </thead>\n",
       "  <tbody>\n",
       "    <tr>\n",
       "      <th>414</th>\n",
       "      <td>서울특별시 송파구 오금동(1171057000)</td>\n",
       "      <td>38637</td>\n",
       "      <td>15663</td>\n",
       "      <td>2.47</td>\n",
       "      <td>18739</td>\n",
       "      <td>19898</td>\n",
       "      <td>0.94</td>\n",
       "      <td>오금동</td>\n",
       "    </tr>\n",
       "    <tr>\n",
       "      <th>425</th>\n",
       "      <td>서울특별시 송파구 위례동(1171064700)</td>\n",
       "      <td>37697</td>\n",
       "      <td>12241</td>\n",
       "      <td>3.08</td>\n",
       "      <td>18331</td>\n",
       "      <td>19366</td>\n",
       "      <td>0.95</td>\n",
       "      <td>위례동</td>\n",
       "    </tr>\n",
       "    <tr>\n",
       "      <th>427</th>\n",
       "      <td>서울특별시 송파구 잠실2동(1171067000)</td>\n",
       "      <td>35210</td>\n",
       "      <td>11633</td>\n",
       "      <td>3.03</td>\n",
       "      <td>16842</td>\n",
       "      <td>18368</td>\n",
       "      <td>0.92</td>\n",
       "      <td>잠실2동</td>\n",
       "    </tr>\n",
       "    <tr>\n",
       "      <th>428</th>\n",
       "      <td>서울특별시 송파구 잠실3동(1171068000)</td>\n",
       "      <td>34389</td>\n",
       "      <td>11930</td>\n",
       "      <td>2.88</td>\n",
       "      <td>16353</td>\n",
       "      <td>18036</td>\n",
       "      <td>0.91</td>\n",
       "      <td>잠실3동</td>\n",
       "    </tr>\n",
       "    <tr>\n",
       "      <th>421</th>\n",
       "      <td>서울특별시 송파구 가락2동(1171063200)</td>\n",
       "      <td>32457</td>\n",
       "      <td>12460</td>\n",
       "      <td>2.60</td>\n",
       "      <td>15945</td>\n",
       "      <td>16512</td>\n",
       "      <td>0.97</td>\n",
       "      <td>가락2동</td>\n",
       "    </tr>\n",
       "  </tbody>\n",
       "</table>\n",
       "</div>"
      ],
      "text/plain": [
       "                           행정구역   총인구수    세대수  세대당 인구  남자 인구수  여자 인구수  남여 비율  \\\n",
       "414   서울특별시 송파구 오금동(1171057000)  38637  15663    2.47   18739   19898   0.94   \n",
       "425   서울특별시 송파구 위례동(1171064700)  37697  12241    3.08   18331   19366   0.95   \n",
       "427  서울특별시 송파구 잠실2동(1171067000)  35210  11633    3.03   16842   18368   0.92   \n",
       "428  서울특별시 송파구 잠실3동(1171068000)  34389  11930    2.88   16353   18036   0.91   \n",
       "421  서울특별시 송파구 가락2동(1171063200)  32457  12460    2.60   15945   16512   0.97   \n",
       "\n",
       "        동  \n",
       "414   오금동  \n",
       "425   위례동  \n",
       "427  잠실2동  \n",
       "428  잠실3동  \n",
       "421  가락2동  "
      ]
     },
     "execution_count": 67,
     "metadata": {},
     "output_type": "execute_result"
    }
   ],
   "source": [
    "df_song = df_song.sort_values('총인구수', ascending=False)\n",
    "df_song.head()"
   ]
  },
  {
   "cell_type": "markdown",
   "id": "6bcd2a80",
   "metadata": {},
   "source": [
    "### 시각화"
   ]
  },
  {
   "cell_type": "code",
   "execution_count": 71,
   "id": "73094762",
   "metadata": {
    "scrolled": true
   },
   "outputs": [
    {
     "data": {
      "image/png": "[encoded data removed]",
      "text/plain": [
       "<Figure size 1080x360 with 1 Axes>"
      ]
     },
     "metadata": {
      "needs_background": "light"
     },
     "output_type": "display_data"
    }
   ],
   "source": [
    "sns.barplot(data=df_song, x='동', y='총인구수')\n",
    "plt.xticks(rotation=45)\n",
    "plt.title('2021년 10월 송파구 동별 총 인구수', size=20)\n",
    "plt.show()"
   ]
  }
 ],
 "metadata": {
  "kernelspec": {
   "display_name": "Python 3 (ipykernel)",
   "language": "python",
   "name": "python3"
  },
  "language_info": {
   "codemirror_mode": {
    "name": "ipython",
    "version": 3
   },
   "file_extension": ".py",
   "mimetype": "text/x-python",
   "name": "python",
   "nbconvert_exporter": "python",
   "pygments_lexer": "ipython3",
   "version": "3.9.12"
  }
 },
 "nbformat": 4,
 "nbformat_minor": 5
}
