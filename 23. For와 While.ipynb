{
 "cells": [
  {
   "cell_type": "code",
   "execution_count": null,
   "id": "62b508e6",
   "metadata": {},
   "outputs": [],
   "source": [
    "# 횟수 제어 반복 (for)\n",
    "# -> 반복이 시작되기전에 반복 횟수를 알 수 있다.(반복의 범위가 미리 정해진다)\n",
    "# -> 무한루프에 빠지지 않는다.\n",
    "# for 제어변수 in 시퀀스: -> 시퀀스:여러 값이 연속적으로 이어진 자료형*\n",
    "# -> 시퀀스에 있는 값들이 제어변수에 하나씩 할당되며 값이 할당될 때마다 명령블록이 실행된다.\n",
    "\n",
    "# 조건 제어 반복(while)\n",
    "# -> 반복 횟수는 조건에 따라 달라진다.\n",
    "# -> 무한루프에 빠질 수 있다."
   ]
  },
  {
   "cell_type": "markdown",
   "id": "e4db7fe2",
   "metadata": {},
   "source": [
    "# for 반복구조"
   ]
  },
  {
   "cell_type": "code",
   "execution_count": 1,
   "id": "6987b8ab",
   "metadata": {},
   "outputs": [
    {
     "name": "stdout",
     "output_type": "stream",
     "text": [
      "1\n",
      "2\n",
      "3\n",
      "4\n",
      "5\n"
     ]
    }
   ],
   "source": [
    "for i in [1,2,3,4,5]:\n",
    "    print(i)"
   ]
  },
  {
   "cell_type": "code",
   "execution_count": 2,
   "id": "fa0f1787",
   "metadata": {},
   "outputs": [
    {
     "name": "stdout",
     "output_type": "stream",
     "text": [
      "p\n",
      "y\n",
      "t\n",
      "h\n",
      "o\n",
      "n\n"
     ]
    }
   ],
   "source": [
    "for i in 'python':\n",
    "    print(i)"
   ]
  },
  {
   "cell_type": "code",
   "execution_count": 3,
   "id": "76114449",
   "metadata": {},
   "outputs": [
    {
     "name": "stdout",
     "output_type": "stream",
     "text": [
      "0\n",
      "1\n",
      "2\n",
      "3\n",
      "4\n"
     ]
    }
   ],
   "source": [
    "for i in range(5):\n",
    "    print(i)"
   ]
  },
  {
   "cell_type": "code",
   "execution_count": 4,
   "id": "699ba541",
   "metadata": {},
   "outputs": [
    {
     "name": "stdout",
     "output_type": "stream",
     "text": [
      "Hello\n",
      "Hello\n",
      "Hello\n",
      "Hello\n",
      "Hello\n",
      "Hello\n",
      "Hello\n",
      "Hello\n",
      "Hello\n",
      "Hello\n"
     ]
    }
   ],
   "source": [
    "for i in range(10):\n",
    "    print('Hello')"
   ]
  },
  {
   "cell_type": "code",
   "execution_count": null,
   "id": "fe5dd031",
   "metadata": {},
   "outputs": [],
   "source": [
    "# range((시작값),끝값,(증가값))"
   ]
  },
  {
   "cell_type": "markdown",
   "id": "08153119",
   "metadata": {},
   "source": [
    "# 중첩반복구조"
   ]
  },
  {
   "cell_type": "code",
   "execution_count": 5,
   "id": "5cd1d405",
   "metadata": {
    "scrolled": true
   },
   "outputs": [
    {
     "name": "stdout",
     "output_type": "stream",
     "text": [
      "0 0\n",
      "0 1\n",
      "0 2\n",
      "0 3\n",
      "1 0\n",
      "1 1\n",
      "1 2\n",
      "1 3\n",
      "2 0\n",
      "2 1\n",
      "2 2\n",
      "2 3\n"
     ]
    }
   ],
   "source": [
    "for i in range(3):\n",
    "    for j in range(4): # 외부 for문의 인자와 내부 for문의 인자가 같으면 안된다.\n",
    "        print(i,j)"
   ]
  },
  {
   "cell_type": "code",
   "execution_count": 1,
   "id": "c2a47ba9",
   "metadata": {},
   "outputs": [
    {
     "name": "stdout",
     "output_type": "stream",
     "text": [
      "2*1=2\t2*2=4\t2*3=6\t2*4=8\t2*5=10\t2*6=12\t2*7=14\t2*8=16\t2*9=18\t\n",
      "3*1=3\t3*2=6\t3*3=9\t3*4=12\t3*5=15\t3*6=18\t3*7=21\t3*8=24\t3*9=27\t\n",
      "4*1=4\t4*2=8\t4*3=12\t4*4=16\t4*5=20\t4*6=24\t4*7=28\t4*8=32\t4*9=36\t\n",
      "5*1=5\t5*2=10\t5*3=15\t5*4=20\t5*5=25\t5*6=30\t5*7=35\t5*8=40\t5*9=45\t\n",
      "6*1=6\t6*2=12\t6*3=18\t6*4=24\t6*5=30\t6*6=36\t6*7=42\t6*8=48\t6*9=54\t\n",
      "7*1=7\t7*2=14\t7*3=21\t7*4=28\t7*5=35\t7*6=42\t7*7=49\t7*8=56\t7*9=63\t\n",
      "8*1=8\t8*2=16\t8*3=24\t8*4=32\t8*5=40\t8*6=48\t8*7=56\t8*8=64\t8*9=72\t\n",
      "9*1=9\t9*2=18\t9*3=27\t9*4=36\t9*5=45\t9*6=54\t9*7=63\t9*8=72\t9*9=81\t\n",
      "\n",
      "2*1=2\t3*1=3\t4*1=4\t5*1=5\t6*1=6\t7*1=7\t8*1=8\t9*1=9\t\n",
      "2*2=4\t3*2=6\t4*2=8\t5*2=10\t6*2=12\t7*2=14\t8*2=16\t9*2=18\t\n",
      "2*3=6\t3*3=9\t4*3=12\t5*3=15\t6*3=18\t7*3=21\t8*3=24\t9*3=27\t\n",
      "2*4=8\t3*4=12\t4*4=16\t5*4=20\t6*4=24\t7*4=28\t8*4=32\t9*4=36\t\n",
      "2*5=10\t3*5=15\t4*5=20\t5*5=25\t6*5=30\t7*5=35\t8*5=40\t9*5=45\t\n",
      "2*6=12\t3*6=18\t4*6=24\t5*6=30\t6*6=36\t7*6=42\t8*6=48\t9*6=54\t\n",
      "2*7=14\t3*7=21\t4*7=28\t5*7=35\t6*7=42\t7*7=49\t8*7=56\t9*7=63\t\n",
      "2*8=16\t3*8=24\t4*8=32\t5*8=40\t6*8=48\t7*8=56\t8*8=64\t9*8=72\t\n",
      "2*9=18\t3*9=27\t4*9=36\t5*9=45\t6*9=54\t7*9=63\t8*9=72\t9*9=81\t\n"
     ]
    }
   ],
   "source": [
    "# 2단부터 9단까지 출력하기\n",
    "\n",
    "for i in range(2,10):\n",
    "    for j in range(1,10):\n",
    "        print(f'{i}*{j}={i*j}', end = '\\t') # 가로방향으로 구구단 출력하기\n",
    "    print()\n",
    "\n",
    "print()\n",
    "\n",
    "for i in range(1,10):\n",
    "    for j in range(2,10):\n",
    "        print(f'{j}*{i}={i*j}', end = '\\t') # 세로방향으로 구구단 출력하기\n",
    "    print()\n",
    "              "
   ]
  },
  {
   "cell_type": "markdown",
   "id": "188d9b29",
   "metadata": {},
   "source": [
    "# 연습문제"
   ]
  },
  {
   "cell_type": "code",
   "execution_count": 7,
   "id": "21696969",
   "metadata": {},
   "outputs": [
    {
     "name": "stdout",
     "output_type": "stream",
     "text": [
      "55\n"
     ]
    }
   ],
   "source": [
    "# 1부터 10까지 정수의 합 구하여 출력하기\n",
    "\n",
    "total = 0\n",
    "\n",
    "for i in range(1,11):\n",
    "    total += i  # -> total = total + 1\n",
    "print(total)"
   ]
  },
  {
   "cell_type": "code",
   "execution_count": 8,
   "id": "78026375",
   "metadata": {},
   "outputs": [
    {
     "name": "stdout",
     "output_type": "stream",
     "text": [
      "2500\n"
     ]
    }
   ],
   "source": [
    "# 1부터 100까지 홀수의 합 구하여 출력하기\n",
    "\n",
    "total = 0\n",
    "\n",
    "for i in range(1,101):\n",
    "    if i % 2 == 1:\n",
    "        total += i\n",
    "print(total)"
   ]
  },
  {
   "cell_type": "markdown",
   "id": "b5e4ab20",
   "metadata": {},
   "source": [
    "# 조건으로 반복하는 While"
   ]
  },
  {
   "cell_type": "code",
   "execution_count": 9,
   "id": "54148297",
   "metadata": {},
   "outputs": [
    {
     "name": "stdout",
     "output_type": "stream",
     "text": [
      "1\n",
      "2\n",
      "3\n",
      "4\n",
      "5\n"
     ]
    }
   ],
   "source": [
    "for i in range(1,6):\n",
    "    print(i)"
   ]
  },
  {
   "cell_type": "code",
   "execution_count": 10,
   "id": "e6a74f9a",
   "metadata": {},
   "outputs": [
    {
     "name": "stdout",
     "output_type": "stream",
     "text": [
      "1\n",
      "2\n",
      "3\n",
      "4\n",
      "5\n"
     ]
    }
   ],
   "source": [
    "n=1\n",
    "\n",
    "while n <= 5: # 1부터 5까지 출력하기\n",
    "    print(n)\n",
    "    n += 1"
   ]
  },
  {
   "cell_type": "code",
   "execution_count": 11,
   "id": "af0e72c2",
   "metadata": {},
   "outputs": [
    {
     "name": "stdout",
     "output_type": "stream",
     "text": [
      "55\n"
     ]
    }
   ],
   "source": [
    "# 1부터 10까지 더하기\n",
    "\n",
    "num = 1\n",
    "total = 0\n",
    "\n",
    "while num <= 10:\n",
    "    total += num\n",
    "    num += 1\n",
    "    \n",
    "print(total)"
   ]
  },
  {
   "cell_type": "code",
   "execution_count": 1,
   "id": "751f2270",
   "metadata": {},
   "outputs": [
    {
     "name": "stdout",
     "output_type": "stream",
     "text": [
      "이름김\n",
      "이름김\n",
      "이름q\n"
     ]
    }
   ],
   "source": [
    "# 'q'를 입력할 때까지 반복하여 이름 입력받기\n",
    "\n",
    "name = input('이름')\n",
    "\n",
    "while name != 'q':\n",
    "    name = input('이름')"
   ]
  },
  {
   "cell_type": "code",
   "execution_count": 6,
   "id": "9e072907",
   "metadata": {},
   "outputs": [
    {
     "name": "stdout",
     "output_type": "stream",
     "text": [
      "이름 : 김성민\n",
      "이름 : q\n"
     ]
    }
   ],
   "source": [
    "while True:\n",
    "    name = input('이름 : ')\n",
    "    if name == 'q':\n",
    "        break"
   ]
  },
  {
   "cell_type": "markdown",
   "id": "73c29f15",
   "metadata": {},
   "source": [
    "# 연습문제"
   ]
  },
  {
   "cell_type": "code",
   "execution_count": 1,
   "id": "023de2d3",
   "metadata": {},
   "outputs": [
    {
     "name": "stdout",
     "output_type": "stream",
     "text": [
      "ID : 1234\n",
      "Pwd : 1234\n",
      "ID : id12\n",
      "Pwd : pwd12\n"
     ]
    }
   ],
   "source": [
    "# 올바른 아이디/비밀번호를 입력할때까지 아이디와 비밀번호를 입력하는 프로그램 만들기 \n",
    "id = 'id12'\n",
    "pwd = 'pwd12'\n",
    "    \n",
    "while True:\n",
    "    input_id = input('ID : ')\n",
    "    input_pwd = input('Pwd : ')\n",
    "    \n",
    "    if id == input_id and pwd == input_pwd:\n",
    "        break"
   ]
  },
  {
   "cell_type": "code",
   "execution_count": 2,
   "id": "34257440",
   "metadata": {},
   "outputs": [
    {
     "name": "stdout",
     "output_type": "stream",
     "text": [
      "ID : znznfltm\n",
      "Pwd : wjsdur0508\n",
      "아이디를 확인하세요.\n",
      "ID : id12\n",
      "Pwd : znznfltm\n",
      "비밀번호를 확인하세요.\n",
      "ID : id12\n",
      "Pwd : pwd12\n"
     ]
    }
   ],
   "source": [
    "#확장하기. 아이디가 잘못되었으면 ' 아이디를 확인하세요'출력 / 비밀번호가 잘못되었으면 '비밀번호를 확인하세요'출력\n",
    "\n",
    "id = 'id12'\n",
    "pwd = 'pwd12'\n",
    "    \n",
    "while True:\n",
    "    input_id = input('ID : ')\n",
    "    input_pwd = input('Pwd : ')\n",
    "    \n",
    "    if id != input_id:\n",
    "        print('아이디를 확인하세요.')\n",
    "    elif pwd != input_pwd:\n",
    "        print('비밀번호를 확인하세요.')\n",
    "    elif id == input_id and pwd == input_pwd:\n",
    "        break"
   ]
  },
  {
   "cell_type": "code",
   "execution_count": 4,
   "id": "2a659492",
   "metadata": {},
   "outputs": [
    {
     "name": "stdout",
     "output_type": "stream",
     "text": [
      "숫자를 입력하세요 : 1\n",
      "숫자를 입력하세요 : 2\n",
      "숫자를 입력하세요 : 3\n",
      "숫자를 입력하세요 : 4\n",
      "숫자를 입력하세요 : 5\n",
      "숫자를 입력하세요 : 56\n",
      "숫자를 입력하세요 : 0\n",
      "0을 입력받아 종료합니다.\n",
      "71\n"
     ]
    }
   ],
   "source": [
    "# 사용자가 0을 입력할 때까지 숫자를 입력받아 입력받은 숫자들의 합을 구하는 프로그램을 작성하시오\n",
    "\n",
    "total = 0\n",
    "\n",
    "while True:\n",
    "    num = int(input('숫자를 입력하세요 : '))\n",
    "    total += num\n",
    "    \n",
    "    if num == 0:\n",
    "        print('0을 입력받아 종료합니다.')\n",
    "        print(f'{total}')\n",
    "        break\n",
    "        "
   ]
  }
 ],
 "metadata": {
  "kernelspec": {
   "display_name": "Python 3 (ipykernel)",
   "language": "python",
   "name": "python3"
  },
  "language_info": {
   "codemirror_mode": {
    "name": "ipython",
    "version": 3
   },
   "file_extension": ".py",
   "mimetype": "text/x-python",
   "name": "python",
   "nbconvert_exporter": "python",
   "pygments_lexer": "ipython3",
   "version": "3.9.12"
  },
  "toc": {
   "base_numbering": 1,
   "nav_menu": {},
   "number_sections": true,
   "sideBar": true,
   "skip_h1_title": false,
   "title_cell": "Table of Contents",
   "title_sidebar": "Contents",
   "toc_cell": false,
   "toc_position": {},
   "toc_section_display": true,
   "toc_window_display": false
  }
 },
 "nbformat": 4,
 "nbformat_minor": 5
}
