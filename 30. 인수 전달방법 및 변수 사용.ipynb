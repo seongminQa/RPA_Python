{
 "cells": [
  {
   "cell_type": "code",
   "execution_count": null,
   "id": "f0d4c26c",
   "metadata": {},
   "outputs": [],
   "source": [
    "# 위치 인수\n",
    "# -> 함수에 정의된 매개변수와 순서에 맞게 짝을 맞추어 인수를 전달한다\n",
    "# def 함수명(매개변수1,매개변수2, ... ,매개변수n):\n",
    "#     함수내용\n",
    "#     return 결과값\n",
    "# 변수 = 함수명(인수1,인수2, ... ,인수n)\n",
    "\n",
    "# 디폴트 인수\n",
    "# 함수를 정의할 때 매개변수에 디폴트 값을 지정하면\n",
    "# 디폴트값이 지정된 인수를 생략할 수 있다.\n",
    "# 디폴트 인수는 기본 위치 인수를 다 적은 다음에 적어야한다.\n",
    "# def 함수명(매개변수1,매개변수2=디폴트값):\n",
    "#     함수내용\n",
    "#     return 결과값\n",
    "# 변수 = 함수명(인수1)  --> 인수2 생략"
   ]
  },
  {
   "cell_type": "markdown",
   "id": "f482c353",
   "metadata": {},
   "source": [
    "# 위치인수"
   ]
  },
  {
   "cell_type": "code",
   "execution_count": 1,
   "id": "a9d7ae97",
   "metadata": {},
   "outputs": [
    {
     "name": "stdout",
     "output_type": "stream",
     "text": [
      "안녕 친구 오랜만이야\n"
     ]
    }
   ],
   "source": [
    "# 기본적인 인수 전달방법\n",
    "# 함수에 정의된 매개변수와 순서에 맞게 짝을 맞추어 인수를 전달한다.\n",
    "def greet(name, msg):\n",
    "    print('안녕',name,msg)\n",
    "greet('친구','오랜만이야')"
   ]
  },
  {
   "cell_type": "markdown",
   "id": "c12f49ce",
   "metadata": {},
   "source": [
    "# 디폴트 인수"
   ]
  },
  {
   "cell_type": "code",
   "execution_count": 4,
   "id": "9040f242",
   "metadata": {},
   "outputs": [
    {
     "ename": "SyntaxError",
     "evalue": "non-default argument follows default argument (2946229981.py, line 7)",
     "output_type": "error",
     "traceback": [
      "\u001b[1;36m  Input \u001b[1;32mIn [4]\u001b[1;36m\u001b[0m\n\u001b[1;33m    def greet2(name='오랜만이야', msg):\u001b[0m\n\u001b[1;37m                                ^\u001b[0m\n\u001b[1;31mSyntaxError\u001b[0m\u001b[1;31m:\u001b[0m non-default argument follows default argument\n"
     ]
    }
   ],
   "source": [
    "def greet(name, msg='오랜만이야'):\n",
    "    print('안녕',name,msg)\n",
    "greet('친구') # 디폴트 인수 msg는 생략하여도 '오랜만이야'를 출력\n",
    "\n",
    "greet('친구','반가워') # -> 이때는 '반가워'라는 매개변수가 있기때문에 디폴트값이 수정된다\n",
    "greet('친구')\n",
    "def greet2(name='오랜만이야', msg):  # 디폴트 인수는 기본 위치 인수를 다 적은 다음에 적어야한다. --> 에러남\n",
    "    print('안녕',name,msg)\n",
    "# greet2('친구') # --> 에러남"
   ]
  },
  {
   "cell_type": "markdown",
   "id": "fee5d8e6",
   "metadata": {},
   "source": [
    "# 키워드 인수"
   ]
  },
  {
   "cell_type": "code",
   "execution_count": 7,
   "id": "56f4fca0",
   "metadata": {},
   "outputs": [],
   "source": [
    "# 함수를 호출할 때 인수의 이름을 명시하면 순서를 바꾸어 전달할 수 있다.\n",
    "# def 함수명(매개변수1,매개변수2):\n",
    "#     함수내용\n",
    "#     return 결과값\n",
    "# 변수 = 함수명(매개변수2이름=인수2,매개변수1이름=인수1)"
   ]
  },
  {
   "cell_type": "code",
   "execution_count": 6,
   "id": "8e3cadea",
   "metadata": {},
   "outputs": [
    {
     "ename": "SyntaxError",
     "evalue": "positional argument follows keyword argument (1334236992.py, line 6)",
     "output_type": "error",
     "traceback": [
      "\u001b[1;36m  Input \u001b[1;32mIn [6]\u001b[1;36m\u001b[0m\n\u001b[1;33m    print(get_minus(z=5,x,y=15))\u001b[0m\n\u001b[1;37m                              ^\u001b[0m\n\u001b[1;31mSyntaxError\u001b[0m\u001b[1;31m:\u001b[0m positional argument follows keyword argument\n"
     ]
    }
   ],
   "source": [
    "def get_minus(x,y,z):\n",
    "    return x-y-z\n",
    "print(get_minus(5,10,15))\n",
    "print(get_minus(z=5,x=15,y=15))\n",
    "# 키워드 인수는 기본 위치 인수를 다 적은 다음에 적어야 한다.\n",
    "print(get_minus(z=5,x,y=15)) # --> 기본 위치 인수(x)보다  z=5 를 먼저 정의해줘서 에러가 났다."
   ]
  },
  {
   "cell_type": "code",
   "execution_count": 12,
   "id": "de893883",
   "metadata": {},
   "outputs": [
    {
     "ename": "SyntaxError",
     "evalue": "positional argument follows keyword argument (1865562442.py, line 3)",
     "output_type": "error",
     "traceback": [
      "\u001b[1;36m  Input \u001b[1;32mIn [12]\u001b[1;36m\u001b[0m\n\u001b[1;33m    print(get_minus(z=15,15,x=15)) # --> 에러, 키워드인수가 위치인수보다 앞에 올 수 없다.\u001b[0m\n\u001b[1;37m                                ^\u001b[0m\n\u001b[1;31mSyntaxError\u001b[0m\u001b[1;31m:\u001b[0m positional argument follows keyword argument\n"
     ]
    }
   ],
   "source": [
    "def get_minus(x,y,z):\n",
    "    return x-y-z\n",
    "print(get_minus(z=15,15,x=15)) # --> 에러, 키워드인수가 위치인수보다 앞에 올 수 없다. "
   ]
  },
  {
   "cell_type": "markdown",
   "id": "f485fca3",
   "metadata": {},
   "source": [
    "# 가변인수"
   ]
  },
  {
   "cell_type": "code",
   "execution_count": 13,
   "id": "1569d500",
   "metadata": {},
   "outputs": [],
   "source": [
    "# 매개변수에 '*'를 붙이면 여러 개의 인수를 하나의 튜플로 받는다.\n",
    "# def 함수명(*매개변수):\n",
    "#     함수내용\n",
    "#     return 결과값\n",
    "# 변수 = 함수명(인수1,인수2)\n",
    "# 변수 = 함수명(인수1,인수2,인수3) # 인수의 개수를 가변적으로 전달가능\n",
    "# 인수를 하나의 튜플이나 리스트로 전달한다."
   ]
  },
  {
   "cell_type": "code",
   "execution_count": 14,
   "id": "8b0b2640",
   "metadata": {},
   "outputs": [
    {
     "name": "stdout",
     "output_type": "stream",
     "text": [
      "2.0\n",
      "3.0\n"
     ]
    }
   ],
   "source": [
    "# 가변적인 수를 하나의 리스트/튜플로 받아서 수의 평균을 리턴하는 함수\n",
    "def average(args):\n",
    "    return sum(args)/len(args)\n",
    "\n",
    "print(average([1,2,3])) # 하나의 리스트를 받음\n",
    "print(average((1,2,3,4,5))) # 하나의 튜플을 받음"
   ]
  },
  {
   "cell_type": "code",
   "execution_count": 17,
   "id": "be511d4b",
   "metadata": {},
   "outputs": [
    {
     "name": "stdout",
     "output_type": "stream",
     "text": [
      "(1, 2, 3, 4, 5)\n"
     ]
    },
    {
     "data": {
      "text/plain": [
       "3.0"
      ]
     },
     "execution_count": 17,
     "metadata": {},
     "output_type": "execute_result"
    }
   ],
   "source": [
    "def average2(*args): # *로 붙이면 '튜플' 형태로 인수가 저장된다.\n",
    "    print(args)\n",
    "    return sum(args)/len(args)\n",
    "\n",
    "average2(1,2,3,4,5)"
   ]
  },
  {
   "cell_type": "code",
   "execution_count": 18,
   "id": "bcd116f3",
   "metadata": {},
   "outputs": [
    {
     "name": "stdout",
     "output_type": "stream",
     "text": [
      "Help on built-in function print in module builtins:\n",
      "\n",
      "print(...)\n",
      "    print(value, ..., sep=' ', end='\\n', file=sys.stdout, flush=False)\n",
      "    \n",
      "    Prints the values to a stream, or to sys.stdout by default.\n",
      "    Optional keyword arguments:\n",
      "    file:  a file-like object (stream); defaults to the current sys.stdout.\n",
      "    sep:   string inserted between values, default a space.\n",
      "    end:   string appended after the last value, default a newline.\n",
      "    flush: whether to forcibly flush the stream.\n",
      "\n"
     ]
    }
   ],
   "source": [
    "help(print)"
   ]
  },
  {
   "cell_type": "code",
   "execution_count": 19,
   "id": "cce3af5c",
   "metadata": {},
   "outputs": [
    {
     "name": "stdout",
     "output_type": "stream",
     "text": [
      "1 2 3\n",
      "4 5\n"
     ]
    }
   ],
   "source": [
    "print(1,2,3)\n",
    "print(4,5)"
   ]
  },
  {
   "cell_type": "code",
   "execution_count": 21,
   "id": "0dc37e1e",
   "metadata": {},
   "outputs": [
    {
     "name": "stdout",
     "output_type": "stream",
     "text": [
      "1~2~3\n"
     ]
    }
   ],
   "source": [
    "print(1,2,3,sep='~')"
   ]
  },
  {
   "cell_type": "markdown",
   "id": "f690df83",
   "metadata": {},
   "source": [
    "# 함수에서 변수를 사용하는 방법"
   ]
  },
  {
   "cell_type": "code",
   "execution_count": 22,
   "id": "88c22aec",
   "metadata": {},
   "outputs": [],
   "source": [
    "# 함수 내에서 생성된 변수와 함수 밖에서 생성된 변수의 사용범위와 방법을 안다.\n",
    "# 전역변수(global variable) -> 함수 밖에서 생성, 프로그램 어디서든 사용\n",
    "# 지역변수(local variable) -> 해당 변수를 생성한 함수 내에서 사용가능\n",
    "# 변수의 이름이 같더라도 메모리의 위치가 다르기 때문에 다르게 쓰인다"
   ]
  },
  {
   "cell_type": "markdown",
   "id": "bf7b26cc",
   "metadata": {},
   "source": [
    "# 전역변수"
   ]
  },
  {
   "cell_type": "code",
   "execution_count": 23,
   "id": "6892db47",
   "metadata": {},
   "outputs": [
    {
     "name": "stdout",
     "output_type": "stream",
     "text": [
      "hello\n"
     ]
    }
   ],
   "source": [
    "say1 = 'hello'\n",
    "def sayhello(): # 함수에 return 생략가능\n",
    "    print(say1)\n",
    "\n",
    "sayhello()"
   ]
  },
  {
   "cell_type": "markdown",
   "id": "5c985065",
   "metadata": {},
   "source": [
    "# 지역변수"
   ]
  },
  {
   "cell_type": "code",
   "execution_count": 26,
   "id": "64643f5b",
   "metadata": {},
   "outputs": [
    {
     "name": "stdout",
     "output_type": "stream",
     "text": [
      "goodbye\n"
     ]
    },
    {
     "ename": "NameError",
     "evalue": "name 'say2' is not defined",
     "output_type": "error",
     "traceback": [
      "\u001b[1;31m---------------------------------------------------------------------------\u001b[0m",
      "\u001b[1;31mNameError\u001b[0m                                 Traceback (most recent call last)",
      "Input \u001b[1;32mIn [26]\u001b[0m, in \u001b[0;36m<cell line: 5>\u001b[1;34m()\u001b[0m\n\u001b[0;32m      3\u001b[0m     \u001b[38;5;28mprint\u001b[39m(say2)\n\u001b[0;32m      4\u001b[0m saygoodbye()\n\u001b[1;32m----> 5\u001b[0m \u001b[38;5;28mprint\u001b[39m(\u001b[43msay2\u001b[49m)\n",
      "\u001b[1;31mNameError\u001b[0m: name 'say2' is not defined"
     ]
    }
   ],
   "source": [
    "def saygoodbye():\n",
    "    say2 = 'goodbye' # 지역변수\n",
    "    print(say2)\n",
    "saygoodbye()\n",
    "\n",
    "print(say2)  # -> say2는 saygoodbye()함수 내의 수식에서만 잠깐 사용하는 지역변수일 뿐이다."
   ]
  },
  {
   "cell_type": "code",
   "execution_count": 27,
   "id": "923e8e4e",
   "metadata": {},
   "outputs": [],
   "source": [
    "# a = 1          # 전역변수 a의 값 1\n",
    "# def 함수명():\n",
    "#     a = 2      # 지역변수 a의 값 2\n",
    "\n",
    "# a = 1\n",
    "# def 함수명():\n",
    "#     global a    # 함수 내에서 전역변수 a를 사용하겠다고 선언\n",
    "#     a += 1     # 이렇게 해주면 전역변수a의 값이 변하게된다 "
   ]
  },
  {
   "cell_type": "markdown",
   "id": "2aa1a48e",
   "metadata": {},
   "source": [
    "# 함수 안에서 전역변수 값 변경하기"
   ]
  },
  {
   "cell_type": "code",
   "execution_count": 29,
   "id": "9f85d2ec",
   "metadata": {},
   "outputs": [
    {
     "name": "stdout",
     "output_type": "stream",
     "text": [
      "(12, -8)\n",
      "1\n"
     ]
    }
   ],
   "source": [
    "n1 = 1\n",
    "n2 = 10\n",
    "\n",
    "def get_plus_minus():\n",
    "    n1 = 2\n",
    "    plus = n1 + n2\n",
    "    minus = n1 - n2\n",
    "    return plus,minus\n",
    "\n",
    "print(get_plus_minus())\n",
    "print(n1)"
   ]
  },
  {
   "cell_type": "code",
   "execution_count": 31,
   "id": "bccd10e3",
   "metadata": {},
   "outputs": [
    {
     "name": "stdout",
     "output_type": "stream",
     "text": [
      "(12, -8)\n",
      "2\n"
     ]
    }
   ],
   "source": [
    "n1 = 1\n",
    "n2 = 10\n",
    "\n",
    "def get_plus_minus():\n",
    "    global n1\n",
    "    n1 = 2\n",
    "    plus = n1 + n2\n",
    "    minus = n1 - n2\n",
    "    return plus,minus\n",
    "\n",
    "print(get_plus_minus())\n",
    "print(n1)"
   ]
  },
  {
   "cell_type": "code",
   "execution_count": null,
   "id": "ec18dbbf",
   "metadata": {},
   "outputs": [],
   "source": []
  }
 ],
 "metadata": {
  "kernelspec": {
   "display_name": "Python 3 (ipykernel)",
   "language": "python",
   "name": "python3"
  },
  "language_info": {
   "codemirror_mode": {
    "name": "ipython",
    "version": 3
   },
   "file_extension": ".py",
   "mimetype": "text/x-python",
   "name": "python",
   "nbconvert_exporter": "python",
   "pygments_lexer": "ipython3",
   "version": "3.9.12"
  },
  "toc": {
   "base_numbering": 1,
   "nav_menu": {},
   "number_sections": true,
   "sideBar": true,
   "skip_h1_title": false,
   "title_cell": "Table of Contents",
   "title_sidebar": "Contents",
   "toc_cell": false,
   "toc_position": {},
   "toc_section_display": true,
   "toc_window_display": false
  }
 },
 "nbformat": 4,
 "nbformat_minor": 5
}
