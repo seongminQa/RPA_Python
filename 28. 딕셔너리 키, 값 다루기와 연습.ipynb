{
 "cells": [
  {
   "cell_type": "markdown",
   "id": "eb11bf85",
   "metadata": {},
   "source": [
    "# 딕셔너리 키, 값을 리스트 형태로 가져오기"
   ]
  },
  {
   "cell_type": "code",
   "execution_count": 1,
   "id": "b4d27f7a",
   "metadata": {},
   "outputs": [],
   "source": [
    "# 딕셔너리.keys() -> 키만 리스트 형태로 받아서 사용\n",
    "# 딕셔너리.values() -> 값만 리스트 형태로 받아서 사용\n",
    "# 딕셔너리.items() -> (키,값)을 리스트형태로 받아서 사용 "
   ]
  },
  {
   "cell_type": "code",
   "execution_count": 2,
   "id": "beb53a9a",
   "metadata": {},
   "outputs": [
    {
     "name": "stdout",
     "output_type": "stream",
     "text": [
      "dict_keys(['kor', 'eng', 'math'])\n"
     ]
    }
   ],
   "source": [
    "scores = {'kor':100, 'eng':90, 'math':80}\n",
    "print(scores.keys()) # -> 완전한 리스트는 아니고, dict함수의 객체를 불러와 리스트로써 사용가능"
   ]
  },
  {
   "cell_type": "code",
   "execution_count": 4,
   "id": "08ef6f8d",
   "metadata": {},
   "outputs": [
    {
     "data": {
      "text/plain": [
       "dict_values([100, 90, 80])"
      ]
     },
     "execution_count": 4,
     "metadata": {},
     "output_type": "execute_result"
    }
   ],
   "source": [
    "scores = {'kor':100, 'eng':90, 'math':80}\n",
    "scores.values()"
   ]
  },
  {
   "cell_type": "code",
   "execution_count": 5,
   "id": "a7e20211",
   "metadata": {},
   "outputs": [
    {
     "data": {
      "text/plain": [
       "dict_items([('kor', 100), ('eng', 90), ('math', 80)])"
      ]
     },
     "execution_count": 5,
     "metadata": {},
     "output_type": "execute_result"
    }
   ],
   "source": [
    "scores = {'kor':100, 'eng':90, 'math':80}\n",
    "scores.items() # -> 키와 값의 튜플 형태로 가져온다"
   ]
  },
  {
   "cell_type": "code",
   "execution_count": 6,
   "id": "71158967",
   "metadata": {},
   "outputs": [],
   "source": [
    " # for문에서 딕셔너리의 key, value 사용하기"
   ]
  },
  {
   "cell_type": "code",
   "execution_count": 8,
   "id": "87f2d8f5",
   "metadata": {},
   "outputs": [
    {
     "name": "stdout",
     "output_type": "stream",
     "text": [
      "kor eng math \n",
      "kor eng math \n",
      "100 90 80 \n",
      "('kor', 100) ('eng', 90) ('math', 80) "
     ]
    }
   ],
   "source": [
    "scores = {'kor':100, 'eng':90, 'math':80}\n",
    "\n",
    "for i in scores.keys():\n",
    "    print(i,end =\" \")\n",
    "print()\n",
    "for i in scores: # -> 키만 가져오게된다..\n",
    "    print(i,end =\" \")\n",
    "print()\n",
    "for i in scores.values():\n",
    "    print(i,end =\" \")\n",
    "print()\n",
    "for i in scores.items():  # for문으로 딕셔너리의 key, value 출력하기\n",
    "    print(i,end =\" \")"
   ]
  },
  {
   "cell_type": "code",
   "execution_count": 10,
   "id": "f66fb7d5",
   "metadata": {},
   "outputs": [
    {
     "name": "stdout",
     "output_type": "stream",
     "text": [
      "kor 100\n",
      "eng 90\n",
      "math 80\n"
     ]
    }
   ],
   "source": [
    "scores = {'kor':100, 'eng':90, 'math':80}\n",
    "for k,v in scores.items():\n",
    "    print(k,v) # -> k는 키값, v는 밸류값"
   ]
  },
  {
   "cell_type": "code",
   "execution_count": 11,
   "id": "7972f78d",
   "metadata": {},
   "outputs": [],
   "source": [
    " # 딕셔너리 정렬하기"
   ]
  },
  {
   "cell_type": "code",
   "execution_count": 12,
   "id": "674043a4",
   "metadata": {},
   "outputs": [
    {
     "data": {
      "text/plain": [
       "[('eng', 90), ('kor', 100), ('math', 80)]"
      ]
     },
     "execution_count": 12,
     "metadata": {},
     "output_type": "execute_result"
    }
   ],
   "source": [
    "scores = {'kor':100, 'eng':90, 'math':80}\n",
    "# 키 정렬하기\n",
    "sorted(scores.keys())\n",
    "# 값 정렬하기\n",
    "sorted(scores.values())\n",
    "# 키, 값 정렬하기\n",
    "sorted(scores.items()) # -> key를 기준으로 정렬됨\n",
    "\n",
    "# .sort()는 지원하지 않음\n",
    "# scores.keys().sort() -> 오류가 난다.\n",
    "# 리스트와 유사하게 사용될 수 있지만, **리스트함수 sort()는 지원하지 않는다."
   ]
  },
  {
   "cell_type": "markdown",
   "id": "0eb4e76b",
   "metadata": {},
   "source": [
    "# 딕셔너리를 사용하는 문제를 해결"
   ]
  },
  {
   "cell_type": "code",
   "execution_count": 19,
   "id": "0dcc0a55",
   "metadata": {},
   "outputs": [],
   "source": [
    "# 1. 영어단어장 만들기\n",
    "#     -> 엔터를 입력할 때까지 영어단어, 뜻을 입력받아 단어장을 만들고,\n",
    "#         입력이 끝나면 단어 테스트를 실시하는 프로그램을 만들자.\n",
    "#    1) 단어장을 만듭니다.\n",
    "#    2) 단어테스트를 실시하고 맞은 갯수를 계산\n",
    "#    3) 테스트가 끝나면 맞은갯수/전체단어수/점수 형태로 결과출력 "
   ]
  },
  {
   "cell_type": "code",
   "execution_count": 13,
   "id": "75ab8a5b",
   "metadata": {},
   "outputs": [
    {
     "name": "stdout",
     "output_type": "stream",
     "text": [
      "(영어단어,뜻 :) 형식에 맞춰 입력하세요apple,사과\n"
     ]
    }
   ],
   "source": [
    "input_word = input('(영어단어,뜻 :) 형식에 맞춰 입력하세요')"
   ]
  },
  {
   "cell_type": "code",
   "execution_count": 15,
   "id": "0ed00b6d",
   "metadata": {},
   "outputs": [
    {
     "name": "stdout",
     "output_type": "stream",
     "text": [
      "apple 사과\n"
     ]
    }
   ],
   "source": [
    "eng = input_word.split(',')[0]\n",
    "kor = input_word.split(',')[1]\n",
    "print(eng,kor)"
   ]
  },
  {
   "cell_type": "code",
   "execution_count": 16,
   "id": "751e2ea1",
   "metadata": {},
   "outputs": [
    {
     "name": "stdout",
     "output_type": "stream",
     "text": [
      "{'apple': '사과'}\n"
     ]
    }
   ],
   "source": [
    "dict_word = {} # 빈 딕셔너리 생성\n",
    "\n",
    "dict_word[eng] = kor # 딕셔너리 키값에 밸류값 지정\n",
    "print(dict_word)"
   ]
  },
  {
   "cell_type": "code",
   "execution_count": 18,
   "id": "a0974b52",
   "metadata": {},
   "outputs": [
    {
     "name": "stdout",
     "output_type": "stream",
     "text": [
      "영어단어,뜻 :apple,사과\n",
      "영어단어,뜻 :banana,바나나\n",
      "영어단어,뜻 :orange,오렌지\n",
      "영어단어,뜻 :\n"
     ]
    },
    {
     "data": {
      "text/plain": [
       "{'apple': '사과', 'banana': '바나나', 'orange': '오렌지'}"
      ]
     },
     "execution_count": 18,
     "metadata": {},
     "output_type": "execute_result"
    }
   ],
   "source": [
    "## 단어장 만들기.\n",
    "\n",
    "dict_word = {}\n",
    "while True:\n",
    "    input_word = input('영어단어,뜻 :')\n",
    "    if input_word == '': # 아무것도 입력하지 않으면(엔터키를 치면)\n",
    "        break\n",
    "    eng = input_word.split(',')[0]\n",
    "    kor = input_word.split(',')[1]\n",
    "    dict_word[eng] = kor\n",
    "dict_word"
   ]
  },
  {
   "cell_type": "code",
   "execution_count": 27,
   "id": "3949a011",
   "metadata": {},
   "outputs": [],
   "source": [
    " # 단어 테스트"
   ]
  },
  {
   "cell_type": "code",
   "execution_count": 19,
   "id": "e9dd51a1",
   "metadata": {},
   "outputs": [
    {
     "name": "stdout",
     "output_type": "stream",
     "text": [
      "apple사과\n",
      "맞음\n",
      "banana버네너\n",
      "틀림\n",
      "orange오렌지\n",
      "맞음\n",
      "맞은 갯수: 2\n",
      "전체 문제수: 3\n",
      "점수: 66.7\n"
     ]
    }
   ],
   "source": [
    "cnt = 0\n",
    "for eng, kor in dict_word.items():\n",
    "    answer = input(eng)\n",
    "    \n",
    "    if answer == kor:\n",
    "        print('맞음')\n",
    "        cnt += 1\n",
    "    else:\n",
    "        print('틀림')\n",
    "        \n",
    "print('맞은 갯수:',cnt)\n",
    "print('전체 문제수:',len(dict_word))\n",
    "print('점수:',round(cnt/len(dict_word)*100,1))"
   ]
  },
  {
   "cell_type": "code",
   "execution_count": null,
   "id": "cf1aba18",
   "metadata": {},
   "outputs": [],
   "source": []
  }
 ],
 "metadata": {
  "kernelspec": {
   "display_name": "Python 3 (ipykernel)",
   "language": "python",
   "name": "python3"
  },
  "language_info": {
   "codemirror_mode": {
    "name": "ipython",
    "version": 3
   },
   "file_extension": ".py",
   "mimetype": "text/x-python",
   "name": "python",
   "nbconvert_exporter": "python",
   "pygments_lexer": "ipython3",
   "version": "3.9.12"
  },
  "toc": {
   "base_numbering": 1,
   "nav_menu": {},
   "number_sections": true,
   "sideBar": true,
   "skip_h1_title": false,
   "title_cell": "Table of Contents",
   "title_sidebar": "Contents",
   "toc_cell": false,
   "toc_position": {},
   "toc_section_display": true,
   "toc_window_display": false
  }
 },
 "nbformat": 4,
 "nbformat_minor": 5
}
