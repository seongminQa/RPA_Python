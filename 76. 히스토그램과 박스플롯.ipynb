{
 "cells": [
  {
   "cell_type": "markdown",
   "id": "3fb247d9",
   "metadata": {},
   "source": [
    "[학습목표]<br>\n",
    "히스토그램으로 데이터의 도수분포를 표현할 수 있다."
   ]
  },
  {
   "cell_type": "code",
   "execution_count": 1,
   "id": "aaeccc2c",
   "metadata": {},
   "outputs": [],
   "source": [
    "import pandas as pd\n",
    "import matplotlib.pyplot as plt"
   ]
  },
  {
   "cell_type": "code",
   "execution_count": 2,
   "id": "0c92d9e0",
   "metadata": {},
   "outputs": [],
   "source": [
    "# 그래프에 한글 설정\n",
    "plt.rcParams['font.family'] = 'Malgun Gothic'\n",
    "\n",
    "# 유니코드에서 그래프에 마이너스 기호 깨지는 문제 해결\n",
    "plt.rcParams['axes.unicode_minus'] = False"
   ]
  },
  {
   "cell_type": "markdown",
   "id": "58b9b5d2",
   "metadata": {},
   "source": [
    "# 히스토그램\n",
    "* 자료의 도수분포를 나타내는 그래프<br>\n",
    "수치를 나타내는 자료를 일정 구간(계급)으로 나누어 각 구간별 값의 개수(도수)를 나타낸다.<br>\n",
    "\n",
    "* x축은 계급(값의 구간), y축은 도수(구간별 값의 개수)를 나타냄"
   ]
  },
  {
   "cell_type": "markdown",
   "id": "bce06415",
   "metadata": {},
   "source": [
    "## 샘플데이터\n",
    "* 125명의 점수 데이터"
   ]
  },
  {
   "cell_type": "code",
   "execution_count": 3,
   "id": "7392dd07",
   "metadata": {},
   "outputs": [],
   "source": [
    "scores = [0,10,15,15,15,16,19,20,21,25,25,26,26,29,30,35,36,37,39,40,41,41,44,45,45,45,45,47,\n",
    "          50,50,50,50,51,51,51,53,54,55,55,56,60,61,62,62,63,64,65,65,65,65,66,66,66,66,66,\n",
    "          67,68,68,69,70,70,70,70,70,70,70,70,71,71,71,71,71,72,72,72,72,73,74,74,74,75,75,\n",
    "          76,76,76,77,77,77,77,78,78,78,78,78,79,79,79,79,80,80,80,80,80,80,81,81,81,82,82,\n",
    "          85,85,85,88,88,89,90,90,90,93,93,95,95,95,97,100]"
   ]
  },
  {
   "cell_type": "code",
   "execution_count": 4,
   "id": "5a0f0c6f",
   "metadata": {},
   "outputs": [
    {
     "data": {
      "text/plain": [
       "125"
      ]
     },
     "execution_count": 4,
     "metadata": {},
     "output_type": "execute_result"
    }
   ],
   "source": [
    "len(scores)"
   ]
  },
  {
   "cell_type": "markdown",
   "id": "0605e22f",
   "metadata": {},
   "source": [
    "## 히스토그램"
   ]
  },
  {
   "cell_type": "markdown",
   "id": "d6309d60",
   "metadata": {},
   "source": [
    "### 기본 히스토그램\n",
    "* <b>`plt.hist(data)`</b><br>\n",
    "default : 10개의 구간으로 나누어 도수분포를 보여준다."
   ]
  },
  {
   "cell_type": "code",
   "execution_count": 5,
   "id": "0aa763e4",
   "metadata": {
    "scrolled": false
   },
   "outputs": [
    {
     "data": {
      "text/plain": [
       "(array([ 1.,  6.,  7.,  5.,  9., 12., 19., 39., 17., 10.]),\n",
       " array([  0.,  10.,  20.,  30.,  40.,  50.,  60.,  70.,  80.,  90., 100.]),\n",
       " <BarContainer object of 10 artists>)"
      ]
     },
     "execution_count": 5,
     "metadata": {},
     "output_type": "execute_result"
    },
    {
     "data": {
      "image/png": "[encoded data removed]",
      "text/plain": [
       "<Figure size 432x288 with 1 Axes>"
      ]
     },
     "metadata": {
      "needs_background": "light"
     },
     "output_type": "display_data"
    }
   ],
   "source": [
    "plt.hist(scores)\n",
    "# 첫번째 배열 array는 계급의 도수\n",
    "# 두번째 배열에는 값의 구간"
   ]
  },
  {
   "cell_type": "markdown",
   "id": "a21f6955",
   "metadata": {},
   "source": [
    "### 구간의 개수 변경 \n",
    "<b>` bins=구간의 개수 `</b>"
   ]
  },
  {
   "cell_type": "code",
   "execution_count": 9,
   "id": "2bdf1bce",
   "metadata": {
    "scrolled": true
   },
   "outputs": [
    {
     "data": {
      "text/plain": [
       "(array([ 1.,  0.,  1.,  5.,  2.,  5.,  1.,  4.,  4.,  5.,  9.,  3.,  6.,\n",
       "        13., 21., 18., 11.,  6.,  5.,  5.]),\n",
       " array([  0.,   5.,  10.,  15.,  20.,  25.,  30.,  35.,  40.,  45.,  50.,\n",
       "         55.,  60.,  65.,  70.,  75.,  80.,  85.,  90.,  95., 100.]),\n",
       " <BarContainer object of 20 artists>)"
      ]
     },
     "execution_count": 9,
     "metadata": {},
     "output_type": "execute_result"
    },
    {
     "data": {
      "image/png": "[encoded data removed]",
      "text/plain": [
       "<Figure size 432x288 with 1 Axes>"
      ]
     },
     "metadata": {
      "needs_background": "light"
     },
     "output_type": "display_data"
    }
   ],
   "source": [
    "plt.hist(scores, bins=20) # 스무개의 구간으로 나눔"
   ]
  },
  {
   "cell_type": "code",
   "execution_count": 10,
   "id": "24b0e300",
   "metadata": {},
   "outputs": [
    {
     "data": {
      "text/plain": [
       "(array([ 7., 12., 21., 58., 27.]),\n",
       " array([  0.,  20.,  40.,  60.,  80., 100.]),\n",
       " <BarContainer object of 5 artists>)"
      ]
     },
     "execution_count": 10,
     "metadata": {},
     "output_type": "execute_result"
    },
    {
     "data": {
      "image/png": "[encoded data removed]",
      "text/plain": [
       "<Figure size 432x288 with 1 Axes>"
      ]
     },
     "metadata": {
      "needs_background": "light"
     },
     "output_type": "display_data"
    }
   ],
   "source": [
    "plt.hist(scores, bins=5) # 5개의 구간으로 나눔"
   ]
  },
  {
   "cell_type": "markdown",
   "id": "0861c02d",
   "metadata": {},
   "source": [
    "### 누적 히스토그램\n",
    "<b>`cumulative=True`</b>"
   ]
  },
  {
   "cell_type": "code",
   "execution_count": 13,
   "id": "121692c7",
   "metadata": {
    "scrolled": false
   },
   "outputs": [
    {
     "data": {
      "text/plain": [
       "(array([  1.,   1.,   2.,   7.,   9.,  14.,  15.,  19.,  23.,  28.,  37.,\n",
       "         40.,  46.,  59.,  80.,  98., 109., 115., 120., 125.]),\n",
       " array([  0.,   5.,  10.,  15.,  20.,  25.,  30.,  35.,  40.,  45.,  50.,\n",
       "         55.,  60.,  65.,  70.,  75.,  80.,  85.,  90.,  95., 100.]),\n",
       " <BarContainer object of 20 artists>)"
      ]
     },
     "execution_count": 13,
     "metadata": {},
     "output_type": "execute_result"
    },
    {
     "data": {
      "image/png": "[encoded data removed]",
      "text/plain": [
       "<Figure size 432x288 with 1 Axes>"
      ]
     },
     "metadata": {
      "needs_background": "light"
     },
     "output_type": "display_data"
    }
   ],
   "source": [
    "plt.hist(scores, bins=20, cumulative=True)\n",
    "# 그 전의 빈도수를 누적해서 더해진다"
   ]
  },
  {
   "cell_type": "markdown",
   "id": "472d1135",
   "metadata": {},
   "source": [
    "### 범위 지정\n",
    "<b>`range=(min,max)`</b>"
   ]
  },
  {
   "cell_type": "code",
   "execution_count": 20,
   "id": "7ac49dc8",
   "metadata": {
    "scrolled": false
   },
   "outputs": [
    {
     "data": {
      "text/plain": [
       "(array([ 9.,  3.,  6., 13., 21., 18., 11.,  9.]),\n",
       " array([50., 55., 60., 65., 70., 75., 80., 85., 90.]),\n",
       " <BarContainer object of 8 artists>)"
      ]
     },
     "execution_count": 20,
     "metadata": {},
     "output_type": "execute_result"
    },
    {
     "data": {
      "image/png": "[encoded data removed]",
      "text/plain": [
       "<Figure size 432x288 with 1 Axes>"
      ]
     },
     "metadata": {
      "needs_background": "light"
     },
     "output_type": "display_data"
    }
   ],
   "source": [
    "plt.hist(scores, bins=8, range=(50,90))\n",
    "# 50부터 90까지의 값사이에서만 보고싶다."
   ]
  },
  {
   "cell_type": "markdown",
   "id": "92ff93d9",
   "metadata": {},
   "source": [
    "### 밀도 표시\n",
    "<b>`density=True`</b><br>\n",
    "도수를 총 개수로 나눈 수치를 y축에 표시"
   ]
  },
  {
   "cell_type": "code",
   "execution_count": 24,
   "id": "85b4d336",
   "metadata": {
    "scrolled": true
   },
   "outputs": [
    {
     "data": {
      "text/plain": [
       "(array([0.0008, 0.0048, 0.0056, 0.004 , 0.0072, 0.0096, 0.0152, 0.0312,\n",
       "        0.0136, 0.008 ]),\n",
       " array([  0.,  10.,  20.,  30.,  40.,  50.,  60.,  70.,  80.,  90., 100.]),\n",
       " <BarContainer object of 10 artists>)"
      ]
     },
     "execution_count": 24,
     "metadata": {},
     "output_type": "execute_result"
    },
    {
     "data": {
      "image/png": "[encoded data removed]",
      "text/plain": [
       "<Figure size 432x288 with 1 Axes>"
      ]
     },
     "metadata": {
      "needs_background": "light"
     },
     "output_type": "display_data"
    }
   ],
   "source": [
    "plt.hist(scores, density=True)\n",
    "# y축을 밀도로 표시. \n",
    "# 밀도 = 도수를 총 갯수로 나눈 수치 (퍼센트로 보기)"
   ]
  },
  {
   "cell_type": "code",
   "execution_count": 27,
   "id": "778a6cdc",
   "metadata": {},
   "outputs": [
    {
     "data": {
      "text/plain": [
       "(array([0.008, 0.056, 0.112, 0.152, 0.224, 0.32 , 0.472, 0.784, 0.92 ,\n",
       "        1.   ]),\n",
       " array([  0.,  10.,  20.,  30.,  40.,  50.,  60.,  70.,  80.,  90., 100.]),\n",
       " <BarContainer object of 10 artists>)"
      ]
     },
     "execution_count": 27,
     "metadata": {},
     "output_type": "execute_result"
    },
    {
     "data": {
      "image/png": "[encoded data removed]",
      "text/plain": [
       "<Figure size 432x288 with 1 Axes>"
      ]
     },
     "metadata": {
      "needs_background": "light"
     },
     "output_type": "display_data"
    }
   ],
   "source": [
    "plt.hist(scores, density=True, cumulative=True)\n",
    "# 층 차이가 가장 많이 나는 부분이 많이 차지하는 부분으로 볼 수 있다."
   ]
  },
  {
   "cell_type": "markdown",
   "id": "be26924f",
   "metadata": {},
   "source": [
    "### 가로 히스토그램\n",
    "<b>`orientation='horizontal'`</b>"
   ]
  },
  {
   "cell_type": "code",
   "execution_count": 29,
   "id": "e6dbe731",
   "metadata": {
    "scrolled": true
   },
   "outputs": [
    {
     "data": {
      "text/plain": [
       "(array([ 1.,  6.,  7.,  5.,  9., 12., 19., 39., 17., 10.]),\n",
       " array([  0.,  10.,  20.,  30.,  40.,  50.,  60.,  70.,  80.,  90., 100.]),\n",
       " <BarContainer object of 10 artists>)"
      ]
     },
     "execution_count": 29,
     "metadata": {},
     "output_type": "execute_result"
    },
    {
     "data": {
      "image/png": "[encoded data removed]",
      "text/plain": [
       "<Figure size 432x288 with 1 Axes>"
      ]
     },
     "metadata": {
      "needs_background": "light"
     },
     "output_type": "display_data"
    }
   ],
   "source": [
    "plt.hist(scores, orientation='horizontal')"
   ]
  },
  {
   "cell_type": "markdown",
   "id": "0d509e63",
   "metadata": {},
   "source": [
    "### 막대 스타일"
   ]
  },
  {
   "cell_type": "markdown",
   "id": "59c4a150",
   "metadata": {},
   "source": [
    "* 선만 표시 <b>`histtype='step'`</b>"
   ]
  },
  {
   "cell_type": "code",
   "execution_count": 30,
   "id": "b8650c21",
   "metadata": {},
   "outputs": [
    {
     "data": {
      "text/plain": [
       "(array([ 1.,  6.,  7.,  5.,  9., 12., 19., 39., 17., 10.]),\n",
       " array([  0.,  10.,  20.,  30.,  40.,  50.,  60.,  70.,  80.,  90., 100.]),\n",
       " [<matplotlib.patches.Polygon at 0x256894b75e0>])"
      ]
     },
     "execution_count": 30,
     "metadata": {},
     "output_type": "execute_result"
    },
    {
     "data": {
      "image/png": "[encoded data removed]",
      "text/plain": [
       "<Figure size 432x288 with 1 Axes>"
      ]
     },
     "metadata": {
      "needs_background": "light"
     },
     "output_type": "display_data"
    }
   ],
   "source": [
    "plt.hist(scores, histtype='step')"
   ]
  },
  {
   "cell_type": "markdown",
   "id": "45bffb69",
   "metadata": {},
   "source": [
    "`rwidth=막대폭(0~1)` `color=막대색` `alpha=투명도`<br>\n",
    "`edgecolor(ec)=선색` `linewidth(lw)=선두께` `linestyle(ls)=선스타일`<br>\n",
    "`hatch=패턴`\n",
    "\n"
   ]
  },
  {
   "cell_type": "code",
   "execution_count": 52,
   "id": "b2ea90d5",
   "metadata": {
    "scrolled": true
   },
   "outputs": [
    {
     "data": {
      "image/png": "[encoded data removed]",
      "text/plain": [
       "<Figure size 432x288 with 1 Axes>"
      ]
     },
     "metadata": {
      "needs_background": "light"
     },
     "output_type": "display_data"
    }
   ],
   "source": [
    "plt.hist(scores, rwidth=0.8, color='r', alpha=0.5,\n",
    "        edgecolor='b', linewidth=2, linestyle=':', hatch='/')\n",
    "\n",
    "plt.xticks(range(0,101,10))\n",
    "plt.grid(axis='y', ls=':')\n",
    "\n",
    "plt.xlabel('점수')\n",
    "plt.ylabel('인원')\n",
    "plt.title('점수대별 인원 분포', size=20)\n",
    "plt.show()"
   ]
  },
  {
   "cell_type": "code",
   "execution_count": null,
   "id": "87e387b2",
   "metadata": {},
   "outputs": [],
   "source": []
  },
  {
   "cell_type": "markdown",
   "id": "f4e43469",
   "metadata": {},
   "source": [
    "[학습목표]<br>\n",
    "박스플롯을 이용하여 데이터의 통계와 이상치를 표현할 수 있다."
   ]
  },
  {
   "cell_type": "code",
   "execution_count": 53,
   "id": "1d43ec99",
   "metadata": {},
   "outputs": [],
   "source": [
    "import matplotlib.pyplot as plt\n",
    "import pandas as pd"
   ]
  },
  {
   "cell_type": "code",
   "execution_count": 54,
   "id": "f3588c1a",
   "metadata": {},
   "outputs": [],
   "source": [
    "# 그래프에 한글 설정\n",
    "plt.rcParams['font.family'] = 'Malgun Gothic'\n",
    "\n",
    "# 그래프에 마이너스 기호 깨지는 문제 해결\n",
    "plt.rcParams['axes.unicode_minus'] = False"
   ]
  },
  {
   "cell_type": "markdown",
   "id": "ffd371c6",
   "metadata": {},
   "source": [
    "# 박스플롯"
   ]
  },
  {
   "cell_type": "markdown",
   "id": "a1c7fcb5",
   "metadata": {},
   "source": [
    "* 데이터로부터 얻어진 아래의 다섯 가지 요약 수치를 사용해서 그려진다.<br>\n",
    "<br>\n",
    "최소값<br>\n",
    "제 1사분위 수 (Q1) : 전체 데이터 중 하위 25%에 해당하는 값<br>\n",
    "제 2사분위 수 또는 중위수 (Q2)<br>\n",
    "제 3사분위 수 (Q3) : 전체 데이터 중 상위 25%에 해당하는 값<br>\n",
    "최대값<br><br>\n",
    "* 다른 값들과 동떨어진 값을 이상치로 표현한다.<br>\n",
    "어떤 값이 (1/4 지점의 값 - 1.5 * 사분위수 범위) 보다 작거나, <br>\n",
    "어떤 값이 (3/4 지점의 값 + 1.5 * 사분위수 범위) 보다 크면 그 값을 이상치로 정한다.<br>\n",
    "* 사분위수 범위 = 3/4 지점의 값 - 1/4 지점의 값"
   ]
  },
  {
   "cell_type": "code",
   "execution_count": 55,
   "id": "3dc9bd4c",
   "metadata": {},
   "outputs": [],
   "source": [
    "# 이상치를 보여줄 때 사용하기도 한다."
   ]
  },
  {
   "cell_type": "markdown",
   "id": "667a681a",
   "metadata": {},
   "source": [
    "## 샘플 데이터\n",
    "* 125명의 점수 데이터"
   ]
  },
  {
   "cell_type": "code",
   "execution_count": 56,
   "id": "d64296cf",
   "metadata": {},
   "outputs": [],
   "source": [
    "scores = pd.Series([0,10,15,15,15,16,19,20,21,25,25,26,26,29,30,35,36,37,39,40,41,41,44,45,45,45,45,47,\n",
    "          50,50,50,50,51,51,51,53,54,55,55,56,60,61,62,62,63,64,65,65,65,65,66,66,66,66,66,\n",
    "          67,68,68,69,70,70,70,70,70,70,70,70,71,71,71,71,71,72,72,72,72,73,74,74,74,75,75,\n",
    "          76,76,76,77,77,77,77,78,78,78,78,78,79,79,79,79,80,80,80,80,80,80,81,81,81,82,82,\n",
    "          85,85,85,88,88,89,90,90,90,93,93,95,95,95,97,100])"
   ]
  },
  {
   "cell_type": "markdown",
   "id": "a8a10dc2",
   "metadata": {},
   "source": [
    "### 샘플데이터의 통계값\n",
    "시리즈.describe()"
   ]
  },
  {
   "cell_type": "code",
   "execution_count": 58,
   "id": "4ce96c62",
   "metadata": {
    "scrolled": true
   },
   "outputs": [
    {
     "data": {
      "text/plain": [
       "count    125.000000\n",
       "mean      63.416000\n",
       "std       21.763829\n",
       "min        0.000000\n",
       "25%       50.000000\n",
       "50%       70.000000\n",
       "75%       78.000000\n",
       "max      100.000000\n",
       "dtype: float64"
      ]
     },
     "execution_count": 58,
     "metadata": {},
     "output_type": "execute_result"
    }
   ],
   "source": [
    "scores.describe()"
   ]
  },
  {
   "cell_type": "markdown",
   "id": "54f1789e",
   "metadata": {},
   "source": [
    "### 이상치 구하기 **\n",
    "* 1/4 지점의 값 : 시리즈.quantile(.25)\n",
    "* 3/4 지점의 값 : 시리즈.quantile(.75)\n",
    "\n",
    "* 이상치<br>\n",
    "1/4 지점의 값 - 1.5 * 사분위수 범위<br>\n",
    "3/4 지점의 값 + 1.5 * 사분위수 범위<br>\n"
   ]
  },
  {
   "cell_type": "code",
   "execution_count": 60,
   "id": "48c06238",
   "metadata": {},
   "outputs": [
    {
     "name": "stdout",
     "output_type": "stream",
     "text": [
      "1/4 지점의 값 :  50.0\n",
      "3/4 지점의 값 :  78.0\n",
      "이상치: 8.0 미만\n",
      "이상치: 120.0 이상\n"
     ]
    }
   ],
   "source": [
    "Q1 = scores.quantile(0.25)\n",
    "print('1/4 지점의 값 : ',Q1)\n",
    "\n",
    "Q3 = scores.quantile(.75)\n",
    "print('3/4 지점의 값 : ',Q3)\n",
    "\n",
    "# 이상치\n",
    "print('이상치:',Q1 - 1.5*(Q3-Q1),'미만')\n",
    "\n",
    "# 3/4 지점의 값 + 1.5 * 사분위수 범위\n",
    "print('이상치:',Q3 + 1.5*(Q3-Q1),'이상')\n"
   ]
  },
  {
   "cell_type": "markdown",
   "id": "64629f75",
   "metadata": {},
   "source": [
    "## 박스플롯\n",
    "<b>`* plt.boxplot(data)`</b>"
   ]
  },
  {
   "cell_type": "code",
   "execution_count": 62,
   "id": "872c1619",
   "metadata": {},
   "outputs": [
    {
     "data": {
      "image/png": "[encoded data removed]",
      "text/plain": [
       "<Figure size 432x288 with 1 Axes>"
      ]
     },
     "metadata": {
      "needs_background": "light"
     },
     "output_type": "display_data"
    }
   ],
   "source": [
    "plt.boxplot(scores)\n",
    "plt.show()"
   ]
  },
  {
   "cell_type": "markdown",
   "id": "1679ca59",
   "metadata": {},
   "source": [
    "## 평균 표시하기\n",
    "* showmeans=True\n",
    "* meanline=True"
   ]
  },
  {
   "cell_type": "code",
   "execution_count": 67,
   "id": "8b76f65b",
   "metadata": {
    "scrolled": false
   },
   "outputs": [
    {
     "data": {
      "image/png": "[encoded data removed]",
      "text/plain": [
       "<Figure size 432x288 with 1 Axes>"
      ]
     },
     "metadata": {
      "needs_background": "light"
     },
     "output_type": "display_data"
    }
   ],
   "source": [
    "plt.boxplot(scores, showmeans=True)\n",
    "plt.show()"
   ]
  },
  {
   "cell_type": "code",
   "execution_count": 68,
   "id": "f290f072",
   "metadata": {},
   "outputs": [
    {
     "data": {
      "image/png": "[encoded data removed]",
      "text/plain": [
       "<Figure size 432x288 with 1 Axes>"
      ]
     },
     "metadata": {
      "needs_background": "light"
     },
     "output_type": "display_data"
    }
   ],
   "source": [
    "plt.boxplot(scores, showmeans=True, meanline=True)\n",
    "plt.show()"
   ]
  },
  {
   "cell_type": "markdown",
   "id": "bff8b297",
   "metadata": {},
   "source": [
    "## 수평 박스플롯\n",
    "* vert=False"
   ]
  },
  {
   "cell_type": "code",
   "execution_count": 70,
   "id": "8ea987c8",
   "metadata": {
    "scrolled": false
   },
   "outputs": [
    {
     "data": {
      "image/png": "[encoded data removed]",
      "text/plain": [
       "<Figure size 432x288 with 1 Axes>"
      ]
     },
     "metadata": {
      "needs_background": "light"
     },
     "output_type": "display_data"
    }
   ],
   "source": [
    "plt.boxplot(scores, vert=False)\n",
    "plt.show()"
   ]
  },
  {
   "cell_type": "markdown",
   "id": "1db1aefd",
   "metadata": {},
   "source": [
    "# 여러개의 데이터 비교하기"
   ]
  },
  {
   "cell_type": "markdown",
   "id": "1d3fbf58",
   "metadata": {},
   "source": [
    "## 샘플 데이터\n",
    "* 붓꽃 데이터"
   ]
  },
  {
   "cell_type": "code",
   "execution_count": 71,
   "id": "256d7542",
   "metadata": {
    "scrolled": true
   },
   "outputs": [
    {
     "data": {
      "text/html": [
       "<div>\n",
       "<style scoped>\n",
       "    .dataframe tbody tr th:only-of-type {\n",
       "        vertical-align: middle;\n",
       "    }\n",
       "\n",
       "    .dataframe tbody tr th {\n",
       "        vertical-align: top;\n",
       "    }\n",
       "\n",
       "    .dataframe thead th {\n",
       "        text-align: right;\n",
       "    }\n",
       "</style>\n",
       "<table border=\"1\" class=\"dataframe\">\n",
       "  <thead>\n",
       "    <tr style=\"text-align: right;\">\n",
       "      <th></th>\n",
       "      <th>sepal_length</th>\n",
       "      <th>sepal_width</th>\n",
       "      <th>petal_length</th>\n",
       "      <th>petal_width</th>\n",
       "      <th>species</th>\n",
       "    </tr>\n",
       "  </thead>\n",
       "  <tbody>\n",
       "    <tr>\n",
       "      <th>0</th>\n",
       "      <td>5.1</td>\n",
       "      <td>3.5</td>\n",
       "      <td>1.4</td>\n",
       "      <td>0.2</td>\n",
       "      <td>setosa</td>\n",
       "    </tr>\n",
       "    <tr>\n",
       "      <th>1</th>\n",
       "      <td>4.9</td>\n",
       "      <td>3.0</td>\n",
       "      <td>1.4</td>\n",
       "      <td>0.2</td>\n",
       "      <td>setosa</td>\n",
       "    </tr>\n",
       "    <tr>\n",
       "      <th>2</th>\n",
       "      <td>4.7</td>\n",
       "      <td>3.2</td>\n",
       "      <td>1.3</td>\n",
       "      <td>0.2</td>\n",
       "      <td>setosa</td>\n",
       "    </tr>\n",
       "    <tr>\n",
       "      <th>3</th>\n",
       "      <td>4.6</td>\n",
       "      <td>3.1</td>\n",
       "      <td>1.5</td>\n",
       "      <td>0.2</td>\n",
       "      <td>setosa</td>\n",
       "    </tr>\n",
       "    <tr>\n",
       "      <th>4</th>\n",
       "      <td>5.0</td>\n",
       "      <td>3.6</td>\n",
       "      <td>1.4</td>\n",
       "      <td>0.2</td>\n",
       "      <td>setosa</td>\n",
       "    </tr>\n",
       "  </tbody>\n",
       "</table>\n",
       "</div>"
      ],
      "text/plain": [
       "   sepal_length  sepal_width  petal_length  petal_width species\n",
       "0           5.1          3.5           1.4          0.2  setosa\n",
       "1           4.9          3.0           1.4          0.2  setosa\n",
       "2           4.7          3.2           1.3          0.2  setosa\n",
       "3           4.6          3.1           1.5          0.2  setosa\n",
       "4           5.0          3.6           1.4          0.2  setosa"
      ]
     },
     "execution_count": 71,
     "metadata": {},
     "output_type": "execute_result"
    }
   ],
   "source": [
    "import seaborn as sns\n",
    "iris = sns.load_dataset('iris')\n",
    "iris.head()"
   ]
  },
  {
   "cell_type": "markdown",
   "id": "99f8f44b",
   "metadata": {},
   "source": [
    "## 여러 개의 데이터 비교하기\n",
    "* plt.boxplot(데이터리스트, labels=레이블리스트)"
   ]
  },
  {
   "cell_type": "code",
   "execution_count": 83,
   "id": "93883174",
   "metadata": {
    "scrolled": true
   },
   "outputs": [
    {
     "data": {
      "image/png": "[encoded data removed]",
      "text/plain": [
       "<Figure size 432x288 with 1 Axes>"
      ]
     },
     "metadata": {
      "needs_background": "light"
     },
     "output_type": "display_data"
    }
   ],
   "source": [
    "plt.boxplot( [iris['sepal_length'], iris['sepal_width'], iris['petal_length'],iris['petal_width']],\n",
    "           labels=['sepal_length','sepal_width','petal_length','petal_width'],\n",
    "           showmeans=True)\n",
    "\n",
    "plt.grid(axis='y')\n",
    "\n",
    "plt.show()"
   ]
  }
 ],
 "metadata": {
  "kernelspec": {
   "display_name": "Python 3 (ipykernel)",
   "language": "python",
   "name": "python3"
  },
  "language_info": {
   "codemirror_mode": {
    "name": "ipython",
    "version": 3
   },
   "file_extension": ".py",
   "mimetype": "text/x-python",
   "name": "python",
   "nbconvert_exporter": "python",
   "pygments_lexer": "ipython3",
   "version": "3.9.12"
  }
 },
 "nbformat": 4,
 "nbformat_minor": 5
}
