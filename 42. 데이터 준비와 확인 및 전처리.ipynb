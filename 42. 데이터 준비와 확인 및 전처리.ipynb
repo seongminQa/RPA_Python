{
 "cells": [
  {
   "cell_type": "code",
   "execution_count": 1,
   "id": "f86eeb21",
   "metadata": {},
   "outputs": [],
   "source": [
    "# 서울시 공공데이터포털에서 csv파일을 다운로드 하여 판다스 데이터 프레임으로 만들어 사용할 수 있다."
   ]
  },
  {
   "cell_type": "code",
   "execution_count": 1,
   "id": "2d7084e2",
   "metadata": {},
   "outputs": [],
   "source": [
    "import pandas as pd\n",
    "import matplotlib.pyplot as plt"
   ]
  },
  {
   "cell_type": "code",
   "execution_count": 4,
   "id": "2398bc37",
   "metadata": {},
   "outputs": [
    {
     "data": {
      "image/png": "[encoded data removed]",
      "text/plain": [
       "<Figure size 432x288 with 1 Axes>"
      ]
     },
     "metadata": {
      "needs_background": "light"
     },
     "output_type": "display_data"
    }
   ],
   "source": [
    "plt.plot([1,2,3],[4,5,6])\n",
    "plt.title('그래프')\n",
    "plt.show()"
   ]
  },
  {
   "cell_type": "code",
   "execution_count": 3,
   "id": "4c90c047",
   "metadata": {},
   "outputs": [],
   "source": [
    "# 그래프를 노트북 안에 그리기 위해 설정\n",
    "%matplotlib inline\n",
    "\n",
    "# 필요한 패키지와 라이브러리를 가져온다.\n",
    "import matplotlib as mpl\n",
    "import matplotlib.pyplot as plt\n",
    "import matplotlib.font_manager as fm\n",
    "\n",
    "# 그래프에서 마이너스 폰트 깨지는 문제에 대한 대처\n",
    "mpl.rcParams['axes.unicode_minus'] = False\n",
    "\n",
    "# 폰트 지정하기\n",
    "plt.rcParams['font.family'] = 'Gulim' # -> 내 컴퓨터의 '굴림'체를 가져옴"
   ]
  },
  {
   "cell_type": "code",
   "execution_count": 9,
   "id": "bce761ce",
   "metadata": {},
   "outputs": [
    {
     "data": {
      "text/plain": [
       "['New Gulim', 'Gulim', 'New Gulim', 'Gulim']"
      ]
     },
     "execution_count": 9,
     "metadata": {},
     "output_type": "execute_result"
    }
   ],
   "source": [
    "# 폰트 확인하기 # 굴림안에 굴림체의 종류별.. 하나를 선택!\n",
    "[f.name for f in fm.fontManager.ttflist if 'Gulim' in f.name]"
   ]
  },
  {
   "cell_type": "code",
   "execution_count": 10,
   "id": "7ad80875",
   "metadata": {},
   "outputs": [
    {
     "name": "stderr",
     "output_type": "stream",
     "text": [
      "C:\\Users\\Soeng Min\\AppData\\Local\\Temp\\ipykernel_3204\\2421413899.py:1: DtypeWarning: Columns (10) have mixed types. Specify dtype option on import or set low_memory=False.\n",
      "  df = pd.read_csv('data/서울시 코로나19 확진자 현황2.csv')\n"
     ]
    }
   ],
   "source": [
    "df = pd.read_csv('data/서울시 코로나19 확진자 현황2.csv')\n",
    "# 엑셀파일 열어서 csv, UTF-8로 저장하여 다시 연것.\n",
    "# 엑셀 버전에 따라 안될 수 있기 때문에 메모장으로 열어 UTF-8(BOM)으로 선택하여 저장\n",
    "# 엑셀이 없을 경우 구글 스프레드시트로 수정.."
   ]
  },
  {
   "cell_type": "code",
   "execution_count": 11,
   "id": "d6a92d2a",
   "metadata": {},
   "outputs": [
    {
     "data": {
      "text/html": [
       "<div>\n",
       "<style scoped>\n",
       "    .dataframe tbody tr th:only-of-type {\n",
       "        vertical-align: middle;\n",
       "    }\n",
       "\n",
       "    .dataframe tbody tr th {\n",
       "        vertical-align: top;\n",
       "    }\n",
       "\n",
       "    .dataframe thead th {\n",
       "        text-align: right;\n",
       "    }\n",
       "</style>\n",
       "<table border=\"1\" class=\"dataframe\">\n",
       "  <thead>\n",
       "    <tr style=\"text-align: right;\">\n",
       "      <th></th>\n",
       "      <th>연번</th>\n",
       "      <th>확진일</th>\n",
       "      <th>환자번호</th>\n",
       "      <th>국적</th>\n",
       "      <th>환자정보</th>\n",
       "      <th>지역</th>\n",
       "      <th>여행력</th>\n",
       "      <th>접촉력</th>\n",
       "      <th>조치사항</th>\n",
       "      <th>상태</th>\n",
       "      <th>이동경로</th>\n",
       "      <th>등록일</th>\n",
       "      <th>수정일</th>\n",
       "      <th>노출여부</th>\n",
       "    </tr>\n",
       "  </thead>\n",
       "  <tbody>\n",
       "    <tr>\n",
       "      <th>0</th>\n",
       "      <td>99550</td>\n",
       "      <td>2021-09-28</td>\n",
       "      <td>NaN</td>\n",
       "      <td>NaN</td>\n",
       "      <td>NaN</td>\n",
       "      <td>기타</td>\n",
       "      <td>NaN</td>\n",
       "      <td>감염경로 조사중</td>\n",
       "      <td>NaN</td>\n",
       "      <td>-</td>\n",
       "      <td>NaN</td>\n",
       "      <td>2021-09-29 10:54</td>\n",
       "      <td>2021-09-29 10:54</td>\n",
       "      <td>Y</td>\n",
       "    </tr>\n",
       "    <tr>\n",
       "      <th>1</th>\n",
       "      <td>99549</td>\n",
       "      <td>2021-09-28</td>\n",
       "      <td>NaN</td>\n",
       "      <td>NaN</td>\n",
       "      <td>NaN</td>\n",
       "      <td>기타</td>\n",
       "      <td>NaN</td>\n",
       "      <td>감염경로 조사중</td>\n",
       "      <td>NaN</td>\n",
       "      <td>-</td>\n",
       "      <td>NaN</td>\n",
       "      <td>2021-09-29 10:54</td>\n",
       "      <td>2021-09-29 10:54</td>\n",
       "      <td>Y</td>\n",
       "    </tr>\n",
       "    <tr>\n",
       "      <th>2</th>\n",
       "      <td>99548</td>\n",
       "      <td>2021-09-28</td>\n",
       "      <td>NaN</td>\n",
       "      <td>NaN</td>\n",
       "      <td>NaN</td>\n",
       "      <td>기타</td>\n",
       "      <td>NaN</td>\n",
       "      <td>감염경로 조사중</td>\n",
       "      <td>NaN</td>\n",
       "      <td>-</td>\n",
       "      <td>NaN</td>\n",
       "      <td>2021-09-29 10:54</td>\n",
       "      <td>2021-09-29 10:54</td>\n",
       "      <td>Y</td>\n",
       "    </tr>\n",
       "    <tr>\n",
       "      <th>3</th>\n",
       "      <td>99547</td>\n",
       "      <td>2021-09-28</td>\n",
       "      <td>NaN</td>\n",
       "      <td>NaN</td>\n",
       "      <td>NaN</td>\n",
       "      <td>기타</td>\n",
       "      <td>NaN</td>\n",
       "      <td>감염경로 조사중</td>\n",
       "      <td>NaN</td>\n",
       "      <td>-</td>\n",
       "      <td>NaN</td>\n",
       "      <td>2021-09-29 10:54</td>\n",
       "      <td>2021-09-29 10:54</td>\n",
       "      <td>Y</td>\n",
       "    </tr>\n",
       "    <tr>\n",
       "      <th>4</th>\n",
       "      <td>99546</td>\n",
       "      <td>2021-09-28</td>\n",
       "      <td>NaN</td>\n",
       "      <td>NaN</td>\n",
       "      <td>NaN</td>\n",
       "      <td>기타</td>\n",
       "      <td>NaN</td>\n",
       "      <td>감염경로 조사중</td>\n",
       "      <td>NaN</td>\n",
       "      <td>-</td>\n",
       "      <td>NaN</td>\n",
       "      <td>2021-09-29 10:54</td>\n",
       "      <td>2021-09-29 10:54</td>\n",
       "      <td>Y</td>\n",
       "    </tr>\n",
       "    <tr>\n",
       "      <th>...</th>\n",
       "      <td>...</td>\n",
       "      <td>...</td>\n",
       "      <td>...</td>\n",
       "      <td>...</td>\n",
       "      <td>...</td>\n",
       "      <td>...</td>\n",
       "      <td>...</td>\n",
       "      <td>...</td>\n",
       "      <td>...</td>\n",
       "      <td>...</td>\n",
       "      <td>...</td>\n",
       "      <td>...</td>\n",
       "      <td>...</td>\n",
       "      <td>...</td>\n",
       "    </tr>\n",
       "    <tr>\n",
       "      <th>99545</th>\n",
       "      <td>5</td>\n",
       "      <td>2020-01-31</td>\n",
       "      <td>NaN</td>\n",
       "      <td>NaN</td>\n",
       "      <td>NaN</td>\n",
       "      <td>성북구</td>\n",
       "      <td>NaN</td>\n",
       "      <td>기타 확진자 접촉</td>\n",
       "      <td>NaN</td>\n",
       "      <td>퇴원</td>\n",
       "      <td>NaN</td>\n",
       "      <td>2021-05-27 11:08</td>\n",
       "      <td>2021-05-27 11:08</td>\n",
       "      <td>Y</td>\n",
       "    </tr>\n",
       "    <tr>\n",
       "      <th>99546</th>\n",
       "      <td>4</td>\n",
       "      <td>2020-01-30</td>\n",
       "      <td>NaN</td>\n",
       "      <td>NaN</td>\n",
       "      <td>NaN</td>\n",
       "      <td>마포구</td>\n",
       "      <td>중국</td>\n",
       "      <td>해외유입</td>\n",
       "      <td>NaN</td>\n",
       "      <td>퇴원</td>\n",
       "      <td>NaN</td>\n",
       "      <td>2021-05-27 11:08</td>\n",
       "      <td>2021-05-27 11:08</td>\n",
       "      <td>Y</td>\n",
       "    </tr>\n",
       "    <tr>\n",
       "      <th>99547</th>\n",
       "      <td>3</td>\n",
       "      <td>2020-01-30</td>\n",
       "      <td>NaN</td>\n",
       "      <td>NaN</td>\n",
       "      <td>NaN</td>\n",
       "      <td>종로구</td>\n",
       "      <td>NaN</td>\n",
       "      <td>종로구 집단발병</td>\n",
       "      <td>NaN</td>\n",
       "      <td>퇴원</td>\n",
       "      <td>NaN</td>\n",
       "      <td>2021-05-27 11:08</td>\n",
       "      <td>2021-05-27 11:08</td>\n",
       "      <td>Y</td>\n",
       "    </tr>\n",
       "    <tr>\n",
       "      <th>99548</th>\n",
       "      <td>2</td>\n",
       "      <td>2020-01-30</td>\n",
       "      <td>NaN</td>\n",
       "      <td>NaN</td>\n",
       "      <td>NaN</td>\n",
       "      <td>중랑구</td>\n",
       "      <td>중국</td>\n",
       "      <td>해외유입</td>\n",
       "      <td>NaN</td>\n",
       "      <td>퇴원</td>\n",
       "      <td>NaN</td>\n",
       "      <td>2021-05-27 11:08</td>\n",
       "      <td>2021-05-27 11:08</td>\n",
       "      <td>Y</td>\n",
       "    </tr>\n",
       "    <tr>\n",
       "      <th>99549</th>\n",
       "      <td>1</td>\n",
       "      <td>2020-01-24</td>\n",
       "      <td>NaN</td>\n",
       "      <td>NaN</td>\n",
       "      <td>NaN</td>\n",
       "      <td>강서구</td>\n",
       "      <td>중국</td>\n",
       "      <td>해외유입</td>\n",
       "      <td>NaN</td>\n",
       "      <td>퇴원</td>\n",
       "      <td>NaN</td>\n",
       "      <td>2021-05-27 11:08</td>\n",
       "      <td>2021-05-27 11:08</td>\n",
       "      <td>Y</td>\n",
       "    </tr>\n",
       "  </tbody>\n",
       "</table>\n",
       "<p>99550 rows × 14 columns</p>\n",
       "</div>"
      ],
      "text/plain": [
       "          연번         확진일  환자번호  국적  환자정보   지역  여행력        접촉력  조치사항  상태 이동경로  \\\n",
       "0      99550  2021-09-28   NaN NaN   NaN   기타  NaN   감염경로 조사중   NaN   -  NaN   \n",
       "1      99549  2021-09-28   NaN NaN   NaN   기타  NaN   감염경로 조사중   NaN   -  NaN   \n",
       "2      99548  2021-09-28   NaN NaN   NaN   기타  NaN   감염경로 조사중   NaN   -  NaN   \n",
       "3      99547  2021-09-28   NaN NaN   NaN   기타  NaN   감염경로 조사중   NaN   -  NaN   \n",
       "4      99546  2021-09-28   NaN NaN   NaN   기타  NaN   감염경로 조사중   NaN   -  NaN   \n",
       "...      ...         ...   ...  ..   ...  ...  ...        ...   ...  ..  ...   \n",
       "99545      5  2020-01-31   NaN NaN   NaN  성북구  NaN  기타 확진자 접촉   NaN  퇴원  NaN   \n",
       "99546      4  2020-01-30   NaN NaN   NaN  마포구   중국       해외유입   NaN  퇴원  NaN   \n",
       "99547      3  2020-01-30   NaN NaN   NaN  종로구  NaN   종로구 집단발병   NaN  퇴원  NaN   \n",
       "99548      2  2020-01-30   NaN NaN   NaN  중랑구   중국       해외유입   NaN  퇴원  NaN   \n",
       "99549      1  2020-01-24   NaN NaN   NaN  강서구   중국       해외유입   NaN  퇴원  NaN   \n",
       "\n",
       "                    등록일               수정일 노출여부  \n",
       "0      2021-09-29 10:54  2021-09-29 10:54    Y  \n",
       "1      2021-09-29 10:54  2021-09-29 10:54    Y  \n",
       "2      2021-09-29 10:54  2021-09-29 10:54    Y  \n",
       "3      2021-09-29 10:54  2021-09-29 10:54    Y  \n",
       "4      2021-09-29 10:54  2021-09-29 10:54    Y  \n",
       "...                 ...               ...  ...  \n",
       "99545  2021-05-27 11:08  2021-05-27 11:08    Y  \n",
       "99546  2021-05-27 11:08  2021-05-27 11:08    Y  \n",
       "99547  2021-05-27 11:08  2021-05-27 11:08    Y  \n",
       "99548  2021-05-27 11:08  2021-05-27 11:08    Y  \n",
       "99549  2021-05-27 11:08  2021-05-27 11:08    Y  \n",
       "\n",
       "[99550 rows x 14 columns]"
      ]
     },
     "execution_count": 11,
     "metadata": {},
     "output_type": "execute_result"
    }
   ],
   "source": [
    "df"
   ]
  },
  {
   "cell_type": "markdown",
   "id": "626409f5",
   "metadata": {},
   "source": [
    "# 데이터 확인 및 전처리"
   ]
  },
  {
   "cell_type": "code",
   "execution_count": 16,
   "id": "29777dd4",
   "metadata": {},
   "outputs": [
    {
     "data": {
      "text/plain": [
       "array([nan])"
      ]
     },
     "execution_count": 16,
     "metadata": {},
     "output_type": "execute_result"
    }
   ],
   "source": [
    "df['환자번호'].unique()\n",
    "df['국적'].unique()\n",
    "df['환자정보'].unique() \n",
    "df['이동경로'].unique() \n",
    "df['조치사항'].unique() # 모두 널"
   ]
  },
  {
   "cell_type": "markdown",
   "id": "23914894",
   "metadata": {},
   "source": [
    "## 불필요한 컬럼 삭제"
   ]
  },
  {
   "cell_type": "code",
   "execution_count": 20,
   "id": "36df25bd",
   "metadata": {},
   "outputs": [],
   "source": [
    "df.drop(columns = ['환자번호','국적','환자정보','이동경로','등록일','수정일','노출여부','조치사항'], inplace=True)\n",
    "# 미리보기한것.. inplace=True 해줘야한다."
   ]
  },
  {
   "cell_type": "code",
   "execution_count": 21,
   "id": "7292fbad",
   "metadata": {},
   "outputs": [
    {
     "data": {
      "text/html": [
       "<div>\n",
       "<style scoped>\n",
       "    .dataframe tbody tr th:only-of-type {\n",
       "        vertical-align: middle;\n",
       "    }\n",
       "\n",
       "    .dataframe tbody tr th {\n",
       "        vertical-align: top;\n",
       "    }\n",
       "\n",
       "    .dataframe thead th {\n",
       "        text-align: right;\n",
       "    }\n",
       "</style>\n",
       "<table border=\"1\" class=\"dataframe\">\n",
       "  <thead>\n",
       "    <tr style=\"text-align: right;\">\n",
       "      <th></th>\n",
       "      <th>연번</th>\n",
       "      <th>확진일</th>\n",
       "      <th>지역</th>\n",
       "      <th>여행력</th>\n",
       "      <th>접촉력</th>\n",
       "      <th>상태</th>\n",
       "    </tr>\n",
       "  </thead>\n",
       "  <tbody>\n",
       "    <tr>\n",
       "      <th>0</th>\n",
       "      <td>99550</td>\n",
       "      <td>2021-09-28</td>\n",
       "      <td>기타</td>\n",
       "      <td>NaN</td>\n",
       "      <td>감염경로 조사중</td>\n",
       "      <td>-</td>\n",
       "    </tr>\n",
       "    <tr>\n",
       "      <th>1</th>\n",
       "      <td>99549</td>\n",
       "      <td>2021-09-28</td>\n",
       "      <td>기타</td>\n",
       "      <td>NaN</td>\n",
       "      <td>감염경로 조사중</td>\n",
       "      <td>-</td>\n",
       "    </tr>\n",
       "    <tr>\n",
       "      <th>2</th>\n",
       "      <td>99548</td>\n",
       "      <td>2021-09-28</td>\n",
       "      <td>기타</td>\n",
       "      <td>NaN</td>\n",
       "      <td>감염경로 조사중</td>\n",
       "      <td>-</td>\n",
       "    </tr>\n",
       "    <tr>\n",
       "      <th>3</th>\n",
       "      <td>99547</td>\n",
       "      <td>2021-09-28</td>\n",
       "      <td>기타</td>\n",
       "      <td>NaN</td>\n",
       "      <td>감염경로 조사중</td>\n",
       "      <td>-</td>\n",
       "    </tr>\n",
       "    <tr>\n",
       "      <th>4</th>\n",
       "      <td>99546</td>\n",
       "      <td>2021-09-28</td>\n",
       "      <td>기타</td>\n",
       "      <td>NaN</td>\n",
       "      <td>감염경로 조사중</td>\n",
       "      <td>-</td>\n",
       "    </tr>\n",
       "    <tr>\n",
       "      <th>...</th>\n",
       "      <td>...</td>\n",
       "      <td>...</td>\n",
       "      <td>...</td>\n",
       "      <td>...</td>\n",
       "      <td>...</td>\n",
       "      <td>...</td>\n",
       "    </tr>\n",
       "    <tr>\n",
       "      <th>99545</th>\n",
       "      <td>5</td>\n",
       "      <td>2020-01-31</td>\n",
       "      <td>성북구</td>\n",
       "      <td>NaN</td>\n",
       "      <td>기타 확진자 접촉</td>\n",
       "      <td>퇴원</td>\n",
       "    </tr>\n",
       "    <tr>\n",
       "      <th>99546</th>\n",
       "      <td>4</td>\n",
       "      <td>2020-01-30</td>\n",
       "      <td>마포구</td>\n",
       "      <td>중국</td>\n",
       "      <td>해외유입</td>\n",
       "      <td>퇴원</td>\n",
       "    </tr>\n",
       "    <tr>\n",
       "      <th>99547</th>\n",
       "      <td>3</td>\n",
       "      <td>2020-01-30</td>\n",
       "      <td>종로구</td>\n",
       "      <td>NaN</td>\n",
       "      <td>종로구 집단발병</td>\n",
       "      <td>퇴원</td>\n",
       "    </tr>\n",
       "    <tr>\n",
       "      <th>99548</th>\n",
       "      <td>2</td>\n",
       "      <td>2020-01-30</td>\n",
       "      <td>중랑구</td>\n",
       "      <td>중국</td>\n",
       "      <td>해외유입</td>\n",
       "      <td>퇴원</td>\n",
       "    </tr>\n",
       "    <tr>\n",
       "      <th>99549</th>\n",
       "      <td>1</td>\n",
       "      <td>2020-01-24</td>\n",
       "      <td>강서구</td>\n",
       "      <td>중국</td>\n",
       "      <td>해외유입</td>\n",
       "      <td>퇴원</td>\n",
       "    </tr>\n",
       "  </tbody>\n",
       "</table>\n",
       "<p>99550 rows × 6 columns</p>\n",
       "</div>"
      ],
      "text/plain": [
       "          연번         확진일   지역  여행력        접촉력  상태\n",
       "0      99550  2021-09-28   기타  NaN   감염경로 조사중   -\n",
       "1      99549  2021-09-28   기타  NaN   감염경로 조사중   -\n",
       "2      99548  2021-09-28   기타  NaN   감염경로 조사중   -\n",
       "3      99547  2021-09-28   기타  NaN   감염경로 조사중   -\n",
       "4      99546  2021-09-28   기타  NaN   감염경로 조사중   -\n",
       "...      ...         ...  ...  ...        ...  ..\n",
       "99545      5  2020-01-31  성북구  NaN  기타 확진자 접촉  퇴원\n",
       "99546      4  2020-01-30  마포구   중국       해외유입  퇴원\n",
       "99547      3  2020-01-30  종로구  NaN   종로구 집단발병  퇴원\n",
       "99548      2  2020-01-30  중랑구   중국       해외유입  퇴원\n",
       "99549      1  2020-01-24  강서구   중국       해외유입  퇴원\n",
       "\n",
       "[99550 rows x 6 columns]"
      ]
     },
     "execution_count": 21,
     "metadata": {},
     "output_type": "execute_result"
    }
   ],
   "source": [
    "df"
   ]
  },
  {
   "cell_type": "markdown",
   "id": "103bc0fd",
   "metadata": {},
   "source": [
    "# 자료형 변환"
   ]
  },
  {
   "cell_type": "code",
   "execution_count": 22,
   "id": "5856b404",
   "metadata": {},
   "outputs": [
    {
     "data": {
      "text/plain": [
       "연번      int64\n",
       "확진일    object\n",
       "지역     object\n",
       "여행력    object\n",
       "접촉력    object\n",
       "상태     object\n",
       "dtype: object"
      ]
     },
     "execution_count": 22,
     "metadata": {},
     "output_type": "execute_result"
    }
   ],
   "source": [
    "# 자료형 확인\n",
    "df.dtypes # object는 str형"
   ]
  },
  {
   "cell_type": "code",
   "execution_count": 25,
   "id": "9a74bc91",
   "metadata": {},
   "outputs": [
    {
     "data": {
      "text/plain": [
       "연번              int64\n",
       "확진일    datetime64[ns]\n",
       "지역             object\n",
       "여행력            object\n",
       "접촉력            object\n",
       "상태             object\n",
       "dtype: object"
      ]
     },
     "execution_count": 25,
     "metadata": {},
     "output_type": "execute_result"
    }
   ],
   "source": [
    "# 확진일 --> datetime\n",
    "df['확진일'] = pd.to_datetime(df['확진일']) # 에러가 나는 경우엔 데이터 처리를 해줘야한다.\n",
    "df.dtypes"
   ]
  },
  {
   "cell_type": "code",
   "execution_count": 26,
   "id": "0413325f",
   "metadata": {},
   "outputs": [
    {
     "data": {
      "text/plain": [
       "29"
      ]
     },
     "execution_count": 26,
     "metadata": {},
     "output_type": "execute_result"
    }
   ],
   "source": [
    "# 지역의 공백 제거\n",
    "df['지역'].nunique()"
   ]
  },
  {
   "cell_type": "code",
   "execution_count": 27,
   "id": "e5f92b7c",
   "metadata": {
    "scrolled": true
   },
   "outputs": [
    {
     "data": {
      "text/plain": [
       "array(['기타', '영등포구', '관악구', '서대문구', '송파구', '동대문구', '성동구', '중랑구', '타시도',\n",
       "       '종로구', '도봉구', '용산구', '마포구', '구로구', '동작구', '강동구', '중구', '노원구',\n",
       "       '양천구', '강서구', '은평구', '성북구', '광진구', '금천구', '강북구', '강남구', '서초구',\n",
       "       '타시도 ', ' 성북구'], dtype=object)"
      ]
     },
     "execution_count": 27,
     "metadata": {},
     "output_type": "execute_result"
    }
   ],
   "source": [
    "df['지역'].unique()"
   ]
  },
  {
   "cell_type": "code",
   "execution_count": 29,
   "id": "afdd3383",
   "metadata": {},
   "outputs": [],
   "source": [
    "df['지역'] = df['지역'].str.strip() # strip()함수는 공백을 제거한다."
   ]
  },
  {
   "cell_type": "code",
   "execution_count": 30,
   "id": "8c35e35b",
   "metadata": {},
   "outputs": [
    {
     "data": {
      "text/plain": [
       "27"
      ]
     },
     "execution_count": 30,
     "metadata": {},
     "output_type": "execute_result"
    }
   ],
   "source": [
    "df['지역'].nunique()"
   ]
  },
  {
   "cell_type": "code",
   "execution_count": 31,
   "id": "4f67fb3c",
   "metadata": {},
   "outputs": [
    {
     "data": {
      "text/plain": [
       "array(['기타', '영등포구', '관악구', '서대문구', '송파구', '동대문구', '성동구', '중랑구', '타시도',\n",
       "       '종로구', '도봉구', '용산구', '마포구', '구로구', '동작구', '강동구', '중구', '노원구',\n",
       "       '양천구', '강서구', '은평구', '성북구', '광진구', '금천구', '강북구', '강남구', '서초구'],\n",
       "      dtype=object)"
      ]
     },
     "execution_count": 31,
     "metadata": {},
     "output_type": "execute_result"
    }
   ],
   "source": [
    "df['지역'].unique()"
   ]
  },
  {
   "cell_type": "code",
   "execution_count": 33,
   "id": "c02b2cb7",
   "metadata": {},
   "outputs": [],
   "source": [
    "# 지역, 상태 --> category형 변환 (지역의 공백 제거)\n",
    "df['지역'] = df['지역'].astype('category')\n",
    "# 카테고리형 타입을 다시 문자열 함수를 적용하게되면 문자로 인식하게된다..object\n",
    "# 카테고리형 -> 데이터의 메모리측에서 좋고, 데이터 관리에서도 좋다.."
   ]
  },
  {
   "cell_type": "code",
   "execution_count": 34,
   "id": "ad32462d",
   "metadata": {},
   "outputs": [
    {
     "data": {
      "text/plain": [
       "연번              int64\n",
       "확진일    datetime64[ns]\n",
       "지역           category\n",
       "여행력            object\n",
       "접촉력            object\n",
       "상태             object\n",
       "dtype: object"
      ]
     },
     "execution_count": 34,
     "metadata": {},
     "output_type": "execute_result"
    }
   ],
   "source": [
    "df.dtypes"
   ]
  },
  {
   "cell_type": "code",
   "execution_count": 35,
   "id": "64166190",
   "metadata": {},
   "outputs": [
    {
     "name": "stdout",
     "output_type": "stream",
     "text": [
      "<class 'pandas.core.frame.DataFrame'>\n",
      "RangeIndex: 99550 entries, 0 to 99549\n",
      "Data columns (total 6 columns):\n",
      " #   Column  Non-Null Count  Dtype         \n",
      "---  ------  --------------  -----         \n",
      " 0   연번      99550 non-null  int64         \n",
      " 1   확진일     99550 non-null  datetime64[ns]\n",
      " 2   지역      99550 non-null  category      \n",
      " 3   여행력     1717 non-null   object        \n",
      " 4   접촉력     99550 non-null  object        \n",
      " 5   상태      99550 non-null  object        \n",
      "dtypes: category(1), datetime64[ns](1), int64(1), object(3)\n",
      "memory usage: 3.9+ MB\n"
     ]
    }
   ],
   "source": [
    "# 정보\n",
    "df.info()"
   ]
  },
  {
   "cell_type": "markdown",
   "id": "4e45591a",
   "metadata": {},
   "source": [
    "# 결측치 분석"
   ]
  },
  {
   "cell_type": "code",
   "execution_count": 36,
   "id": "de9d9ef1",
   "metadata": {},
   "outputs": [
    {
     "data": {
      "text/plain": [
       "연번         0\n",
       "확진일        0\n",
       "지역         0\n",
       "여행력    97833\n",
       "접촉력        0\n",
       "상태         0\n",
       "dtype: int64"
      ]
     },
     "execution_count": 36,
     "metadata": {},
     "output_type": "execute_result"
    }
   ],
   "source": [
    "df.isnull().sum()"
   ]
  },
  {
   "cell_type": "code",
   "execution_count": 37,
   "id": "104a7030",
   "metadata": {},
   "outputs": [
    {
     "data": {
      "text/html": [
       "<div>\n",
       "<style scoped>\n",
       "    .dataframe tbody tr th:only-of-type {\n",
       "        vertical-align: middle;\n",
       "    }\n",
       "\n",
       "    .dataframe tbody tr th {\n",
       "        vertical-align: top;\n",
       "    }\n",
       "\n",
       "    .dataframe thead th {\n",
       "        text-align: right;\n",
       "    }\n",
       "</style>\n",
       "<table border=\"1\" class=\"dataframe\">\n",
       "  <thead>\n",
       "    <tr style=\"text-align: right;\">\n",
       "      <th></th>\n",
       "      <th>연번</th>\n",
       "      <th>확진일</th>\n",
       "      <th>지역</th>\n",
       "      <th>여행력</th>\n",
       "      <th>접촉력</th>\n",
       "      <th>상태</th>\n",
       "    </tr>\n",
       "  </thead>\n",
       "  <tbody>\n",
       "    <tr>\n",
       "      <th>0</th>\n",
       "      <td>99550</td>\n",
       "      <td>2021-09-28</td>\n",
       "      <td>기타</td>\n",
       "      <td>NaN</td>\n",
       "      <td>감염경로 조사중</td>\n",
       "      <td>-</td>\n",
       "    </tr>\n",
       "    <tr>\n",
       "      <th>1</th>\n",
       "      <td>99549</td>\n",
       "      <td>2021-09-28</td>\n",
       "      <td>기타</td>\n",
       "      <td>NaN</td>\n",
       "      <td>감염경로 조사중</td>\n",
       "      <td>-</td>\n",
       "    </tr>\n",
       "    <tr>\n",
       "      <th>2</th>\n",
       "      <td>99548</td>\n",
       "      <td>2021-09-28</td>\n",
       "      <td>기타</td>\n",
       "      <td>NaN</td>\n",
       "      <td>감염경로 조사중</td>\n",
       "      <td>-</td>\n",
       "    </tr>\n",
       "    <tr>\n",
       "      <th>3</th>\n",
       "      <td>99547</td>\n",
       "      <td>2021-09-28</td>\n",
       "      <td>기타</td>\n",
       "      <td>NaN</td>\n",
       "      <td>감염경로 조사중</td>\n",
       "      <td>-</td>\n",
       "    </tr>\n",
       "    <tr>\n",
       "      <th>4</th>\n",
       "      <td>99546</td>\n",
       "      <td>2021-09-28</td>\n",
       "      <td>기타</td>\n",
       "      <td>NaN</td>\n",
       "      <td>감염경로 조사중</td>\n",
       "      <td>-</td>\n",
       "    </tr>\n",
       "    <tr>\n",
       "      <th>...</th>\n",
       "      <td>...</td>\n",
       "      <td>...</td>\n",
       "      <td>...</td>\n",
       "      <td>...</td>\n",
       "      <td>...</td>\n",
       "      <td>...</td>\n",
       "    </tr>\n",
       "    <tr>\n",
       "      <th>99545</th>\n",
       "      <td>5</td>\n",
       "      <td>2020-01-31</td>\n",
       "      <td>성북구</td>\n",
       "      <td>NaN</td>\n",
       "      <td>기타 확진자 접촉</td>\n",
       "      <td>퇴원</td>\n",
       "    </tr>\n",
       "    <tr>\n",
       "      <th>99546</th>\n",
       "      <td>4</td>\n",
       "      <td>2020-01-30</td>\n",
       "      <td>마포구</td>\n",
       "      <td>중국</td>\n",
       "      <td>해외유입</td>\n",
       "      <td>퇴원</td>\n",
       "    </tr>\n",
       "    <tr>\n",
       "      <th>99547</th>\n",
       "      <td>3</td>\n",
       "      <td>2020-01-30</td>\n",
       "      <td>종로구</td>\n",
       "      <td>NaN</td>\n",
       "      <td>종로구 집단발병</td>\n",
       "      <td>퇴원</td>\n",
       "    </tr>\n",
       "    <tr>\n",
       "      <th>99548</th>\n",
       "      <td>2</td>\n",
       "      <td>2020-01-30</td>\n",
       "      <td>중랑구</td>\n",
       "      <td>중국</td>\n",
       "      <td>해외유입</td>\n",
       "      <td>퇴원</td>\n",
       "    </tr>\n",
       "    <tr>\n",
       "      <th>99549</th>\n",
       "      <td>1</td>\n",
       "      <td>2020-01-24</td>\n",
       "      <td>강서구</td>\n",
       "      <td>중국</td>\n",
       "      <td>해외유입</td>\n",
       "      <td>퇴원</td>\n",
       "    </tr>\n",
       "  </tbody>\n",
       "</table>\n",
       "<p>99550 rows × 6 columns</p>\n",
       "</div>"
      ],
      "text/plain": [
       "          연번        확진일   지역  여행력        접촉력  상태\n",
       "0      99550 2021-09-28   기타  NaN   감염경로 조사중   -\n",
       "1      99549 2021-09-28   기타  NaN   감염경로 조사중   -\n",
       "2      99548 2021-09-28   기타  NaN   감염경로 조사중   -\n",
       "3      99547 2021-09-28   기타  NaN   감염경로 조사중   -\n",
       "4      99546 2021-09-28   기타  NaN   감염경로 조사중   -\n",
       "...      ...        ...  ...  ...        ...  ..\n",
       "99545      5 2020-01-31  성북구  NaN  기타 확진자 접촉  퇴원\n",
       "99546      4 2020-01-30  마포구   중국       해외유입  퇴원\n",
       "99547      3 2020-01-30  종로구  NaN   종로구 집단발병  퇴원\n",
       "99548      2 2020-01-30  중랑구   중국       해외유입  퇴원\n",
       "99549      1 2020-01-24  강서구   중국       해외유입  퇴원\n",
       "\n",
       "[99550 rows x 6 columns]"
      ]
     },
     "execution_count": 37,
     "metadata": {},
     "output_type": "execute_result"
    }
   ],
   "source": [
    "df"
   ]
  },
  {
   "cell_type": "code",
   "execution_count": null,
   "id": "302a0d3e",
   "metadata": {},
   "outputs": [],
   "source": [
    "# 서울시 코로나 확인 분석을 위한 데이터 처리완료.."
   ]
  }
 ],
 "metadata": {
  "kernelspec": {
   "display_name": "Python 3 (ipykernel)",
   "language": "python",
   "name": "python3"
  },
  "language_info": {
   "codemirror_mode": {
    "name": "ipython",
    "version": 3
   },
   "file_extension": ".py",
   "mimetype": "text/x-python",
   "name": "python",
   "nbconvert_exporter": "python",
   "pygments_lexer": "ipython3",
   "version": "3.9.12"
  }
 },
 "nbformat": 4,
 "nbformat_minor": 5
}
