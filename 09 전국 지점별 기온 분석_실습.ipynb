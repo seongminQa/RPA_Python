{
 "cells": [
  {
   "cell_type": "code",
   "execution_count": null,
   "id": "23246b44",
   "metadata": {},
   "outputs": [],
   "source": [
    "import matplotlib.pyplot as plt\n",
    "import pandas as pd"
   ]
  },
  {
   "cell_type": "code",
   "execution_count": null,
   "id": "c674314c",
   "metadata": {},
   "outputs": [],
   "source": [
    "plt.rcParams['font.family']='Malgun Gothic'\n",
    "plt.rcParams['axes.unicode_minus']=False"
   ]
  },
  {
   "cell_type": "markdown",
   "id": "fde3ee3e",
   "metadata": {},
   "source": [
    "# 데이터 준비 및 확인\n",
    "* 기상자료개방포털 > 데이터 > 기상관측 > 지상 > 종관기상관측(ASOS)<br>\n",
    "https://data.kma.go.kr/data/grnd/selectAsosRltmList.do?pgmNo=36<br>\n",
    "[ 자료형태 ] 일자료<br>\n",
    "[ 지점 ] 전체<br>\n",
    "[ 자료 ] 기온>최저,최고,평균<br>\n",
    "[ 기간 ] 1911~2020 (10년단위로 나누어 다운로드)\n"
   ]
  },
  {
   "cell_type": "markdown",
   "id": "f01a7051",
   "metadata": {},
   "source": [
    "## 데이터프레임 생성"
   ]
  },
  {
   "cell_type": "code",
   "execution_count": null,
   "id": "39431c86",
   "metadata": {},
   "outputs": [],
   "source": [
    "df_1911 = pd.read_csv('data/1911-1920 일별 기온.csv', encoding='cp949')\n",
    "df_1921 = pd.read_csv('data/1921-1930 일별 기온.csv', encoding='cp949')\n",
    "df_1931 = pd.read_csv('data/1931-1940 일별 기온.csv', encoding='cp949')\n",
    "df_1941 = pd.read_csv('data/1941-1950 일별 기온.csv', encoding='cp949')\n",
    "df_1951 = pd.read_csv('data/1951-1960 일별 기온.csv', encoding='cp949')\n",
    "df_1961 = pd.read_csv('data/1961-1970 일별 기온.csv', encoding='cp949')\n",
    "df_1971 = pd.read_csv('data/1971-1980 일별 기온.csv', encoding='cp949')\n",
    "df_1981 = pd.read_csv('data/1981-1990 일별 기온.csv', encoding='cp949')\n",
    "df_1991 = pd.read_csv('data/1991-2000 일별 기온.csv', encoding='cp949')\n",
    "df_2001 = pd.read_csv('data/2001-2010 일별 기온.csv', encoding='cp949')\n",
    "df_2011 = pd.read_csv('data/2011-2020 일별 기온.csv', encoding='cp949')"
   ]
  },
  {
   "cell_type": "code",
   "execution_count": null,
   "id": "91b02704",
   "metadata": {},
   "outputs": [],
   "source": [
    "# 데이터프레임 연결하기\n",
    "df = pd.concat([df_1911,df_1921,df_1931,df_1941,df_1951,df_1961,df_1971,df_1981,df_1991,df_2001,df_2011]\n",
    "              ,ignore_index=True)"
   ]
  },
  {
   "cell_type": "code",
   "execution_count": null,
   "id": "cb1cd689",
   "metadata": {
    "scrolled": true
   },
   "outputs": [],
   "source": [
    "df.head()"
   ]
  },
  {
   "cell_type": "code",
   "execution_count": null,
   "id": "ab43f880",
   "metadata": {
    "scrolled": false
   },
   "outputs": [],
   "source": [
    "df.tail()"
   ]
  },
  {
   "cell_type": "markdown",
   "id": "af830e3a",
   "metadata": {},
   "source": [
    "## 데이터 확인"
   ]
  },
  {
   "cell_type": "code",
   "execution_count": null,
   "id": "cc38c56f",
   "metadata": {},
   "outputs": [],
   "source": [
    "df.shape"
   ]
  },
  {
   "cell_type": "code",
   "execution_count": null,
   "id": "ee5375b4",
   "metadata": {
    "scrolled": true
   },
   "outputs": [],
   "source": [
    "df['지점명'].unique()"
   ]
  },
  {
   "cell_type": "code",
   "execution_count": null,
   "id": "41dc90ca",
   "metadata": {
    "scrolled": true
   },
   "outputs": [],
   "source": [
    "df['지점명'].nunique()"
   ]
  },
  {
   "cell_type": "markdown",
   "id": "cafe4468",
   "metadata": {},
   "source": [
    "## 데이터타입 확인/변경"
   ]
  },
  {
   "cell_type": "code",
   "execution_count": null,
   "id": "d22bd42a",
   "metadata": {
    "scrolled": true
   },
   "outputs": [],
   "source": [
    "df.dtypes"
   ]
  },
  {
   "cell_type": "code",
   "execution_count": null,
   "id": "a90ed3a7",
   "metadata": {},
   "outputs": [],
   "source": [
    "df['일시'] = pd.to_datetime(df['일시'])"
   ]
  },
  {
   "cell_type": "code",
   "execution_count": null,
   "id": "bcc59531",
   "metadata": {},
   "outputs": [],
   "source": [
    "df.dtypes"
   ]
  },
  {
   "cell_type": "markdown",
   "id": "225357fc",
   "metadata": {},
   "source": [
    "## 2020년 지점별 기온 데이터 추출 및 전처리"
   ]
  },
  {
   "cell_type": "markdown",
   "id": "c4f7932a",
   "metadata": {},
   "source": [
    "### 2020년 기온 데이터 추출하여 서브셋 만들기\n",
    "* 조건으로 데이터를 추출한다.\n",
    "* 필요한 컬럼을 추출한다.\n",
    "* .copy()를 사용하여 카피본으로 서브셋을 만든다."
   ]
  },
  {
   "cell_type": "code",
   "execution_count": null,
   "id": "a2787e17",
   "metadata": {},
   "outputs": [],
   "source": [
    "# 서브셋 만들기"
   ]
  },
  {
   "cell_type": "code",
   "execution_count": null,
   "id": "1e898ac3",
   "metadata": {},
   "outputs": [],
   "source": [
    "# 지점별 데이터 개수 카운트"
   ]
  },
  {
   "cell_type": "markdown",
   "id": "9a760bfa",
   "metadata": {},
   "source": [
    "### 결측치 확인"
   ]
  },
  {
   "cell_type": "code",
   "execution_count": null,
   "id": "0eb5dea9",
   "metadata": {
    "scrolled": false
   },
   "outputs": [],
   "source": [
    "# 컬럼별 결측치 개수 확인"
   ]
  },
  {
   "cell_type": "code",
   "execution_count": null,
   "id": "21f9a3dc",
   "metadata": {},
   "outputs": [],
   "source": [
    "# 결측치 데이터 확인"
   ]
  },
  {
   "cell_type": "code",
   "execution_count": null,
   "id": "e120e2b8",
   "metadata": {},
   "outputs": [],
   "source": [
    "# 결측치가 있는 데이터의 지점별 카운팅"
   ]
  },
  {
   "cell_type": "code",
   "execution_count": null,
   "id": "d4134e8e",
   "metadata": {},
   "outputs": [],
   "source": [
    "# 결측치 제거"
   ]
  },
  {
   "cell_type": "code",
   "execution_count": null,
   "id": "6d356976",
   "metadata": {},
   "outputs": [],
   "source": [
    "# 결측치 잘 제거되었는지 확인"
   ]
  },
  {
   "cell_type": "code",
   "execution_count": null,
   "id": "14441e51",
   "metadata": {
    "scrolled": true
   },
   "outputs": [],
   "source": [
    "# 지점별 데이터 개수 확인"
   ]
  },
  {
   "cell_type": "markdown",
   "id": "84b0591d",
   "metadata": {},
   "source": [
    "# 지점별 연평균 기온 시각화\n",
    "* 연 평균기온이 높은 지역은 어디일까?\n",
    "* 연 평균기온이 낮은 지역은 어디일까?\n",
    "* 서울의 연 평균기온은 전국에서 어느정도 위치에 해당할까?"
   ]
  },
  {
   "cell_type": "markdown",
   "id": "50b0f164",
   "metadata": {},
   "source": [
    "## 2020년도 지점별 연 평균기온 추출\n",
    "* 지점별 연간 일 평균기온의 평균 계산<br>\n",
    "지점명으로 그룹핑하여 일평균기온의 평균 계산"
   ]
  },
  {
   "cell_type": "code",
   "execution_count": null,
   "id": "4274a523",
   "metadata": {},
   "outputs": [],
   "source": []
  },
  {
   "cell_type": "markdown",
   "id": "b65cce1a",
   "metadata": {},
   "source": [
    "## 시각화"
   ]
  },
  {
   "cell_type": "code",
   "execution_count": null,
   "id": "ddf06765",
   "metadata": {
    "scrolled": true
   },
   "outputs": [],
   "source": [
    "# 지점별 연 평균기온\n",
    "\n",
    "# 최고, 평균, 최저 라인 표시\n",
    "\n",
    "# 서울지역 표시"
   ]
  },
  {
   "cell_type": "markdown",
   "id": "4b9a8e9a",
   "metadata": {},
   "source": [
    "# 지점별 연 최저기온, 최고기온 시각화"
   ]
  },
  {
   "cell_type": "markdown",
   "id": "d548fbed",
   "metadata": {},
   "source": [
    "* 연 최저기온이 높은 지역은 어디일까?\n",
    "* 연 최저기온이 낮은 지역은 어디일까?\n",
    "* 서울의 연 최저기온은 전국에서 어느정도 위치에 해당할까?"
   ]
  },
  {
   "cell_type": "markdown",
   "id": "f19c4958",
   "metadata": {},
   "source": [
    "## 지점별 연 최저기온"
   ]
  },
  {
   "cell_type": "markdown",
   "id": "86620ed7",
   "metadata": {},
   "source": [
    "### 지점별 연 최저기온 추출"
   ]
  },
  {
   "cell_type": "code",
   "execution_count": null,
   "id": "db754ae4",
   "metadata": {},
   "outputs": [],
   "source": [
    "# 지점명으로 그룹화하여 지점별 연 최저기온 추출"
   ]
  },
  {
   "cell_type": "markdown",
   "id": "625cad00",
   "metadata": {},
   "source": [
    "### 시각화"
   ]
  },
  {
   "cell_type": "code",
   "execution_count": null,
   "id": "b9266cef",
   "metadata": {},
   "outputs": [],
   "source": [
    "# 지점별 연 최저기온\n",
    "\n",
    "# 최저, 평균, 최고지점 표시\n",
    "\n",
    "# 서울 표시"
   ]
  },
  {
   "cell_type": "markdown",
   "id": "b8a94845",
   "metadata": {},
   "source": [
    "## 지점별 연 최고기온"
   ]
  },
  {
   "cell_type": "markdown",
   "id": "69f73512",
   "metadata": {},
   "source": [
    "### 지점별 연 최고기온 추출"
   ]
  },
  {
   "cell_type": "code",
   "execution_count": null,
   "id": "d6abe438",
   "metadata": {},
   "outputs": [],
   "source": [
    "# 지점명으로 그룹화하여 지점별 연 최고기온 추출"
   ]
  },
  {
   "cell_type": "markdown",
   "id": "cc22b1ca",
   "metadata": {},
   "source": [
    "### 시각화"
   ]
  },
  {
   "cell_type": "code",
   "execution_count": null,
   "id": "e770909c",
   "metadata": {
    "scrolled": true
   },
   "outputs": [],
   "source": [
    "# 지점별 연 최고기온\n",
    "\n",
    "# 최저, 평균, 최고지점 표시\n",
    "\n",
    "# 서울 표시"
   ]
  },
  {
   "cell_type": "markdown",
   "id": "177aa672",
   "metadata": {},
   "source": [
    "# 지점별 기온 분포 시각화 - 히스토그램"
   ]
  },
  {
   "cell_type": "markdown",
   "id": "008e86f0",
   "metadata": {},
   "source": [
    "## 서귀포, 서울, 대관령 서브셋 만들기"
   ]
  },
  {
   "cell_type": "code",
   "execution_count": null,
   "id": "79444b79",
   "metadata": {},
   "outputs": [],
   "source": [
    "# 서귀포 서브셋"
   ]
  },
  {
   "cell_type": "code",
   "execution_count": null,
   "id": "24c0b1f8",
   "metadata": {},
   "outputs": [],
   "source": [
    "# 서울 서브셋"
   ]
  },
  {
   "cell_type": "code",
   "execution_count": null,
   "id": "b8834e35",
   "metadata": {},
   "outputs": [],
   "source": [
    "# 대관령 서브셋"
   ]
  },
  {
   "cell_type": "markdown",
   "id": "d03c6870",
   "metadata": {},
   "source": [
    "## 서귀포, 서울, 대관령 일 평균기온 히스토그램"
   ]
  },
  {
   "cell_type": "code",
   "execution_count": null,
   "id": "735f6506",
   "metadata": {},
   "outputs": [],
   "source": [
    "plt.rcParams"
   ]
  },
  {
   "cell_type": "code",
   "execution_count": null,
   "id": "a1b88659",
   "metadata": {
    "scrolled": true
   },
   "outputs": [],
   "source": [
    "# 스타일 파라미터\n",
    "\n",
    "# 서브플롯 만들기(plt.subplots())\n",
    "\n",
    "# 서귀포 일평균기온 히스토그램\n",
    "\n",
    "\n",
    "# 서울 일평균기온 히스토그램\n",
    "\n",
    "# 대관령\n",
    "\n",
    "# 0°C 수직선 표시"
   ]
  },
  {
   "cell_type": "markdown",
   "id": "9ecad0e8",
   "metadata": {},
   "source": [
    "# 지점별 기온분포 시각화 - 박스플롯, 바이올린플롯\n",
    "* 서귀포, 서울, 대관령 지점 2020년 평균기온 서브셋"
   ]
  },
  {
   "cell_type": "code",
   "execution_count": null,
   "id": "e92161a9",
   "metadata": {
    "scrolled": false
   },
   "outputs": [],
   "source": []
  },
  {
   "cell_type": "code",
   "execution_count": null,
   "id": "d67a8afc",
   "metadata": {
    "scrolled": true
   },
   "outputs": [],
   "source": []
  },
  {
   "cell_type": "code",
   "execution_count": null,
   "id": "1b729d8f",
   "metadata": {},
   "outputs": [],
   "source": []
  },
  {
   "cell_type": "code",
   "execution_count": null,
   "id": "3e613258",
   "metadata": {},
   "outputs": [],
   "source": [
    "# 서브플롯 그리기\n",
    "\n",
    "# 박스플롯\n",
    "\n",
    "# 바이올린플롯"
   ]
  }
 ],
 "metadata": {
  "kernelspec": {
   "display_name": "Python 3 (ipykernel)",
   "language": "python",
   "name": "python3"
  },
  "language_info": {
   "codemirror_mode": {
    "name": "ipython",
    "version": 3
   },
   "file_extension": ".py",
   "mimetype": "text/x-python",
   "name": "python",
   "nbconvert_exporter": "python",
   "pygments_lexer": "ipython3",
   "version": "3.9.12"
  },
  "toc": {
   "base_numbering": 1,
   "nav_menu": {},
   "number_sections": true,
   "sideBar": true,
   "skip_h1_title": false,
   "title_cell": "Table of Contents",
   "title_sidebar": "Contents",
   "toc_cell": false,
   "toc_position": {
    "height": "calc(100% - 180px)",
    "left": "10px",
    "top": "150px",
    "width": "228px"
   },
   "toc_section_display": true,
   "toc_window_display": true
  }
 },
 "nbformat": 4,
 "nbformat_minor": 5
}
