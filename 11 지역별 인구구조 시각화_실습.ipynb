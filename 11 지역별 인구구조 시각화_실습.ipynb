{
 "cells": [
  {
   "cell_type": "code",
   "execution_count": null,
   "id": "e740a32e",
   "metadata": {},
   "outputs": [],
   "source": [
    "import matplotlib.pyplot as plt\n",
    "import pandas as pd\n",
    "import seaborn as sns"
   ]
  },
  {
   "cell_type": "code",
   "execution_count": null,
   "id": "a3322975",
   "metadata": {},
   "outputs": [],
   "source": [
    "plt.rcParams['font.family']='Malgun Gothic'\n",
    "plt.rcParams['axes.unicode_minus']=False"
   ]
  },
  {
   "cell_type": "markdown",
   "id": "1ca517cb",
   "metadata": {},
   "source": [
    "# 데이터 수집 및 전처리\n",
    "* 행정안전부<br>\n",
    "https://www.mois.go.kr/<br>\n",
    "정책자료 > 주민등록인구통계<br>\n",
    "전체읍면동 현황<br><br>\n",
    "* 바로가기<br>\n",
    "https://jumin.mois.go.kr/index.jsp"
   ]
  },
  {
   "cell_type": "markdown",
   "id": "db26e5e9",
   "metadata": {},
   "source": [
    "## 데이터프레임 생성 및 전처리"
   ]
  },
  {
   "cell_type": "markdown",
   "id": "1bce6c97",
   "metadata": {},
   "source": [
    "### 데이터프레임 생성"
   ]
  },
  {
   "cell_type": "code",
   "execution_count": null,
   "id": "e1f20388",
   "metadata": {},
   "outputs": [],
   "source": []
  },
  {
   "cell_type": "markdown",
   "id": "39f3da1c",
   "metadata": {},
   "source": [
    "### 컬럼명 변경"
   ]
  },
  {
   "cell_type": "code",
   "execution_count": null,
   "id": "f91069f0",
   "metadata": {},
   "outputs": [],
   "source": []
  },
  {
   "cell_type": "code",
   "execution_count": null,
   "id": "7538cf14",
   "metadata": {},
   "outputs": [],
   "source": []
  },
  {
   "cell_type": "markdown",
   "id": "c5410ea9",
   "metadata": {},
   "source": [
    "### 자료형 확인, 변환"
   ]
  },
  {
   "cell_type": "code",
   "execution_count": null,
   "id": "f1cbfc01",
   "metadata": {},
   "outputs": [],
   "source": [
    "# 자료형 확인"
   ]
  },
  {
   "cell_type": "code",
   "execution_count": null,
   "id": "8f0d75b2",
   "metadata": {},
   "outputs": [],
   "source": [
    "# 숫자형으로 변환"
   ]
  },
  {
   "cell_type": "code",
   "execution_count": null,
   "id": "b2287929",
   "metadata": {},
   "outputs": [],
   "source": []
  },
  {
   "cell_type": "code",
   "execution_count": null,
   "id": "cf3cf5ea",
   "metadata": {},
   "outputs": [],
   "source": []
  },
  {
   "cell_type": "code",
   "execution_count": null,
   "id": "a38bd9ca",
   "metadata": {},
   "outputs": [],
   "source": []
  },
  {
   "cell_type": "code",
   "execution_count": null,
   "id": "5aad5b2a",
   "metadata": {},
   "outputs": [],
   "source": []
  },
  {
   "cell_type": "markdown",
   "id": "0b0c62c7",
   "metadata": {},
   "source": [
    "## 시도별 서브셋 생성\n",
    "* `컬럼.str.contains(문자열)` : 문자열이 포함된 데이터 추출"
   ]
  },
  {
   "cell_type": "code",
   "execution_count": null,
   "id": "093b88d3",
   "metadata": {},
   "outputs": [],
   "source": []
  },
  {
   "cell_type": "markdown",
   "id": "19389294",
   "metadata": {},
   "source": [
    "* 시도명 컬럼 추가"
   ]
  },
  {
   "cell_type": "code",
   "execution_count": null,
   "id": "707566fd",
   "metadata": {},
   "outputs": [],
   "source": []
  },
  {
   "cell_type": "code",
   "execution_count": null,
   "id": "2651c5be",
   "metadata": {
    "scrolled": false
   },
   "outputs": [],
   "source": []
  },
  {
   "cell_type": "markdown",
   "id": "a66e0e96",
   "metadata": {},
   "source": [
    "# 시도별 인구수 시각화\n",
    "* 인구 수가 가장 많은 지역은 어디일까?\n",
    "* 인구 수가 가장 적은 지역은 어디일까?"
   ]
  },
  {
   "cell_type": "markdown",
   "id": "fc3a0e39",
   "metadata": {},
   "source": [
    "## 총 인구수로 데이터 정렬하기"
   ]
  },
  {
   "cell_type": "code",
   "execution_count": null,
   "id": "913caa87",
   "metadata": {},
   "outputs": [],
   "source": []
  },
  {
   "cell_type": "markdown",
   "id": "02d35269",
   "metadata": {},
   "source": [
    "## 막대그래프로 시각화하기"
   ]
  },
  {
   "cell_type": "markdown",
   "id": "0220fbee",
   "metadata": {},
   "source": [
    "### matplotlib.pyplot으로 시각화하기"
   ]
  },
  {
   "cell_type": "code",
   "execution_count": null,
   "id": "37ffc850",
   "metadata": {},
   "outputs": [],
   "source": []
  },
  {
   "cell_type": "markdown",
   "id": "ef59e6af",
   "metadata": {},
   "source": [
    "### seaborn으로 시각화하기"
   ]
  },
  {
   "cell_type": "code",
   "execution_count": null,
   "id": "10ef4984",
   "metadata": {},
   "outputs": [],
   "source": []
  },
  {
   "cell_type": "code",
   "execution_count": null,
   "id": "d2e952ff",
   "metadata": {},
   "outputs": [],
   "source": []
  },
  {
   "cell_type": "markdown",
   "id": "514d14b6",
   "metadata": {},
   "source": [
    "## 파이그래프로 시각화하기"
   ]
  },
  {
   "cell_type": "code",
   "execution_count": null,
   "id": "ab0f88d9",
   "metadata": {},
   "outputs": [],
   "source": []
  },
  {
   "cell_type": "markdown",
   "id": "7854d314",
   "metadata": {},
   "source": [
    "# 시도별 세대당 인구수 시각화\n",
    "* 2중 y축 표시하기<br>\n",
    "`fig, ax1 = plt.subplots()`<br>\n",
    "`ax2 = ax1.twinx()`"
   ]
  },
  {
   "cell_type": "code",
   "execution_count": null,
   "id": "e13b38a4",
   "metadata": {
    "scrolled": false
   },
   "outputs": [],
   "source": []
  },
  {
   "cell_type": "code",
   "execution_count": null,
   "id": "23d9c302",
   "metadata": {},
   "outputs": [],
   "source": []
  },
  {
   "cell_type": "markdown",
   "id": "961fbab1",
   "metadata": {},
   "source": [
    "# 시도별 성별 인구수 시각화"
   ]
  },
  {
   "cell_type": "code",
   "execution_count": null,
   "id": "1e6e0445",
   "metadata": {},
   "outputs": [],
   "source": []
  },
  {
   "cell_type": "code",
   "execution_count": null,
   "id": "24804aae",
   "metadata": {
    "scrolled": true
   },
   "outputs": [],
   "source": []
  },
  {
   "cell_type": "markdown",
   "id": "466cc3a0",
   "metadata": {},
   "source": [
    "## 성별 인구수 차이"
   ]
  },
  {
   "cell_type": "markdown",
   "id": "296da237",
   "metadata": {},
   "source": [
    "### 성별 인구수 차이 컬럼 생성\n",
    "* 내림차순으로 정렬"
   ]
  },
  {
   "cell_type": "code",
   "execution_count": null,
   "id": "3094d38e",
   "metadata": {},
   "outputs": [],
   "source": []
  },
  {
   "cell_type": "markdown",
   "id": "d0589100",
   "metadata": {},
   "source": [
    "### 시각화"
   ]
  },
  {
   "cell_type": "code",
   "execution_count": null,
   "id": "85147e42",
   "metadata": {},
   "outputs": [],
   "source": []
  },
  {
   "cell_type": "markdown",
   "id": "353496be",
   "metadata": {},
   "source": [
    "# 서울시 구별/동별 인구수 시각화"
   ]
  },
  {
   "cell_type": "markdown",
   "id": "61552e34",
   "metadata": {},
   "source": [
    "## 서울시 구별 인구수 시각화"
   ]
  },
  {
   "cell_type": "markdown",
   "id": "7b49677f",
   "metadata": {},
   "source": [
    "### 서브셋 생성"
   ]
  },
  {
   "cell_type": "code",
   "execution_count": null,
   "id": "71e383a4",
   "metadata": {},
   "outputs": [],
   "source": []
  },
  {
   "cell_type": "code",
   "execution_count": null,
   "id": "3e64f3bf",
   "metadata": {},
   "outputs": [],
   "source": []
  },
  {
   "cell_type": "code",
   "execution_count": null,
   "id": "905636a6",
   "metadata": {
    "scrolled": false
   },
   "outputs": [],
   "source": []
  },
  {
   "cell_type": "markdown",
   "id": "74244cc3",
   "metadata": {},
   "source": [
    "### 시각화"
   ]
  },
  {
   "cell_type": "code",
   "execution_count": null,
   "id": "dd8c61a7",
   "metadata": {},
   "outputs": [],
   "source": []
  },
  {
   "cell_type": "markdown",
   "id": "9389c598",
   "metadata": {},
   "source": [
    "## 동별 인구수 시각화\n",
    "* 송파구 동별 인구수 시각화"
   ]
  },
  {
   "cell_type": "markdown",
   "id": "b13a9117",
   "metadata": {},
   "source": [
    "### 서브셋 만들기"
   ]
  },
  {
   "cell_type": "code",
   "execution_count": null,
   "id": "ab2f42d5",
   "metadata": {},
   "outputs": [],
   "source": []
  },
  {
   "cell_type": "code",
   "execution_count": null,
   "id": "fd612256",
   "metadata": {},
   "outputs": [],
   "source": []
  },
  {
   "cell_type": "code",
   "execution_count": null,
   "id": "f78d5609",
   "metadata": {},
   "outputs": [],
   "source": []
  },
  {
   "cell_type": "markdown",
   "id": "6bcd2a80",
   "metadata": {},
   "source": [
    "### 시각화"
   ]
  },
  {
   "cell_type": "code",
   "execution_count": null,
   "id": "73094762",
   "metadata": {
    "scrolled": true
   },
   "outputs": [],
   "source": []
  }
 ],
 "metadata": {
  "kernelspec": {
   "display_name": "Python 3 (ipykernel)",
   "language": "python",
   "name": "python3"
  },
  "language_info": {
   "codemirror_mode": {
    "name": "ipython",
    "version": 3
   },
   "file_extension": ".py",
   "mimetype": "text/x-python",
   "name": "python",
   "nbconvert_exporter": "python",
   "pygments_lexer": "ipython3",
   "version": "3.9.12"
  },
  "toc": {
   "base_numbering": 1,
   "nav_menu": {},
   "number_sections": true,
   "sideBar": true,
   "skip_h1_title": false,
   "title_cell": "Table of Contents",
   "title_sidebar": "Contents",
   "toc_cell": false,
   "toc_position": {
    "height": "calc(100% - 180px)",
    "left": "10px",
    "top": "150px",
    "width": "245.76px"
   },
   "toc_section_display": true,
   "toc_window_display": true
  }
 },
 "nbformat": 4,
 "nbformat_minor": 5
}
