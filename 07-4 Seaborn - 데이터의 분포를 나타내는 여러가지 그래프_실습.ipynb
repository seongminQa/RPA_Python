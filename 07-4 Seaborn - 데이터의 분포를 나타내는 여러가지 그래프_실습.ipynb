{
 "cells": [
  {
   "cell_type": "markdown",
   "id": "ae78b0c0",
   "metadata": {},
   "source": [
    "[학습목표]<br>\n",
    "seaborn으로 데이터의 분포를 나타내는 여러가지 그래프를 그릴 수 있다."
   ]
  },
  {
   "cell_type": "code",
   "execution_count": null,
   "id": "59df0e7a",
   "metadata": {},
   "outputs": [],
   "source": [
    "import pandas as pd\n",
    "import matplotlib.pyplot as plt\n",
    "import seaborn as sns"
   ]
  },
  {
   "cell_type": "code",
   "execution_count": null,
   "id": "d0315e31",
   "metadata": {},
   "outputs": [],
   "source": [
    "plt.rcParams['font.family']='Malgun Gothic'\n",
    "plt.rcParams['axes.unicode_minus']=False"
   ]
  },
  {
   "cell_type": "markdown",
   "id": "a00be260",
   "metadata": {},
   "source": [
    "# 카운트플롯\n",
    "* 데이터의 갯수를 카운트하여 시각화 \n",
    "* `sns.countplot(data=데이터프레임, x=컬럼)`<br>\n"
   ]
  },
  {
   "cell_type": "code",
   "execution_count": null,
   "id": "5712963b",
   "metadata": {
    "scrolled": false
   },
   "outputs": [],
   "source": [
    "titanic = sns.load_dataset('titanic')\n",
    "titanic.head()"
   ]
  },
  {
   "cell_type": "code",
   "execution_count": null,
   "id": "7758e942",
   "metadata": {},
   "outputs": [],
   "source": [
    "# 연령별 승선인원 카운트하여 시각화"
   ]
  },
  {
   "cell_type": "code",
   "execution_count": null,
   "id": "ca45ddb3",
   "metadata": {},
   "outputs": [],
   "source": [
    "# 1. 남자/여자/어린이 승선인원 시각화\n",
    "# 2. 남자/여자/어린이 별 생존여부 "
   ]
  },
  {
   "cell_type": "markdown",
   "id": "725d7ef6",
   "metadata": {},
   "source": [
    "# 러그플롯\n",
    "* `sns.rugplot(data=데이터프레임, x=컬럼)`"
   ]
  },
  {
   "cell_type": "code",
   "execution_count": null,
   "id": "61c42ded",
   "metadata": {},
   "outputs": [],
   "source": []
  },
  {
   "cell_type": "markdown",
   "id": "820c3505",
   "metadata": {},
   "source": [
    "# 히스토그램\n",
    "* `sns.displot(data=데이터프레임, x=컬럼)`"
   ]
  },
  {
   "cell_type": "code",
   "execution_count": null,
   "id": "c26bc49e",
   "metadata": {
    "scrolled": true
   },
   "outputs": [],
   "source": [
    "iris = sns.load_dataset('iris')\n",
    "iris.head(1)"
   ]
  },
  {
   "cell_type": "code",
   "execution_count": null,
   "id": "0322fc3d",
   "metadata": {
    "scrolled": false
   },
   "outputs": [],
   "source": []
  },
  {
   "cell_type": "code",
   "execution_count": null,
   "id": "da4907a7",
   "metadata": {},
   "outputs": [],
   "source": []
  },
  {
   "cell_type": "markdown",
   "id": "1617e4f7",
   "metadata": {},
   "source": [
    "# 상자수염그래프, 바이올린플롯, 스트립플롯, 스웜플롯\n",
    "* sns.boxplot(data=데이터프레임)\n",
    "* sns.violinplot(data=데이터프레임)\n",
    "* sns.stripplot(data=데이터프레임)\n",
    "* sns.swarmplot(data=데이터프레임)"
   ]
  },
  {
   "cell_type": "code",
   "execution_count": null,
   "id": "be4def8f",
   "metadata": {
    "scrolled": false
   },
   "outputs": [],
   "source": [
    "plt.figure(figsize=(12,8))\n",
    "plt.subplot(221)\n",
    "\n",
    "plt.subplot(222)\n",
    "\n",
    "plt.subplot(223)\n",
    "\n",
    "plt.subplot(224)\n",
    "\n",
    "plt.show()\n",
    "\n"
   ]
  },
  {
   "cell_type": "code",
   "execution_count": null,
   "id": "f7146c53",
   "metadata": {},
   "outputs": [],
   "source": [
    "plt.figure(figsize=(12,8))\n",
    "plt.subplot(221)\n",
    "# 박스플롯\n",
    "\n",
    "plt.subplot(222)\n",
    "# 바이올린플롯\n",
    "\n",
    "plt.subplot(223)\n",
    "# 스트립플롯\n",
    "\n",
    "plt.subplot(224)\n",
    "# 스웜플롯\n",
    "\n",
    "plt.show()\n",
    "\n"
   ]
  }
 ],
 "metadata": {
  "kernelspec": {
   "display_name": "Python 3 (ipykernel)",
   "language": "python",
   "name": "python3"
  },
  "language_info": {
   "codemirror_mode": {
    "name": "ipython",
    "version": 3
   },
   "file_extension": ".py",
   "mimetype": "text/x-python",
   "name": "python",
   "nbconvert_exporter": "python",
   "pygments_lexer": "ipython3",
   "version": "3.9.12"
  },
  "toc": {
   "base_numbering": 1,
   "nav_menu": {},
   "number_sections": true,
   "sideBar": true,
   "skip_h1_title": false,
   "title_cell": "Table of Contents",
   "title_sidebar": "Contents",
   "toc_cell": false,
   "toc_position": {
    "height": "calc(100% - 180px)",
    "left": "10px",
    "top": "150px",
    "width": "165px"
   },
   "toc_section_display": true,
   "toc_window_display": true
  }
 },
 "nbformat": 4,
 "nbformat_minor": 5
}
