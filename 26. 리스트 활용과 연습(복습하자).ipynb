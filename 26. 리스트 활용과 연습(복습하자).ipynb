{
 "cells": [
  {
   "cell_type": "markdown",
   "id": "3a9569d3",
   "metadata": {},
   "source": [
    "# 리스트 통계값"
   ]
  },
  {
   "cell_type": "code",
   "execution_count": null,
   "id": "6b157be7",
   "metadata": {},
   "outputs": [],
   "source": [
    "# 합계 : sum(리스트명)  -> 리스트의 모든 항목이 숫자여야한다.\n",
    "# 최소값: min(리스트명)  -> 문자열과 숫자가 혼합되어있는 항목이 있어선 안된다\n",
    "# 최대값 : max(리스트명)\n",
    "# 항목의 갯수 : 리스트명.count(항목)  -> 중복된 값의 갯수가 몇개인지 구분"
   ]
  },
  {
   "cell_type": "code",
   "execution_count": 3,
   "id": "140ff3c6",
   "metadata": {},
   "outputs": [
    {
     "name": "stdout",
     "output_type": "stream",
     "text": [
      "항목수 :  8\n",
      "합계 :  27\n",
      "최소값 :  1\n",
      "최대값 :  5\n",
      "평균 :  3.375\n",
      "항목 5의 갯수 :  2\n"
     ]
    }
   ],
   "source": [
    "l = [1,2,3,4,5,3,4,5]\n",
    "print('항목수 : ', len(l))\n",
    "print('합계 : ', sum(l))\n",
    "print('최소값 : ', min(l))\n",
    "print('최대값 : ', max(l))\n",
    "print('평균 : ', sum(l) / len(l))\n",
    "print('항목 5의 갯수 : ', l.count(5))\n"
   ]
  },
  {
   "cell_type": "markdown",
   "id": "2ae049f9",
   "metadata": {},
   "source": [
    "# 리스트 정렬"
   ]
  },
  {
   "cell_type": "code",
   "execution_count": 2,
   "id": "19719b42",
   "metadata": {},
   "outputs": [],
   "source": [
    "# 리스트명.sort() -> 리스트 원본을 정렬한다. (오름차순 정렬)\n",
    "# 리스트명.sort(reverse=True) (내림차순 정렬)\n",
    "\n",
    "# sorted(리스트명) -> 리스트 원본은 건드리지 않고 정렬된 새로운 리스트를 반환\n",
    "# sorted(리스트명,reverse=True)\n",
    "\n",
    "# 리스트명.reverse() -> 리스트를 역순으로 뒤집는다."
   ]
  },
  {
   "cell_type": "code",
   "execution_count": 3,
   "id": "7a6b4efd",
   "metadata": {},
   "outputs": [],
   "source": [
    "friends = ['수지','지은','찬혁','수현','범준']"
   ]
  },
  {
   "cell_type": "code",
   "execution_count": 6,
   "id": "c59e33a4",
   "metadata": {},
   "outputs": [
    {
     "data": {
      "text/plain": [
       "['범준', '수지', '수현', '지은', '찬혁']"
      ]
     },
     "execution_count": 6,
     "metadata": {},
     "output_type": "execute_result"
    }
   ],
   "source": [
    "friends.sort()\n",
    "friends # 다시 원래대로의 순서로 되돌릴 수 없다."
   ]
  },
  {
   "cell_type": "code",
   "execution_count": 7,
   "id": "7c0c260c",
   "metadata": {},
   "outputs": [
    {
     "data": {
      "text/plain": [
       "['찬혁', '지은', '수현', '수지', '범준']"
      ]
     },
     "execution_count": 7,
     "metadata": {},
     "output_type": "execute_result"
    }
   ],
   "source": [
    "friends.sort(reverse=True)\n",
    "friends"
   ]
  },
  {
   "cell_type": "markdown",
   "id": "a0559487",
   "metadata": {},
   "source": [
    "# 복사본 만들어서 정렬"
   ]
  },
  {
   "cell_type": "code",
   "execution_count": 8,
   "id": "0c7d3a9f",
   "metadata": {},
   "outputs": [],
   "source": [
    "friends = ['수지','지은','찬혁','수현','범준']"
   ]
  },
  {
   "cell_type": "code",
   "execution_count": 9,
   "id": "45e826df",
   "metadata": {},
   "outputs": [
    {
     "data": {
      "text/plain": [
       "['범준', '수지', '수현', '지은', '찬혁']"
      ]
     },
     "execution_count": 9,
     "metadata": {},
     "output_type": "execute_result"
    }
   ],
   "source": [
    "a = sorted(friends)\n",
    "a"
   ]
  },
  {
   "cell_type": "markdown",
   "id": "9eba00ad",
   "metadata": {},
   "source": [
    "# 리스트 순서 뒤집기"
   ]
  },
  {
   "cell_type": "code",
   "execution_count": 11,
   "id": "117ceae5",
   "metadata": {},
   "outputs": [],
   "source": [
    "friends = ['수지','지은','찬혁','수현','범준']"
   ]
  },
  {
   "cell_type": "code",
   "execution_count": 12,
   "id": "dadc705b",
   "metadata": {},
   "outputs": [
    {
     "data": {
      "text/plain": [
       "['범준', '수현', '찬혁', '지은', '수지']"
      ]
     },
     "execution_count": 12,
     "metadata": {},
     "output_type": "execute_result"
    }
   ],
   "source": [
    "friends.reverse()\n",
    "friends"
   ]
  },
  {
   "cell_type": "markdown",
   "id": "e6176f16",
   "metadata": {},
   "source": [
    "# 2차원 리스트 다루기"
   ]
  },
  {
   "cell_type": "code",
   "execution_count": 13,
   "id": "bc1b232a",
   "metadata": {},
   "outputs": [],
   "source": [
    "# 표는 행과 열로 이루어진 이차원 구조이다.\n",
    "# 리스트 안에 리스트를 중첩하여 사용함으로써 표를 표현할 수 있다."
   ]
  },
  {
   "cell_type": "code",
   "execution_count": 14,
   "id": "52ef2b89",
   "metadata": {},
   "outputs": [],
   "source": [
    "# 2차원 리스트 만들기.\n",
    "#      0열   1열   2열\n",
    "# 0행  10    20    30\n",
    "# 1행  40    50    60   -> 만들어보기"
   ]
  },
  {
   "cell_type": "code",
   "execution_count": 19,
   "id": "2d40fb25",
   "metadata": {},
   "outputs": [
    {
     "name": "stdout",
     "output_type": "stream",
     "text": [
      "30\n",
      "60\n"
     ]
    }
   ],
   "source": [
    "list = [[10,20,30],[40,50,60]]\n",
    "\n",
    "# 30 추출하기\n",
    "print(list[0][2])\n",
    "\n",
    "# 1행 2열 추출하기\n",
    "print(list[1][2])"
   ]
  },
  {
   "cell_type": "code",
   "execution_count": 21,
   "id": "5efa1d5b",
   "metadata": {},
   "outputs": [],
   "source": [
    "# 연습\n",
    "# file_list에서 파일명과 확장자를 분리하여 다음과같은 형태로 \n",
    "# 저장하는 리스트를 만들어봅시다.\n",
    "\n",
    "#  파일명    확장자\n",
    "#  file1       py\n",
    "#  file2      txt\n",
    "#  file3      pptx\n",
    "\n",
    "file_list = ['file1.py','file2.txt','file.pptx']\n",
    "name_extension = []"
   ]
  },
  {
   "cell_type": "code",
   "execution_count": 22,
   "id": "7a3c01c1",
   "metadata": {},
   "outputs": [
    {
     "name": "stdout",
     "output_type": "stream",
     "text": [
      "file1.py\n",
      "file2.txt\n",
      "file.pptx\n"
     ]
    }
   ],
   "source": [
    "for i in file_list:\n",
    "    print(i)"
   ]
  },
  {
   "cell_type": "code",
   "execution_count": 24,
   "id": "b63ee210",
   "metadata": {},
   "outputs": [
    {
     "name": "stdout",
     "output_type": "stream",
     "text": [
      "['file1', 'py']\n",
      "['file2', 'txt']\n",
      "['file', 'pptx']\n"
     ]
    }
   ],
   "source": [
    "for i in file_list:\n",
    "    print(i.split('.'))  # split('구분자') 함수** 구분자로 문자등을 분리하여 리스트 형태로 만든다.\n",
    "    name_extension.append(i.split('.'))"
   ]
  },
  {
   "cell_type": "code",
   "execution_count": 25,
   "id": "56d94d67",
   "metadata": {},
   "outputs": [
    {
     "name": "stdout",
     "output_type": "stream",
     "text": [
      "[['file1', 'py'], ['file2', 'txt'], ['file', 'pptx']]\n"
     ]
    }
   ],
   "source": [
    "print(name_extension)"
   ]
  },
  {
   "cell_type": "markdown",
   "id": "b5e3e28e",
   "metadata": {},
   "source": [
    "# 리스트 연습하기"
   ]
  },
  {
   "cell_type": "code",
   "execution_count": 16,
   "id": "900eef6d",
   "metadata": {},
   "outputs": [],
   "source": [
    "# 1번\n",
    "# 학생별 총점, 평균구하기\n",
    "# 다음은 학생 별 [국어,영어,수학] 점수가 저장된 리스트이다.\n",
    "# score_list =[[96,84,80],[96,86,76],[76,95,83],[89,96,69],[90,76,91]]\n",
    "# 각 학생의 세 과목의 성적의 [총점,평균]을 구하여 리스트에 담으시오.\n",
    "# (평균은 반올림하여 소수점 1자리까지 표현한다.)\n",
    "\n",
    "score_list =[[96,84,80],[96,86,76],[76,95,83],[89,96,69],[90,76,91]]\n",
    "stu_scores = []"
   ]
  },
  {
   "cell_type": "code",
   "execution_count": 17,
   "id": "37df8adf",
   "metadata": {},
   "outputs": [
    {
     "name": "stdout",
     "output_type": "stream",
     "text": [
      "[[260, 86.7], [258, 86.0], [254, 84.7], [254, 84.7], [257, 85.7]]\n"
     ]
    }
   ],
   "source": [
    "# count = len(score_list)\n",
    "# print('학생수 :',count)\n",
    "\n",
    "for i in score_list:\n",
    "    #print(i)\n",
    "    total = sum(i)\n",
    "    average = total/3\n",
    "    #print([total,round(average,1)])\n",
    "    stu_scores.append([total,round(average,1)])  # round(값,소수점자리수표시)\n",
    "    \n",
    "print(stu_scores)"
   ]
  },
  {
   "cell_type": "code",
   "execution_count": 49,
   "id": "50596f82",
   "metadata": {},
   "outputs": [],
   "source": [
    "# 2번\n",
    "# score_list =[[96,84,80],[96,86,76],[76,95,83],[89,96,69],[90,76,91]]\n",
    "# 각 과목의 리스트를 분리하고 과목별 평균을 구해봅시다.\n",
    "# 평균은 소수점 1자리까지 출력한다.\n",
    "\n",
    "score_list =[[96,84,80],[96,86,76],[76,95,83],[89,96,69],[90,76,91]]"
   ]
  },
  {
   "cell_type": "code",
   "execution_count": 50,
   "id": "9c072f06",
   "metadata": {},
   "outputs": [
    {
     "name": "stdout",
     "output_type": "stream",
     "text": [
      "[96, 84, 80]\n",
      "[96, 86, 76]\n",
      "[76, 95, 83]\n",
      "[89, 96, 69]\n",
      "[90, 76, 91]\n"
     ]
    }
   ],
   "source": [
    "# 각 과목의 리스트 분리하기\n",
    "for i in score_list:\n",
    "    print(i)"
   ]
  },
  {
   "cell_type": "code",
   "execution_count": 54,
   "id": "a891d9bc",
   "metadata": {},
   "outputs": [
    {
     "name": "stdout",
     "output_type": "stream",
     "text": [
      "kor_list: [96, 96, 76, 89, 90]\n",
      "eng_list: [84, 86, 95, 96, 76]\n",
      "math_list [80, 76, 83, 69, 91]\n",
      "89.4\n",
      "87.4\n",
      "80 1\n"
     ]
    }
   ],
   "source": [
    "kor_list=[]\n",
    "eng_list=[]\n",
    "math_list=[]\n",
    "\n",
    "kor_average=0\n",
    "eng_average=0\n",
    "math_average=0\n",
    "\n",
    "for i in score_list:\n",
    "    kor_list.append(i[0])\n",
    "    eng_list.append(i[1])\n",
    "    math_list.append(i[2])\n",
    "print('kor_list:',kor_list)\n",
    "print('eng_list:',eng_list)\n",
    "print('math_list',math_list)\n",
    "\n",
    "kor_average = sum(kor_list)/len(kor_list)\n",
    "eng_average = sum(eng_list)/len(eng_list)\n",
    "math_average = sum(math_list)/len(math_list)\n",
    "\n",
    "print(round(kor_average,1))\n",
    "print(round(eng_average,1))\n",
    "print(round(math_average),1)"
   ]
  },
  {
   "cell_type": "code",
   "execution_count": 55,
   "id": "5494c69b",
   "metadata": {},
   "outputs": [],
   "source": [
    "# 랜덤 항목 추출하기"
   ]
  },
  {
   "cell_type": "code",
   "execution_count": 56,
   "id": "e72ca7ad",
   "metadata": {},
   "outputs": [
    {
     "name": "stdout",
     "output_type": "stream",
     "text": [
      "오늘은 뭘 먹지?\n"
     ]
    }
   ],
   "source": [
    "menulist = ['한식','일식','중식','양식','분식','이탈리아식']\n",
    "print('오늘은 뭘 먹지?')"
   ]
  },
  {
   "cell_type": "code",
   "execution_count": 57,
   "id": "c1243b50",
   "metadata": {},
   "outputs": [],
   "source": [
    "# 메뉴를 입력받아 랜덤으로 메뉴를 정하는 프로그램을 작성해봅시다.\n",
    "# 공백('')을 입력할 때까지 메뉴를 입력받습니다."
   ]
  },
  {
   "cell_type": "code",
   "execution_count": 58,
   "id": "a824cb89",
   "metadata": {},
   "outputs": [],
   "source": [
    "import random"
   ]
  },
  {
   "cell_type": "code",
   "execution_count": 61,
   "id": "8c3f28bb",
   "metadata": {},
   "outputs": [
    {
     "data": {
      "text/plain": [
       "'분식'"
      ]
     },
     "execution_count": 61,
     "metadata": {},
     "output_type": "execute_result"
    }
   ],
   "source": [
    "random.choice(menulist)"
   ]
  },
  {
   "cell_type": "code",
   "execution_count": 64,
   "id": "dc61b92d",
   "metadata": {},
   "outputs": [
    {
     "name": "stdout",
     "output_type": "stream",
     "text": [
      "메뉴:치킨\n",
      "메뉴:파스타\n",
      "메뉴:닭\n",
      "메뉴:\n",
      "오늘의 메뉴는 : 치킨\n"
     ]
    }
   ],
   "source": [
    "menulist = []\n",
    "while True:\n",
    "    menu = input('메뉴:')\n",
    "    if menu == '':\n",
    "        break\n",
    "    menulist.append(menu)\n",
    "\n",
    "print('오늘의 메뉴는 :',random.choice(menulist))"
   ]
  },
  {
   "cell_type": "code",
   "execution_count": null,
   "id": "323a8887",
   "metadata": {},
   "outputs": [],
   "source": []
  }
 ],
 "metadata": {
  "kernelspec": {
   "display_name": "Python 3 (ipykernel)",
   "language": "python",
   "name": "python3"
  },
  "language_info": {
   "codemirror_mode": {
    "name": "ipython",
    "version": 3
   },
   "file_extension": ".py",
   "mimetype": "text/x-python",
   "name": "python",
   "nbconvert_exporter": "python",
   "pygments_lexer": "ipython3",
   "version": "3.9.12"
  },
  "toc": {
   "base_numbering": 1,
   "nav_menu": {},
   "number_sections": true,
   "sideBar": true,
   "skip_h1_title": false,
   "title_cell": "Table of Contents",
   "title_sidebar": "Contents",
   "toc_cell": false,
   "toc_position": {},
   "toc_section_display": true,
   "toc_window_display": false
  }
 },
 "nbformat": 4,
 "nbformat_minor": 5
}
