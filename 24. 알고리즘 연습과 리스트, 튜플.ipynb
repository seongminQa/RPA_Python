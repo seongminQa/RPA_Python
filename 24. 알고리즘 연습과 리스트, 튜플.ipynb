{
 "cells": [
  {
   "cell_type": "markdown",
   "id": "bdf477a4",
   "metadata": {},
   "source": [
    "# up & down 숫자맞추기 게임"
   ]
  },
  {
   "cell_type": "code",
   "execution_count": null,
   "id": "ef945c45",
   "metadata": {},
   "outputs": [],
   "source": [
    "# 1~100 사이의 정답 숫자를 랜덤으로 하나정하고, 정답 숫자를 맞출 때까지 숫자를 입력하는게임\n",
    "# 내가 입력한 숫자가 정답보다 작으면 'down', 정답보다 크면 'up'을 출력하고 숫자를 다시 입력받는다.\n",
    "# 정답을맞추면  '정답!'이라고 출력하고 게임을 끝낸다."
   ]
  },
  {
   "cell_type": "code",
   "execution_count": 1,
   "id": "dc5b96b8",
   "metadata": {},
   "outputs": [
    {
     "name": "stdout",
     "output_type": "stream",
     "text": [
      "28\n",
      "예상숫자 : 32\n",
      "Down\n",
      "예상숫자 : 14\n",
      "Up\n",
      "예상숫자 : 20\n",
      "Up\n",
      "예상숫자 : 25\n",
      "Up\n",
      "예상숫자 : 28\n",
      "정답~!\n"
     ]
    }
   ],
   "source": [
    "#정답숫자\n",
    "import random\n",
    "num = random.randrange(1,101)\n",
    "print(num)\n",
    "\n",
    "#정답을 맞출 때까지 반복하기(정답을 맞추면 반복에서 벗어나기)\n",
    "while True:\n",
    "    answer = int(input('예상숫자 : '))\n",
    "    if answer == num:\n",
    "        print('정답~!')\n",
    "        break\n",
    "    elif answer < num:\n",
    "        print('Up')\n",
    "    else:\n",
    "        print('Down')"
   ]
  },
  {
   "cell_type": "code",
   "execution_count": 2,
   "id": "3792dc2b",
   "metadata": {},
   "outputs": [],
   "source": [
    "# 확장\n",
    "# 기회는 5번까지만 주어집니다.\n",
    "# 5회가 넘으면 '횟수초과' 메시지와 함께 정답을 알려줍니다.\n",
    "# 정답을 맞추면 몇번째에 맞추었는지 출력합니다"
   ]
  },
  {
   "cell_type": "code",
   "execution_count": 7,
   "id": "8bea4929",
   "metadata": {},
   "outputs": [
    {
     "name": "stdout",
     "output_type": "stream",
     "text": [
      "42\n",
      "예상숫자 : 45\n",
      "Down\n",
      "예상숫자 : 89\n",
      "Down\n",
      "예상숫자 : 42\n",
      "정답~!\n",
      "3 번만에 맞추었습니다.\n"
     ]
    }
   ],
   "source": [
    "import random\n",
    "num = random.randrange(1,101)\n",
    "print(num)\n",
    "n = 1 # 횟수\n",
    "\n",
    "while True:\n",
    "    answer = int(input('예상숫자 : '))\n",
    "    if answer == num:\n",
    "        print('정답~!')\n",
    "        print(n,'번만에 맞추었습니다.')\n",
    "        break\n",
    "    elif answer < num:\n",
    "        print('Up')\n",
    "        n += 1\n",
    "    else:\n",
    "        print('Down')\n",
    "        n += 1\n",
    "    if n == 6:\n",
    "        print('횟수가 초과되었습니다. 정답은 ',answer)\n",
    "        break\n",
    "        "
   ]
  },
  {
   "cell_type": "markdown",
   "id": "d33404ba",
   "metadata": {},
   "source": [
    "# 사칙연산 프로그램"
   ]
  },
  {
   "cell_type": "code",
   "execution_count": 8,
   "id": "f956be13",
   "metadata": {},
   "outputs": [],
   "source": [
    "# 두 수와 사칙연산기호(+,-,*,/)를 입력받아 연산 기호에 따라 연산 결과를 출력하는 프로그램을 만든다.\n",
    "# 사칙연산기호(+,-,*,/)가 아닌 경우 '잘못입력하셨습니다'를 출력"
   ]
  },
  {
   "cell_type": "code",
   "execution_count": 3,
   "id": "b70a4c0b",
   "metadata": {},
   "outputs": [
    {
     "name": "stdout",
     "output_type": "stream",
     "text": [
      "첫번째 숫자 10\n",
      "두번째 숫자 20\n",
      "+,-,*,/ 중 입력하세요.*\n",
      "10*20 =  200\n"
     ]
    }
   ],
   "source": [
    "n1 = int(input('첫번째 숫자 '))\n",
    "n2 = int(input('두번째 숫자 '))\n",
    "m = input('+,-,*,/ 중 입력하세요.')\n",
    "\n",
    "if m == '+':\n",
    "    print(f,n1+n2)\n",
    "elif m == '-':\n",
    "    print(f'{n1}-{n2} = ',n1-n2)\n",
    "elif m == '*':\n",
    "    print(f'{n1}*{n2} = ',n1*n2)\n",
    "elif m == '/':\n",
    "    print(f'{n1}/{n2} = ',n1/n2)\n",
    "else:\n",
    "    print('잘못입력하셨습니다.')"
   ]
  },
  {
   "cell_type": "markdown",
   "id": "53ad92c6",
   "metadata": {},
   "source": [
    "# 할인된 금액 계산"
   ]
  },
  {
   "cell_type": "code",
   "execution_count": 16,
   "id": "040bc3d6",
   "metadata": {},
   "outputs": [],
   "source": [
    "# 물건 구매가를 입력받고, 금액에 따른 할인율을 계산하여 구매가, 할인율, 할인금액,\n",
    "# 지불금액을 출력하는 프로그램\n",
    "# 1만원이상~5만원미만 할인율 5%\n",
    "# 5만원이상~10만원미만 할인율 7%\n",
    "# 10만원이상 할인율 10%"
   ]
  },
  {
   "cell_type": "code",
   "execution_count": 19,
   "id": "7a123963",
   "metadata": {},
   "outputs": [
    {
     "name": "stdout",
     "output_type": "stream",
     "text": [
      "물건 구매가를 입력하세요 : 15000\n",
      "구매가=15000 할인율=5.0% 할인금액=750.0 지불금액=14250.0\n"
     ]
    }
   ],
   "source": [
    "A = int(input('물건 구매가를 입력하세요 : '))\n",
    "d = 0\n",
    "dis = 0\n",
    "if A >= 10000 and A < 50000:\n",
    "    d = 0.05\n",
    "    dis = A*d\n",
    "    print(f'구매가={A} 할인율={d*100}% 할인금액={dis} 지불금액={A-dis}')\n",
    "elif A >= 50000 and A < 100000:\n",
    "    d = 0.07\n",
    "    dis = A*d\n",
    "    print(f'구매가={A} 할인율={d*100}% 할인금액={dis} 지불금액={A-dis}')\n",
    "elif A >= 100000:\n",
    "    d = 0.1\n",
    "    dis = A*d\n",
    "    print(f'구매가={A} 할인율={d*100}% 할인금액={dis} 지불금액={A-dis}')\n",
    "else:\n",
    "    print(f'구매가={A} 할인율=0% 할인금액=0 지불금액={A}')"
   ]
  },
  {
   "cell_type": "code",
   "execution_count": 20,
   "id": "9bcca1d7",
   "metadata": {},
   "outputs": [
    {
     "name": "stdout",
     "output_type": "stream",
     "text": [
      "물건구매가 : 59000\n",
      "\n",
      "\n",
      "구매가: 59000\n",
      "할인율 : 7\n",
      "할인금액 : 4130.0\n",
      "지불금액 : 54870.0\n",
      "\n",
      "\n"
     ]
    }
   ],
   "source": [
    "# 강의\n",
    "price = int(input('물건구매가 : '))\n",
    "\n",
    "if price>=100000:\n",
    "    dc = 10\n",
    "elif price>=50000:\n",
    "    dc = 7\n",
    "elif price>=10000:\n",
    "    dc = 5\n",
    "else:\n",
    "    dc = 0\n",
    "    \n",
    "print(f'''\n",
    "\n",
    "구매가: {price}\n",
    "할인율 : {dc}\n",
    "할인금액 : {price*(dc/100)}\n",
    "지불금액 : {price-price*(dc/100)}\n",
    "\n",
    "''')"
   ]
  },
  {
   "cell_type": "markdown",
   "id": "5fa8564d",
   "metadata": {},
   "source": [
    "# 리스트와 튜플 만들기"
   ]
  },
  {
   "cell_type": "code",
   "execution_count": 21,
   "id": "6db64215",
   "metadata": {},
   "outputs": [],
   "source": [
    "# 하나의 변수에 다수의 데이터를 저장하는 자료형\n",
    "# 리스트, 튜플, 딕셔너리, 집합\n",
    "# list    tuple  dict     set\n",
    "\n",
    "#리스트 -> 순서 0, 인덱스로제어 \n",
    "#튜플 -> 리스트와 유사 *변경 불가능\n",
    "#딕셔너리 -> 순서 X, 키:값 의 쌍으로 이루어짐. 키로 제어\n",
    "#집합 -> 순서 X, 중복X "
   ]
  },
  {
   "cell_type": "markdown",
   "id": "177fbb4d",
   "metadata": {},
   "source": [
    "* 리스트 만들기"
   ]
  },
  {
   "cell_type": "code",
   "execution_count": 23,
   "id": "472a3f72",
   "metadata": {},
   "outputs": [
    {
     "data": {
      "text/plain": [
       "[]"
      ]
     },
     "execution_count": 23,
     "metadata": {},
     "output_type": "execute_result"
    }
   ],
   "source": [
    "# []를 사용하여 빈 리스트 만들기 \n",
    "l1 = []\n",
    "l1"
   ]
  },
  {
   "cell_type": "code",
   "execution_count": 24,
   "id": "79144647",
   "metadata": {},
   "outputs": [
    {
     "data": {
      "text/plain": [
       "[]"
      ]
     },
     "execution_count": 24,
     "metadata": {},
     "output_type": "execute_result"
    }
   ],
   "source": [
    "# list() 함수를사용하여 빈 리스트 만들기 \n",
    "l2 = list()\n",
    "l2"
   ]
  },
  {
   "cell_type": "code",
   "execution_count": 25,
   "id": "71611d29",
   "metadata": {},
   "outputs": [
    {
     "data": {
      "text/plain": [
       "[1, 3, 5, 7, 9]"
      ]
     },
     "execution_count": 25,
     "metadata": {},
     "output_type": "execute_result"
    }
   ],
   "source": [
    "#[]를 사용하여 초기값이 있는 리스트 만들기\n",
    "l3 = [1,3,5,7,9]\n",
    "l3"
   ]
  },
  {
   "cell_type": "code",
   "execution_count": 27,
   "id": "6ecfa2bf",
   "metadata": {},
   "outputs": [
    {
     "data": {
      "text/plain": [
       "[1, 3, 5, 7, 9, 11, 13, 15, 17, 19, 21, 23, 25, 27, 29, 31, 33, 35, 37, 39]"
      ]
     },
     "execution_count": 27,
     "metadata": {},
     "output_type": "execute_result"
    }
   ],
   "source": [
    "# list() 함수를 사용하여 초기값이 있는 리스트 만들기(규칙이 있는 정수값의 나열)\n",
    "l4 = list(range(1,40,2))\n",
    "l4"
   ]
  },
  {
   "cell_type": "markdown",
   "id": "71997fac",
   "metadata": {},
   "source": [
    "* 튜플"
   ]
  },
  {
   "cell_type": "code",
   "execution_count": 28,
   "id": "c9bf1bf7",
   "metadata": {},
   "outputs": [],
   "source": [
    "# 리스트와 유사하지만 수정,삭제,추가가 되지않는 자료형\n",
    "# 대괄호대신 소괄호를 사용\n",
    "# 프로그램이 실행되는 동안 값이 바뀌면 안되는 경우 사용\n",
    "# 함수에 인수를 전달하거나 값을 리턴할 때 사용되는 경우가 많다."
   ]
  },
  {
   "cell_type": "code",
   "execution_count": 34,
   "id": "26b19d2f",
   "metadata": {},
   "outputs": [
    {
     "data": {
      "text/plain": [
       "()"
      ]
     },
     "execution_count": 34,
     "metadata": {},
     "output_type": "execute_result"
    }
   ],
   "source": [
    "# ()를 사용하여 빈 튜플 만들기\n",
    "t1 = ()\n",
    "t1"
   ]
  },
  {
   "cell_type": "code",
   "execution_count": 35,
   "id": "e0c4e6a2",
   "metadata": {},
   "outputs": [
    {
     "data": {
      "text/plain": [
       "()"
      ]
     },
     "execution_count": 35,
     "metadata": {},
     "output_type": "execute_result"
    }
   ],
   "source": [
    "# tuple() 함수를 사용하여 빈 튜플 만들기\n",
    "t2 = tuple()\n",
    "t2"
   ]
  },
  {
   "cell_type": "code",
   "execution_count": 36,
   "id": "6db129c0",
   "metadata": {},
   "outputs": [
    {
     "data": {
      "text/plain": [
       "(1, 3, 5, 7, 9)"
      ]
     },
     "execution_count": 36,
     "metadata": {},
     "output_type": "execute_result"
    }
   ],
   "source": [
    "# ()에 초기값 지정하여 튜플 만들기\n",
    "t3 = (1,3,5,7,9)\n",
    "t3"
   ]
  },
  {
   "cell_type": "code",
   "execution_count": 37,
   "id": "551d08a9",
   "metadata": {},
   "outputs": [
    {
     "data": {
      "text/plain": [
       "(1, 3, 5, 7, 9, 11, 13, 15, 17, 19, 21, 23, 25, 27, 29, 31, 33, 35, 37, 39)"
      ]
     },
     "execution_count": 37,
     "metadata": {},
     "output_type": "execute_result"
    }
   ],
   "source": [
    "# tuple() 함수를 사용하여 초기값이 있는 튜플 만들기(규칙이 있는 정수값의 나열)\n",
    "t4 = tuple(range(1,40,2))\n",
    "t4"
   ]
  },
  {
   "cell_type": "code",
   "execution_count": 38,
   "id": "aeddb584",
   "metadata": {},
   "outputs": [
    {
     "data": {
      "text/plain": [
       "(1, 3, 5, 7, 9)"
      ]
     },
     "execution_count": 38,
     "metadata": {},
     "output_type": "execute_result"
    }
   ],
   "source": [
    "# 튜플을 만들 때 괄호()를 생략할 수 있다.\n",
    "t5 = 1,3,5,7,9\n",
    "t5"
   ]
  },
  {
   "cell_type": "code",
   "execution_count": 4,
   "id": "7ad885f1",
   "metadata": {},
   "outputs": [
    {
     "name": "stdout",
     "output_type": "stream",
     "text": [
      "(1,)\n"
     ]
    },
    {
     "data": {
      "text/plain": [
       "tuple"
      ]
     },
     "execution_count": 4,
     "metadata": {},
     "output_type": "execute_result"
    }
   ],
   "source": [
    "# 항목이 1개일때는 ,를 붙인다.\n",
    "t6 = (1,)\n",
    "print(t6)\n",
    "type(t6)"
   ]
  },
  {
   "cell_type": "code",
   "execution_count": 3,
   "id": "f8279809",
   "metadata": {},
   "outputs": [
    {
     "data": {
      "text/plain": [
       "int"
      ]
     },
     "execution_count": 3,
     "metadata": {},
     "output_type": "execute_result"
    }
   ],
   "source": [
    "t6 = (1)\n",
    "type(t6)"
   ]
  },
  {
   "cell_type": "code",
   "execution_count": 42,
   "id": "c14f7cf4",
   "metadata": {},
   "outputs": [
    {
     "data": {
      "text/plain": [
       "(1,)"
      ]
     },
     "execution_count": 42,
     "metadata": {},
     "output_type": "execute_result"
    }
   ],
   "source": [
    "t7 = 1,\n",
    "t7"
   ]
  },
  {
   "cell_type": "markdown",
   "id": "984ef3ea",
   "metadata": {},
   "source": [
    "# 리스트와 튜플에는 모든 자료형을 혼합하여 저장할 수 있다.\n",
    "\n",
    "- cf) person1 = ['Charles', 20, 70.5, ['독서','운동']]\n",
    "- cf) person2 = ('James', 21, 73.0, ['축구','게임]) \n"
   ]
  },
  {
   "cell_type": "code",
   "execution_count": 43,
   "id": "79cfdec4",
   "metadata": {},
   "outputs": [
    {
     "data": {
      "text/plain": [
       "['amy', 20, 165.5, ['독서', '코딩']]"
      ]
     },
     "execution_count": 43,
     "metadata": {},
     "output_type": "execute_result"
    }
   ],
   "source": [
    "myinfo = ['amy',20,165.5,['독서','코딩']]\n",
    "myinfo"
   ]
  },
  {
   "cell_type": "code",
   "execution_count": 44,
   "id": "c3c9c37a",
   "metadata": {},
   "outputs": [
    {
     "data": {
      "text/plain": [
       "('amy', 20, 165.5, ['독서', '코딩'])"
      ]
     },
     "execution_count": 44,
     "metadata": {},
     "output_type": "execute_result"
    }
   ],
   "source": [
    "myinfo2 = ('amy',20,165.5,['독서','코딩'])\n",
    "myinfo2"
   ]
  },
  {
   "cell_type": "markdown",
   "id": "f4695301",
   "metadata": {},
   "source": [
    "# 리스트, 튜플 연결하기"
   ]
  },
  {
   "cell_type": "code",
   "execution_count": 45,
   "id": "1966359b",
   "metadata": {},
   "outputs": [
    {
     "data": {
      "text/plain": [
       "['사과', '딸기', '포도', '포도', '수박']"
      ]
     },
     "execution_count": 45,
     "metadata": {},
     "output_type": "execute_result"
    }
   ],
   "source": [
    "l1 = ['사과','딸기','포도']\n",
    "l2 = ['포도','수박']\n",
    "l1 + l2"
   ]
  },
  {
   "cell_type": "code",
   "execution_count": 46,
   "id": "9483e442",
   "metadata": {},
   "outputs": [
    {
     "data": {
      "text/plain": [
       "('빨', '주', '노', '초', '파', '남', '보')"
      ]
     },
     "execution_count": 46,
     "metadata": {},
     "output_type": "execute_result"
    }
   ],
   "source": [
    "t1 = ('빨','주')\n",
    "t2 = ('노','초','파','남','보')\n",
    "t1 + t2"
   ]
  },
  {
   "cell_type": "markdown",
   "id": "8f28c0ba",
   "metadata": {},
   "source": [
    "# 리스트, 튜플 반복하기"
   ]
  },
  {
   "cell_type": "code",
   "execution_count": 4,
   "id": "cc5998ad",
   "metadata": {},
   "outputs": [
    {
     "name": "stdout",
     "output_type": "stream",
     "text": [
      "['먹고', '자고', '먹고', '자고', '먹고', '자고']\n",
      "('놀고', '먹고', '자고', '놀고', '먹고', '자고')\n"
     ]
    }
   ],
   "source": [
    "l = ['먹고','자고']\n",
    "t = ('놀고','먹고','자고')\n",
    "print(l * 3)\n",
    "print(t * 2)"
   ]
  },
  {
   "cell_type": "code",
   "execution_count": 48,
   "id": "dd8ccc41",
   "metadata": {},
   "outputs": [
    {
     "data": {
      "text/plain": [
       "('놀고', '먹고', '자고', '놀고', '먹고', '자고')"
      ]
     },
     "execution_count": 48,
     "metadata": {},
     "output_type": "execute_result"
    }
   ],
   "source": [
    "t = ('놀고','먹고','자고')\n",
    "t * 2"
   ]
  },
  {
   "cell_type": "markdown",
   "id": "557af74f",
   "metadata": {},
   "source": [
    "# 리스트, 튜플에 값 존재여부 확인 (멤버연산자)"
   ]
  },
  {
   "cell_type": "code",
   "execution_count": 49,
   "id": "a7e84c0c",
   "metadata": {},
   "outputs": [
    {
     "name": "stdout",
     "output_type": "stream",
     "text": [
      "True\n",
      "False\n",
      "False\n"
     ]
    }
   ],
   "source": [
    "l = [1,2,3,4,5]\n",
    "print(5 in l)\n",
    "print(10 in l)\n",
    "\n",
    "print(5 not in l)"
   ]
  },
  {
   "cell_type": "code",
   "execution_count": 50,
   "id": "a1b9f2d1",
   "metadata": {},
   "outputs": [
    {
     "name": "stdout",
     "output_type": "stream",
     "text": [
      "True\n",
      "False\n",
      "False\n"
     ]
    }
   ],
   "source": [
    "t = (1,2,3,4,5)\n",
    "print(5 in t)\n",
    "print(10 in t)\n",
    "\n",
    "print(5 not in t)"
   ]
  },
  {
   "cell_type": "markdown",
   "id": "c5f42b67",
   "metadata": {},
   "source": [
    "# 리스트, 튜플 항목의 갯수 구하기"
   ]
  },
  {
   "cell_type": "code",
   "execution_count": 51,
   "id": "b50ffec5",
   "metadata": {},
   "outputs": [
    {
     "data": {
      "text/plain": [
       "14"
      ]
     },
     "execution_count": 51,
     "metadata": {},
     "output_type": "execute_result"
    }
   ],
   "source": [
    "l = [1,2,3,4,5,6,7,8,77.7,88.8,'a','b','c',[10,20,30]]\n",
    "len(l)"
   ]
  },
  {
   "cell_type": "code",
   "execution_count": 52,
   "id": "066b73e5",
   "metadata": {},
   "outputs": [
    {
     "data": {
      "text/plain": [
       "2"
      ]
     },
     "execution_count": 52,
     "metadata": {},
     "output_type": "execute_result"
    }
   ],
   "source": [
    "t = ((1,2),[3,4])\n",
    "len(t)"
   ]
  },
  {
   "cell_type": "code",
   "execution_count": null,
   "id": "d03bda6f",
   "metadata": {},
   "outputs": [],
   "source": []
  }
 ],
 "metadata": {
  "kernelspec": {
   "display_name": "Python 3 (ipykernel)",
   "language": "python",
   "name": "python3"
  },
  "language_info": {
   "codemirror_mode": {
    "name": "ipython",
    "version": 3
   },
   "file_extension": ".py",
   "mimetype": "text/x-python",
   "name": "python",
   "nbconvert_exporter": "python",
   "pygments_lexer": "ipython3",
   "version": "3.9.12"
  },
  "toc": {
   "base_numbering": 1,
   "nav_menu": {},
   "number_sections": true,
   "sideBar": true,
   "skip_h1_title": false,
   "title_cell": "Table of Contents",
   "title_sidebar": "Contents",
   "toc_cell": false,
   "toc_position": {},
   "toc_section_display": true,
   "toc_window_display": false
  }
 },
 "nbformat": 4,
 "nbformat_minor": 5
}
