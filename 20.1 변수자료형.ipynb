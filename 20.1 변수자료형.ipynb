{
 "cells": [
  {
   "cell_type": "code",
   "execution_count": 1,
   "id": "cdbbcee1",
   "metadata": {},
   "outputs": [],
   "source": [
    "name = 'james'\n",
    "age = 20\n",
    "height = 175.0\n",
    "ischild = age < 20"
   ]
  },
  {
   "cell_type": "code",
   "execution_count": 2,
   "id": "d5c38b04",
   "metadata": {},
   "outputs": [
    {
     "name": "stdout",
     "output_type": "stream",
     "text": [
      "james <class 'str'>\n"
     ]
    }
   ],
   "source": [
    "print(name,type(name))   # type(변수명) -> 변수의 자료형을 나타내준다."
   ]
  },
  {
   "cell_type": "code",
   "execution_count": 3,
   "id": "709540ea",
   "metadata": {},
   "outputs": [
    {
     "name": "stdout",
     "output_type": "stream",
     "text": [
      "20 <class 'int'>\n"
     ]
    }
   ],
   "source": [
    "print(age,type(age))"
   ]
  },
  {
   "cell_type": "code",
   "execution_count": 5,
   "id": "2ae8bb61",
   "metadata": {},
   "outputs": [
    {
     "name": "stdout",
     "output_type": "stream",
     "text": [
      "False//<class 'bool'>\n"
     ]
    }
   ],
   "source": [
    "print(ischild,type(ischild), sep='//')  # bool은 연산자로 비교해, True나 False를 반환"
   ]
  },
  {
   "cell_type": "code",
   "execution_count": 6,
   "id": "6c5b890e",
   "metadata": {},
   "outputs": [
    {
     "name": "stdout",
     "output_type": "stream",
     "text": [
      "'낮말'은 새가 듣고 '밤말'은 쥐가 듣는다.\n"
     ]
    }
   ],
   "source": [
    "a = \"'낮말'은 새가 듣고 '밤말'은 쥐가 듣는다.\"\n",
    "print(a)"
   ]
  },
  {
   "cell_type": "code",
   "execution_count": 7,
   "id": "32b34eb4",
   "metadata": {},
   "outputs": [
    {
     "name": "stdout",
     "output_type": "stream",
     "text": [
      "나이: 5\n",
      "5\n",
      "<class 'str'>\n"
     ]
    }
   ],
   "source": [
    "age = input(\"나이: \")\n",
    "print(age)\n",
    "print(type(age)) # input에 입력받는 값은 무조건 문자이다."
   ]
  },
  {
   "cell_type": "code",
   "execution_count": 8,
   "id": "5c7958c8",
   "metadata": {},
   "outputs": [
    {
     "name": "stdout",
     "output_type": "stream",
     "text": [
      "20\n"
     ]
    }
   ],
   "source": [
    "a = input()"
   ]
  },
  {
   "cell_type": "code",
   "execution_count": 9,
   "id": "2044e879",
   "metadata": {},
   "outputs": [
    {
     "data": {
      "text/plain": [
       "str"
      ]
     },
     "execution_count": 9,
     "metadata": {},
     "output_type": "execute_result"
    }
   ],
   "source": [
    "type(a)"
   ]
  },
  {
   "cell_type": "code",
   "execution_count": 11,
   "id": "4b18b912",
   "metadata": {},
   "outputs": [
    {
     "name": "stdout",
     "output_type": "stream",
     "text": [
      "나이를 입력하세요 : 20\n"
     ]
    },
    {
     "data": {
      "text/plain": [
       "int"
      ]
     },
     "execution_count": 11,
     "metadata": {},
     "output_type": "execute_result"
    }
   ],
   "source": [
    "a = int(input('나이를 입력하세요 : '))\n",
    "type(a)"
   ]
  },
  {
   "cell_type": "code",
   "execution_count": 12,
   "id": "9892a051",
   "metadata": {},
   "outputs": [
    {
     "data": {
      "text/plain": [
       "str"
      ]
     },
     "execution_count": 12,
     "metadata": {},
     "output_type": "execute_result"
    }
   ],
   "source": [
    "age = str(20)\n",
    "type(age)"
   ]
  },
  {
   "cell_type": "code",
   "execution_count": 13,
   "id": "79873baf",
   "metadata": {},
   "outputs": [
    {
     "data": {
      "text/plain": [
       "float"
      ]
     },
     "execution_count": 13,
     "metadata": {},
     "output_type": "execute_result"
    }
   ],
   "source": [
    "age = float(20)\n",
    "type(age)"
   ]
  },
  {
   "cell_type": "code",
   "execution_count": null,
   "id": "bf5c1007",
   "metadata": {},
   "outputs": [],
   "source": []
  }
 ],
 "metadata": {
  "kernelspec": {
   "display_name": "Python 3 (ipykernel)",
   "language": "python",
   "name": "python3"
  },
  "language_info": {
   "codemirror_mode": {
    "name": "ipython",
    "version": 3
   },
   "file_extension": ".py",
   "mimetype": "text/x-python",
   "name": "python",
   "nbconvert_exporter": "python",
   "pygments_lexer": "ipython3",
   "version": "3.9.12"
  },
  "toc": {
   "base_numbering": 1,
   "nav_menu": {},
   "number_sections": true,
   "sideBar": true,
   "skip_h1_title": false,
   "title_cell": "Table of Contents",
   "title_sidebar": "Contents",
   "toc_cell": false,
   "toc_position": {},
   "toc_section_display": true,
   "toc_window_display": false
  }
 },
 "nbformat": 4,
 "nbformat_minor": 5
}
