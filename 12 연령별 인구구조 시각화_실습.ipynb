{
 "cells": [
  {
   "cell_type": "code",
   "execution_count": null,
   "id": "eb11d82c",
   "metadata": {},
   "outputs": [],
   "source": [
    "import matplotlib.pyplot as plt\n",
    "import pandas as pd\n",
    "import seaborn as sns"
   ]
  },
  {
   "cell_type": "code",
   "execution_count": null,
   "id": "732f4b1d",
   "metadata": {},
   "outputs": [],
   "source": [
    "plt.rcParams['font.family']='Malgun Gothic'\n",
    "plt.rcParams['axes.unicode_minus']=False"
   ]
  },
  {
   "cell_type": "markdown",
   "id": "a427b0b1",
   "metadata": {},
   "source": [
    "# 데이터 수집 및 전처리\n",
    "\n",
    "행정안전부<br>\n",
    "https://www.mois.go.kr/<br>\n",
    "정책자료 > 주민등록인구통계>연령별 인구 통계<br>\n",
    "성별구분하지않음, 1세단위, 0~100세이상, 전체읍면동 현황<br><br>"
   ]
  },
  {
   "cell_type": "code",
   "execution_count": null,
   "id": "f1d5b061",
   "metadata": {},
   "outputs": [],
   "source": []
  },
  {
   "cell_type": "code",
   "execution_count": null,
   "id": "b89e25a2",
   "metadata": {
    "scrolled": false
   },
   "outputs": [],
   "source": []
  },
  {
   "cell_type": "markdown",
   "id": "475a0002",
   "metadata": {},
   "source": [
    "## 컬럼삭제"
   ]
  },
  {
   "cell_type": "code",
   "execution_count": null,
   "id": "fa5d5936",
   "metadata": {},
   "outputs": [],
   "source": []
  },
  {
   "cell_type": "code",
   "execution_count": null,
   "id": "8516c7c4",
   "metadata": {},
   "outputs": [],
   "source": []
  },
  {
   "cell_type": "markdown",
   "id": "c8f02343",
   "metadata": {},
   "source": [
    "## 인덱스 변경"
   ]
  },
  {
   "cell_type": "code",
   "execution_count": null,
   "id": "b8f21045",
   "metadata": {},
   "outputs": [],
   "source": []
  },
  {
   "cell_type": "code",
   "execution_count": null,
   "id": "787669be",
   "metadata": {},
   "outputs": [],
   "source": []
  },
  {
   "cell_type": "markdown",
   "id": "394b2336",
   "metadata": {},
   "source": [
    "## 컬럼명 변경"
   ]
  },
  {
   "cell_type": "code",
   "execution_count": null,
   "id": "4333c6ff",
   "metadata": {},
   "outputs": [],
   "source": []
  },
  {
   "cell_type": "code",
   "execution_count": null,
   "id": "2ed3e545",
   "metadata": {
    "scrolled": false
   },
   "outputs": [],
   "source": []
  },
  {
   "cell_type": "markdown",
   "id": "b3ef052d",
   "metadata": {},
   "source": [
    "## 자료형 확인/변경"
   ]
  },
  {
   "cell_type": "code",
   "execution_count": null,
   "id": "9d537691",
   "metadata": {
    "scrolled": true
   },
   "outputs": [],
   "source": []
  },
  {
   "cell_type": "code",
   "execution_count": null,
   "id": "eff06900",
   "metadata": {},
   "outputs": [],
   "source": []
  },
  {
   "cell_type": "code",
   "execution_count": null,
   "id": "8cf8f88f",
   "metadata": {
    "scrolled": false
   },
   "outputs": [],
   "source": []
  },
  {
   "cell_type": "code",
   "execution_count": null,
   "id": "25844e7a",
   "metadata": {
    "scrolled": true
   },
   "outputs": [],
   "source": []
  },
  {
   "cell_type": "markdown",
   "id": "329172c2",
   "metadata": {},
   "source": [
    "# 시도-연령별 인구구조"
   ]
  },
  {
   "cell_type": "markdown",
   "id": "d2011637",
   "metadata": {},
   "source": [
    "## 서브셋 만들기\n",
    "* `컬럼.str.contains(문자열)` : 해당 문자열이 포함된 데이터 추출"
   ]
  },
  {
   "cell_type": "code",
   "execution_count": null,
   "id": "f30baba6",
   "metadata": {
    "scrolled": false
   },
   "outputs": [],
   "source": []
  },
  {
   "cell_type": "markdown",
   "id": "2f695296",
   "metadata": {},
   "source": [
    "## 시각화"
   ]
  },
  {
   "cell_type": "markdown",
   "id": "cc67d3a2",
   "metadata": {},
   "source": [
    "### 다중플롯"
   ]
  },
  {
   "cell_type": "code",
   "execution_count": null,
   "id": "c29d516a",
   "metadata": {},
   "outputs": [],
   "source": []
  },
  {
   "cell_type": "code",
   "execution_count": null,
   "id": "94fdcffc",
   "metadata": {
    "scrolled": false
   },
   "outputs": [],
   "source": []
  },
  {
   "cell_type": "markdown",
   "id": "2a73b8be",
   "metadata": {},
   "source": [
    "### 서브플롯\n",
    "* `plt.subplot(행,열,순번)`"
   ]
  },
  {
   "cell_type": "code",
   "execution_count": null,
   "id": "58f68b4f",
   "metadata": {},
   "outputs": [],
   "source": []
  },
  {
   "cell_type": "markdown",
   "id": "485c1d59",
   "metadata": {},
   "source": [
    "# 서울시 구별 인구구조"
   ]
  },
  {
   "cell_type": "markdown",
   "id": "cc8cc8c2",
   "metadata": {},
   "source": [
    "## 서브셋 만들기"
   ]
  },
  {
   "cell_type": "code",
   "execution_count": null,
   "id": "931b10c2",
   "metadata": {},
   "outputs": [],
   "source": []
  },
  {
   "cell_type": "markdown",
   "id": "39e52802",
   "metadata": {},
   "source": [
    "## 시각화"
   ]
  },
  {
   "cell_type": "markdown",
   "id": "29652138",
   "metadata": {},
   "source": [
    "### 다중플롯"
   ]
  },
  {
   "cell_type": "code",
   "execution_count": null,
   "id": "7a27e647",
   "metadata": {
    "scrolled": true
   },
   "outputs": [],
   "source": []
  },
  {
   "cell_type": "code",
   "execution_count": null,
   "id": "a340d714",
   "metadata": {
    "scrolled": true
   },
   "outputs": [],
   "source": []
  },
  {
   "cell_type": "markdown",
   "id": "845dab8d",
   "metadata": {},
   "source": [
    "### 서브플롯\n",
    "* `fig.add_subplot(행,열,순번)`"
   ]
  },
  {
   "cell_type": "code",
   "execution_count": null,
   "id": "382a51b7",
   "metadata": {
    "scrolled": false
   },
   "outputs": [],
   "source": []
  },
  {
   "cell_type": "markdown",
   "id": "bc6f024a",
   "metadata": {},
   "source": [
    "# 특정 동 인구구조"
   ]
  },
  {
   "cell_type": "markdown",
   "id": "daeb06c7",
   "metadata": {},
   "source": [
    "## 학군지 인구구조\n",
    "* 대치, 목\n",
    "* `fig, ax = plt.subplots()`"
   ]
  },
  {
   "cell_type": "code",
   "execution_count": null,
   "id": "61ee4bc2",
   "metadata": {
    "scrolled": false
   },
   "outputs": [],
   "source": []
  },
  {
   "cell_type": "code",
   "execution_count": null,
   "id": "6c740398",
   "metadata": {},
   "outputs": [],
   "source": []
  },
  {
   "cell_type": "markdown",
   "id": "9af28914",
   "metadata": {},
   "source": [
    "## 특정 구의 동별 인구구조"
   ]
  },
  {
   "cell_type": "code",
   "execution_count": null,
   "id": "fe2e7916",
   "metadata": {},
   "outputs": [],
   "source": []
  },
  {
   "cell_type": "code",
   "execution_count": null,
   "id": "0527182b",
   "metadata": {
    "scrolled": false
   },
   "outputs": [],
   "source": []
  },
  {
   "cell_type": "code",
   "execution_count": null,
   "id": "dfe173a7",
   "metadata": {},
   "outputs": [],
   "source": []
  }
 ],
 "metadata": {
  "kernelspec": {
   "display_name": "Python 3",
   "language": "python",
   "name": "python3"
  },
  "language_info": {
   "codemirror_mode": {
    "name": "ipython",
    "version": 3
   },
   "file_extension": ".py",
   "mimetype": "text/x-python",
   "name": "python",
   "nbconvert_exporter": "python",
   "pygments_lexer": "ipython3",
   "version": "3.8.8"
  },
  "toc": {
   "base_numbering": 1,
   "nav_menu": {},
   "number_sections": true,
   "sideBar": true,
   "skip_h1_title": false,
   "title_cell": "Table of Contents",
   "title_sidebar": "Contents",
   "toc_cell": false,
   "toc_position": {
    "height": "calc(100% - 180px)",
    "left": "10px",
    "top": "150px",
    "width": "245.76px"
   },
   "toc_section_display": true,
   "toc_window_display": true
  }
 },
 "nbformat": 4,
 "nbformat_minor": 5
}
