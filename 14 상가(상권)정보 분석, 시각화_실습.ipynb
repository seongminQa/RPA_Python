{
 "cells": [
  {
   "cell_type": "markdown",
   "id": "0824fa7a",
   "metadata": {},
   "source": [
    "* 라이브러리 임포트"
   ]
  },
  {
   "cell_type": "code",
   "execution_count": null,
   "id": "eae41e45",
   "metadata": {},
   "outputs": [],
   "source": [
    "import pandas as pd\n",
    "import matplotlib.pyplot as plt\n",
    "import seaborn as sns"
   ]
  },
  {
   "cell_type": "code",
   "execution_count": null,
   "id": "878ffb15",
   "metadata": {},
   "outputs": [],
   "source": [
    "plt.rcParams['font.family']='Malgun Gothic'\n",
    "plt.rcParams['axes.unicode_minus']=False"
   ]
  },
  {
   "cell_type": "markdown",
   "id": "b9c2b606",
   "metadata": {},
   "source": [
    "# 데이터 수집\n",
    "* 상가상권정보<br>\n",
    "https://www.data.go.kr/data/15083033/fileData.do"
   ]
  },
  {
   "cell_type": "markdown",
   "id": "39d15536",
   "metadata": {},
   "source": [
    "## 데이터프레임 생성\n",
    "* 17개 파일의 데이터를 각각 데이터프레임으로 만든 후 합친다."
   ]
  },
  {
   "cell_type": "markdown",
   "id": "d14d3ac4",
   "metadata": {},
   "source": [
    "### 17개의 파일을 각각 데이터프레임으로 만들기\n",
    "* column에 NaN값이나 여러 type의 데이터가 섞여 있으면 DtypeWarning 발생<br>\n",
    "dtype option으로 타입을 명시해주거나 low_memory = False로 지정해 주면 경고 메시지가 출력되지 않는다."
   ]
  },
  {
   "cell_type": "code",
   "execution_count": null,
   "id": "eb1ab453",
   "metadata": {
    "scrolled": false
   },
   "outputs": [],
   "source": [
    "df1 = pd.read_csv('data/소상공인시장진흥공단_상가(상권)정보_강원_202109.csv')"
   ]
  },
  {
   "cell_type": "code",
   "execution_count": null,
   "id": "9d924b52",
   "metadata": {
    "scrolled": true
   },
   "outputs": [],
   "source": [
    "df2 = pd.read_csv('data/소상공인시장진흥공단_상가(상권)정보_경기_202109.csv')"
   ]
  },
  {
   "cell_type": "code",
   "execution_count": null,
   "id": "984f01cc",
   "metadata": {
    "scrolled": false
   },
   "outputs": [],
   "source": [
    "df3 = pd.read_csv('data/소상공인시장진흥공단_상가(상권)정보_경남_202109.csv')"
   ]
  },
  {
   "cell_type": "code",
   "execution_count": null,
   "id": "096efdd9",
   "metadata": {},
   "outputs": [],
   "source": [
    "df4 = pd.read_csv('data/소상공인시장진흥공단_상가(상권)정보_경북_202109.csv')"
   ]
  },
  {
   "cell_type": "code",
   "execution_count": null,
   "id": "379de689",
   "metadata": {},
   "outputs": [],
   "source": [
    "df5 = pd.read_csv('data/소상공인시장진흥공단_상가(상권)정보_광주_202109.csv')"
   ]
  },
  {
   "cell_type": "code",
   "execution_count": null,
   "id": "c4b50467",
   "metadata": {
    "scrolled": true
   },
   "outputs": [],
   "source": [
    "df6 = pd.read_csv('data/소상공인시장진흥공단_상가(상권)정보_대구_202109.csv')"
   ]
  },
  {
   "cell_type": "code",
   "execution_count": null,
   "id": "e5e1b3f0",
   "metadata": {},
   "outputs": [],
   "source": [
    "df7 = pd.read_csv('data/소상공인시장진흥공단_상가(상권)정보_대전_202109.csv')"
   ]
  },
  {
   "cell_type": "code",
   "execution_count": null,
   "id": "b2397624",
   "metadata": {},
   "outputs": [],
   "source": [
    "df8 = pd.read_csv('data/소상공인시장진흥공단_상가(상권)정보_부산_202109.csv')"
   ]
  },
  {
   "cell_type": "code",
   "execution_count": null,
   "id": "47095681",
   "metadata": {},
   "outputs": [],
   "source": [
    "df9 = pd.read_csv('data/소상공인시장진흥공단_상가(상권)정보_서울_202109.csv')"
   ]
  },
  {
   "cell_type": "code",
   "execution_count": null,
   "id": "543f612d",
   "metadata": {},
   "outputs": [],
   "source": [
    "df10 = pd.read_csv('data/소상공인시장진흥공단_상가(상권)정보_세종_202109.csv')"
   ]
  },
  {
   "cell_type": "code",
   "execution_count": null,
   "id": "cc3f556c",
   "metadata": {},
   "outputs": [],
   "source": [
    "df11 = pd.read_csv('data/소상공인시장진흥공단_상가(상권)정보_울산_202109.csv')"
   ]
  },
  {
   "cell_type": "code",
   "execution_count": null,
   "id": "c6a86c97",
   "metadata": {},
   "outputs": [],
   "source": [
    "df12 = pd.read_csv('data/소상공인시장진흥공단_상가(상권)정보_인천_202109.csv')"
   ]
  },
  {
   "cell_type": "code",
   "execution_count": null,
   "id": "e7f5e589",
   "metadata": {},
   "outputs": [],
   "source": [
    "df13 = pd.read_csv('data/소상공인시장진흥공단_상가(상권)정보_전남_202109.csv')   "
   ]
  },
  {
   "cell_type": "code",
   "execution_count": null,
   "id": "d6dac421",
   "metadata": {},
   "outputs": [],
   "source": [
    "df14 = pd.read_csv('data/소상공인시장진흥공단_상가(상권)정보_전북_202109.csv')"
   ]
  },
  {
   "cell_type": "code",
   "execution_count": null,
   "id": "b995dd85",
   "metadata": {},
   "outputs": [],
   "source": [
    "df15 = pd.read_csv('data/소상공인시장진흥공단_상가(상권)정보_제주_202109.csv')"
   ]
  },
  {
   "cell_type": "code",
   "execution_count": null,
   "id": "e89d5885",
   "metadata": {},
   "outputs": [],
   "source": [
    "df16 = pd.read_csv('data/소상공인시장진흥공단_상가(상권)정보_충남_202109.csv')"
   ]
  },
  {
   "cell_type": "code",
   "execution_count": null,
   "id": "85dafb89",
   "metadata": {},
   "outputs": [],
   "source": [
    "df17 = pd.read_csv('data/소상공인시장진흥공단_상가(상권)정보_충북_202109.csv')  "
   ]
  },
  {
   "cell_type": "markdown",
   "id": "5611221d",
   "metadata": {},
   "source": [
    "### 데이터프레임 연결하기\n",
    "* pd.concat(데이터프레임리스트) : 행 방향으로 연결\n",
    "* pd.concat(데이터프레임리스트, axis=1) : 열 방향으로 연결\n",
    "* 인덱스 재지정 : ignore_index = True "
   ]
  },
  {
   "cell_type": "code",
   "execution_count": null,
   "id": "2bc32eeb",
   "metadata": {
    "scrolled": false
   },
   "outputs": [],
   "source": [
    "# 데이터프레임 합치기 : [df1,df2,df3,df4,df5,df6,df7,df8,df9,df10,df11,df12,df13,df14,df15,df16,df17]"
   ]
  },
  {
   "cell_type": "code",
   "execution_count": null,
   "id": "ffa04e06",
   "metadata": {
    "scrolled": true
   },
   "outputs": [],
   "source": []
  },
  {
   "cell_type": "code",
   "execution_count": null,
   "id": "15ccafa9",
   "metadata": {},
   "outputs": [],
   "source": [
    "# 컬럼갯수 최대 지정"
   ]
  },
  {
   "cell_type": "code",
   "execution_count": null,
   "id": "8ee2b579",
   "metadata": {
    "scrolled": false
   },
   "outputs": [],
   "source": []
  },
  {
   "cell_type": "markdown",
   "id": "ee629ef4",
   "metadata": {},
   "source": [
    "# 데이터 확인 및 전처리"
   ]
  },
  {
   "cell_type": "markdown",
   "id": "a1073e6d",
   "metadata": {},
   "source": [
    "## 데이터 크기"
   ]
  },
  {
   "cell_type": "code",
   "execution_count": null,
   "id": "295a8747",
   "metadata": {
    "scrolled": false
   },
   "outputs": [],
   "source": []
  },
  {
   "cell_type": "code",
   "execution_count": null,
   "id": "c0eacd48",
   "metadata": {},
   "outputs": [],
   "source": []
  },
  {
   "cell_type": "markdown",
   "id": "ee11660d",
   "metadata": {},
   "source": [
    "## 데이터프레임 정보"
   ]
  },
  {
   "cell_type": "code",
   "execution_count": null,
   "id": "26deceba",
   "metadata": {
    "scrolled": false
   },
   "outputs": [],
   "source": []
  },
  {
   "cell_type": "markdown",
   "id": "ebe3c78a",
   "metadata": {},
   "source": [
    "## 서브셋 만들기"
   ]
  },
  {
   "cell_type": "code",
   "execution_count": null,
   "id": "d1293d0d",
   "metadata": {
    "scrolled": true
   },
   "outputs": [],
   "source": []
  },
  {
   "cell_type": "code",
   "execution_count": null,
   "id": "6277c5e3",
   "metadata": {
    "scrolled": false
   },
   "outputs": [],
   "source": [
    "# 컬럼명 가져오기"
   ]
  },
  {
   "cell_type": "markdown",
   "id": "6275a936",
   "metadata": {},
   "source": [
    "### 필요한 컬럼만 추출하여 서브셋 만들기\n",
    "* 서브셋을 만들 때는 copy()기능을 사용하는 것을 권장"
   ]
  },
  {
   "cell_type": "code",
   "execution_count": null,
   "id": "428c80d3",
   "metadata": {
    "scrolled": false
   },
   "outputs": [],
   "source": []
  },
  {
   "cell_type": "code",
   "execution_count": null,
   "id": "ba2fd4f5",
   "metadata": {},
   "outputs": [],
   "source": []
  },
  {
   "cell_type": "markdown",
   "id": "d65cffc9",
   "metadata": {},
   "source": [
    "### 서브셋 데이터 확인"
   ]
  },
  {
   "cell_type": "code",
   "execution_count": null,
   "id": "e8c75001",
   "metadata": {},
   "outputs": [],
   "source": [
    "# 데이터 크기"
   ]
  },
  {
   "cell_type": "code",
   "execution_count": null,
   "id": "fc42a0db",
   "metadata": {
    "scrolled": false
   },
   "outputs": [],
   "source": [
    "# 데이터 정보(메모리 용량)"
   ]
  },
  {
   "cell_type": "markdown",
   "id": "acf6fe85",
   "metadata": {},
   "source": [
    "### 결측치분석/처리"
   ]
  },
  {
   "cell_type": "code",
   "execution_count": null,
   "id": "4c415f88",
   "metadata": {
    "scrolled": false
   },
   "outputs": [],
   "source": []
  },
  {
   "cell_type": "code",
   "execution_count": null,
   "id": "4a2eaa9e",
   "metadata": {},
   "outputs": [],
   "source": []
  },
  {
   "cell_type": "markdown",
   "id": "32da55b4",
   "metadata": {},
   "source": [
    "## 상권업종분류"
   ]
  },
  {
   "cell_type": "code",
   "execution_count": null,
   "id": "3332dc0a",
   "metadata": {},
   "outputs": [],
   "source": []
  },
  {
   "cell_type": "code",
   "execution_count": null,
   "id": "0ee4079d",
   "metadata": {},
   "outputs": [],
   "source": []
  },
  {
   "cell_type": "code",
   "execution_count": null,
   "id": "57266f14",
   "metadata": {},
   "outputs": [],
   "source": []
  },
  {
   "cell_type": "code",
   "execution_count": null,
   "id": "287d968e",
   "metadata": {},
   "outputs": [],
   "source": []
  },
  {
   "cell_type": "code",
   "execution_count": null,
   "id": "9deb796a",
   "metadata": {
    "scrolled": false
   },
   "outputs": [],
   "source": []
  },
  {
   "cell_type": "markdown",
   "id": "0164fb18",
   "metadata": {},
   "source": [
    "### 상권업종분류표"
   ]
  },
  {
   "cell_type": "code",
   "execution_count": null,
   "id": "fd52bf5d",
   "metadata": {},
   "outputs": [],
   "source": []
  },
  {
   "cell_type": "code",
   "execution_count": null,
   "id": "317c509b",
   "metadata": {
    "scrolled": false
   },
   "outputs": [],
   "source": [
    "# 상권업종 분류표 모두보기(최대 행 수 지정)"
   ]
  },
  {
   "cell_type": "code",
   "execution_count": null,
   "id": "ae19cb27",
   "metadata": {
    "scrolled": false
   },
   "outputs": [],
   "source": []
  },
  {
   "cell_type": "code",
   "execution_count": null,
   "id": "dadba1e3",
   "metadata": {
    "scrolled": false
   },
   "outputs": [],
   "source": []
  },
  {
   "cell_type": "markdown",
   "id": "1fa63d14",
   "metadata": {},
   "source": [
    "# 전국 상가 등록 현황"
   ]
  },
  {
   "cell_type": "markdown",
   "id": "4e5a1b9b",
   "metadata": {},
   "source": [
    "## 업종 대분류별 상가 갯수"
   ]
  },
  {
   "cell_type": "code",
   "execution_count": null,
   "id": "fdfd40bd",
   "metadata": {
    "scrolled": false
   },
   "outputs": [],
   "source": []
  },
  {
   "cell_type": "code",
   "execution_count": null,
   "id": "7c6234cd",
   "metadata": {},
   "outputs": [],
   "source": [
    "# 막대그래프\n",
    "\n",
    "# 파이그래프"
   ]
  },
  {
   "cell_type": "markdown",
   "id": "e3312323",
   "metadata": {},
   "source": [
    "## 시도별 상가 갯수"
   ]
  },
  {
   "cell_type": "code",
   "execution_count": null,
   "id": "89a7b014",
   "metadata": {
    "scrolled": true
   },
   "outputs": [],
   "source": []
  },
  {
   "cell_type": "code",
   "execution_count": null,
   "id": "898d67da",
   "metadata": {},
   "outputs": [],
   "source": [
    "# 막대그래프\n",
    "\n",
    "# 파이그래프"
   ]
  },
  {
   "cell_type": "markdown",
   "id": "a68729c6",
   "metadata": {},
   "source": [
    "## 시도별 업종대분류별 상가 현황"
   ]
  },
  {
   "cell_type": "code",
   "execution_count": null,
   "id": "84b29592",
   "metadata": {},
   "outputs": [],
   "source": []
  },
  {
   "cell_type": "code",
   "execution_count": null,
   "id": "1a8d27cd",
   "metadata": {
    "scrolled": false
   },
   "outputs": [],
   "source": []
  },
  {
   "cell_type": "markdown",
   "id": "24f27e1d",
   "metadata": {},
   "source": [
    "# 서울특별시 상가 현황"
   ]
  },
  {
   "cell_type": "code",
   "execution_count": null,
   "id": "f56c82dd",
   "metadata": {},
   "outputs": [],
   "source": []
  },
  {
   "cell_type": "markdown",
   "id": "1384f06a",
   "metadata": {},
   "source": [
    "## 구별 상가 등록 현황"
   ]
  },
  {
   "cell_type": "code",
   "execution_count": null,
   "id": "8c0f68c9",
   "metadata": {},
   "outputs": [],
   "source": []
  },
  {
   "cell_type": "markdown",
   "id": "b5a48fbb",
   "metadata": {},
   "source": [
    "## 판다스 함수로 시각화\n",
    "* 데이터프레임.plot.함수명"
   ]
  },
  {
   "cell_type": "code",
   "execution_count": null,
   "id": "d3d4137b",
   "metadata": {},
   "outputs": [],
   "source": []
  },
  {
   "cell_type": "code",
   "execution_count": null,
   "id": "889abcc3",
   "metadata": {},
   "outputs": [],
   "source": []
  },
  {
   "cell_type": "code",
   "execution_count": null,
   "id": "6b984448",
   "metadata": {},
   "outputs": [],
   "source": []
  },
  {
   "cell_type": "markdown",
   "id": "4ebdca38",
   "metadata": {},
   "source": [
    "## 구별/업종대분류별 상가 현황"
   ]
  },
  {
   "cell_type": "markdown",
   "id": "8a9ea366",
   "metadata": {},
   "source": [
    "### 히트맵으로 시각화"
   ]
  },
  {
   "cell_type": "code",
   "execution_count": null,
   "id": "fb5fa13c",
   "metadata": {
    "scrolled": false
   },
   "outputs": [],
   "source": []
  },
  {
   "cell_type": "code",
   "execution_count": null,
   "id": "39f88b12",
   "metadata": {},
   "outputs": [],
   "source": []
  },
  {
   "cell_type": "markdown",
   "id": "64e04c00",
   "metadata": {},
   "source": [
    "# 소분류-구별 상가 등록 수 시각화\n",
    "* scatter차트, hexbin으로 특정 소분류의 구별 상가 등록 수 시각화\n",
    "* 위도, 경도에 상가 위치 표시"
   ]
  },
  {
   "cell_type": "markdown",
   "id": "f58a5fb9",
   "metadata": {},
   "source": [
    "## 구별 위도, 경도 평균값"
   ]
  },
  {
   "cell_type": "code",
   "execution_count": null,
   "id": "9b206489",
   "metadata": {},
   "outputs": [],
   "source": []
  },
  {
   "cell_type": "markdown",
   "id": "7d8d5123",
   "metadata": {},
   "source": [
    "## 커피전문점/카페/다방 현황"
   ]
  },
  {
   "cell_type": "code",
   "execution_count": null,
   "id": "327e1299",
   "metadata": {
    "scrolled": false
   },
   "outputs": [],
   "source": []
  },
  {
   "cell_type": "code",
   "execution_count": null,
   "id": "55cc2c6a",
   "metadata": {},
   "outputs": [],
   "source": []
  },
  {
   "cell_type": "markdown",
   "id": "a0213fd7",
   "metadata": {},
   "source": [
    "## 여성미용실"
   ]
  },
  {
   "cell_type": "code",
   "execution_count": null,
   "id": "8556be30",
   "metadata": {
    "scrolled": false
   },
   "outputs": [],
   "source": []
  },
  {
   "cell_type": "markdown",
   "id": "49d4048a",
   "metadata": {},
   "source": [
    "## 학원-입시"
   ]
  },
  {
   "cell_type": "code",
   "execution_count": null,
   "id": "deebe83f",
   "metadata": {},
   "outputs": [],
   "source": []
  },
  {
   "cell_type": "markdown",
   "id": "0faf65e5",
   "metadata": {},
   "source": [
    "## 어린이집"
   ]
  },
  {
   "cell_type": "code",
   "execution_count": null,
   "id": "6410e59c",
   "metadata": {
    "scrolled": false
   },
   "outputs": [],
   "source": []
  }
 ],
 "metadata": {
  "kernelspec": {
   "display_name": "Python 3",
   "language": "python",
   "name": "python3"
  },
  "language_info": {
   "codemirror_mode": {
    "name": "ipython",
    "version": 3
   },
   "file_extension": ".py",
   "mimetype": "text/x-python",
   "name": "python",
   "nbconvert_exporter": "python",
   "pygments_lexer": "ipython3",
   "version": "3.8.8"
  },
  "toc": {
   "base_numbering": 1,
   "nav_menu": {},
   "number_sections": true,
   "sideBar": true,
   "skip_h1_title": false,
   "title_cell": "Table of Contents",
   "title_sidebar": "Contents",
   "toc_cell": false,
   "toc_position": {
    "height": "calc(100% - 180px)",
    "left": "10px",
    "top": "150px",
    "width": "165px"
   },
   "toc_section_display": true,
   "toc_window_display": true
  }
 },
 "nbformat": 4,
 "nbformat_minor": 5
}
