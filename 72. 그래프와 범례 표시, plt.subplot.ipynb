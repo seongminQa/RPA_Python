{
 "cells": [
  {
   "cell_type": "markdown",
   "id": "f4b71438",
   "metadata": {},
   "source": [
    "[학습목표]<br>\n",
    "여러개의 그래프를 한번에 그리고 범례를 표시할 수 있다."
   ]
  },
  {
   "cell_type": "markdown",
   "id": "1caee086",
   "metadata": {},
   "source": [
    "# 라이브러리 임포트 및 그래프 설정"
   ]
  },
  {
   "cell_type": "markdown",
   "id": "29ba3604",
   "metadata": {},
   "source": [
    "## 라이브러리 임포트"
   ]
  },
  {
   "cell_type": "code",
   "execution_count": 1,
   "id": "aaeccc2c",
   "metadata": {},
   "outputs": [],
   "source": [
    "import matplotlib.pyplot as plt"
   ]
  },
  {
   "cell_type": "markdown",
   "id": "2d84047b",
   "metadata": {},
   "source": [
    "## 그래프 설정"
   ]
  },
  {
   "cell_type": "code",
   "execution_count": 19,
   "id": "0c92d9e0",
   "metadata": {},
   "outputs": [],
   "source": [
    "import matplotlib as mpl\n",
    "# 그래프에 한글 설정\n",
    "mpl.rcParams['font.family'] = 'Malgun Gothic'\n",
    "\n",
    "# 그래프에 마이너스 기호 깨지는 문제 해결\n",
    "mpl.rcParams['axes.unicode_minus'] = False"
   ]
  },
  {
   "cell_type": "markdown",
   "id": "b8d8feab",
   "metadata": {},
   "source": [
    "# 여러개의 그래프 한번에 그리기"
   ]
  },
  {
   "cell_type": "code",
   "execution_count": 20,
   "id": "287b3ab6",
   "metadata": {},
   "outputs": [],
   "source": [
    "import pandas as pd\n",
    "df1 = pd.DataFrame({'월':[1,2,3,4,5],'몸무게':[80,78,75,73,70]})\n",
    "df2 = pd.DataFrame({'월':[1,2,3,4,5],'몸무게':[60,62,59,55,54]})"
   ]
  },
  {
   "cell_type": "code",
   "execution_count": 21,
   "id": "f1739108",
   "metadata": {
    "scrolled": false
   },
   "outputs": [
    {
     "data": {
      "text/html": [
       "<div>\n",
       "<style scoped>\n",
       "    .dataframe tbody tr th:only-of-type {\n",
       "        vertical-align: middle;\n",
       "    }\n",
       "\n",
       "    .dataframe tbody tr th {\n",
       "        vertical-align: top;\n",
       "    }\n",
       "\n",
       "    .dataframe thead th {\n",
       "        text-align: right;\n",
       "    }\n",
       "</style>\n",
       "<table border=\"1\" class=\"dataframe\">\n",
       "  <thead>\n",
       "    <tr style=\"text-align: right;\">\n",
       "      <th></th>\n",
       "      <th>월</th>\n",
       "      <th>몸무게</th>\n",
       "    </tr>\n",
       "  </thead>\n",
       "  <tbody>\n",
       "    <tr>\n",
       "      <th>0</th>\n",
       "      <td>1</td>\n",
       "      <td>80</td>\n",
       "    </tr>\n",
       "    <tr>\n",
       "      <th>1</th>\n",
       "      <td>2</td>\n",
       "      <td>78</td>\n",
       "    </tr>\n",
       "    <tr>\n",
       "      <th>2</th>\n",
       "      <td>3</td>\n",
       "      <td>75</td>\n",
       "    </tr>\n",
       "    <tr>\n",
       "      <th>3</th>\n",
       "      <td>4</td>\n",
       "      <td>73</td>\n",
       "    </tr>\n",
       "    <tr>\n",
       "      <th>4</th>\n",
       "      <td>5</td>\n",
       "      <td>70</td>\n",
       "    </tr>\n",
       "  </tbody>\n",
       "</table>\n",
       "</div>"
      ],
      "text/plain": [
       "   월  몸무게\n",
       "0  1   80\n",
       "1  2   78\n",
       "2  3   75\n",
       "3  4   73\n",
       "4  5   70"
      ]
     },
     "execution_count": 21,
     "metadata": {},
     "output_type": "execute_result"
    }
   ],
   "source": [
    "df1"
   ]
  },
  {
   "cell_type": "code",
   "execution_count": 22,
   "id": "5d9f63d5",
   "metadata": {},
   "outputs": [
    {
     "data": {
      "text/html": [
       "<div>\n",
       "<style scoped>\n",
       "    .dataframe tbody tr th:only-of-type {\n",
       "        vertical-align: middle;\n",
       "    }\n",
       "\n",
       "    .dataframe tbody tr th {\n",
       "        vertical-align: top;\n",
       "    }\n",
       "\n",
       "    .dataframe thead th {\n",
       "        text-align: right;\n",
       "    }\n",
       "</style>\n",
       "<table border=\"1\" class=\"dataframe\">\n",
       "  <thead>\n",
       "    <tr style=\"text-align: right;\">\n",
       "      <th></th>\n",
       "      <th>월</th>\n",
       "      <th>몸무게</th>\n",
       "    </tr>\n",
       "  </thead>\n",
       "  <tbody>\n",
       "    <tr>\n",
       "      <th>0</th>\n",
       "      <td>1</td>\n",
       "      <td>60</td>\n",
       "    </tr>\n",
       "    <tr>\n",
       "      <th>1</th>\n",
       "      <td>2</td>\n",
       "      <td>62</td>\n",
       "    </tr>\n",
       "    <tr>\n",
       "      <th>2</th>\n",
       "      <td>3</td>\n",
       "      <td>59</td>\n",
       "    </tr>\n",
       "    <tr>\n",
       "      <th>3</th>\n",
       "      <td>4</td>\n",
       "      <td>55</td>\n",
       "    </tr>\n",
       "    <tr>\n",
       "      <th>4</th>\n",
       "      <td>5</td>\n",
       "      <td>54</td>\n",
       "    </tr>\n",
       "  </tbody>\n",
       "</table>\n",
       "</div>"
      ],
      "text/plain": [
       "   월  몸무게\n",
       "0  1   60\n",
       "1  2   62\n",
       "2  3   59\n",
       "3  4   55\n",
       "4  5   54"
      ]
     },
     "execution_count": 22,
     "metadata": {},
     "output_type": "execute_result"
    }
   ],
   "source": [
    "df2"
   ]
  },
  {
   "cell_type": "markdown",
   "id": "3b06dcf8",
   "metadata": {},
   "source": [
    "## 여러 개의 그래프 각각 그리기\n",
    "* plt.show()로 그래프를 구분한다."
   ]
  },
  {
   "cell_type": "code",
   "execution_count": 23,
   "id": "ceb16965",
   "metadata": {},
   "outputs": [
    {
     "data": {
      "image/png": "[encoded data removed]",
      "text/plain": [
       "<Figure size 432x288 with 1 Axes>"
      ]
     },
     "metadata": {
      "needs_background": "light"
     },
     "output_type": "display_data"
    },
    {
     "data": {
      "image/png": "[encoded data removed]",
      "text/plain": [
       "<Figure size 432x288 with 1 Axes>"
      ]
     },
     "metadata": {
      "needs_background": "light"
     },
     "output_type": "display_data"
    }
   ],
   "source": [
    "plt.plot(df1['월'],df1['몸무게'])\n",
    "plt.show()\n",
    "\n",
    "plt.plot(df2['월'],df2['몸무게'])\n",
    "plt.show()"
   ]
  },
  {
   "cell_type": "markdown",
   "id": "f33101cd",
   "metadata": {},
   "source": [
    "## 데이터가 다른 두 그래프 그리기\n",
    "* plt.show()를 마지막에 한번만 사용한다."
   ]
  },
  {
   "cell_type": "code",
   "execution_count": 24,
   "id": "a481ef73",
   "metadata": {},
   "outputs": [
    {
     "data": {
      "text/plain": [
       "0        \n",
       "1      1월\n",
       "2      2월\n",
       "3      3월\n",
       "4      4월\n",
       "5      5월\n",
       "6      6월\n",
       "7      7월\n",
       "8      8월\n",
       "9      9월\n",
       "10    10월\n",
       "11    11월\n",
       "12    12월\n",
       "13       \n",
       "dtype: object"
      ]
     },
     "execution_count": 24,
     "metadata": {},
     "output_type": "execute_result"
    }
   ],
   "source": [
    "# x축 틱 라벨\n",
    "def fn_xtick(x):\n",
    "    x = str(x)\n",
    "    if x=='0' or x=='13':\n",
    "        return ''\n",
    "    else:\n",
    "        return x+'월'\n",
    "\n",
    "xtick_label = pd.Series(range(0,14,1))\n",
    "xtick_label = xtick_label.apply(fn_xtick)\n",
    "xtick_label"
   ]
  },
  {
   "cell_type": "code",
   "execution_count": 25,
   "id": "408bba1d",
   "metadata": {},
   "outputs": [
    {
     "data": {
      "text/plain": [
       "0     30kg\n",
       "1     35kg\n",
       "2     40kg\n",
       "3     45kg\n",
       "4     50kg\n",
       "5     55kg\n",
       "6     60kg\n",
       "7     65kg\n",
       "8     70kg\n",
       "9     75kg\n",
       "10    80kg\n",
       "11    85kg\n",
       "12    90kg\n",
       "dtype: object"
      ]
     },
     "execution_count": 25,
     "metadata": {},
     "output_type": "execute_result"
    }
   ],
   "source": [
    "# y축 틱 라벨\n",
    "def fn_ytick(x):\n",
    "    x = str(x)\n",
    "    return x+'kg'\n",
    "\n",
    "ytick_label = pd.Series(range(30,95,5))\n",
    "ytick_label = ytick_label.apply(fn_ytick)\n",
    "ytick_label"
   ]
  },
  {
   "cell_type": "code",
   "execution_count": 39,
   "id": "febbb87b",
   "metadata": {},
   "outputs": [
    {
     "data": {
      "image/png": "[encoded data removed]",
      "text/plain": [
       "<Figure size 432x288 with 1 Axes>"
      ]
     },
     "metadata": {
      "needs_background": "light"
     },
     "output_type": "display_data"
    }
   ],
   "source": [
    "# 두 그래프 그리기\n",
    "plt.plot(df1['월'],df1['몸무게'])\n",
    "plt.plot(df2['월'],df2['몸무게'])\n",
    "\n",
    "# 그래프 제목\n",
    "plt.title('월별 몸무게 변화', size=15)\n",
    "\n",
    "# 축 라벨\n",
    "plt.xlabel('월', fontsize=12)\n",
    "plt.ylabel('몸무게', fontsize=12)\n",
    "\n",
    "# x축 틱 : 1월, 2월, 3월,...,12월\n",
    "plt.xticks(range(0,14,1), labels=xtick_label)\n",
    "\n",
    "# y축 틱 : 30kg, 35kg, 40kg, ..., 90kg\n",
    "plt.yticks(range(30,95,5), labels=ytick_label)\n",
    "\n",
    "# 그리드\n",
    "plt.grid(ls=':')\n",
    "\n",
    "plt.show()"
   ]
  },
  {
   "cell_type": "markdown",
   "id": "7cab59d1",
   "metadata": {},
   "source": [
    "## 범례 표시하기\n",
    "* 여러 개의 플롯을 동시에 그리는 경우 각 그래프가 무엇을 표시하는지 보여주기 위해 범례를 추가한다.<br> \n",
    "1) 그래프에 레이블을 지정한다.(label=그래프명)<br>\n",
    "2) 범례를 표시한다. --> plt.legend()<br>\n",
    "\n",
    "* 범례의 위치는 그래프에 따라 최적의 위치에 자동으로 표시된다."
   ]
  },
  {
   "cell_type": "code",
   "execution_count": 40,
   "id": "237a8323",
   "metadata": {
    "scrolled": true
   },
   "outputs": [
    {
     "data": {
      "image/png": "[encoded data removed]",
      "text/plain": [
       "<Figure size 432x288 with 1 Axes>"
      ]
     },
     "metadata": {
      "needs_background": "light"
     },
     "output_type": "display_data"
    }
   ],
   "source": [
    "# 두 그래프 그리기\n",
    "plt.plot(df1['월'],df1['몸무게'], label='James')\n",
    "plt.plot(df2['월'],df2['몸무게'], label='Amy')\n",
    "plt.legend()\n",
    "\n",
    "# 그래프 제목\n",
    "plt.title('월별 몸무게 변화', size=15)\n",
    "\n",
    "# 축 라벨\n",
    "plt.xlabel('월', fontsize=12)\n",
    "plt.ylabel('몸무게', fontsize=12)\n",
    "\n",
    "# x축 틱 : 1월, 2월, 3월,...,12월\n",
    "plt.xticks(range(0,14,1), labels=xtick_label)\n",
    "\n",
    "# y축 틱 : 30kg, 35kg, 40kg, ..., 90kg\n",
    "plt.yticks(range(30,95,5), labels=ytick_label)\n",
    "\n",
    "# 그리드\n",
    "plt.grid(ls=':')\n",
    "\n",
    "plt.show()"
   ]
  },
  {
   "cell_type": "markdown",
   "id": "e1782341",
   "metadata": {},
   "source": [
    "### 범례 위치 지정\n",
    "* plt.legend(loc=위치번호)\n",
    "* plt.legend(loc=위치이름)<br>\n",
    "        Location String   Location Code\n",
    "        ===============   =============\n",
    "        'best'            0\n",
    "        'upper right'     1\n",
    "        'upper left'      2\n",
    "        'lower left'      3\n",
    "        'lower right'     4\n",
    "        'right'           5\n",
    "        'center left'     6\n",
    "        'center right'    7\n",
    "        'lower center'    8\n",
    "        'upper center'    9\n",
    "        'center'          10\n",
    "        ===============   =============\n",
    "* plt.legend(loc=(x위치,y위치)) : 범례의 왼쪽 하단이 기준점."
   ]
  },
  {
   "cell_type": "markdown",
   "id": "d4b600fa",
   "metadata": {},
   "source": [
    "### 범례 위치 번호 사용"
   ]
  },
  {
   "cell_type": "code",
   "execution_count": 47,
   "id": "9a7bd43c",
   "metadata": {},
   "outputs": [
    {
     "data": {
      "image/png": "[encoded data removed]",
      "text/plain": [
       "<Figure size 432x288 with 1 Axes>"
      ]
     },
     "metadata": {
      "needs_background": "light"
     },
     "output_type": "display_data"
    }
   ],
   "source": [
    "# 두 그래프 그리기\n",
    "plt.plot(df1['월'],df1['몸무게'], label='James')\n",
    "plt.plot(df2['월'],df2['몸무게'], label='Amy')\n",
    "plt.legend(loc=10)\n",
    "\n",
    "# 그래프 제목\n",
    "plt.title('월별 몸무게 변화', size=15)\n",
    "\n",
    "# 축 라벨\n",
    "plt.xlabel('월', fontsize=12)\n",
    "plt.ylabel('몸무게', fontsize=12)\n",
    "\n",
    "# x축 틱 : 1월, 2월, 3월,...,12월\n",
    "plt.xticks(range(0,14,1), labels=xtick_label)\n",
    "\n",
    "# y축 틱 : 30kg, 35kg, 40kg, ..., 90kg\n",
    "plt.yticks(range(30,95,5), labels=ytick_label)\n",
    "\n",
    "# 그리드\n",
    "plt.grid(ls=':')\n",
    "\n",
    "plt.show()"
   ]
  },
  {
   "cell_type": "markdown",
   "id": "d00b2fb5",
   "metadata": {},
   "source": [
    "### 범례 위치 이름 사용"
   ]
  },
  {
   "cell_type": "code",
   "execution_count": 49,
   "id": "cfe8ef4b",
   "metadata": {},
   "outputs": [
    {
     "data": {
      "image/png": "[encoded data removed]",
      "text/plain": [
       "<Figure size 432x288 with 1 Axes>"
      ]
     },
     "metadata": {
      "needs_background": "light"
     },
     "output_type": "display_data"
    }
   ],
   "source": [
    "# 두 그래프 그리기\n",
    "plt.plot(df1['월'],df1['몸무게'], label='James')\n",
    "plt.plot(df2['월'],df2['몸무게'], label='Amy')\n",
    "plt.legend(loc='upper left')\n",
    "\n",
    "# 그래프 제목\n",
    "plt.title('월별 몸무게 변화', size=15)\n",
    "\n",
    "# 축 라벨\n",
    "plt.xlabel('월', fontsize=12)\n",
    "plt.ylabel('몸무게', fontsize=12)\n",
    "\n",
    "# x축 틱 : 1월, 2월, 3월,...,12월\n",
    "plt.xticks(range(0,14,1), labels=xtick_label)\n",
    "\n",
    "# y축 틱 : 30kg, 35kg, 40kg, ..., 90kg\n",
    "plt.yticks(range(30,95,5), labels=ytick_label)\n",
    "\n",
    "# 그리드\n",
    "plt.grid(ls=':')\n",
    "\n",
    "plt.show()"
   ]
  },
  {
   "cell_type": "markdown",
   "id": "c79330f2",
   "metadata": {},
   "source": [
    "### 범례 x,y 위치 지정\n",
    "* loc=(x,y)<br>\n",
    "왼쪽 아래 꼭지점 기준\n"
   ]
  },
  {
   "cell_type": "code",
   "execution_count": 50,
   "id": "3178b6ee",
   "metadata": {
    "scrolled": true
   },
   "outputs": [
    {
     "data": {
      "image/png": "[encoded data removed]",
      "text/plain": [
       "<Figure size 432x288 with 1 Axes>"
      ]
     },
     "metadata": {
      "needs_background": "light"
     },
     "output_type": "display_data"
    }
   ],
   "source": [
    "# 두 그래프 그리기\n",
    "plt.plot(df1['월'],df1['몸무게'], label='James')\n",
    "plt.plot(df2['월'],df2['몸무게'], label='Amy')\n",
    "plt.legend(loc=(1.01,0.8))\n",
    "\n",
    "# 그래프 제목\n",
    "plt.title('월별 몸무게 변화', size=15)\n",
    "\n",
    "# 축 라벨\n",
    "plt.xlabel('월', fontsize=12)\n",
    "plt.ylabel('몸무게', fontsize=12)\n",
    "\n",
    "# x축 틱 : 1월, 2월, 3월,...,12월\n",
    "plt.xticks(range(0,14,1), labels=xtick_label)\n",
    "\n",
    "# y축 틱 : 30kg, 35kg, 40kg, ..., 90kg\n",
    "plt.yticks(range(30,95,5), labels=ytick_label)\n",
    "\n",
    "# 그리드\n",
    "plt.grid(ls=':')\n",
    "\n",
    "plt.show()"
   ]
  },
  {
   "cell_type": "markdown",
   "id": "45a831f8",
   "metadata": {},
   "source": [
    "### 범례 속성 지정\n",
    "* 열 개수 : plt.legend(ncol=열개수)\n",
    "* 폰트 사이즈 : plt.legend(fontsize=폰트사이즈)\n",
    "* 테두리 : plt.legend(frameon=True/False)\n",
    "* 음영 : plt.legend(shadow=True/False)\n",
    "* 바탕색 : plt.legend(facecolor=색상)\n",
    "* 테두리색 : plt.legend(edgecolor=색상)"
   ]
  },
  {
   "cell_type": "code",
   "execution_count": 63,
   "id": "b067827b",
   "metadata": {
    "scrolled": false
   },
   "outputs": [
    {
     "data": {
      "image/png": "[encoded data removed]",
      "text/plain": [
       "<Figure size 432x288 with 1 Axes>"
      ]
     },
     "metadata": {
      "needs_background": "light"
     },
     "output_type": "display_data"
    }
   ],
   "source": [
    "# 두 그래프 그리기\n",
    "plt.plot(df1['월'],df1['몸무게'], label='James')\n",
    "plt.plot(df2['월'],df2['몸무게'], label='Amy')\n",
    "plt.legend(ncol=2, fontsize=12, frameon=True, shadow=True,\n",
    "          facecolor='ivory', edgecolor='r')\n",
    "\n",
    "# 그래프 제목\n",
    "plt.title('월별 몸무게 변화', size=15)\n",
    "\n",
    "# 축 라벨\n",
    "plt.xlabel('월', fontsize=12)\n",
    "plt.ylabel('몸무게', fontsize=12)\n",
    "\n",
    "# x축 틱 : 1월, 2월, 3월,...,12월\n",
    "plt.xticks(range(0,14,1), labels=xtick_label)\n",
    "\n",
    "# y축 틱 : 30kg, 35kg, 40kg, ..., 90kg\n",
    "plt.yticks(range(30,95,5), labels=ytick_label)\n",
    "\n",
    "# 그리드\n",
    "plt.grid(ls=':')\n",
    "\n",
    "plt.show()"
   ]
  },
  {
   "cell_type": "code",
   "execution_count": null,
   "id": "ce8fe9e4",
   "metadata": {},
   "outputs": [],
   "source": []
  },
  {
   "cell_type": "markdown",
   "id": "d76350e5",
   "metadata": {},
   "source": [
    "[학습목표]<br>\n",
    "pyplot 메소드로 하나의 실행창에 여러 그래프를 그려 비교할 수 있다."
   ]
  },
  {
   "cell_type": "markdown",
   "id": "7223c321",
   "metadata": {},
   "source": [
    "* 앤스콤 4분할 그래프     \n",
    "영국의 프랭크 앤스콤(Frank Anscombe)이 데이터를 시각화하지 않고 수치만 확인할 때 발생할 수 있는 함정을 보여주기 위해 만든 그래프"
   ]
  },
  {
   "cell_type": "code",
   "execution_count": 64,
   "id": "347d8f35",
   "metadata": {
    "scrolled": false
   },
   "outputs": [],
   "source": [
    "import matplotlib.pyplot as plt"
   ]
  },
  {
   "cell_type": "markdown",
   "id": "8b940461",
   "metadata": {},
   "source": [
    "# 데이터 불러오기\n",
    "* seaborn 라이브러리에서 제공하는 anscombe 데이터 사용"
   ]
  },
  {
   "cell_type": "code",
   "execution_count": 72,
   "id": "e40f31e8",
   "metadata": {},
   "outputs": [
    {
     "data": {
      "text/html": [
       "<div>\n",
       "<style scoped>\n",
       "    .dataframe tbody tr th:only-of-type {\n",
       "        vertical-align: middle;\n",
       "    }\n",
       "\n",
       "    .dataframe tbody tr th {\n",
       "        vertical-align: top;\n",
       "    }\n",
       "\n",
       "    .dataframe thead th {\n",
       "        text-align: right;\n",
       "    }\n",
       "</style>\n",
       "<table border=\"1\" class=\"dataframe\">\n",
       "  <thead>\n",
       "    <tr style=\"text-align: right;\">\n",
       "      <th></th>\n",
       "      <th>dataset</th>\n",
       "      <th>x</th>\n",
       "      <th>y</th>\n",
       "    </tr>\n",
       "  </thead>\n",
       "  <tbody>\n",
       "    <tr>\n",
       "      <th>0</th>\n",
       "      <td>I</td>\n",
       "      <td>10.0</td>\n",
       "      <td>8.04</td>\n",
       "    </tr>\n",
       "    <tr>\n",
       "      <th>1</th>\n",
       "      <td>I</td>\n",
       "      <td>8.0</td>\n",
       "      <td>6.95</td>\n",
       "    </tr>\n",
       "    <tr>\n",
       "      <th>2</th>\n",
       "      <td>I</td>\n",
       "      <td>13.0</td>\n",
       "      <td>7.58</td>\n",
       "    </tr>\n",
       "    <tr>\n",
       "      <th>3</th>\n",
       "      <td>I</td>\n",
       "      <td>9.0</td>\n",
       "      <td>8.81</td>\n",
       "    </tr>\n",
       "    <tr>\n",
       "      <th>4</th>\n",
       "      <td>I</td>\n",
       "      <td>11.0</td>\n",
       "      <td>8.33</td>\n",
       "    </tr>\n",
       "    <tr>\n",
       "      <th>5</th>\n",
       "      <td>I</td>\n",
       "      <td>14.0</td>\n",
       "      <td>9.96</td>\n",
       "    </tr>\n",
       "    <tr>\n",
       "      <th>6</th>\n",
       "      <td>I</td>\n",
       "      <td>6.0</td>\n",
       "      <td>7.24</td>\n",
       "    </tr>\n",
       "    <tr>\n",
       "      <th>7</th>\n",
       "      <td>I</td>\n",
       "      <td>4.0</td>\n",
       "      <td>4.26</td>\n",
       "    </tr>\n",
       "    <tr>\n",
       "      <th>8</th>\n",
       "      <td>I</td>\n",
       "      <td>12.0</td>\n",
       "      <td>10.84</td>\n",
       "    </tr>\n",
       "    <tr>\n",
       "      <th>9</th>\n",
       "      <td>I</td>\n",
       "      <td>7.0</td>\n",
       "      <td>4.82</td>\n",
       "    </tr>\n",
       "    <tr>\n",
       "      <th>10</th>\n",
       "      <td>I</td>\n",
       "      <td>5.0</td>\n",
       "      <td>5.68</td>\n",
       "    </tr>\n",
       "    <tr>\n",
       "      <th>11</th>\n",
       "      <td>II</td>\n",
       "      <td>10.0</td>\n",
       "      <td>9.14</td>\n",
       "    </tr>\n",
       "    <tr>\n",
       "      <th>12</th>\n",
       "      <td>II</td>\n",
       "      <td>8.0</td>\n",
       "      <td>8.14</td>\n",
       "    </tr>\n",
       "    <tr>\n",
       "      <th>13</th>\n",
       "      <td>II</td>\n",
       "      <td>13.0</td>\n",
       "      <td>8.74</td>\n",
       "    </tr>\n",
       "    <tr>\n",
       "      <th>14</th>\n",
       "      <td>II</td>\n",
       "      <td>9.0</td>\n",
       "      <td>8.77</td>\n",
       "    </tr>\n",
       "    <tr>\n",
       "      <th>15</th>\n",
       "      <td>II</td>\n",
       "      <td>11.0</td>\n",
       "      <td>9.26</td>\n",
       "    </tr>\n",
       "    <tr>\n",
       "      <th>16</th>\n",
       "      <td>II</td>\n",
       "      <td>14.0</td>\n",
       "      <td>8.10</td>\n",
       "    </tr>\n",
       "    <tr>\n",
       "      <th>17</th>\n",
       "      <td>II</td>\n",
       "      <td>6.0</td>\n",
       "      <td>6.13</td>\n",
       "    </tr>\n",
       "    <tr>\n",
       "      <th>18</th>\n",
       "      <td>II</td>\n",
       "      <td>4.0</td>\n",
       "      <td>3.10</td>\n",
       "    </tr>\n",
       "    <tr>\n",
       "      <th>19</th>\n",
       "      <td>II</td>\n",
       "      <td>12.0</td>\n",
       "      <td>9.13</td>\n",
       "    </tr>\n",
       "    <tr>\n",
       "      <th>20</th>\n",
       "      <td>II</td>\n",
       "      <td>7.0</td>\n",
       "      <td>7.26</td>\n",
       "    </tr>\n",
       "    <tr>\n",
       "      <th>21</th>\n",
       "      <td>II</td>\n",
       "      <td>5.0</td>\n",
       "      <td>4.74</td>\n",
       "    </tr>\n",
       "    <tr>\n",
       "      <th>22</th>\n",
       "      <td>III</td>\n",
       "      <td>10.0</td>\n",
       "      <td>7.46</td>\n",
       "    </tr>\n",
       "    <tr>\n",
       "      <th>23</th>\n",
       "      <td>III</td>\n",
       "      <td>8.0</td>\n",
       "      <td>6.77</td>\n",
       "    </tr>\n",
       "    <tr>\n",
       "      <th>24</th>\n",
       "      <td>III</td>\n",
       "      <td>13.0</td>\n",
       "      <td>12.74</td>\n",
       "    </tr>\n",
       "    <tr>\n",
       "      <th>25</th>\n",
       "      <td>III</td>\n",
       "      <td>9.0</td>\n",
       "      <td>7.11</td>\n",
       "    </tr>\n",
       "    <tr>\n",
       "      <th>26</th>\n",
       "      <td>III</td>\n",
       "      <td>11.0</td>\n",
       "      <td>7.81</td>\n",
       "    </tr>\n",
       "    <tr>\n",
       "      <th>27</th>\n",
       "      <td>III</td>\n",
       "      <td>14.0</td>\n",
       "      <td>8.84</td>\n",
       "    </tr>\n",
       "    <tr>\n",
       "      <th>28</th>\n",
       "      <td>III</td>\n",
       "      <td>6.0</td>\n",
       "      <td>6.08</td>\n",
       "    </tr>\n",
       "    <tr>\n",
       "      <th>29</th>\n",
       "      <td>III</td>\n",
       "      <td>4.0</td>\n",
       "      <td>5.39</td>\n",
       "    </tr>\n",
       "    <tr>\n",
       "      <th>30</th>\n",
       "      <td>III</td>\n",
       "      <td>12.0</td>\n",
       "      <td>8.15</td>\n",
       "    </tr>\n",
       "    <tr>\n",
       "      <th>31</th>\n",
       "      <td>III</td>\n",
       "      <td>7.0</td>\n",
       "      <td>6.42</td>\n",
       "    </tr>\n",
       "    <tr>\n",
       "      <th>32</th>\n",
       "      <td>III</td>\n",
       "      <td>5.0</td>\n",
       "      <td>5.73</td>\n",
       "    </tr>\n",
       "    <tr>\n",
       "      <th>33</th>\n",
       "      <td>IV</td>\n",
       "      <td>8.0</td>\n",
       "      <td>6.58</td>\n",
       "    </tr>\n",
       "    <tr>\n",
       "      <th>34</th>\n",
       "      <td>IV</td>\n",
       "      <td>8.0</td>\n",
       "      <td>5.76</td>\n",
       "    </tr>\n",
       "    <tr>\n",
       "      <th>35</th>\n",
       "      <td>IV</td>\n",
       "      <td>8.0</td>\n",
       "      <td>7.71</td>\n",
       "    </tr>\n",
       "    <tr>\n",
       "      <th>36</th>\n",
       "      <td>IV</td>\n",
       "      <td>8.0</td>\n",
       "      <td>8.84</td>\n",
       "    </tr>\n",
       "    <tr>\n",
       "      <th>37</th>\n",
       "      <td>IV</td>\n",
       "      <td>8.0</td>\n",
       "      <td>8.47</td>\n",
       "    </tr>\n",
       "    <tr>\n",
       "      <th>38</th>\n",
       "      <td>IV</td>\n",
       "      <td>8.0</td>\n",
       "      <td>7.04</td>\n",
       "    </tr>\n",
       "    <tr>\n",
       "      <th>39</th>\n",
       "      <td>IV</td>\n",
       "      <td>8.0</td>\n",
       "      <td>5.25</td>\n",
       "    </tr>\n",
       "    <tr>\n",
       "      <th>40</th>\n",
       "      <td>IV</td>\n",
       "      <td>19.0</td>\n",
       "      <td>12.50</td>\n",
       "    </tr>\n",
       "    <tr>\n",
       "      <th>41</th>\n",
       "      <td>IV</td>\n",
       "      <td>8.0</td>\n",
       "      <td>5.56</td>\n",
       "    </tr>\n",
       "    <tr>\n",
       "      <th>42</th>\n",
       "      <td>IV</td>\n",
       "      <td>8.0</td>\n",
       "      <td>7.91</td>\n",
       "    </tr>\n",
       "    <tr>\n",
       "      <th>43</th>\n",
       "      <td>IV</td>\n",
       "      <td>8.0</td>\n",
       "      <td>6.89</td>\n",
       "    </tr>\n",
       "  </tbody>\n",
       "</table>\n",
       "</div>"
      ],
      "text/plain": [
       "   dataset     x      y\n",
       "0        I  10.0   8.04\n",
       "1        I   8.0   6.95\n",
       "2        I  13.0   7.58\n",
       "3        I   9.0   8.81\n",
       "4        I  11.0   8.33\n",
       "5        I  14.0   9.96\n",
       "6        I   6.0   7.24\n",
       "7        I   4.0   4.26\n",
       "8        I  12.0  10.84\n",
       "9        I   7.0   4.82\n",
       "10       I   5.0   5.68\n",
       "11      II  10.0   9.14\n",
       "12      II   8.0   8.14\n",
       "13      II  13.0   8.74\n",
       "14      II   9.0   8.77\n",
       "15      II  11.0   9.26\n",
       "16      II  14.0   8.10\n",
       "17      II   6.0   6.13\n",
       "18      II   4.0   3.10\n",
       "19      II  12.0   9.13\n",
       "20      II   7.0   7.26\n",
       "21      II   5.0   4.74\n",
       "22     III  10.0   7.46\n",
       "23     III   8.0   6.77\n",
       "24     III  13.0  12.74\n",
       "25     III   9.0   7.11\n",
       "26     III  11.0   7.81\n",
       "27     III  14.0   8.84\n",
       "28     III   6.0   6.08\n",
       "29     III   4.0   5.39\n",
       "30     III  12.0   8.15\n",
       "31     III   7.0   6.42\n",
       "32     III   5.0   5.73\n",
       "33      IV   8.0   6.58\n",
       "34      IV   8.0   5.76\n",
       "35      IV   8.0   7.71\n",
       "36      IV   8.0   8.84\n",
       "37      IV   8.0   8.47\n",
       "38      IV   8.0   7.04\n",
       "39      IV   8.0   5.25\n",
       "40      IV  19.0  12.50\n",
       "41      IV   8.0   5.56\n",
       "42      IV   8.0   7.91\n",
       "43      IV   8.0   6.89"
      ]
     },
     "execution_count": 72,
     "metadata": {},
     "output_type": "execute_result"
    }
   ],
   "source": [
    "import seaborn as sns\n",
    "anscombe = sns.load_dataset('anscombe')\n",
    "anscombe"
   ]
  },
  {
   "cell_type": "markdown",
   "id": "ea8a603f",
   "metadata": {},
   "source": [
    "* 4가지 데이터를 각각의 데이터프레임으로 만들기"
   ]
  },
  {
   "cell_type": "code",
   "execution_count": 73,
   "id": "e08c5c4a",
   "metadata": {},
   "outputs": [],
   "source": [
    "df1 = anscombe[anscombe['dataset']=='I']\n",
    "df2 = anscombe[anscombe['dataset']=='II']\n",
    "df3 = anscombe[anscombe['dataset']=='III']\n",
    "df4 = anscombe[anscombe['dataset']=='IV']"
   ]
  },
  {
   "cell_type": "markdown",
   "id": "88c3447b",
   "metadata": {},
   "source": [
    "* 데이터 확인하기"
   ]
  },
  {
   "cell_type": "code",
   "execution_count": 76,
   "id": "c2e65633",
   "metadata": {},
   "outputs": [
    {
     "data": {
      "text/html": [
       "<div>\n",
       "<style scoped>\n",
       "    .dataframe tbody tr th:only-of-type {\n",
       "        vertical-align: middle;\n",
       "    }\n",
       "\n",
       "    .dataframe tbody tr th {\n",
       "        vertical-align: top;\n",
       "    }\n",
       "\n",
       "    .dataframe thead th {\n",
       "        text-align: right;\n",
       "    }\n",
       "</style>\n",
       "<table border=\"1\" class=\"dataframe\">\n",
       "  <thead>\n",
       "    <tr style=\"text-align: right;\">\n",
       "      <th></th>\n",
       "      <th>dataset</th>\n",
       "      <th>x</th>\n",
       "      <th>y</th>\n",
       "    </tr>\n",
       "  </thead>\n",
       "  <tbody>\n",
       "    <tr>\n",
       "      <th>33</th>\n",
       "      <td>IV</td>\n",
       "      <td>8.0</td>\n",
       "      <td>6.58</td>\n",
       "    </tr>\n",
       "    <tr>\n",
       "      <th>34</th>\n",
       "      <td>IV</td>\n",
       "      <td>8.0</td>\n",
       "      <td>5.76</td>\n",
       "    </tr>\n",
       "    <tr>\n",
       "      <th>35</th>\n",
       "      <td>IV</td>\n",
       "      <td>8.0</td>\n",
       "      <td>7.71</td>\n",
       "    </tr>\n",
       "    <tr>\n",
       "      <th>36</th>\n",
       "      <td>IV</td>\n",
       "      <td>8.0</td>\n",
       "      <td>8.84</td>\n",
       "    </tr>\n",
       "    <tr>\n",
       "      <th>37</th>\n",
       "      <td>IV</td>\n",
       "      <td>8.0</td>\n",
       "      <td>8.47</td>\n",
       "    </tr>\n",
       "    <tr>\n",
       "      <th>38</th>\n",
       "      <td>IV</td>\n",
       "      <td>8.0</td>\n",
       "      <td>7.04</td>\n",
       "    </tr>\n",
       "    <tr>\n",
       "      <th>39</th>\n",
       "      <td>IV</td>\n",
       "      <td>8.0</td>\n",
       "      <td>5.25</td>\n",
       "    </tr>\n",
       "    <tr>\n",
       "      <th>40</th>\n",
       "      <td>IV</td>\n",
       "      <td>19.0</td>\n",
       "      <td>12.50</td>\n",
       "    </tr>\n",
       "    <tr>\n",
       "      <th>41</th>\n",
       "      <td>IV</td>\n",
       "      <td>8.0</td>\n",
       "      <td>5.56</td>\n",
       "    </tr>\n",
       "    <tr>\n",
       "      <th>42</th>\n",
       "      <td>IV</td>\n",
       "      <td>8.0</td>\n",
       "      <td>7.91</td>\n",
       "    </tr>\n",
       "    <tr>\n",
       "      <th>43</th>\n",
       "      <td>IV</td>\n",
       "      <td>8.0</td>\n",
       "      <td>6.89</td>\n",
       "    </tr>\n",
       "  </tbody>\n",
       "</table>\n",
       "</div>"
      ],
      "text/plain": [
       "   dataset     x      y\n",
       "33      IV   8.0   6.58\n",
       "34      IV   8.0   5.76\n",
       "35      IV   8.0   7.71\n",
       "36      IV   8.0   8.84\n",
       "37      IV   8.0   8.47\n",
       "38      IV   8.0   7.04\n",
       "39      IV   8.0   5.25\n",
       "40      IV  19.0  12.50\n",
       "41      IV   8.0   5.56\n",
       "42      IV   8.0   7.91\n",
       "43      IV   8.0   6.89"
      ]
     },
     "execution_count": 76,
     "metadata": {},
     "output_type": "execute_result"
    }
   ],
   "source": [
    "df4"
   ]
  },
  {
   "cell_type": "code",
   "execution_count": 81,
   "id": "26c96232",
   "metadata": {},
   "outputs": [
    {
     "data": {
      "text/plain": [
       "(11, 3)"
      ]
     },
     "execution_count": 81,
     "metadata": {},
     "output_type": "execute_result"
    }
   ],
   "source": [
    "df1.shape"
   ]
  },
  {
   "cell_type": "markdown",
   "id": "4c7002e9",
   "metadata": {},
   "source": [
    "# 데이터의 통계수치 확인\n",
    "* 데이터프레임.describe()\n",
    "* 4개의 데이터는 갯수, 평균, 표준편차가 모두 같다.\n",
    "* 이러한 수치만 보고 4개의 데이터 그룹의 데이터가 모두 같을 것이라고 착각할 수 있다."
   ]
  },
  {
   "cell_type": "code",
   "execution_count": 82,
   "id": "18c2e26d",
   "metadata": {
    "scrolled": true
   },
   "outputs": [
    {
     "data": {
      "text/html": [
       "<div>\n",
       "<style scoped>\n",
       "    .dataframe tbody tr th:only-of-type {\n",
       "        vertical-align: middle;\n",
       "    }\n",
       "\n",
       "    .dataframe tbody tr th {\n",
       "        vertical-align: top;\n",
       "    }\n",
       "\n",
       "    .dataframe thead th {\n",
       "        text-align: right;\n",
       "    }\n",
       "</style>\n",
       "<table border=\"1\" class=\"dataframe\">\n",
       "  <thead>\n",
       "    <tr style=\"text-align: right;\">\n",
       "      <th></th>\n",
       "      <th>x</th>\n",
       "      <th>y</th>\n",
       "    </tr>\n",
       "  </thead>\n",
       "  <tbody>\n",
       "    <tr>\n",
       "      <th>count</th>\n",
       "      <td>11.000000</td>\n",
       "      <td>11.000000</td>\n",
       "    </tr>\n",
       "    <tr>\n",
       "      <th>mean</th>\n",
       "      <td>9.000000</td>\n",
       "      <td>7.500909</td>\n",
       "    </tr>\n",
       "    <tr>\n",
       "      <th>std</th>\n",
       "      <td>3.316625</td>\n",
       "      <td>2.031568</td>\n",
       "    </tr>\n",
       "    <tr>\n",
       "      <th>min</th>\n",
       "      <td>4.000000</td>\n",
       "      <td>4.260000</td>\n",
       "    </tr>\n",
       "    <tr>\n",
       "      <th>25%</th>\n",
       "      <td>6.500000</td>\n",
       "      <td>6.315000</td>\n",
       "    </tr>\n",
       "    <tr>\n",
       "      <th>50%</th>\n",
       "      <td>9.000000</td>\n",
       "      <td>7.580000</td>\n",
       "    </tr>\n",
       "    <tr>\n",
       "      <th>75%</th>\n",
       "      <td>11.500000</td>\n",
       "      <td>8.570000</td>\n",
       "    </tr>\n",
       "    <tr>\n",
       "      <th>max</th>\n",
       "      <td>14.000000</td>\n",
       "      <td>10.840000</td>\n",
       "    </tr>\n",
       "  </tbody>\n",
       "</table>\n",
       "</div>"
      ],
      "text/plain": [
       "               x          y\n",
       "count  11.000000  11.000000\n",
       "mean    9.000000   7.500909\n",
       "std     3.316625   2.031568\n",
       "min     4.000000   4.260000\n",
       "25%     6.500000   6.315000\n",
       "50%     9.000000   7.580000\n",
       "75%    11.500000   8.570000\n",
       "max    14.000000  10.840000"
      ]
     },
     "execution_count": 82,
     "metadata": {},
     "output_type": "execute_result"
    }
   ],
   "source": [
    "df1.describe()"
   ]
  },
  {
   "cell_type": "code",
   "execution_count": 84,
   "id": "242f09bf",
   "metadata": {
    "scrolled": true
   },
   "outputs": [
    {
     "data": {
      "text/html": [
       "<div>\n",
       "<style scoped>\n",
       "    .dataframe tbody tr th:only-of-type {\n",
       "        vertical-align: middle;\n",
       "    }\n",
       "\n",
       "    .dataframe tbody tr th {\n",
       "        vertical-align: top;\n",
       "    }\n",
       "\n",
       "    .dataframe thead th {\n",
       "        text-align: right;\n",
       "    }\n",
       "</style>\n",
       "<table border=\"1\" class=\"dataframe\">\n",
       "  <thead>\n",
       "    <tr style=\"text-align: right;\">\n",
       "      <th></th>\n",
       "      <th>x</th>\n",
       "      <th>y</th>\n",
       "    </tr>\n",
       "  </thead>\n",
       "  <tbody>\n",
       "    <tr>\n",
       "      <th>count</th>\n",
       "      <td>11.000000</td>\n",
       "      <td>11.000000</td>\n",
       "    </tr>\n",
       "    <tr>\n",
       "      <th>mean</th>\n",
       "      <td>9.000000</td>\n",
       "      <td>7.500909</td>\n",
       "    </tr>\n",
       "    <tr>\n",
       "      <th>std</th>\n",
       "      <td>3.316625</td>\n",
       "      <td>2.031657</td>\n",
       "    </tr>\n",
       "    <tr>\n",
       "      <th>min</th>\n",
       "      <td>4.000000</td>\n",
       "      <td>3.100000</td>\n",
       "    </tr>\n",
       "    <tr>\n",
       "      <th>25%</th>\n",
       "      <td>6.500000</td>\n",
       "      <td>6.695000</td>\n",
       "    </tr>\n",
       "    <tr>\n",
       "      <th>50%</th>\n",
       "      <td>9.000000</td>\n",
       "      <td>8.140000</td>\n",
       "    </tr>\n",
       "    <tr>\n",
       "      <th>75%</th>\n",
       "      <td>11.500000</td>\n",
       "      <td>8.950000</td>\n",
       "    </tr>\n",
       "    <tr>\n",
       "      <th>max</th>\n",
       "      <td>14.000000</td>\n",
       "      <td>9.260000</td>\n",
       "    </tr>\n",
       "  </tbody>\n",
       "</table>\n",
       "</div>"
      ],
      "text/plain": [
       "               x          y\n",
       "count  11.000000  11.000000\n",
       "mean    9.000000   7.500909\n",
       "std     3.316625   2.031657\n",
       "min     4.000000   3.100000\n",
       "25%     6.500000   6.695000\n",
       "50%     9.000000   8.140000\n",
       "75%    11.500000   8.950000\n",
       "max    14.000000   9.260000"
      ]
     },
     "execution_count": 84,
     "metadata": {},
     "output_type": "execute_result"
    }
   ],
   "source": [
    "df2.describe()"
   ]
  },
  {
   "cell_type": "code",
   "execution_count": 85,
   "id": "4d7db282",
   "metadata": {
    "scrolled": true
   },
   "outputs": [
    {
     "data": {
      "text/html": [
       "<div>\n",
       "<style scoped>\n",
       "    .dataframe tbody tr th:only-of-type {\n",
       "        vertical-align: middle;\n",
       "    }\n",
       "\n",
       "    .dataframe tbody tr th {\n",
       "        vertical-align: top;\n",
       "    }\n",
       "\n",
       "    .dataframe thead th {\n",
       "        text-align: right;\n",
       "    }\n",
       "</style>\n",
       "<table border=\"1\" class=\"dataframe\">\n",
       "  <thead>\n",
       "    <tr style=\"text-align: right;\">\n",
       "      <th></th>\n",
       "      <th>x</th>\n",
       "      <th>y</th>\n",
       "    </tr>\n",
       "  </thead>\n",
       "  <tbody>\n",
       "    <tr>\n",
       "      <th>count</th>\n",
       "      <td>11.000000</td>\n",
       "      <td>11.000000</td>\n",
       "    </tr>\n",
       "    <tr>\n",
       "      <th>mean</th>\n",
       "      <td>9.000000</td>\n",
       "      <td>7.500000</td>\n",
       "    </tr>\n",
       "    <tr>\n",
       "      <th>std</th>\n",
       "      <td>3.316625</td>\n",
       "      <td>2.030424</td>\n",
       "    </tr>\n",
       "    <tr>\n",
       "      <th>min</th>\n",
       "      <td>4.000000</td>\n",
       "      <td>5.390000</td>\n",
       "    </tr>\n",
       "    <tr>\n",
       "      <th>25%</th>\n",
       "      <td>6.500000</td>\n",
       "      <td>6.250000</td>\n",
       "    </tr>\n",
       "    <tr>\n",
       "      <th>50%</th>\n",
       "      <td>9.000000</td>\n",
       "      <td>7.110000</td>\n",
       "    </tr>\n",
       "    <tr>\n",
       "      <th>75%</th>\n",
       "      <td>11.500000</td>\n",
       "      <td>7.980000</td>\n",
       "    </tr>\n",
       "    <tr>\n",
       "      <th>max</th>\n",
       "      <td>14.000000</td>\n",
       "      <td>12.740000</td>\n",
       "    </tr>\n",
       "  </tbody>\n",
       "</table>\n",
       "</div>"
      ],
      "text/plain": [
       "               x          y\n",
       "count  11.000000  11.000000\n",
       "mean    9.000000   7.500000\n",
       "std     3.316625   2.030424\n",
       "min     4.000000   5.390000\n",
       "25%     6.500000   6.250000\n",
       "50%     9.000000   7.110000\n",
       "75%    11.500000   7.980000\n",
       "max    14.000000  12.740000"
      ]
     },
     "execution_count": 85,
     "metadata": {},
     "output_type": "execute_result"
    }
   ],
   "source": [
    "df3.describe()"
   ]
  },
  {
   "cell_type": "code",
   "execution_count": 86,
   "id": "ccfe552b",
   "metadata": {},
   "outputs": [
    {
     "data": {
      "text/html": [
       "<div>\n",
       "<style scoped>\n",
       "    .dataframe tbody tr th:only-of-type {\n",
       "        vertical-align: middle;\n",
       "    }\n",
       "\n",
       "    .dataframe tbody tr th {\n",
       "        vertical-align: top;\n",
       "    }\n",
       "\n",
       "    .dataframe thead th {\n",
       "        text-align: right;\n",
       "    }\n",
       "</style>\n",
       "<table border=\"1\" class=\"dataframe\">\n",
       "  <thead>\n",
       "    <tr style=\"text-align: right;\">\n",
       "      <th></th>\n",
       "      <th>x</th>\n",
       "      <th>y</th>\n",
       "    </tr>\n",
       "  </thead>\n",
       "  <tbody>\n",
       "    <tr>\n",
       "      <th>count</th>\n",
       "      <td>11.000000</td>\n",
       "      <td>11.000000</td>\n",
       "    </tr>\n",
       "    <tr>\n",
       "      <th>mean</th>\n",
       "      <td>9.000000</td>\n",
       "      <td>7.500909</td>\n",
       "    </tr>\n",
       "    <tr>\n",
       "      <th>std</th>\n",
       "      <td>3.316625</td>\n",
       "      <td>2.030579</td>\n",
       "    </tr>\n",
       "    <tr>\n",
       "      <th>min</th>\n",
       "      <td>8.000000</td>\n",
       "      <td>5.250000</td>\n",
       "    </tr>\n",
       "    <tr>\n",
       "      <th>25%</th>\n",
       "      <td>8.000000</td>\n",
       "      <td>6.170000</td>\n",
       "    </tr>\n",
       "    <tr>\n",
       "      <th>50%</th>\n",
       "      <td>8.000000</td>\n",
       "      <td>7.040000</td>\n",
       "    </tr>\n",
       "    <tr>\n",
       "      <th>75%</th>\n",
       "      <td>8.000000</td>\n",
       "      <td>8.190000</td>\n",
       "    </tr>\n",
       "    <tr>\n",
       "      <th>max</th>\n",
       "      <td>19.000000</td>\n",
       "      <td>12.500000</td>\n",
       "    </tr>\n",
       "  </tbody>\n",
       "</table>\n",
       "</div>"
      ],
      "text/plain": [
       "               x          y\n",
       "count  11.000000  11.000000\n",
       "mean    9.000000   7.500909\n",
       "std     3.316625   2.030579\n",
       "min     8.000000   5.250000\n",
       "25%     8.000000   6.170000\n",
       "50%     8.000000   7.040000\n",
       "75%     8.000000   8.190000\n",
       "max    19.000000  12.500000"
      ]
     },
     "execution_count": 86,
     "metadata": {},
     "output_type": "execute_result"
    }
   ],
   "source": [
    "df4.describe()\n",
    "# df 1~4 모두 통계값은 똑같다."
   ]
  },
  {
   "cell_type": "markdown",
   "id": "9c66890f",
   "metadata": {},
   "source": [
    "# 데이터 시각화"
   ]
  },
  {
   "cell_type": "code",
   "execution_count": 88,
   "id": "d7ddf9e6",
   "metadata": {},
   "outputs": [
    {
     "data": {
      "text/plain": [
       "[<matplotlib.lines.Line2D at 0x1a3a8a797f0>]"
      ]
     },
     "execution_count": 88,
     "metadata": {},
     "output_type": "execute_result"
    },
    {
     "data": {
      "image/png": "[encoded data removed]",
      "text/plain": [
       "<Figure size 432x288 with 1 Axes>"
      ]
     },
     "metadata": {
      "needs_background": "light"
     },
     "output_type": "display_data"
    }
   ],
   "source": [
    "# 첫번째 데이터\n",
    "plt.plot(df1['x'], df1['y'], 'o')"
   ]
  },
  {
   "cell_type": "code",
   "execution_count": 89,
   "id": "2136f8dd",
   "metadata": {
    "scrolled": true
   },
   "outputs": [
    {
     "data": {
      "text/plain": [
       "[<matplotlib.lines.Line2D at 0x1a3aa107760>]"
      ]
     },
     "execution_count": 89,
     "metadata": {},
     "output_type": "execute_result"
    },
    {
     "data": {
      "image/png": "[encoded data removed]",
      "text/plain": [
       "<Figure size 432x288 with 1 Axes>"
      ]
     },
     "metadata": {
      "needs_background": "light"
     },
     "output_type": "display_data"
    }
   ],
   "source": [
    "# 두번째 데이터\n",
    "plt.plot(df2['x'], df2['y'], 'o')"
   ]
  },
  {
   "cell_type": "code",
   "execution_count": 90,
   "id": "789b9488",
   "metadata": {
    "scrolled": true
   },
   "outputs": [
    {
     "data": {
      "text/plain": [
       "[<matplotlib.lines.Line2D at 0x1a3a9e602b0>]"
      ]
     },
     "execution_count": 90,
     "metadata": {},
     "output_type": "execute_result"
    },
    {
     "data": {
      "image/png": "[encoded data removed]",
      "text/plain": [
       "<Figure size 432x288 with 1 Axes>"
      ]
     },
     "metadata": {
      "needs_background": "light"
     },
     "output_type": "display_data"
    }
   ],
   "source": [
    "# 세번째 데이터\n",
    "plt.plot(df3['x'], df3['y'], 'o')"
   ]
  },
  {
   "cell_type": "code",
   "execution_count": 91,
   "id": "af76c395",
   "metadata": {
    "scrolled": true
   },
   "outputs": [
    {
     "data": {
      "text/plain": [
       "[<matplotlib.lines.Line2D at 0x1a3a9d5a0a0>]"
      ]
     },
     "execution_count": 91,
     "metadata": {},
     "output_type": "execute_result"
    },
    {
     "data": {
      "image/png": "[encoded data removed]",
      "text/plain": [
       "<Figure size 432x288 with 1 Axes>"
      ]
     },
     "metadata": {
      "needs_background": "light"
     },
     "output_type": "display_data"
    }
   ],
   "source": [
    "# 네번째 데이터\n",
    "plt.plot(df4['x'], df4['y'], 'o')"
   ]
  },
  {
   "cell_type": "code",
   "execution_count": 93,
   "id": "f1abf708",
   "metadata": {},
   "outputs": [
    {
     "data": {
      "text/plain": [
       "[<matplotlib.lines.Line2D at 0x1a3aa06ed60>]"
      ]
     },
     "execution_count": 93,
     "metadata": {},
     "output_type": "execute_result"
    },
    {
     "data": {
      "image/png": "[encoded data removed]",
      "text/plain": [
       "<Figure size 432x288 with 1 Axes>"
      ]
     },
     "metadata": {
      "needs_background": "light"
     },
     "output_type": "display_data"
    }
   ],
   "source": [
    "# 4개의 그래프 한번에 그리기\n",
    "plt.plot(df1['x'], df1['y'], 'o')\n",
    "plt.plot(df2['x'], df2['y'], 'o')\n",
    "plt.plot(df3['x'], df3['y'], 'o')\n",
    "plt.plot(df4['x'], df4['y'], 'o')\n",
    "\n",
    "# 알아보기 어렵다.. 다른방법은? 밑에!"
   ]
  },
  {
   "cell_type": "markdown",
   "id": "c60de2a3",
   "metadata": {},
   "source": [
    "# 서브플롯 그리기\n",
    "1) 전체 그래프의 크기를 정한다. (정하지 않으면 디폴트 크기로 지정된다.)<br>\n",
    "<b>`plt.figure(figsize=(x사이즈, y사이즈))`</b><br><br>\n",
    "2) 그래프를 그려 넣을 격자를 지정한다.(전체행개수,전체열개수,그래프순서)<br>\n",
    "<b>`plt.subplot(전체행개수,전체열개수,그래프순서)`</b><br><br>\n",
    "3) 격자에 그래프를 하나씩 추가한다."
   ]
  },
  {
   "cell_type": "code",
   "execution_count": 104,
   "id": "cc329748",
   "metadata": {},
   "outputs": [
    {
     "data": {
      "text/plain": [
       "[<matplotlib.lines.Line2D at 0x1a3ac6a32b0>]"
      ]
     },
     "execution_count": 104,
     "metadata": {},
     "output_type": "execute_result"
    },
    {
     "data": {
      "image/png": "[encoded data removed]",
      "text/plain": [
       "<Figure size 144x144 with 4 Axes>"
      ]
     },
     "metadata": {
      "needs_background": "light"
     },
     "output_type": "display_data"
    }
   ],
   "source": [
    "plt.figure(figsize=(2,2))\n",
    "plt.subplot(2,2,1)\n",
    "plt.plot(df1['x'], df1['y'], 'o')\n",
    "\n",
    "plt.subplot(2,2,2)\n",
    "plt.plot(df2['x'], df2['y'], 'o')\n",
    "\n",
    "plt.subplot(2,2,3)\n",
    "plt.plot(df3['x'], df3['y'], 'o')\n",
    "\n",
    "plt.subplot(2,2,4)\n",
    "plt.plot(df4['x'], df4['y'], 'o')"
   ]
  },
  {
   "cell_type": "code",
   "execution_count": 106,
   "id": "18e30249",
   "metadata": {},
   "outputs": [
    {
     "data": {
      "text/plain": [
       "[<matplotlib.lines.Line2D at 0x1a3ac7a4850>]"
      ]
     },
     "execution_count": 106,
     "metadata": {},
     "output_type": "execute_result"
    },
    {
     "data": {
      "image/png": "[encoded data removed]",
      "text/plain": [
       "<Figure size 648x432 with 4 Axes>"
      ]
     },
     "metadata": {
      "needs_background": "light"
     },
     "output_type": "display_data"
    }
   ],
   "source": [
    "plt.figure(figsize=(9,6))\n",
    "plt.subplot(2,2,1)\n",
    "plt.plot(df1['x'], df1['y'], 'o')\n",
    "\n",
    "plt.subplot(2,2,2)\n",
    "plt.plot(df2['x'], df2['y'], 'o')\n",
    "\n",
    "plt.subplot(2,2,3)\n",
    "plt.plot(df3['x'], df3['y'], 'o')\n",
    "\n",
    "plt.subplot(2,2,4)\n",
    "plt.plot(df4['x'], df4['y'], 'o')"
   ]
  },
  {
   "cell_type": "markdown",
   "id": "1fe5c9ee",
   "metadata": {},
   "source": [
    "## 전체 그래프의 속성 지정\n",
    "* figure 객체를 변수에 받는다.\n",
    "* figure객체의 suptitle(제목)메소드로 전체 그래프의 제목을 표시한다.\n",
    "* figure객체의 tight_layout()메소드로 그래프의 간격, 너비를 최적화한다."
   ]
  },
  {
   "cell_type": "code",
   "execution_count": 115,
   "id": "39981e49",
   "metadata": {},
   "outputs": [
    {
     "data": {
      "image/png": "[encoded data removed]",
      "text/plain": [
       "<Figure size 648x432 with 4 Axes>"
      ]
     },
     "metadata": {},
     "output_type": "display_data"
    }
   ],
   "source": [
    "fig = plt.figure(figsize=(9,6), facecolor='ivory')\n",
    "\n",
    "plt.subplot(2,2,1)\n",
    "plt.plot(df1['x'], df1['y'], 'o')\n",
    "plt.title('ax1')\n",
    "\n",
    "plt.subplot(2,2,2)\n",
    "plt.plot(df2['x'], df2['y'], 'o')\n",
    "plt.title('ax2')\n",
    "\n",
    "plt.subplot(2,2,3)\n",
    "plt.plot(df3['x'], df3['y'], 'o')\n",
    "plt.title('ax3')\n",
    "\n",
    "plt.subplot(2,2,4)\n",
    "plt.plot(df4['x'], df4['y'], 'o')\n",
    "plt.title('ax4')\n",
    "\n",
    "fig.suptitle('anscombe', size=20)\n",
    "fig.tight_layout()"
   ]
  },
  {
   "cell_type": "code",
   "execution_count": null,
   "id": "ff6e2041",
   "metadata": {},
   "outputs": [],
   "source": []
  }
 ],
 "metadata": {
  "kernelspec": {
   "display_name": "Python 3 (ipykernel)",
   "language": "python",
   "name": "python3"
  },
  "language_info": {
   "codemirror_mode": {
    "name": "ipython",
    "version": 3
   },
   "file_extension": ".py",
   "mimetype": "text/x-python",
   "name": "python",
   "nbconvert_exporter": "python",
   "pygments_lexer": "ipython3",
   "version": "3.9.12"
  }
 },
 "nbformat": 4,
 "nbformat_minor": 5
}
