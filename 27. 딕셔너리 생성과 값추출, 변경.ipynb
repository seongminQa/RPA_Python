{
 "cells": [
  {
   "cell_type": "markdown",
   "id": "78cfc524",
   "metadata": {},
   "source": [
    "# 딕셔너리"
   ]
  },
  {
   "cell_type": "code",
   "execution_count": 1,
   "id": "8009d56d",
   "metadata": {},
   "outputs": [],
   "source": [
    "# 키(key):값(value) 이 쌍을 이루어 하나의 항목으로 저장되는 자료형\n",
    "# 키와 값은 콜론(:)으로 구분한다.\n",
    "# 중괄호{}안에 콤마(,)로 구분하여 항목을 저장한다.\n",
    "# cf) memu = {'김밥':2000, '떡볶이':2500, ...}"
   ]
  },
  {
   "cell_type": "code",
   "execution_count": 3,
   "id": "51a93657",
   "metadata": {},
   "outputs": [],
   "source": [
    "# 딕셔너리를 만드는 방법\n",
    "\n",
    "# 딕셔너리명 = {키1:값1, 키2:값2, ...}\n",
    "# 딕셔너리명 = dict(키1=값1, 키2=값2, ...)\n",
    "# 딕셔너리명 = dict(zip(key리스트,value리스트))\n",
    "# 딕셔너리명 = dict( [(키1,값1),(키1,값2), ... ] )  # -> 튜플리스트로 딕셔너리 만들기\n",
    "# 딕셔너리명 = dict({키1:값1, 키2:값2, ...})"
   ]
  },
  {
   "cell_type": "code",
   "execution_count": 4,
   "id": "9f47a073",
   "metadata": {},
   "outputs": [
    {
     "data": {
      "text/plain": [
       "{}"
      ]
     },
     "execution_count": 4,
     "metadata": {},
     "output_type": "execute_result"
    }
   ],
   "source": [
    "menu = {}\n",
    "menu"
   ]
  },
  {
   "cell_type": "code",
   "execution_count": 7,
   "id": "87b3152d",
   "metadata": {},
   "outputs": [
    {
     "data": {
      "text/plain": [
       "{'김밥': 2000, '떡볶이': 2500, '어묵': 2000, '튀김': 3000}"
      ]
     },
     "execution_count": 7,
     "metadata": {},
     "output_type": "execute_result"
    }
   ],
   "source": [
    "menu = {'김밥':2000, \n",
    "        '떡볶이':2500, \n",
    "        '어묵':2000, \n",
    "        '튀김':3000}\n",
    "menu\n",
    "print(menu)"
   ]
  },
  {
   "cell_type": "code",
   "execution_count": 8,
   "id": "30177469",
   "metadata": {},
   "outputs": [
    {
     "data": {
      "text/plain": [
       "{}"
      ]
     },
     "execution_count": 8,
     "metadata": {},
     "output_type": "execute_result"
    }
   ],
   "source": [
    "menu1 = dict() # key에 따옴표를 쓰지않는 점에 주의\n",
    "menu1"
   ]
  },
  {
   "cell_type": "code",
   "execution_count": 10,
   "id": "cf65c85d",
   "metadata": {},
   "outputs": [
    {
     "data": {
      "text/plain": [
       "{'김밥': 2000, '떡볶이': 2500, '어묵': 2000, '튀김': 3000}"
      ]
     },
     "execution_count": 10,
     "metadata": {},
     "output_type": "execute_result"
    }
   ],
   "source": [
    "menu1 = dict(김밥=2000, 떡볶이=2500, 어묵=2000, 튀김=3000)\n",
    "menu1"
   ]
  },
  {
   "cell_type": "code",
   "execution_count": 12,
   "id": "553a528f",
   "metadata": {},
   "outputs": [
    {
     "data": {
      "text/plain": [
       "{'김밥': 2000, '떡볶이': 2500, '어묵': 2000, '튀김': 3000}"
      ]
     },
     "execution_count": 12,
     "metadata": {},
     "output_type": "execute_result"
    }
   ],
   "source": [
    " # zip 함수를 이용하여 딕셔너리만들기\n",
    "key_list = ['김밥','떡볶이','어묵','튀김']\n",
    "value_list = [2000,2500,2000,3000]\n",
    "menu2 = dict(zip(key_list,value_list))\n",
    "menu2"
   ]
  },
  {
   "cell_type": "code",
   "execution_count": 13,
   "id": "d2d943a9",
   "metadata": {},
   "outputs": [
    {
     "data": {
      "text/plain": [
       "{'김밥': 2000, '떡볶이': 2500, '어묵': 2000, '튀김': 3000}"
      ]
     },
     "execution_count": 13,
     "metadata": {},
     "output_type": "execute_result"
    }
   ],
   "source": [
    " # 튜플리스트로 딕셔너리 만들기\n",
    "[('김밥',2000),('떡볶이',2500),('어묵',2000),('튀김',3000)]\n",
    "menu3 = dict([('김밥',2000),('떡볶이',2500),('어묵',2000),('튀김',3000)])\n",
    "menu3"
   ]
  },
  {
   "cell_type": "code",
   "execution_count": 14,
   "id": "d80e06a8",
   "metadata": {},
   "outputs": [
    {
     "data": {
      "text/plain": [
       "{'김밥': 2000, '떡볶이': 2500, '어묵': 2000, '튀김': 3000}"
      ]
     },
     "execution_count": 14,
     "metadata": {},
     "output_type": "execute_result"
    }
   ],
   "source": [
    "#\n",
    "menu4 = dict({'김밥':2000, \n",
    "        '떡볶이':2500, \n",
    "        '어묵':2000, \n",
    "        '튀김':3000})\n",
    "menu4"
   ]
  },
  {
   "cell_type": "markdown",
   "id": "f10b4048",
   "metadata": {},
   "source": [
    "# 딕셔너리에 사용할 수 있는 자료형"
   ]
  },
  {
   "cell_type": "code",
   "execution_count": 15,
   "id": "c003d597",
   "metadata": {},
   "outputs": [],
   "source": [
    "# 딕셔너리의 value에는 모든 자료형을 혼합하여 사용할 수 있다. (변경 O, 중복 O)\n",
    "# 딕셔너리의 key에는 숫자,문자열,부울형,튜플만 사용할 수 있다. (변경 X, 중복 X)"
   ]
  },
  {
   "cell_type": "code",
   "execution_count": 18,
   "id": "2d8eb618",
   "metadata": {},
   "outputs": [
    {
     "data": {
      "text/plain": [
       "{'name': 'james', '나이': 25, '키': 178.8, '시력': (1.0, 1.0), '취미': ['운동', '독서']}"
      ]
     },
     "execution_count": 18,
     "metadata": {},
     "output_type": "execute_result"
    }
   ],
   "source": [
    "person = {'name':'james', # value:문자열\n",
    "         '나이':25,       # value:정수\n",
    "         '키':178.8,      # value:실수\n",
    "         '시력':(1.0,1.0), # value:튜플\n",
    "         '취미':['운동','독서'] # value:리스트\n",
    "         }\n",
    "person"
   ]
  },
  {
   "cell_type": "code",
   "execution_count": 19,
   "id": "9bcc352e",
   "metadata": {},
   "outputs": [
    {
     "name": "stdout",
     "output_type": "stream",
     "text": [
      "{100: 'hundred', True: '참', False: '거짓', (1, 3): '학년,반', 7: '번호'}\n"
     ]
    }
   ],
   "source": [
    "number = 7\n",
    "\n",
    "dict1 = {\n",
    "    100:'hundred',\n",
    "    True:'참',\n",
    "    False:'거짓',\n",
    "    (1,3):'학년,반',\n",
    "    number:'번호'\n",
    "}\n",
    "print(dict1)"
   ]
  },
  {
   "cell_type": "code",
   "execution_count": 1,
   "id": "216475b0",
   "metadata": {},
   "outputs": [
    {
     "data": {
      "text/plain": [
       "{'name': 'james', '나이': 30, '키': 178.8, '시력': (1.0, 1.0), '취미': ['운동', '독서']}"
      ]
     },
     "execution_count": 1,
     "metadata": {},
     "output_type": "execute_result"
    }
   ],
   "source": [
    " # 중복된 key를 사용하여 딕셔너리를 만들면??\n",
    "person = {'name':'james',\n",
    "         '나이':25,\n",
    "          '나이':30,\n",
    "         '키':178.8,\n",
    "         '시력':(1.0,1.0),\n",
    "         '취미':['운동','독서']\n",
    "         }\n",
    "person # 중복된 key가 있으면 중복된 항목 중에 한가지만 나오게된다."
   ]
  },
  {
   "cell_type": "markdown",
   "id": "b709faf1",
   "metadata": {},
   "source": [
    "# 딕셔너리 값(value)에 접근하기 "
   ]
  },
  {
   "cell_type": "code",
   "execution_count": 21,
   "id": "1c81fe8d",
   "metadata": {},
   "outputs": [],
   "source": [
    "# 인덱스가 아닌 키(key)로 자료에 접근한다.\n",
    "# 딕셔너리명[key]  # 존재하지 않는 키로 접근하면 에러발생\n",
    "# 딕셔너리명.get(key,msg)  # 존재하지 않는 키로 접근하는 경우 msg를 가져온다"
   ]
  },
  {
   "cell_type": "markdown",
   "id": "b0cd9a80",
   "metadata": {},
   "source": [
    "# 딕셔너리 값 추출하기"
   ]
  },
  {
   "cell_type": "code",
   "execution_count": 2,
   "id": "eb9afe5d",
   "metadata": {},
   "outputs": [
    {
     "name": "stdout",
     "output_type": "stream",
     "text": [
      "30\n"
     ]
    }
   ],
   "source": [
    " # 딕셔너리명[key]\n",
    "print(person['나이'])"
   ]
  },
  {
   "cell_type": "code",
   "execution_count": 3,
   "id": "0afe1b75",
   "metadata": {},
   "outputs": [
    {
     "ename": "KeyError",
     "evalue": "'몸무게'",
     "output_type": "error",
     "traceback": [
      "\u001b[1;31m---------------------------------------------------------------------------\u001b[0m",
      "\u001b[1;31mKeyError\u001b[0m                                  Traceback (most recent call last)",
      "Input \u001b[1;32mIn [3]\u001b[0m, in \u001b[0;36m<cell line: 1>\u001b[1;34m()\u001b[0m\n\u001b[1;32m----> 1\u001b[0m \u001b[38;5;28mprint\u001b[39m(\u001b[43mperson\u001b[49m\u001b[43m[\u001b[49m\u001b[38;5;124;43m'\u001b[39;49m\u001b[38;5;124;43m몸무게\u001b[39;49m\u001b[38;5;124;43m'\u001b[39;49m\u001b[43m]\u001b[49m)\n",
      "\u001b[1;31mKeyError\u001b[0m: '몸무게'"
     ]
    }
   ],
   "source": [
    "print(person['몸무게'])"
   ]
  },
  {
   "cell_type": "code",
   "execution_count": 4,
   "id": "1f0d1222",
   "metadata": {},
   "outputs": [
    {
     "name": "stdout",
     "output_type": "stream",
     "text": [
      "False\n"
     ]
    }
   ],
   "source": [
    " # 딕셔너리에 키 존재여부 확인하기\n",
    "print('몸무게' in person)"
   ]
  },
  {
   "cell_type": "code",
   "execution_count": 25,
   "id": "e3ac31a8",
   "metadata": {},
   "outputs": [
    {
     "name": "stdout",
     "output_type": "stream",
     "text": [
      "존재하지 않음\n"
     ]
    }
   ],
   "source": [
    "if '몸무게' in person:\n",
    "    print(person['몸무게'])\n",
    "else:\n",
    "    print('존재하지 않음')"
   ]
  },
  {
   "cell_type": "code",
   "execution_count": 26,
   "id": "753c0a58",
   "metadata": {},
   "outputs": [],
   "source": [
    " # 딕셔너리명.get(key,msg) 사용하기\n",
    "# 존재하지 않는 키로 추출 시도해도 오류가 발생하지 않는다.\n",
    "# 존재하지 않는 키로 추출 시도할 경우 출력할 메시지를 설정할 수 있다."
   ]
  },
  {
   "cell_type": "code",
   "execution_count": 5,
   "id": "e054d532",
   "metadata": {},
   "outputs": [
    {
     "name": "stdout",
     "output_type": "stream",
     "text": [
      "30\n"
     ]
    }
   ],
   "source": [
    "print(person.get('나이'))"
   ]
  },
  {
   "cell_type": "code",
   "execution_count": 6,
   "id": "2de6e534",
   "metadata": {},
   "outputs": [],
   "source": [
    "person.get('몸무게')"
   ]
  },
  {
   "cell_type": "code",
   "execution_count": 8,
   "id": "d89cdbde",
   "metadata": {},
   "outputs": [
    {
     "name": "stdout",
     "output_type": "stream",
     "text": [
      "몸무게가 존재하지 않습니다\n"
     ]
    }
   ],
   "source": [
    "print(person.get('몸무게','몸무게가 존재하지 않습니다'))"
   ]
  },
  {
   "cell_type": "code",
   "execution_count": null,
   "id": "1f9f094d",
   "metadata": {},
   "outputs": [],
   "source": []
  }
 ],
 "metadata": {
  "kernelspec": {
   "display_name": "Python 3 (ipykernel)",
   "language": "python",
   "name": "python3"
  },
  "language_info": {
   "codemirror_mode": {
    "name": "ipython",
    "version": 3
   },
   "file_extension": ".py",
   "mimetype": "text/x-python",
   "name": "python",
   "nbconvert_exporter": "python",
   "pygments_lexer": "ipython3",
   "version": "3.9.12"
  },
  "toc": {
   "base_numbering": 1,
   "nav_menu": {},
   "number_sections": true,
   "sideBar": true,
   "skip_h1_title": false,
   "title_cell": "Table of Contents",
   "title_sidebar": "Contents",
   "toc_cell": false,
   "toc_position": {},
   "toc_section_display": true,
   "toc_window_display": false
  }
 },
 "nbformat": 4,
 "nbformat_minor": 5
}
