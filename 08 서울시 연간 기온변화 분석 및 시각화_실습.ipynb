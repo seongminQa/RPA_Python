{
 "cells": [
  {
   "cell_type": "markdown",
   "id": "01ce2bfd",
   "metadata": {},
   "source": [
    "[학습목표]<br>\n",
    "기상자료개방포털에서 데이터를 수집하여 전처리하고, 서울시 연간 기온 변화를 분석하고 시각화할 수 있다."
   ]
  },
  {
   "cell_type": "markdown",
   "id": "6a447ccf",
   "metadata": {},
   "source": [
    "# 전국 기온 데이터 수집"
   ]
  },
  {
   "cell_type": "markdown",
   "id": "9a22c012",
   "metadata": {},
   "source": [
    "* 기상자료개방포털<br>\n",
    "https://data.kma.go.kr<br><br>\n",
    "\n",
    "* 기상자료개방포털 > 데이터 > 기상관측 > 지상 > 종관기상관측(ASOS)<br>\n",
    "https://data.kma.go.kr/data/grnd/selectAsosRltmList.do?pgmNo=36<br>\n",
    "회원가입/로그인 필요<br>\n",
    "[ 자료형태 ] 일자료<br>\n",
    "[ 지점 ] 전체<br>\n",
    "[ 자료 ] 기온>최저,최고,평균<br>\n",
    "[ 기간 ] 1911~2020 (10년단위로 나누어 다운로드)\n"
   ]
  },
  {
   "cell_type": "markdown",
   "id": "7b29d024",
   "metadata": {},
   "source": [
    "# 전국 기온 데이터 확인\n",
    "* 데이터프레임 생성하고 데이터 살펴보기"
   ]
  },
  {
   "cell_type": "code",
   "execution_count": null,
   "id": "23246b44",
   "metadata": {},
   "outputs": [],
   "source": [
    "import pandas as pd\n",
    "import matplotlib.pyplot as plt"
   ]
  },
  {
   "cell_type": "code",
   "execution_count": null,
   "id": "c674314c",
   "metadata": {},
   "outputs": [],
   "source": [
    "# 그래프에 한글 설정\n",
    "plt.rcParams['font.family']='Malgun Gothic'\n",
    "\n",
    "# 그래프에 마이너스 기호 깨지는 문제 해결\n",
    "plt.rcParams['axes.unicode_minus'] = False"
   ]
  },
  {
   "cell_type": "markdown",
   "id": "f01a7051",
   "metadata": {},
   "source": [
    "## 데이터프레임 생성\n",
    "* 데이터 파일(csv)을 data폴더에 업로드한다.\n",
    "* pd.read_csv(파일경로, encoding ='cp949')"
   ]
  },
  {
   "cell_type": "code",
   "execution_count": null,
   "id": "611ffeec",
   "metadata": {},
   "outputs": [],
   "source": []
  },
  {
   "cell_type": "code",
   "execution_count": null,
   "id": "b860f32c",
   "metadata": {},
   "outputs": [],
   "source": []
  },
  {
   "cell_type": "markdown",
   "id": "b49b7909",
   "metadata": {},
   "source": [
    "## 데이터프레임 연결하기\n",
    "* `pd.concat(데이터프레임리스트, axis=0)` : 행 방향으로 연결(default)<br>\n",
    "* `pd.concat(데이터프레임리스트, axis=1)` : 열 방향으로 연결<br>\n",
    "* `ignore_index=True` : 인덱스 제지정\n",
    "[df_1911,df_1921,df_1931,df_1941,df_1951,df_1961,df_1971,df_1981,df_1991,df_2001,df_2011]"
   ]
  },
  {
   "cell_type": "code",
   "execution_count": null,
   "id": "6d1bb222",
   "metadata": {
    "scrolled": true
   },
   "outputs": [],
   "source": []
  },
  {
   "cell_type": "code",
   "execution_count": null,
   "id": "05416b33",
   "metadata": {},
   "outputs": [],
   "source": []
  },
  {
   "cell_type": "markdown",
   "id": "cafe4468",
   "metadata": {},
   "source": [
    "## 데이터타입 확인/변경"
   ]
  },
  {
   "cell_type": "markdown",
   "id": "50476b3f",
   "metadata": {},
   "source": [
    "### 데이터타입 확인\n",
    "* `데이터프레임.dtypes`"
   ]
  },
  {
   "cell_type": "code",
   "execution_count": null,
   "id": "d22bd42a",
   "metadata": {
    "scrolled": false
   },
   "outputs": [],
   "source": [
    "# 데이터타입 확인"
   ]
  },
  {
   "cell_type": "markdown",
   "id": "97758ca2",
   "metadata": {},
   "source": [
    "### 데이터타입 변경\n",
    "* `pd.to_datetime(컬럼)` : datetime형으로 변경"
   ]
  },
  {
   "cell_type": "code",
   "execution_count": null,
   "id": "fd04ac53",
   "metadata": {},
   "outputs": [],
   "source": [
    "# '일시' 컬럼을 datetime형으로 변경"
   ]
  },
  {
   "cell_type": "code",
   "execution_count": null,
   "id": "21960491",
   "metadata": {
    "scrolled": true
   },
   "outputs": [],
   "source": [
    "# 변경 확인"
   ]
  },
  {
   "cell_type": "markdown",
   "id": "af830e3a",
   "metadata": {},
   "source": [
    "## 데이터 크기 확인\n",
    "* `데이터프레임.shape`"
   ]
  },
  {
   "cell_type": "code",
   "execution_count": null,
   "id": "76ba47fc",
   "metadata": {},
   "outputs": [],
   "source": []
  },
  {
   "cell_type": "markdown",
   "id": "e702f73e",
   "metadata": {},
   "source": [
    "## 데이터 정보 확인\n",
    "* `데이터프레임.info()`"
   ]
  },
  {
   "cell_type": "code",
   "execution_count": null,
   "id": "22bfe49a",
   "metadata": {
    "scrolled": true
   },
   "outputs": [],
   "source": []
  },
  {
   "cell_type": "markdown",
   "id": "8ebb7d15",
   "metadata": {},
   "source": [
    "## 데이터 내용 확인"
   ]
  },
  {
   "cell_type": "markdown",
   "id": "b4f490fe",
   "metadata": {},
   "source": [
    "### 지점명, 지점명의 개수 확인\n",
    "* 컬럼.unique() : 컬럼의 중복을 배제한 값 목록\n",
    "* 컬럼.nunique() : 컬럼의 중복을 배제한 값 개수"
   ]
  },
  {
   "cell_type": "code",
   "execution_count": null,
   "id": "ee5375b4",
   "metadata": {},
   "outputs": [],
   "source": [
    "# 지점명 확인"
   ]
  },
  {
   "cell_type": "code",
   "execution_count": null,
   "id": "4f08c31f",
   "metadata": {},
   "outputs": [],
   "source": [
    "# 지점명  개수 확인"
   ]
  },
  {
   "cell_type": "markdown",
   "id": "07f2f862",
   "metadata": {},
   "source": [
    "### 연도의 개수 확인\n",
    "* datetime에서 연도, 월, 일 가져오기<br>\n",
    "`컬럼.dt.year` `컬럼.dt.month` `컬럼.dt.day`"
   ]
  },
  {
   "cell_type": "code",
   "execution_count": null,
   "id": "1c9d4c37",
   "metadata": {},
   "outputs": [],
   "source": []
  },
  {
   "cell_type": "markdown",
   "id": "29466648",
   "metadata": {},
   "source": [
    "### 연도별 데이터 개수 확인"
   ]
  },
  {
   "cell_type": "code",
   "execution_count": null,
   "id": "6536a3a7",
   "metadata": {
    "scrolled": false
   },
   "outputs": [],
   "source": []
  },
  {
   "cell_type": "markdown",
   "id": "0f1a28f8",
   "metadata": {},
   "source": [
    "### 지점별 데이터 개수 확인"
   ]
  },
  {
   "cell_type": "code",
   "execution_count": null,
   "id": "5a58d1e7",
   "metadata": {
    "scrolled": true
   },
   "outputs": [],
   "source": []
  },
  {
   "cell_type": "markdown",
   "id": "3eccbf21",
   "metadata": {},
   "source": [
    "# 서울시 기온 데이터 추출 및 확인"
   ]
  },
  {
   "cell_type": "markdown",
   "id": "5c966dd5",
   "metadata": {},
   "source": [
    "## 서울시 데이터만 추출하여 서브셋 생성\n",
    "* 조건으로 데이터를 추출하여 서브셋을 만들 때, copy본으로 만드는 것을 권장. : `.copy()`"
   ]
  },
  {
   "cell_type": "code",
   "execution_count": null,
   "id": "00f67a90",
   "metadata": {},
   "outputs": [],
   "source": []
  },
  {
   "cell_type": "code",
   "execution_count": null,
   "id": "509172d8",
   "metadata": {},
   "outputs": [],
   "source": []
  },
  {
   "cell_type": "markdown",
   "id": "2aea3ffd",
   "metadata": {},
   "source": [
    "## 결측치 분석\n",
    "* `데이터프레임.isnull().sum()`"
   ]
  },
  {
   "cell_type": "code",
   "execution_count": null,
   "id": "d36f7b8f",
   "metadata": {
    "scrolled": false
   },
   "outputs": [],
   "source": [
    "# 결측치 확인"
   ]
  },
  {
   "cell_type": "code",
   "execution_count": null,
   "id": "0f2e8d78",
   "metadata": {},
   "outputs": [],
   "source": [
    "# 결측치가 있는 데이터 보기"
   ]
  },
  {
   "cell_type": "markdown",
   "id": "16380602",
   "metadata": {},
   "source": [
    "## 결측치 제거\n",
    "* `데이터프레임.dropna()` : 결측치가 포함된 행을 모두 제거"
   ]
  },
  {
   "cell_type": "code",
   "execution_count": null,
   "id": "8467f624",
   "metadata": {},
   "outputs": [],
   "source": [
    "# 결측치 제거"
   ]
  },
  {
   "cell_type": "code",
   "execution_count": null,
   "id": "738064c7",
   "metadata": {
    "scrolled": true
   },
   "outputs": [],
   "source": [
    "# 결측치 확인"
   ]
  },
  {
   "cell_type": "code",
   "execution_count": null,
   "id": "e9ea7111",
   "metadata": {
    "scrolled": true
   },
   "outputs": [],
   "source": [
    "# 데이터프레임 크기"
   ]
  },
  {
   "cell_type": "markdown",
   "id": "a6480bf9",
   "metadata": {},
   "source": [
    "## 연도별 데이터 개수 확인"
   ]
  },
  {
   "cell_type": "code",
   "execution_count": null,
   "id": "458ce838",
   "metadata": {},
   "outputs": [],
   "source": [
    "# 연도별 데이터 개수 확인"
   ]
  },
  {
   "cell_type": "markdown",
   "id": "bdfcaa34",
   "metadata": {},
   "source": [
    "## 시각화로 데이터 확인\n",
    "* 최저기온\n",
    "* 평균기온\n",
    "* 최고기온"
   ]
  },
  {
   "cell_type": "code",
   "execution_count": null,
   "id": "377b12d1",
   "metadata": {},
   "outputs": [],
   "source": []
  },
  {
   "cell_type": "code",
   "execution_count": null,
   "id": "59c990c5",
   "metadata": {},
   "outputs": [],
   "source": []
  },
  {
   "cell_type": "code",
   "execution_count": null,
   "id": "ebf9b5c0",
   "metadata": {},
   "outputs": [],
   "source": [
    "# 1951년 데이터 추출"
   ]
  },
  {
   "cell_type": "code",
   "execution_count": null,
   "id": "c4cfb47b",
   "metadata": {
    "scrolled": true
   },
   "outputs": [],
   "source": [
    "# 1952년 데이터 추출"
   ]
  },
  {
   "cell_type": "markdown",
   "id": "6eeacaf9",
   "metadata": {},
   "source": [
    "# 서울시 연간 평균기온, 최저기온, 최고기온 변화 시각화"
   ]
  },
  {
   "cell_type": "markdown",
   "id": "e43dc162",
   "metadata": {},
   "source": [
    "## 서울시 연간 평균기온 변화"
   ]
  },
  {
   "cell_type": "markdown",
   "id": "68f16dc1",
   "metadata": {},
   "source": [
    "### 연간 평균기온 추출\n",
    "* `연간 일 평균기온의 평균`<br>\n",
    "연도로 그룹화하여 연도별 평균기온 산출"
   ]
  },
  {
   "cell_type": "code",
   "execution_count": null,
   "id": "9c35c5ff",
   "metadata": {},
   "outputs": [],
   "source": []
  },
  {
   "cell_type": "code",
   "execution_count": null,
   "id": "ece462c8",
   "metadata": {},
   "outputs": [],
   "source": [
    "# 시각화하여 데이터 확인"
   ]
  },
  {
   "cell_type": "markdown",
   "id": "d1aab4c8",
   "metadata": {},
   "source": [
    "### 이상치 제거"
   ]
  },
  {
   "cell_type": "code",
   "execution_count": null,
   "id": "2733f68d",
   "metadata": {},
   "outputs": [],
   "source": []
  },
  {
   "cell_type": "markdown",
   "id": "f1860e3c",
   "metadata": {},
   "source": [
    "### 시각화"
   ]
  },
  {
   "cell_type": "code",
   "execution_count": null,
   "id": "b3a12a81",
   "metadata": {
    "scrolled": false
   },
   "outputs": [],
   "source": []
  },
  {
   "cell_type": "markdown",
   "id": "c91ebefa",
   "metadata": {},
   "source": [
    "## 서울시 연간 최저기온 변화"
   ]
  },
  {
   "cell_type": "markdown",
   "id": "be1152d1",
   "metadata": {},
   "source": [
    "### 서울시 연간 최저기온 추출\n",
    "* `연간 일 최저기온의 최저`<br>\n",
    "연도로 그룹핑하여 최저기온의 최소값 추출"
   ]
  },
  {
   "cell_type": "code",
   "execution_count": null,
   "id": "b2d45501",
   "metadata": {
    "scrolled": true
   },
   "outputs": [],
   "source": []
  },
  {
   "cell_type": "markdown",
   "id": "05f1bc62",
   "metadata": {},
   "source": [
    "### 시각화"
   ]
  },
  {
   "cell_type": "code",
   "execution_count": null,
   "id": "4ff7444b",
   "metadata": {
    "scrolled": true
   },
   "outputs": [],
   "source": []
  },
  {
   "cell_type": "markdown",
   "id": "649046cb",
   "metadata": {},
   "source": [
    "## 서울시 연간 최고기온 변화"
   ]
  },
  {
   "cell_type": "markdown",
   "id": "66687681",
   "metadata": {},
   "source": [
    "### 서울시 연간 최고기온 추출\n",
    "* `연간 최고기온의 최고`<br>\n",
    "연도로 그룹핑하여 최고기온의 최대값 추출"
   ]
  },
  {
   "cell_type": "code",
   "execution_count": null,
   "id": "0c2366d9",
   "metadata": {},
   "outputs": [],
   "source": []
  },
  {
   "cell_type": "markdown",
   "id": "b0a1f272",
   "metadata": {},
   "source": [
    "### 1950, 1953년 데이터 제거"
   ]
  },
  {
   "cell_type": "code",
   "execution_count": null,
   "id": "5a4bc9fb",
   "metadata": {},
   "outputs": [],
   "source": []
  },
  {
   "cell_type": "markdown",
   "id": "f5d14534",
   "metadata": {},
   "source": [
    "### 시각화"
   ]
  },
  {
   "cell_type": "code",
   "execution_count": null,
   "id": "227ad7aa",
   "metadata": {
    "scrolled": false
   },
   "outputs": [],
   "source": []
  },
  {
   "cell_type": "markdown",
   "id": "3308d04e",
   "metadata": {},
   "source": [
    "# 서울시 연간 평균기온, 최저기온, 최고기온 비교"
   ]
  },
  {
   "cell_type": "markdown",
   "id": "b6958cc2",
   "metadata": {},
   "source": [
    "## 서브플롯으로 각 그래프의 추세 비교"
   ]
  },
  {
   "cell_type": "code",
   "execution_count": null,
   "id": "2d64bcff",
   "metadata": {},
   "outputs": [],
   "source": []
  },
  {
   "cell_type": "markdown",
   "id": "b14e3244",
   "metadata": {},
   "source": [
    "## 평균, 최저, 최고기온의 변동 폭 비교"
   ]
  },
  {
   "cell_type": "code",
   "execution_count": null,
   "id": "7aa0ff92",
   "metadata": {
    "scrolled": true
   },
   "outputs": [],
   "source": [
    "# 세 개의 플롯을 하나의 axes에 그리기\n",
    "\n",
    "# 수평선 ( 각 플롯의 최대, 최소값의 위치에 수평선 그리기 )"
   ]
  }
 ],
 "metadata": {
  "kernelspec": {
   "display_name": "Python 3 (ipykernel)",
   "language": "python",
   "name": "python3"
  },
  "language_info": {
   "codemirror_mode": {
    "name": "ipython",
    "version": 3
   },
   "file_extension": ".py",
   "mimetype": "text/x-python",
   "name": "python",
   "nbconvert_exporter": "python",
   "pygments_lexer": "ipython3",
   "version": "3.9.12"
  },
  "toc": {
   "base_numbering": 1,
   "nav_menu": {},
   "number_sections": true,
   "sideBar": true,
   "skip_h1_title": false,
   "title_cell": "Table of Contents",
   "title_sidebar": "Contents",
   "toc_cell": false,
   "toc_position": {
    "height": "calc(100% - 180px)",
    "left": "10px",
    "top": "150px",
    "width": "254px"
   },
   "toc_section_display": true,
   "toc_window_display": true
  }
 },
 "nbformat": 4,
 "nbformat_minor": 5
}
