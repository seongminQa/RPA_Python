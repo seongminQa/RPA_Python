{
 "cells": [
  {
   "cell_type": "markdown",
   "id": "04d8c9f2",
   "metadata": {},
   "source": [
    "# 인덱싱"
   ]
  },
  {
   "cell_type": "markdown",
   "id": "794853e8",
   "metadata": {},
   "source": [
    "- 파이썬에서 인덱스는 0부터 시작한다.\n",
    "- 인덱스를 음수로 지정하면 뒤에서부터 접근한다 (마지막항목은 인덱스 -1)"
   ]
  },
  {
   "cell_type": "markdown",
   "id": "3e6972b3",
   "metadata": {},
   "source": [
    "# 리스트 인덱싱"
   ]
  },
  {
   "cell_type": "code",
   "execution_count": 1,
   "id": "9ee7320a",
   "metadata": {},
   "outputs": [],
   "source": [
    "l1 = ['축구','농구','배구','야구','족구','발야구','피구']"
   ]
  },
  {
   "cell_type": "code",
   "execution_count": 2,
   "id": "b8f9eeb0",
   "metadata": {},
   "outputs": [
    {
     "data": {
      "text/plain": [
       "7"
      ]
     },
     "execution_count": 2,
     "metadata": {},
     "output_type": "execute_result"
    }
   ],
   "source": [
    "# l1 항목수\n",
    "len(l1)"
   ]
  },
  {
   "cell_type": "code",
   "execution_count": 3,
   "id": "aa49afac",
   "metadata": {},
   "outputs": [
    {
     "name": "stdout",
     "output_type": "stream",
     "text": [
      "축구\n",
      "축구\n"
     ]
    }
   ],
   "source": [
    "#'축구'\n",
    "print(l1[0])\n",
    "print(l1[-7])"
   ]
  },
  {
   "cell_type": "markdown",
   "id": "ad4eb5d6",
   "metadata": {},
   "source": [
    "# 튜플 인덱싱"
   ]
  },
  {
   "cell_type": "code",
   "execution_count": 4,
   "id": "b6859bfe",
   "metadata": {},
   "outputs": [],
   "source": [
    "t1 = ('축구','농구','배구','야구','족구','발야구','피구')"
   ]
  },
  {
   "cell_type": "code",
   "execution_count": 5,
   "id": "00a1dd3b",
   "metadata": {},
   "outputs": [
    {
     "data": {
      "text/plain": [
       "7"
      ]
     },
     "execution_count": 5,
     "metadata": {},
     "output_type": "execute_result"
    }
   ],
   "source": [
    "len(t1)"
   ]
  },
  {
   "cell_type": "code",
   "execution_count": 6,
   "id": "966cf2e9",
   "metadata": {},
   "outputs": [
    {
     "name": "stdout",
     "output_type": "stream",
     "text": [
      "축구\n"
     ]
    }
   ],
   "source": [
    "print(t1[0])"
   ]
  },
  {
   "cell_type": "markdown",
   "id": "a7ddcff1",
   "metadata": {},
   "source": [
    "# 중첩리스트 인덱싱"
   ]
  },
  {
   "cell_type": "code",
   "execution_count": 7,
   "id": "db7ac7cd",
   "metadata": {},
   "outputs": [
    {
     "name": "stdout",
     "output_type": "stream",
     "text": [
      "수박\n"
     ]
    }
   ],
   "source": [
    "# 아래 리스트 l에서 '수박' 인덱싱하여 가져오기\n",
    "l2 = ['사과','오렌지','포도',['수박','바나나']]\n",
    "print(l2[3][0])"
   ]
  },
  {
   "cell_type": "code",
   "execution_count": 8,
   "id": "9e8dbdd7",
   "metadata": {},
   "outputs": [
    {
     "name": "stdout",
     "output_type": "stream",
     "text": [
      "Life\n"
     ]
    }
   ],
   "source": [
    "# 아래 튜플 t에서 'Life' 인덱싱하여 가져오기\n",
    "t2 = (1,2,('a','b',),('Life','is'))\n",
    "print(t2[3][0])"
   ]
  },
  {
   "cell_type": "markdown",
   "id": "3e21ee24",
   "metadata": {},
   "source": [
    "# 슬라이싱"
   ]
  },
  {
   "cell_type": "code",
   "execution_count": 9,
   "id": "7eec3cb4",
   "metadata": {},
   "outputs": [],
   "source": [
    "# 리스트명[시작인덱스:끝인덱스:간격]\n",
    "# 튜플명[시작인덱스:끝인덱스:간격]\n",
    "# *단, 끝인덱스의 항목은 포함하지 않는다."
   ]
  },
  {
   "cell_type": "code",
   "execution_count": 10,
   "id": "59d6675b",
   "metadata": {},
   "outputs": [],
   "source": [
    "l1 = ['축구','농구','배구','야구','족구','발야구','피구']"
   ]
  },
  {
   "cell_type": "code",
   "execution_count": 11,
   "id": "ffef8fd1",
   "metadata": {},
   "outputs": [
    {
     "name": "stdout",
     "output_type": "stream",
     "text": [
      "['농구', '배구']\n",
      "['축구', '농구', '배구']\n",
      "['족구', '발야구', '피구']\n",
      "['족구', '발야구', '피구']\n",
      "['피구', '발야구', '족구']\n",
      "['축구', '농구', '배구', '야구', '족구', '발야구', '피구']\n",
      "['피구', '발야구', '족구', '야구', '배구', '농구', '축구']\n"
     ]
    }
   ],
   "source": [
    "# ['농구','배구']\n",
    "print(l1[1:3])\n",
    "print(l1[0:3])\n",
    "# ['족구','발야구','피구']\n",
    "print(l1[4:])\n",
    "print(l1[-3::1])\n",
    "print(l1[:-4:-1])\n",
    "# 모든항목\n",
    "print(l1)\n",
    "# 모든항목 역순으로\n",
    "print(l1[::-1])"
   ]
  },
  {
   "cell_type": "code",
   "execution_count": 12,
   "id": "90940a9b",
   "metadata": {},
   "outputs": [
    {
     "name": "stdout",
     "output_type": "stream",
     "text": [
      "[1, 2, 3, 4, 5, 6, 7, 8, 9, 10, 11, 12, 13, 14, 15, 16, 17, 18, 19, 20]\n",
      "[1, 3, 5, 7, 9, 11, 13, 15, 17, 19]\n"
     ]
    }
   ],
   "source": [
    "# 아래 리스트 l3에서 홀수만 슬라이싱하기\n",
    "l3 = list(range(1,21))\n",
    "print(l3)\n",
    "print(l3[::2])"
   ]
  },
  {
   "cell_type": "markdown",
   "id": "7e1b114e",
   "metadata": {},
   "source": [
    "# 특정 항목의 인덱스 찾기"
   ]
  },
  {
   "cell_type": "code",
   "execution_count": 13,
   "id": "bdfd4427",
   "metadata": {},
   "outputs": [],
   "source": [
    "# 리스트명.index(항목)\n",
    "# 튜플명.index(항목)"
   ]
  },
  {
   "cell_type": "code",
   "execution_count": 14,
   "id": "a60f945c",
   "metadata": {},
   "outputs": [],
   "source": [
    "t1 = ('축구','농구','배구','야구','족구','발야구','피구')"
   ]
  },
  {
   "cell_type": "code",
   "execution_count": 15,
   "id": "85b1076e",
   "metadata": {},
   "outputs": [
    {
     "data": {
      "text/plain": [
       "5"
      ]
     },
     "execution_count": 15,
     "metadata": {},
     "output_type": "execute_result"
    }
   ],
   "source": [
    "t1.index('발야구')"
   ]
  },
  {
   "cell_type": "code",
   "execution_count": 16,
   "id": "81d37ccd",
   "metadata": {},
   "outputs": [
    {
     "name": "stdout",
     "output_type": "stream",
     "text": [
      "존재하지 않음\n"
     ]
    }
   ],
   "source": [
    "if '오토바이' in t1:\n",
    "    print(t1.index('오토바이'))\n",
    "else:\n",
    "    print('존재하지 않음')"
   ]
  },
  {
   "cell_type": "markdown",
   "id": "bee33323",
   "metadata": {},
   "source": [
    "# 리스트 변경하기 (튜플은 변경할 수 없다.)"
   ]
  },
  {
   "cell_type": "markdown",
   "id": "204522a7",
   "metadata": {},
   "source": [
    "# 추가"
   ]
  },
  {
   "cell_type": "code",
   "execution_count": 17,
   "id": "aa19fe20",
   "metadata": {},
   "outputs": [],
   "source": [
    "# 리스트명.append(항목)\n",
    "# 리스트.insert(인덱스,항목)\n",
    "# 리스트명.extend(리스트)"
   ]
  },
  {
   "cell_type": "code",
   "execution_count": 18,
   "id": "eb79b582",
   "metadata": {},
   "outputs": [
    {
     "name": "stdout",
     "output_type": "stream",
     "text": [
      "['양치', '물마시기', '아침운동']\n"
     ]
    }
   ],
   "source": [
    "# 리스트 끝에 항목 추가하기\n",
    "todolist = ['양치','물마시기']\n",
    "# '아침운동' 항목 추가하기\n",
    "todolist.append('아침운동')\n",
    "print(todolist)"
   ]
  },
  {
   "cell_type": "code",
   "execution_count": 19,
   "id": "f80ee185",
   "metadata": {},
   "outputs": [
    {
     "data": {
      "text/plain": [
       "['양치', '물마시기', '아침식사', '아침운동']"
      ]
     },
     "execution_count": 19,
     "metadata": {},
     "output_type": "execute_result"
    }
   ],
   "source": [
    "# 리스트 중간에 항목 삽입하기\n",
    "# '아침운동'하기 전에 '아침식사'\n",
    "todolist.insert(2,'아침식사')\n",
    "todolist"
   ]
  },
  {
   "cell_type": "code",
   "execution_count": 20,
   "id": "110c8647",
   "metadata": {},
   "outputs": [
    {
     "data": {
      "text/plain": [
       "['양치', '물마시기', '아침식사', '아침운동', '샤워,', '드라이', '공부']"
      ]
     },
     "execution_count": 20,
     "metadata": {},
     "output_type": "execute_result"
    }
   ],
   "source": [
    "# 리스트 끝에 여러 항목 추가하기 ['샤워,','드라이','공부']\n",
    "todolist.extend(['샤워,','드라이','공부'])\n",
    "todolist"
   ]
  },
  {
   "cell_type": "markdown",
   "id": "625826d2",
   "metadata": {},
   "source": [
    "# 항목 수정"
   ]
  },
  {
   "cell_type": "code",
   "execution_count": 21,
   "id": "d2f54fe5",
   "metadata": {},
   "outputs": [],
   "source": [
    "# 리스트명[index] = item\n",
    "# 리스트명[시작인덱스:끝인덱스] = [item1,item2, ..., itemN]"
   ]
  },
  {
   "cell_type": "code",
   "execution_count": 22,
   "id": "83f68f4a",
   "metadata": {},
   "outputs": [
    {
     "data": {
      "text/plain": [
       "['양치', '물마시기', '아침식사', '산책', '샤워,', '드라이', '공부']"
      ]
     },
     "execution_count": 22,
     "metadata": {},
     "output_type": "execute_result"
    }
   ],
   "source": [
    "# 아침운동 --> 산책으로 수정\n",
    "todolist[3] = '산책'\n",
    "todolist"
   ]
  },
  {
   "cell_type": "code",
   "execution_count": 23,
   "id": "bb85e574",
   "metadata": {},
   "outputs": [
    {
     "data": {
      "text/plain": [
       "['양치', '물마시기', '독서', '산책', '아침식사', '샤워,', '드라이', '공부']"
      ]
     },
     "execution_count": 23,
     "metadata": {},
     "output_type": "execute_result"
    }
   ],
   "source": [
    "# '아침식사','산책' --> '독서','산책','아침식사'\n",
    "todolist[2:4] = ['독서','산책','아침식사']\n",
    "todolist"
   ]
  },
  {
   "cell_type": "markdown",
   "id": "f48d36ce",
   "metadata": {},
   "source": [
    "# 리스트 항목 삭제하기"
   ]
  },
  {
   "cell_type": "code",
   "execution_count": 24,
   "id": "0744152d",
   "metadata": {},
   "outputs": [],
   "source": [
    "# del 리스트명[index] -> 지정한 인덱스의 항목을 삭제한다.\n",
    "# 리스트명.remove(항목) -> 항목값을이용하여 삭제, 항목의 인덱스를 알 필요 없다 \n",
    "# 리스트명.pop() -> 리스트의 마지막 항목을 반환 후 삭제"
   ]
  },
  {
   "cell_type": "code",
   "execution_count": 25,
   "id": "7c72ddd2",
   "metadata": {},
   "outputs": [
    {
     "data": {
      "text/plain": [
       "['양치', '물마시기', '독서', '산책', '아침식사', '샤워,', '드라이']"
      ]
     },
     "execution_count": 25,
     "metadata": {},
     "output_type": "execute_result"
    }
   ],
   "source": [
    "# 인덱스를 이용하여 항목삭제\n",
    "del todolist[-1]\n",
    "print(todolist)"
   ]
  },
  {
   "cell_type": "code",
   "execution_count": 26,
   "id": "c72b7875",
   "metadata": {},
   "outputs": [
    {
     "name": "stdout",
     "output_type": "stream",
     "text": [
      "['물마시기', '독서', '산책', '아침식사', '샤워,', '드라이']\n"
     ]
    }
   ],
   "source": [
    "# 항목값을 이용하여 삭제\n",
    "todolist.remove('양치')\n",
    "print(todolist)"
   ]
  },
  {
   "cell_type": "code",
   "execution_count": 27,
   "id": "00aa2c4f",
   "metadata": {},
   "outputs": [
    {
     "name": "stdout",
     "output_type": "stream",
     "text": [
      "['물마시기', '독서', '산책', '아침식사', '샤워,']\n",
      "드라이\n"
     ]
    }
   ],
   "source": [
    "# 마지막 항목을 반환하고 삭제\n",
    "pop = todolist.pop()\n",
    "print(todolist)\n",
    "print(pop)"
   ]
  },
  {
   "cell_type": "markdown",
   "id": "537bdd3c",
   "metadata": {},
   "source": [
    "# 연습문제"
   ]
  },
  {
   "cell_type": "code",
   "execution_count": 32,
   "id": "bc948d89",
   "metadata": {},
   "outputs": [],
   "source": [
    "# 아래 wishlist의 '시계','신발'을 myCart로 이동해봅시다\n",
    "wishlist = ['가방','시계','신발']\n",
    "myCart = []"
   ]
  },
  {
   "cell_type": "code",
   "execution_count": 36,
   "id": "ea84f82c",
   "metadata": {},
   "outputs": [
    {
     "data": {
      "text/plain": [
       "['시계', '신발']"
      ]
     },
     "execution_count": 36,
     "metadata": {},
     "output_type": "execute_result"
    }
   ],
   "source": [
    "# wishlist의 시계, 신발을 추출해서 myCart에 담는다.\n",
    "# wishlist의 시계, 신발을 삭제한다.\n",
    "\n",
    "myCart = wishlist[1:3]\n",
    "myCart"
   ]
  },
  {
   "cell_type": "code",
   "execution_count": 30,
   "id": "6fead3f4",
   "metadata": {},
   "outputs": [
    {
     "data": {
      "text/plain": [
       "['가방']"
      ]
     },
     "execution_count": 30,
     "metadata": {},
     "output_type": "execute_result"
    }
   ],
   "source": [
    "del wishlist[1:3]\n",
    "wishlist"
   ]
  },
  {
   "cell_type": "code",
   "execution_count": 31,
   "id": "6f10bf06",
   "metadata": {},
   "outputs": [
    {
     "name": "stdout",
     "output_type": "stream",
     "text": [
      "['가방'] ['시계', '신발']\n"
     ]
    }
   ],
   "source": [
    "print(wishlist, myCart)"
   ]
  },
  {
   "cell_type": "code",
   "execution_count": null,
   "id": "5d84f3b2",
   "metadata": {},
   "outputs": [],
   "source": []
  }
 ],
 "metadata": {
  "kernelspec": {
   "display_name": "Python 3 (ipykernel)",
   "language": "python",
   "name": "python3"
  },
  "language_info": {
   "codemirror_mode": {
    "name": "ipython",
    "version": 3
   },
   "file_extension": ".py",
   "mimetype": "text/x-python",
   "name": "python",
   "nbconvert_exporter": "python",
   "pygments_lexer": "ipython3",
   "version": "3.9.12"
  },
  "toc": {
   "base_numbering": 1,
   "nav_menu": {},
   "number_sections": true,
   "sideBar": true,
   "skip_h1_title": false,
   "title_cell": "Table of Contents",
   "title_sidebar": "Contents",
   "toc_cell": false,
   "toc_position": {},
   "toc_section_display": true,
   "toc_window_display": false
  }
 },
 "nbformat": 4,
 "nbformat_minor": 5
}
