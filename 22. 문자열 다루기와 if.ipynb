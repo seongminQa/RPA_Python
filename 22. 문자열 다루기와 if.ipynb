{
 "cells": [
  {
   "cell_type": "code",
   "execution_count": 1,
   "id": "7ab96fa7",
   "metadata": {},
   "outputs": [],
   "source": [
    "# 문자열 [시작인덱스 : 끝 인덱스 : 간격]"
   ]
  },
  {
   "cell_type": "code",
   "execution_count": 3,
   "id": "06b18855",
   "metadata": {},
   "outputs": [
    {
     "name": "stdout",
     "output_type": "stream",
     "text": [
      "Hello\n",
      "World\n",
      "Hello\n",
      "Worl\n",
      "World\n",
      "HloWrd\n",
      "Hello \n",
      "d\n",
      "o\n"
     ]
    }
   ],
   "source": [
    "a = 'Hello World'\n",
    "print(a[0:5])\n",
    "print(a[6:11])\n",
    "print(a[-11:-6])\n",
    "print(a[-5:-1])\n",
    "print(a[-5:])\n",
    "print(a[::2])\n",
    "print(a[:6])\n",
    "print(a[-1])\n",
    "print(a[4])"
   ]
  },
  {
   "cell_type": "code",
   "execution_count": 15,
   "id": "929fb8f4",
   "metadata": {},
   "outputs": [
    {
     "name": "stdout",
     "output_type": "stream",
     "text": [
      "dlroW olleH\n"
     ]
    }
   ],
   "source": [
    "print(a[::-1]) # 역순으로 출력하기"
   ]
  },
  {
   "cell_type": "markdown",
   "id": "f1e3e64c",
   "metadata": {},
   "source": [
    "# 문자열 포매팅"
   ]
  },
  {
   "cell_type": "code",
   "execution_count": 7,
   "id": "b01ce0c9",
   "metadata": {},
   "outputs": [
    {
     "name": "stdout",
     "output_type": "stream",
     "text": [
      "I eat %d apples 4\n"
     ]
    }
   ],
   "source": [
    "# 숫자 바로 대입\n",
    "\"I eat %d apples.\"%4"
   ]
  },
  {
   "cell_type": "code",
   "execution_count": 23,
   "id": "721e8bc8",
   "metadata": {},
   "outputs": [
    {
     "data": {
      "text/plain": [
       "'I eat 4 apples.'"
      ]
     },
     "execution_count": 23,
     "metadata": {},
     "output_type": "execute_result"
    }
   ],
   "source": [
    "a=4\n",
    "\"I eat %d apples.\"%a"
   ]
  },
  {
   "cell_type": "code",
   "execution_count": 22,
   "id": "e9d05e14",
   "metadata": {
    "scrolled": true
   },
   "outputs": [
    {
     "data": {
      "text/plain": [
       "'I eat five apples.'"
      ]
     },
     "execution_count": 22,
     "metadata": {},
     "output_type": "execute_result"
    }
   ],
   "source": [
    "# 문자열 바로 대입\n",
    "\"I eat %s apples.\"%\"five\""
   ]
  },
  {
   "cell_type": "code",
   "execution_count": 26,
   "id": "58bc0047",
   "metadata": {},
   "outputs": [
    {
     "data": {
      "text/plain": [
       "'         hi'"
      ]
     },
     "execution_count": 26,
     "metadata": {},
     "output_type": "execute_result"
    }
   ],
   "source": [
    "# 문자열 포맷 코드 활용\n",
    "# %s를 숫자와 함께 사용하면, 공백과 정렬 표현 가능\n",
    "\"%11s\"%\"hi\""
   ]
  },
  {
   "cell_type": "code",
   "execution_count": 31,
   "id": "207ef882",
   "metadata": {},
   "outputs": [
    {
     "data": {
      "text/plain": [
       "'hi   Jane'"
      ]
     },
     "execution_count": 31,
     "metadata": {},
     "output_type": "execute_result"
    }
   ],
   "source": [
    "\"%-5sJane\"%\"hi\""
   ]
  },
  {
   "cell_type": "code",
   "execution_count": 32,
   "id": "c49a3e95",
   "metadata": {},
   "outputs": [
    {
     "data": {
      "text/plain": [
       "'2.43243'"
      ]
     },
     "execution_count": 32,
     "metadata": {},
     "output_type": "execute_result"
    }
   ],
   "source": [
    "# 소수점 표현하기\n",
    "\"%0.5f\" %2.43243234"
   ]
  },
  {
   "cell_type": "code",
   "execution_count": 33,
   "id": "a70c5b45",
   "metadata": {},
   "outputs": [
    {
     "data": {
      "text/plain": [
       "'    2.43243'"
      ]
     },
     "execution_count": 33,
     "metadata": {},
     "output_type": "execute_result"
    }
   ],
   "source": [
    "\"%11.5f\" %2.43243234"
   ]
  },
  {
   "cell_type": "code",
   "execution_count": 36,
   "id": "72118795",
   "metadata": {},
   "outputs": [
    {
     "data": {
      "text/plain": [
       "'나의 이름은 홍길동입니다. 나이는 27입니다.'"
      ]
     },
     "execution_count": 36,
     "metadata": {},
     "output_type": "execute_result"
    }
   ],
   "source": [
    "# f 문자열 포매팅 (파이썬 3.6버전 부터 가능)\n",
    "name = \"홍길동\"\n",
    "age = 25\n",
    "f'나의 이름은 {name}입니다. 나이는 {age+2}입니다.'"
   ]
  },
  {
   "cell_type": "markdown",
   "id": "ea7cb3da",
   "metadata": {},
   "source": [
    "# 문자열 관련 함수"
   ]
  },
  {
   "cell_type": "code",
   "execution_count": 37,
   "id": "dabb77ed",
   "metadata": {},
   "outputs": [
    {
     "data": {
      "text/plain": [
       "1"
      ]
     },
     "execution_count": 37,
     "metadata": {},
     "output_type": "execute_result"
    }
   ],
   "source": [
    "# count() => 문자의 개수를 세는 함수\n",
    "a = \"hobby\"\n",
    "a.count('y')"
   ]
  },
  {
   "cell_type": "code",
   "execution_count": 41,
   "id": "5273a78c",
   "metadata": {},
   "outputs": [
    {
     "data": {
      "text/plain": [
       "12"
      ]
     },
     "execution_count": 41,
     "metadata": {},
     "output_type": "execute_result"
    }
   ],
   "source": [
    "# find() => 찾는 문자열이 처음 나온 위치 반환 / 없으면 -1 반환\n",
    "a = \"Python is the best choice\"\n",
    "a.find(\"e\")"
   ]
  },
  {
   "cell_type": "code",
   "execution_count": 40,
   "id": "189497f3",
   "metadata": {},
   "outputs": [
    {
     "data": {
      "text/plain": [
       "-1"
      ]
     },
     "execution_count": 40,
     "metadata": {},
     "output_type": "execute_result"
    }
   ],
   "source": [
    "a.find(\"k\")"
   ]
  },
  {
   "cell_type": "code",
   "execution_count": 42,
   "id": "14cd49ed",
   "metadata": {},
   "outputs": [
    {
     "data": {
      "text/plain": [
       "9"
      ]
     },
     "execution_count": 42,
     "metadata": {},
     "output_type": "execute_result"
    }
   ],
   "source": [
    "# index() => find와 마찬가지로, 찾는 문자열이 처음 나온 위치 반환\n",
    "# 단, 찾는 문자열이 없다면 오류 발생\n",
    "a = \"Life is too short\"\n",
    "a.index(\"o\")"
   ]
  },
  {
   "cell_type": "code",
   "execution_count": 43,
   "id": "d87e5885",
   "metadata": {},
   "outputs": [
    {
     "ename": "ValueError",
     "evalue": "substring not found",
     "output_type": "error",
     "traceback": [
      "\u001b[1;31m---------------------------------------------------------------------------\u001b[0m",
      "\u001b[1;31mValueError\u001b[0m                                Traceback (most recent call last)",
      "Input \u001b[1;32mIn [43]\u001b[0m, in \u001b[0;36m<cell line: 1>\u001b[1;34m()\u001b[0m\n\u001b[1;32m----> 1\u001b[0m \u001b[43ma\u001b[49m\u001b[38;5;241;43m.\u001b[39;49m\u001b[43mindex\u001b[49m\u001b[43m(\u001b[49m\u001b[38;5;124;43m\"\u001b[39;49m\u001b[38;5;124;43mz\u001b[39;49m\u001b[38;5;124;43m\"\u001b[39;49m\u001b[43m)\u001b[49m\n",
      "\u001b[1;31mValueError\u001b[0m: substring not found"
     ]
    }
   ],
   "source": [
    "a.index(\"z\")"
   ]
  },
  {
   "cell_type": "code",
   "execution_count": 45,
   "id": "a8ed3ab5",
   "metadata": {},
   "outputs": [
    {
     "data": {
      "text/plain": [
       "'c,a,k,e'"
      ]
     },
     "execution_count": 45,
     "metadata": {},
     "output_type": "execute_result"
    }
   ],
   "source": [
    "# join() => 문자열 삽입\n",
    "\",\".join(\"cake\")"
   ]
  },
  {
   "cell_type": "code",
   "execution_count": 47,
   "id": "a9be5fb9",
   "metadata": {},
   "outputs": [
    {
     "data": {
      "text/plain": [
       "'HELLO'"
      ]
     },
     "execution_count": 47,
     "metadata": {},
     "output_type": "execute_result"
    }
   ],
   "source": [
    "# upper() => 소문자를 대문자로 변환\n",
    "a = \"hello\"\n",
    "a.upper()"
   ]
  },
  {
   "cell_type": "code",
   "execution_count": 48,
   "id": "7b885589",
   "metadata": {},
   "outputs": [
    {
     "data": {
      "text/plain": [
       "'hello'"
      ]
     },
     "execution_count": 48,
     "metadata": {},
     "output_type": "execute_result"
    }
   ],
   "source": [
    "# lower() => 대문자를 소문자로 변환\n",
    "a = \"HELLO\"\n",
    "a.lower()"
   ]
  },
  {
   "cell_type": "code",
   "execution_count": 51,
   "id": "0554ce52",
   "metadata": {},
   "outputs": [
    {
     "data": {
      "text/plain": [
       "'hello'"
      ]
     },
     "execution_count": 51,
     "metadata": {},
     "output_type": "execute_result"
    }
   ],
   "source": [
    "# lstrip() => 가장 왼쪽에 있는 연속된 공백 삭제\n",
    "a = \"    hello\"\n",
    "a.lstrip()"
   ]
  },
  {
   "cell_type": "code",
   "execution_count": 53,
   "id": "58402e6a",
   "metadata": {},
   "outputs": [
    {
     "data": {
      "text/plain": [
       "'    hello'"
      ]
     },
     "execution_count": 53,
     "metadata": {},
     "output_type": "execute_result"
    }
   ],
   "source": [
    "# rstrip() => 가장 오른쪽에 있는 연속된 공백 삭제\n",
    "a = \"    hello     \"\n",
    "a.rstrip()"
   ]
  },
  {
   "cell_type": "code",
   "execution_count": 54,
   "id": "64d15f85",
   "metadata": {},
   "outputs": [
    {
     "data": {
      "text/plain": [
       "'hello'"
      ]
     },
     "execution_count": 54,
     "metadata": {},
     "output_type": "execute_result"
    }
   ],
   "source": [
    "# strip() => 양쪽에 있는 연속된 공백 삭제\n",
    "a = \"    hello     \"\n",
    "a.strip()"
   ]
  },
  {
   "cell_type": "code",
   "execution_count": 16,
   "id": "486d2d38",
   "metadata": {},
   "outputs": [],
   "source": [
    "# 문자열.find(찾을문자열) -> 찾을 문자열 시작인덱스 찾기\n",
    "# 문자열.replace(찾을문자열,교체할 문자열) -> 찾을문자열을 교체할 문자열로 바꾸기 \n",
    "# 문자열.lower() -> 모두 소문자로 바꾸기 \n",
    "# 문자열.upper() - > 모두 대문자로 바꾸기\n",
    "# 문자열.split('구분자') -> 문자열을 구분자를기준으로 나누기 "
   ]
  },
  {
   "cell_type": "code",
   "execution_count": 18,
   "id": "f5888083",
   "metadata": {},
   "outputs": [
    {
     "name": "stdout",
     "output_type": "stream",
     "text": [
      "나는 딸기우유 좋아. 딸기우유 최고\n",
      "나는 초코우유 좋아. 초코우유 최고\n"
     ]
    }
   ],
   "source": [
    "a = '나는 초코우유 좋아. 초코우유 최고'\n",
    "print(a.replace('초코','딸기'))\n",
    "print(a)"
   ]
  },
  {
   "cell_type": "code",
   "execution_count": 23,
   "id": "6a474648",
   "metadata": {},
   "outputs": [
    {
     "name": "stdout",
     "output_type": "stream",
     "text": [
      "1\n"
     ]
    }
   ],
   "source": [
    "a = 'Hello, Python!!!'\n",
    "print(a.index('e')) # 'e'라는 값이 여러개 있다면 맨 처음 'e'의 위치만 반환 \n",
    "# print(a.index('L')) -> 문자는 대.소문자를 구분하기 때문에 오류가 난다."
   ]
  },
  {
   "cell_type": "code",
   "execution_count": 27,
   "id": "9444f5d6",
   "metadata": {},
   "outputs": [
    {
     "name": "stdout",
     "output_type": "stream",
     "text": [
      "Hello, Python!!!\n",
      "hello, python!!!\n",
      "HELLO, PYTHON!!!\n"
     ]
    }
   ],
   "source": [
    "a.lower()\n",
    "print(a)\n",
    "print(a.lower())\n",
    "print(a.upper())"
   ]
  },
  {
   "cell_type": "code",
   "execution_count": 29,
   "id": "2caf0438",
   "metadata": {},
   "outputs": [
    {
     "data": {
      "text/plain": [
       "['010', '123', '4567']"
      ]
     },
     "execution_count": 29,
     "metadata": {},
     "output_type": "execute_result"
    }
   ],
   "source": [
    "phone = '010-123-4567'\n",
    "phone.split('-') # '-' 를 기준으로 나눠서 리스트로 저장된다."
   ]
  },
  {
   "cell_type": "code",
   "execution_count": 31,
   "id": "3bb826b2",
   "metadata": {},
   "outputs": [
    {
     "data": {
      "text/plain": [
       "['abc', 'naver.com']"
      ]
     },
     "execution_count": 31,
     "metadata": {},
     "output_type": "execute_result"
    }
   ],
   "source": [
    "email = 'abc@naver.com'\n",
    "email.split('@')"
   ]
  },
  {
   "cell_type": "code",
   "execution_count": 32,
   "id": "cf982052",
   "metadata": {},
   "outputs": [],
   "source": [
    "# 연습문제.\n",
    "# -> 사용자의 영문 이름을 입력받아 성과 이름 순서를 바꾸어서 출력하는 프로그램을 작성하세요.\n",
    "# -> 성과 이름은 공백으로 구분합니다."
   ]
  },
  {
   "cell_type": "code",
   "execution_count": 1,
   "id": "96dc6a5f",
   "metadata": {},
   "outputs": [
    {
     "name": "stdout",
     "output_type": "stream",
     "text": [
      "사용자의 이름을 영문으로 입력하세요 : Kim seongmin\n",
      "['seongmin', 'Kim']\n",
      "사용자의 이름을 영문으로 입력하세요 : Kim seongmin\n",
      "3\n",
      "Kim seongmin\n",
      "seongmin Kim\n"
     ]
    }
   ],
   "source": [
    "q = input('사용자의 이름을 영문으로 입력하세요 : ')\n",
    "w = q.split(' ')\n",
    "print(w[::-1])  # w가 리스트가 되었기 때문에, 리스트의 인덱스가 바뀌어 가능함\n",
    "\n",
    "full_name = input('사용자의 이름을 영문으로 입력하세요 : ')\n",
    "space = full_name.find(' ')\n",
    "print(space)\n",
    "first_name = full_name[:space]\n",
    "last_name = full_name[space+1:]\n",
    "print(first_name,last_name)\n",
    "print(last_name, first_name)"
   ]
  },
  {
   "cell_type": "markdown",
   "id": "1a428c8e",
   "metadata": {},
   "source": [
    "* if문"
   ]
  },
  {
   "cell_type": "code",
   "execution_count": 42,
   "id": "c613dc8d",
   "metadata": {},
   "outputs": [],
   "source": [
    "# 파이썬에서는 괄호 대신들여쓰기로 코드를 묶어준다. \n",
    "#  들여쓰기 간격은같아야한다. "
   ]
  },
  {
   "cell_type": "code",
   "execution_count": 44,
   "id": "b223d849",
   "metadata": {},
   "outputs": [
    {
     "name": "stdout",
     "output_type": "stream",
     "text": [
      "점수를 입력하세요 :40\n",
      "불합격\n"
     ]
    }
   ],
   "source": [
    "score = int(input('점수를 입력하세요 :'))\n",
    "if score >= 60:\n",
    "    print('합격')\n",
    "else: # 없어도 상관은 없다.\n",
    "    print('불합격')"
   ]
  },
  {
   "cell_type": "code",
   "execution_count": 49,
   "id": "f63b4717",
   "metadata": {},
   "outputs": [
    {
     "name": "stdout",
     "output_type": "stream",
     "text": [
      "점수를 입력하세요 :12\n",
      "불합격입니다\n"
     ]
    }
   ],
   "source": [
    "score = int(input('점수를 입력하세요 :'))\n",
    "\n",
    "if score >= 90:\n",
    "    print('A학점입니다')\n",
    "elif score >= 80:\n",
    "    print('B학점입니다')\n",
    "elif score >= 70:\n",
    "    print('C학점입니다')\n",
    "elif score >= 60:\n",
    "    print('D학점입니다')\n",
    "else:\n",
    "    print('불합격입니다')"
   ]
  },
  {
   "cell_type": "code",
   "execution_count": 50,
   "id": "141bb9c2",
   "metadata": {},
   "outputs": [],
   "source": [
    "# 연습문제 -> 정수를 입력받아 짝수/홀수를판별하세요. "
   ]
  },
  {
   "cell_type": "code",
   "execution_count": 60,
   "id": "962d8f67",
   "metadata": {},
   "outputs": [
    {
     "name": "stdout",
     "output_type": "stream",
     "text": [
      "정수를 입력해주세요 :651\n",
      "홀수입니다.\n"
     ]
    }
   ],
   "source": [
    "num = int(input('정수를 입력해주세요 :')) # input()은 문자로 인식된다.\n",
    "\n",
    "if num == 0:\n",
    "    print('0입니다')\n",
    "elif num % 2 == 0:\n",
    "    print('짝수입니다')\n",
    "else:\n",
    "    print('홀수입니다.')\n",
    "    "
   ]
  }
 ],
 "metadata": {
  "kernelspec": {
   "display_name": "Python 3 (ipykernel)",
   "language": "python",
   "name": "python3"
  },
  "language_info": {
   "codemirror_mode": {
    "name": "ipython",
    "version": 3
   },
   "file_extension": ".py",
   "mimetype": "text/x-python",
   "name": "python",
   "nbconvert_exporter": "python",
   "pygments_lexer": "ipython3",
   "version": "3.9.12"
  },
  "toc": {
   "base_numbering": 1,
   "nav_menu": {},
   "number_sections": true,
   "sideBar": true,
   "skip_h1_title": false,
   "title_cell": "Table of Contents",
   "title_sidebar": "Contents",
   "toc_cell": false,
   "toc_position": {},
   "toc_section_display": true,
   "toc_window_display": false
  }
 },
 "nbformat": 4,
 "nbformat_minor": 5
}
