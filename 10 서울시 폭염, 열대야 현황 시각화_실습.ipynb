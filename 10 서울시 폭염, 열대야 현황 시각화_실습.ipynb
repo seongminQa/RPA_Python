{
 "cells": [
  {
   "cell_type": "code",
   "execution_count": null,
   "id": "7e36b14b",
   "metadata": {},
   "outputs": [],
   "source": [
    "import matplotlib.pyplot as plt\n",
    "import pandas as pd"
   ]
  },
  {
   "cell_type": "code",
   "execution_count": null,
   "id": "f6a3c77b",
   "metadata": {},
   "outputs": [],
   "source": [
    "plt.rcParams['font.family']='Malgun Gothic'\n",
    "plt.rcParams['axes.unicode_minus']=False"
   ]
  },
  {
   "cell_type": "markdown",
   "id": "52d67b0f",
   "metadata": {},
   "source": [
    "# 데이터 준비 및 확인\n",
    "* 기상자료개방포털 > 데이터 > 기상관측 > 지상 > 종관기상관측(ASOS)<br>\n",
    "https://data.kma.go.kr/data/grnd/selectAsosRltmList.do?pgmNo=36<br>\n",
    "[ 자료형태 ] 일자료<br>\n",
    "[ 지점 ] 전체<br>\n",
    "[ 자료 ] 기온>최저,최고,평균<br>\n",
    "[ 기간 ] 1911~2020 (10년단위로 나누어 다운로드)\n"
   ]
  },
  {
   "cell_type": "markdown",
   "id": "7370d489",
   "metadata": {},
   "source": [
    "## 데이터프레임 생성"
   ]
  },
  {
   "cell_type": "code",
   "execution_count": null,
   "id": "c9bff270",
   "metadata": {},
   "outputs": [],
   "source": [
    "df_1911 = pd.read_csv('data/1911-1920 일별 기온.csv', encoding='cp949')\n",
    "df_1921 = pd.read_csv('data/1921-1930 일별 기온.csv', encoding='cp949')\n",
    "df_1931 = pd.read_csv('data/1931-1940 일별 기온.csv', encoding='cp949')\n",
    "df_1941 = pd.read_csv('data/1941-1950 일별 기온.csv', encoding='cp949')\n",
    "df_1951 = pd.read_csv('data/1951-1960 일별 기온.csv', encoding='cp949')\n",
    "df_1961 = pd.read_csv('data/1961-1970 일별 기온.csv', encoding='cp949')\n",
    "df_1971 = pd.read_csv('data/1971-1980 일별 기온.csv', encoding='cp949')\n",
    "df_1981 = pd.read_csv('data/1981-1990 일별 기온.csv', encoding='cp949')\n",
    "df_1991 = pd.read_csv('data/1991-2000 일별 기온.csv', encoding='cp949')\n",
    "df_2001 = pd.read_csv('data/2001-2010 일별 기온.csv', encoding='cp949')\n",
    "df_2011 = pd.read_csv('data/2011-2020 일별 기온.csv', encoding='cp949')"
   ]
  },
  {
   "cell_type": "code",
   "execution_count": null,
   "id": "e145a161",
   "metadata": {
    "scrolled": true
   },
   "outputs": [],
   "source": [
    "# 데이터프레임 연결하기\n",
    "df = pd.concat([df_1911,df_1921,df_1931,df_1941,df_1951,df_1961,df_1971,df_1981,df_1991,df_2001,df_2011]\n",
    "              ,ignore_index=True)"
   ]
  },
  {
   "cell_type": "code",
   "execution_count": null,
   "id": "65e5cf39",
   "metadata": {
    "scrolled": false
   },
   "outputs": [],
   "source": [
    "df.head()"
   ]
  },
  {
   "cell_type": "code",
   "execution_count": null,
   "id": "76ff61f1",
   "metadata": {
    "scrolled": true
   },
   "outputs": [],
   "source": [
    "df.tail()"
   ]
  },
  {
   "cell_type": "markdown",
   "id": "3b1c25e0",
   "metadata": {},
   "source": [
    "## 데이터타입 확인/변경"
   ]
  },
  {
   "cell_type": "code",
   "execution_count": null,
   "id": "2c906758",
   "metadata": {
    "scrolled": false
   },
   "outputs": [],
   "source": [
    "df.dtypes"
   ]
  },
  {
   "cell_type": "code",
   "execution_count": null,
   "id": "5223e367",
   "metadata": {},
   "outputs": [],
   "source": [
    "df['일시'] = pd.to_datetime(df['일시'])"
   ]
  },
  {
   "cell_type": "code",
   "execution_count": null,
   "id": "850fa717",
   "metadata": {
    "scrolled": true
   },
   "outputs": [],
   "source": [
    "df.dtypes"
   ]
  },
  {
   "cell_type": "markdown",
   "id": "d9cafae2",
   "metadata": {},
   "source": [
    "## 데이터 확인"
   ]
  },
  {
   "cell_type": "code",
   "execution_count": null,
   "id": "6185cafd",
   "metadata": {},
   "outputs": [],
   "source": [
    "df.shape"
   ]
  },
  {
   "cell_type": "code",
   "execution_count": null,
   "id": "6e004a29",
   "metadata": {},
   "outputs": [],
   "source": [
    "df['지점명'].nunique()"
   ]
  },
  {
   "cell_type": "markdown",
   "id": "f75cdb63",
   "metadata": {},
   "source": [
    "# 서울시 폭염/열대야 현황 시각화"
   ]
  },
  {
   "cell_type": "markdown",
   "id": "0163ddb3",
   "metadata": {},
   "source": [
    "## 서울시 데이터 추출하여 서브셋 생성"
   ]
  },
  {
   "cell_type": "code",
   "execution_count": null,
   "id": "a9e83611",
   "metadata": {},
   "outputs": [],
   "source": []
  },
  {
   "cell_type": "markdown",
   "id": "7afb096f",
   "metadata": {},
   "source": [
    "## 서울시 폭염 데이터 추출\n",
    "* 일 최고기온이 33도 이상"
   ]
  },
  {
   "cell_type": "code",
   "execution_count": null,
   "id": "c8079de9",
   "metadata": {
    "scrolled": false
   },
   "outputs": [],
   "source": []
  },
  {
   "cell_type": "markdown",
   "id": "aa0972ca",
   "metadata": {},
   "source": [
    "## 서울시 폭염 데이터 시각화"
   ]
  },
  {
   "cell_type": "code",
   "execution_count": null,
   "id": "b424f803",
   "metadata": {},
   "outputs": [],
   "source": []
  },
  {
   "cell_type": "markdown",
   "id": "5024df38",
   "metadata": {},
   "source": [
    "## 서울시 열대야 데이터 추출\n",
    "* 일 최저기온 25도 이상"
   ]
  },
  {
   "cell_type": "code",
   "execution_count": null,
   "id": "7d3c8385",
   "metadata": {
    "scrolled": false
   },
   "outputs": [],
   "source": []
  },
  {
   "cell_type": "markdown",
   "id": "50c31cf6",
   "metadata": {},
   "source": [
    "## 서울시 열대야 데이터 시각화"
   ]
  },
  {
   "cell_type": "code",
   "execution_count": null,
   "id": "781ff5ee",
   "metadata": {
    "scrolled": true
   },
   "outputs": [],
   "source": []
  },
  {
   "cell_type": "markdown",
   "id": "2c56f0b4",
   "metadata": {},
   "source": [
    "# 최고 폭염일, 최고 열대야 강조하기"
   ]
  },
  {
   "cell_type": "markdown",
   "id": "35686809",
   "metadata": {},
   "source": [
    "## 폭염이 가장 심했던 날"
   ]
  },
  {
   "cell_type": "markdown",
   "id": "df5f1ab1",
   "metadata": {},
   "source": [
    "### 폭염이 가장 심했던 날 best10\n",
    "* 데이터프레임.nlargest(개수,컬럼명) : 컬럼의 값이 큰 순으로 개수만큼 출력"
   ]
  },
  {
   "cell_type": "code",
   "execution_count": null,
   "id": "c0c78304",
   "metadata": {},
   "outputs": [],
   "source": []
  },
  {
   "cell_type": "markdown",
   "id": "b11b30e3",
   "metadata": {},
   "source": [
    "### 폭염이 가장 심했던 날짜, 최고기온"
   ]
  },
  {
   "cell_type": "code",
   "execution_count": null,
   "id": "5a16b084",
   "metadata": {},
   "outputs": [],
   "source": []
  },
  {
   "cell_type": "markdown",
   "id": "b1ccee0e",
   "metadata": {},
   "source": [
    "### 시각화"
   ]
  },
  {
   "cell_type": "code",
   "execution_count": null,
   "id": "ad2d2ad9",
   "metadata": {},
   "outputs": [],
   "source": [
    "# plot\n",
    "\n",
    "# 가장 더웠던 날 표시\n",
    "\n",
    "# 가장 더웠던 날짜, 온도 표시\n"
   ]
  },
  {
   "cell_type": "markdown",
   "id": "4d1fb617",
   "metadata": {},
   "source": [
    "## 열대야가 가장 심했던 날"
   ]
  },
  {
   "cell_type": "markdown",
   "id": "e8f5287b",
   "metadata": {},
   "source": [
    "### 열대야가 가장 심했던 날 best10"
   ]
  },
  {
   "cell_type": "code",
   "execution_count": null,
   "id": "7f9c698e",
   "metadata": {},
   "outputs": [],
   "source": []
  },
  {
   "cell_type": "markdown",
   "id": "52d71bb1",
   "metadata": {},
   "source": [
    "### 열대야가 가장 심했던 날짜, 최고기온"
   ]
  },
  {
   "cell_type": "code",
   "execution_count": null,
   "id": "4bbb6f3f",
   "metadata": {
    "scrolled": false
   },
   "outputs": [],
   "source": []
  },
  {
   "cell_type": "markdown",
   "id": "8d6d6f8f",
   "metadata": {},
   "source": [
    "### 시각화"
   ]
  },
  {
   "cell_type": "code",
   "execution_count": null,
   "id": "78364c8d",
   "metadata": {},
   "outputs": [],
   "source": [
    "# plot\n",
    "\n",
    "# 가장 더웠던 밤 표시\n",
    "\n",
    "# 가장 더웠던 날짜, 온도 표시\n"
   ]
  },
  {
   "cell_type": "markdown",
   "id": "e67e119a",
   "metadata": {},
   "source": [
    "# 연도별 폭염일수, 열대야일수 추출"
   ]
  },
  {
   "cell_type": "markdown",
   "id": "70ebd423",
   "metadata": {},
   "source": [
    "## 연도별 폭염일수 추출"
   ]
  },
  {
   "cell_type": "code",
   "execution_count": null,
   "id": "be2dcfbb",
   "metadata": {},
   "outputs": [],
   "source": [
    "# 연도별 폭염일수 : 연도로 그룹핑하여 일수 카운트"
   ]
  },
  {
   "cell_type": "code",
   "execution_count": null,
   "id": "42722396",
   "metadata": {
    "scrolled": false
   },
   "outputs": [],
   "source": [
    "# 폭염일이 없는 날을 포함시키기 위하여 1911~2020년의 연도 데이터프레임 생성"
   ]
  },
  {
   "cell_type": "code",
   "execution_count": null,
   "id": "cd23b037",
   "metadata": {
    "scrolled": false
   },
   "outputs": [],
   "source": [
    "# 연도별 폭염일수, 연도 데이터프레임 concat"
   ]
  },
  {
   "cell_type": "code",
   "execution_count": null,
   "id": "681dd1ba",
   "metadata": {},
   "outputs": [],
   "source": [
    "# 불필요한 컬럼 삭제"
   ]
  },
  {
   "cell_type": "code",
   "execution_count": null,
   "id": "0937523e",
   "metadata": {},
   "outputs": [],
   "source": []
  },
  {
   "cell_type": "code",
   "execution_count": null,
   "id": "f8871669",
   "metadata": {},
   "outputs": [],
   "source": [
    "# 결측치 확인"
   ]
  },
  {
   "cell_type": "code",
   "execution_count": null,
   "id": "b49718aa",
   "metadata": {},
   "outputs": [],
   "source": [
    "# null --> 폭염일이 없음을 뜻함 --> null을 0으로 채우기"
   ]
  },
  {
   "cell_type": "code",
   "execution_count": null,
   "id": "bf71ebb8",
   "metadata": {},
   "outputs": [],
   "source": [
    "# 컬럼명을 알맞게 바꾸기"
   ]
  },
  {
   "cell_type": "code",
   "execution_count": null,
   "id": "8af51748",
   "metadata": {},
   "outputs": [],
   "source": [
    "# 폭염일수 데이터를 정수형으로 바꾸기"
   ]
  },
  {
   "cell_type": "code",
   "execution_count": null,
   "id": "c6bf67c8",
   "metadata": {
    "scrolled": false
   },
   "outputs": [],
   "source": [
    "# 폭염이 가장 많았던 해의 데이터 best10"
   ]
  },
  {
   "cell_type": "markdown",
   "id": "29f54101",
   "metadata": {},
   "source": [
    "## 연도별 열대야일수 추출"
   ]
  },
  {
   "cell_type": "code",
   "execution_count": null,
   "id": "bcc594aa",
   "metadata": {},
   "outputs": [],
   "source": [
    "# 연도별 열대야일수 : 연도로 그룹핑하여 데이터갯수 카운트"
   ]
  },
  {
   "cell_type": "code",
   "execution_count": null,
   "id": "aa2f28a5",
   "metadata": {},
   "outputs": [],
   "source": [
    "# 연도 데이터프레임과 연도별 열대야일수 데이터프레임 concat"
   ]
  },
  {
   "cell_type": "code",
   "execution_count": null,
   "id": "f5c5254c",
   "metadata": {},
   "outputs": [],
   "source": [
    "# 불필요한 컬럼 삭제"
   ]
  },
  {
   "cell_type": "code",
   "execution_count": null,
   "id": "299f506a",
   "metadata": {},
   "outputs": [],
   "source": [
    "# 컬럼명 변경"
   ]
  },
  {
   "cell_type": "code",
   "execution_count": null,
   "id": "3897f377",
   "metadata": {
    "scrolled": false
   },
   "outputs": [],
   "source": [
    "# 결측치 확인"
   ]
  },
  {
   "cell_type": "code",
   "execution_count": null,
   "id": "4a405335",
   "metadata": {},
   "outputs": [],
   "source": [
    "# null--> 0으로 채우기"
   ]
  },
  {
   "cell_type": "code",
   "execution_count": null,
   "id": "12dd06f8",
   "metadata": {},
   "outputs": [],
   "source": [
    "# 열대야일수 자료형을 정수형으로 변경"
   ]
  },
  {
   "cell_type": "code",
   "execution_count": null,
   "id": "035a6a19",
   "metadata": {
    "scrolled": false
   },
   "outputs": [],
   "source": [
    "# 열대야 일수가 가장 많았던 해의 데이터 best10"
   ]
  },
  {
   "cell_type": "markdown",
   "id": "e3be9ac6",
   "metadata": {},
   "source": [
    "# 연도별 폭염일수, 열대야일수 시각화"
   ]
  },
  {
   "cell_type": "markdown",
   "id": "7f2f9e62",
   "metadata": {},
   "source": [
    "## 서브플롯으로 비교하기\n",
    "`fig, ax = plt.subplots()`"
   ]
  },
  {
   "cell_type": "code",
   "execution_count": null,
   "id": "2772a50f",
   "metadata": {
    "scrolled": false
   },
   "outputs": [],
   "source": []
  },
  {
   "cell_type": "code",
   "execution_count": null,
   "id": "cf6cea53",
   "metadata": {},
   "outputs": [],
   "source": []
  },
  {
   "cell_type": "code",
   "execution_count": null,
   "id": "43743027",
   "metadata": {
    "scrolled": false
   },
   "outputs": [],
   "source": [
    "# 서브플롯 만들기\n",
    "\n",
    "# 연도별 폭염일수, 열대야일수 시각화\n",
    "\n",
    "# xlabel\n",
    "\n",
    "# ylabel\n",
    "\n",
    "# xticks, yticks 범위 지정하고 틱 공유\n",
    "\n",
    "# title\n"
   ]
  },
  {
   "cell_type": "markdown",
   "id": "8e1850cd",
   "metadata": {},
   "source": [
    "## 다중막대그래프로 비교하기\n",
    "`fig, ax = plt.subplots()`"
   ]
  },
  {
   "cell_type": "code",
   "execution_count": null,
   "id": "d3563002",
   "metadata": {
    "scrolled": false
   },
   "outputs": [],
   "source": []
  }
 ],
 "metadata": {
  "kernelspec": {
   "display_name": "Python 3",
   "language": "python",
   "name": "python3"
  },
  "language_info": {
   "codemirror_mode": {
    "name": "ipython",
    "version": 3
   },
   "file_extension": ".py",
   "mimetype": "text/x-python",
   "name": "python",
   "nbconvert_exporter": "python",
   "pygments_lexer": "ipython3",
   "version": "3.8.8"
  },
  "toc": {
   "base_numbering": 1,
   "nav_menu": {},
   "number_sections": true,
   "sideBar": true,
   "skip_h1_title": false,
   "title_cell": "Table of Contents",
   "title_sidebar": "Contents",
   "toc_cell": false,
   "toc_position": {
    "height": "calc(100% - 180px)",
    "left": "10px",
    "top": "150px",
    "width": "224px"
   },
   "toc_section_display": true,
   "toc_window_display": true
  }
 },
 "nbformat": 4,
 "nbformat_minor": 5
}
